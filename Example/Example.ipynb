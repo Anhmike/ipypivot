{
 "cells": [
  {
   "cell_type": "code",
   "execution_count": 46,
   "metadata": {},
   "outputs": [],
   "source": [
    "%reload_ext autoreload\n",
    "%autoreload 2"
   ]
  },
  {
   "cell_type": "code",
   "execution_count": 47,
   "metadata": {},
   "outputs": [],
   "source": [
    "import pivot_table_widget as pt"
   ]
  },
  {
   "cell_type": "code",
   "execution_count": 48,
   "metadata": {
    "scrolled": false
   },
   "outputs": [
    {
     "data": {
      "application/vnd.jupyter.widget-view+json": {
       "model_id": "0b4184bb80394e23bc7aa077fec891a7",
       "version_major": 2,
       "version_minor": 0
      },
      "text/html": [
       "<p>Failed to display Jupyter Widget of type <code>PivotTable</code>.</p>\n",
       "<p>\n",
       "  If you're reading this message in Jupyter Notebook or JupyterLab, it may mean\n",
       "  that the widgets JavaScript is still loading. If this message persists, it\n",
       "  likely means that the widgets JavaScript library is either not installed or\n",
       "  not enabled. See the <a href=\"https://ipywidgets.readthedocs.io/en/stable/user_install.html\">Jupyter\n",
       "  Widgets Documentation</a> for setup instructions.\n",
       "</p>\n",
       "<p>\n",
       "  If you're reading this message in another notebook frontend (for example, a static\n",
       "  rendering on GitHub or <a href=\"https://nbviewer.jupyter.org/\">NBViewer</a>),\n",
       "  it may mean that your frontend doesn't currently support widgets.\n",
       "</p>\n"
      ],
      "text/plain": [
       "PivotTable()"
      ]
     },
     "metadata": {},
     "output_type": "display_data"
    }
   ],
   "source": [
    "widget = pt.PivotTable()\n",
    "widget"
   ]
  },
  {
   "cell_type": "code",
   "execution_count": 49,
   "metadata": {
    "scrolled": false
   },
   "outputs": [
    {
     "data": {
      "application/vnd.jupyter.widget-view+json": {
       "model_id": "0b4184bb80394e23bc7aa077fec891a7",
       "version_major": 2,
       "version_minor": 0
      },
      "text/html": [
       "<p>Failed to display Jupyter Widget of type <code>PivotTable</code>.</p>\n",
       "<p>\n",
       "  If you're reading this message in Jupyter Notebook or JupyterLab, it may mean\n",
       "  that the widgets JavaScript is still loading. If this message persists, it\n",
       "  likely means that the widgets JavaScript library is either not installed or\n",
       "  not enabled. See the <a href=\"https://ipywidgets.readthedocs.io/en/stable/user_install.html\">Jupyter\n",
       "  Widgets Documentation</a> for setup instructions.\n",
       "</p>\n",
       "<p>\n",
       "  If you're reading this message in another notebook frontend (for example, a static\n",
       "  rendering on GitHub or <a href=\"https://nbviewer.jupyter.org/\">NBViewer</a>),\n",
       "  it may mean that your frontend doesn't currently support widgets.\n",
       "</p>\n"
      ],
      "text/plain": [
       "PivotTable()"
      ]
     },
     "metadata": {},
     "output_type": "display_data"
    }
   ],
   "source": [
    "widget"
   ]
  },
  {
   "cell_type": "code",
   "execution_count": 51,
   "metadata": {},
   "outputs": [
    {
     "data": {
      "text/plain": [
       "{'aggregatorName': 'Maximum',\n",
       " 'autoSortUnusedAttrs': False,\n",
       " 'colOrder': 'key_a_to_z',\n",
       " 'cols': ['shape'],\n",
       " 'derivedAttributes': {},\n",
       " 'exclusions': {},\n",
       " 'hiddenAttributes': [],\n",
       " 'hiddenFromAggregators': [],\n",
       " 'hiddenFromDragDrop': [],\n",
       " 'inclusions': {},\n",
       " 'inclusionsInfo': {},\n",
       " 'localeStrings': {'apply': 'Apply',\n",
       "  'by': 'by',\n",
       "  'cancel': 'Cancel',\n",
       "  'computeError': 'An error occurred computing the PivotTable results.',\n",
       "  'filterResults': 'Filter values',\n",
       "  'renderError': 'An error occurred rendering the PivotTable results.',\n",
       "  'selectAll': 'Select All',\n",
       "  'selectNone': 'Select None',\n",
       "  'tooMany': '(too many to list)',\n",
       "  'totals': 'Totals',\n",
       "  'uiRenderError': 'An error occurred rendering the PivotTable UI.',\n",
       "  'vs': 'vs'},\n",
       " 'menuLimit': 500,\n",
       " 'onRefresh': None,\n",
       " 'rendererName': 'Table',\n",
       " 'rendererOptions': {'localeStrings': {'apply': 'Apply',\n",
       "   'by': 'by',\n",
       "   'cancel': 'Cancel',\n",
       "   'computeError': 'An error occurred computing the PivotTable results.',\n",
       "   'filterResults': 'Filter values',\n",
       "   'renderError': 'An error occurred rendering the PivotTable results.',\n",
       "   'selectAll': 'Select All',\n",
       "   'selectNone': 'Select None',\n",
       "   'tooMany': '(too many to list)',\n",
       "   'totals': 'Totals',\n",
       "   'uiRenderError': 'An error occurred rendering the PivotTable UI.',\n",
       "   'vs': 'vs'}},\n",
       " 'rowOrder': 'key_a_to_z',\n",
       " 'rows': ['color'],\n",
       " 'sorters': {},\n",
       " 'unusedAttrsVertical': 85,\n",
       " 'vals': []}"
      ]
     },
     "execution_count": 51,
     "metadata": {},
     "output_type": "execute_result"
    }
   ],
   "source": [
    "widget.config"
   ]
  },
  {
   "cell_type": "code",
   "execution_count": 52,
   "metadata": {},
   "outputs": [
    {
     "data": {
      "text/plain": [
       "'toto'"
      ]
     },
     "execution_count": 52,
     "metadata": {},
     "output_type": "execute_result"
    }
   ],
   "source": [
    "widget.value"
   ]
  },
  {
   "cell_type": "code",
   "execution_count": null,
   "metadata": {},
   "outputs": [],
   "source": []
  }
 ],
 "metadata": {
  "kernelspec": {
   "display_name": "Python 3",
   "language": "python",
   "name": "python3"
  },
  "language_info": {
   "codemirror_mode": {
    "name": "ipython",
    "version": 3
   },
   "file_extension": ".py",
   "mimetype": "text/x-python",
   "name": "python",
   "nbconvert_exporter": "python",
   "pygments_lexer": "ipython3",
   "version": "3.6.2"
  }
 },
 "nbformat": 4,
 "nbformat_minor": 2
}
