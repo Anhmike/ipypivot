{
 "cells": [
  {
   "cell_type": "code",
   "execution_count": 1,
   "metadata": {},
   "outputs": [],
   "source": [
    "%reload_ext autoreload\n",
    "%autoreload 2"
   ]
  },
  {
   "cell_type": "code",
   "execution_count": 2,
   "metadata": {},
   "outputs": [],
   "source": [
    "import sys\n",
    "if sys.version_info[0] < 3: \n",
    "    from StringIO import StringIO\n",
    "else:\n",
    "    from io import StringIO"
   ]
  },
  {
   "cell_type": "code",
   "execution_count": 3,
   "metadata": {},
   "outputs": [],
   "source": [
    "import pivot_table_widget as pt\n",
    "import copy\n",
    "import pandas as pd"
   ]
  },
  {
   "cell_type": "code",
   "execution_count": 4,
   "metadata": {
    "scrolled": false
   },
   "outputs": [
    {
     "data": {
      "application/vnd.jupyter.widget-view+json": {
       "model_id": "1ac40ac4f3b844c9b8e3aa8f2eddea0c",
       "version_major": 2,
       "version_minor": 0
      },
      "text/html": [
       "<p>Failed to display Jupyter Widget of type <code>PivotTable</code>.</p>\n",
       "<p>\n",
       "  If you're reading this message in Jupyter Notebook or JupyterLab, it may mean\n",
       "  that the widgets JavaScript is still loading. If this message persists, it\n",
       "  likely means that the widgets JavaScript library is either not installed or\n",
       "  not enabled. See the <a href=\"https://ipywidgets.readthedocs.io/en/stable/user_install.html\">Jupyter\n",
       "  Widgets Documentation</a> for setup instructions.\n",
       "</p>\n",
       "<p>\n",
       "  If you're reading this message in another notebook frontend (for example, a static\n",
       "  rendering on GitHub or <a href=\"https://nbviewer.jupyter.org/\">NBViewer</a>),\n",
       "  it may mean that your frontend doesn't currently support widgets.\n",
       "</p>\n"
      ],
      "text/plain": [
       "PivotTable()"
      ]
     },
     "metadata": {},
     "output_type": "display_data"
    },
    {
     "name": "stdout",
     "output_type": "stream",
     "text": [
      "No content yet.\n",
      "color\tcircle\ttriangle\n",
      "blue\t0\t\n",
      "red\t\t0\n",
      "\n"
     ]
    }
   ],
   "source": [
    "widget = pt.PivotTable()\n",
    "widget"
   ]
  },
  {
   "cell_type": "code",
   "execution_count": 5,
   "metadata": {},
   "outputs": [
    {
     "data": {
      "text/plain": [
       "'color\\tcircle\\ttriangle\\nblue\\t0\\t\\nred\\t\\t0\\n'"
      ]
     },
     "execution_count": 5,
     "metadata": {},
     "output_type": "execute_result"
    }
   ],
   "source": [
    "widget.content_string"
   ]
  },
  {
   "cell_type": "code",
   "execution_count": 6,
   "metadata": {},
   "outputs": [
    {
     "data": {
      "text/html": [
       "<div>\n",
       "<style scoped>\n",
       "    .dataframe tbody tr th:only-of-type {\n",
       "        vertical-align: middle;\n",
       "    }\n",
       "\n",
       "    .dataframe tbody tr th {\n",
       "        vertical-align: top;\n",
       "    }\n",
       "\n",
       "    .dataframe thead th {\n",
       "        text-align: right;\n",
       "    }\n",
       "</style>\n",
       "<table border=\"1\" class=\"dataframe\">\n",
       "  <thead>\n",
       "    <tr style=\"text-align: right;\">\n",
       "      <th></th>\n",
       "      <th>color</th>\n",
       "      <th>circle</th>\n",
       "      <th>triangle</th>\n",
       "    </tr>\n",
       "  </thead>\n",
       "  <tbody>\n",
       "    <tr>\n",
       "      <th>0</th>\n",
       "      <td>blue</td>\n",
       "      <td>0.0</td>\n",
       "      <td>NaN</td>\n",
       "    </tr>\n",
       "    <tr>\n",
       "      <th>1</th>\n",
       "      <td>red</td>\n",
       "      <td>NaN</td>\n",
       "      <td>0.0</td>\n",
       "    </tr>\n",
       "  </tbody>\n",
       "</table>\n",
       "</div>"
      ],
      "text/plain": [
       "  color  circle  triangle\n",
       "0  blue     0.0       NaN\n",
       "1   red     NaN       0.0"
      ]
     },
     "execution_count": 6,
     "metadata": {},
     "output_type": "execute_result"
    }
   ],
   "source": [
    "widget.content_df"
   ]
  },
  {
   "cell_type": "code",
   "execution_count": 8,
   "metadata": {},
   "outputs": [
    {
     "data": {
      "text/plain": [
       "{'aggregatorName': 'Sum',\n",
       " 'autoSortUnusedAttrs': False,\n",
       " 'colOrder': 'key_a_to_z',\n",
       " 'cols': ['shape'],\n",
       " 'derivedAttributes': {},\n",
       " 'exclusions': {},\n",
       " 'hiddenAttributes': [],\n",
       " 'hiddenFromAggregators': [],\n",
       " 'hiddenFromDragDrop': [],\n",
       " 'inclusions': {},\n",
       " 'inclusionsInfo': {},\n",
       " 'localeStrings': {'apply': 'Apply',\n",
       "  'by': 'by',\n",
       "  'cancel': 'Cancel',\n",
       "  'computeError': 'An error occurred computing the PivotTable results.',\n",
       "  'filterResults': 'Filter values',\n",
       "  'renderError': 'An error occurred rendering the PivotTable results.',\n",
       "  'selectAll': 'Select All',\n",
       "  'selectNone': 'Select None',\n",
       "  'tooMany': '(too many to list)',\n",
       "  'totals': 'Totals',\n",
       "  'uiRenderError': 'An error occurred rendering the PivotTable UI.',\n",
       "  'vs': 'vs'},\n",
       " 'menuLimit': 500,\n",
       " 'onRefresh': None,\n",
       " 'rendererName': 'Table',\n",
       " 'rendererOptions': {'localeStrings': {'apply': 'Apply',\n",
       "   'by': 'by',\n",
       "   'cancel': 'Cancel',\n",
       "   'computeError': 'An error occurred computing the PivotTable results.',\n",
       "   'filterResults': 'Filter values',\n",
       "   'renderError': 'An error occurred rendering the PivotTable results.',\n",
       "   'selectAll': 'Select All',\n",
       "   'selectNone': 'Select None',\n",
       "   'tooMany': '(too many to list)',\n",
       "   'totals': 'Totals',\n",
       "   'uiRenderError': 'An error occurred rendering the PivotTable UI.',\n",
       "   'vs': 'vs'}},\n",
       " 'renderers': {},\n",
       " 'rowOrder': 'key_a_to_z',\n",
       " 'rows': ['color'],\n",
       " 'sorters': {},\n",
       " 'unusedAttrsVertical': 85,\n",
       " 'vals': []}"
      ]
     },
     "execution_count": 8,
     "metadata": {},
     "output_type": "execute_result"
    }
   ],
   "source": [
    "widget.config"
   ]
  },
  {
   "cell_type": "code",
   "execution_count": null,
   "metadata": {},
   "outputs": [],
   "source": []
  }
 ],
 "metadata": {
  "kernelspec": {
   "display_name": "Python 3",
   "language": "python",
   "name": "python3"
  },
  "language_info": {
   "codemirror_mode": {
    "name": "ipython",
    "version": 3
   },
   "file_extension": ".py",
   "mimetype": "text/x-python",
   "name": "python",
   "nbconvert_exporter": "python",
   "pygments_lexer": "ipython3",
   "version": "3.6.2"
  }
 },
 "nbformat": 4,
 "nbformat_minor": 2
}
