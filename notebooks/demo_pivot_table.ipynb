{
 "cells": [
  {
   "cell_type": "code",
   "execution_count": 1,
   "metadata": {},
   "outputs": [],
   "source": [
    "%load_ext autoreload\n",
    "%autoreload 2"
   ]
  },
  {
   "cell_type": "code",
   "execution_count": 2,
   "metadata": {},
   "outputs": [],
   "source": [
    "from importlib import reload\n",
    "import pandas as pd\n",
    "import ipywidget_pivot_table as pt\n",
    "from time import sleep"
   ]
  },
  {
   "cell_type": "markdown",
   "metadata": {},
   "source": [
    "## Demo Pivot"
   ]
  },
  {
   "cell_type": "code",
   "execution_count": 3,
   "metadata": {},
   "outputs": [
    {
     "name": "stdout",
     "output_type": "stream",
     "text": [
      "change\n",
      "change\n",
      "change\n",
      "change\n",
      "change\n"
     ]
    },
    {
     "data": {
      "application/vnd.jupyter.widget-view+json": {
       "model_id": "0d49d2873e0e4f5eba744c166e8cd538",
       "version_major": 2,
       "version_minor": 0
      },
      "text/html": [
       "<p>Failed to display Jupyter Widget of type <code>Pivot</code>.</p>\n",
       "<p>\n",
       "  If you're reading this message in the Jupyter Notebook or JupyterLab Notebook, it may mean\n",
       "  that the widgets JavaScript is still loading. If this message persists, it\n",
       "  likely means that the widgets JavaScript library is either not installed or\n",
       "  not enabled. See the <a href=\"https://ipywidgets.readthedocs.io/en/stable/user_install.html\">Jupyter\n",
       "  Widgets Documentation</a> for setup instructions.\n",
       "</p>\n",
       "<p>\n",
       "  If you're reading this message in another frontend (for example, a static\n",
       "  rendering on GitHub or <a href=\"https://nbviewer.jupyter.org/\">NBViewer</a>),\n",
       "  it may mean that your frontend doesn't currently support widgets.\n",
       "</p>\n"
      ],
      "text/plain": [
       "Pivot(data=[['row', 'total_bill', 'tip', 'sex', 'smoker', 'day', 'time', 'size'], [1, 16.99, 1.01, 'Female', 'No', 'Sun', 'Dinner', 2], [2, 10.34, 1.66, 'Male', 'No', 'Sun', 'Dinner', 3], [3, 21.01, 3.5, 'Male', 'No', 'Sun', 'Dinner', 3], [4, 23.68, 3.31, 'Male', 'No', 'Sun', 'Dinner', 2], [5, 24.59, 3.61, 'Female', 'No', 'Sun', 'Dinner', 4], [6, 25.29, 4.71, 'Male', 'No', 'Sun', 'Dinner', 4], [7, 8.77, 2.0, 'Male', 'No', 'Sun', 'Dinner', 2], [8, 26.88, 3.12, 'Male', 'No', 'Sun', 'Dinner', 4], [9, 15.04, 1.96, 'Male', 'No', 'Sun', 'Dinner', 2], [10, 14.78, 3.23, 'Male', 'No', 'Sun', 'Dinner', 2], [11, 10.27, 1.71, 'Male', 'No', 'Sun', 'Dinner', 2], [12, 35.26, 5.0, 'Female', 'No', 'Sun', 'Dinner', 4], [13, 15.42, 1.57, 'Male', 'No', 'Sun', 'Dinner', 2], [14, 18.43, 3.0, 'Male', 'No', 'Sun', 'Dinner', 4], [15, 14.83, 3.02, 'Female', 'No', 'Sun', 'Dinner', 2], [16, 21.58, 3.92, 'Male', 'No', 'Sun', 'Dinner', 2], [17, 10.33, 1.67, 'Female', 'No', 'Sun', 'Dinner', 3], [18, 16.29, 3.71, 'Male', 'No', 'Sun', 'Dinner', 3], [19, 16.97, 3.5, 'Female', 'No', 'Sun', 'Dinner', 3], [20, 20.65, 3.35, 'Male', 'No', 'Sat', 'Dinner', 3], [21, 17.92, 4.08, 'Male', 'No', 'Sat', 'Dinner', 2], [22, 20.29, 2.75, 'Female', 'No', 'Sat', 'Dinner', 2], [23, 15.77, 2.23, 'Female', 'No', 'Sat', 'Dinner', 2], [24, 39.42, 7.58, 'Male', 'No', 'Sat', 'Dinner', 4], [25, 19.82, 3.18, 'Male', 'No', 'Sat', 'Dinner', 2], [26, 17.81, 2.34, 'Male', 'No', 'Sat', 'Dinner', 4], [27, 13.37, 2.0, 'Male', 'No', 'Sat', 'Dinner', 2], [28, 12.69, 2.0, 'Male', 'No', 'Sat', 'Dinner', 2], [29, 21.7, 4.3, 'Male', 'No', 'Sat', 'Dinner', 2], [30, 19.65, 3.0, 'Female', 'No', 'Sat', 'Dinner', 2], [31, 9.55, 1.45, 'Male', 'No', 'Sat', 'Dinner', 2], [32, 18.35, 2.5, 'Male', 'No', 'Sat', 'Dinner', 4], [33, 15.06, 3.0, 'Female', 'No', 'Sat', 'Dinner', 2], [34, 20.69, 2.45, 'Female', 'No', 'Sat', 'Dinner', 4], [35, 17.78, 3.27, 'Male', 'No', 'Sat', 'Dinner', 2], [36, 24.06, 3.6, 'Male', 'No', 'Sat', 'Dinner', 3], [37, 16.31, 2.0, 'Male', 'No', 'Sat', 'Dinner', 3], [38, 16.93, 3.07, 'Female', 'No', 'Sat', 'Dinner', 3], [39, 18.69, 2.31, 'Male', 'No', 'Sat', 'Dinner', 3], [40, 31.27, 5.0, 'Male', 'No', 'Sat', 'Dinner', 3], [41, 16.04, 2.24, 'Male', 'No', 'Sat', 'Dinner', 3], [42, 17.46, 2.54, 'Male', 'No', 'Sun', 'Dinner', 2], [43, 13.94, 3.06, 'Male', 'No', 'Sun', 'Dinner', 2], [44, 9.68, 1.32, 'Male', 'No', 'Sun', 'Dinner', 2], [45, 30.4, 5.6, 'Male', 'No', 'Sun', 'Dinner', 4], [46, 18.29, 3.0, 'Male', 'No', 'Sun', 'Dinner', 2], [47, 22.23, 5.0, 'Male', 'No', 'Sun', 'Dinner', 2], [48, 32.4, 6.0, 'Male', 'No', 'Sun', 'Dinner', 4], [49, 28.55, 2.05, 'Male', 'No', 'Sun', 'Dinner', 3], [50, 18.04, 3.0, 'Male', 'No', 'Sun', 'Dinner', 2], [51, 12.54, 2.5, 'Male', 'No', 'Sun', 'Dinner', 2], [52, 10.29, 2.6, 'Female', 'No', 'Sun', 'Dinner', 2], [53, 34.81, 5.2, 'Female', 'No', 'Sun', 'Dinner', 4], [54, 9.94, 1.56, 'Male', 'No', 'Sun', 'Dinner', 2], [55, 25.56, 4.34, 'Male', 'No', 'Sun', 'Dinner', 4], [56, 19.49, 3.51, 'Male', 'No', 'Sun', 'Dinner', 2], [57, 38.01, 3.0, 'Male', 'Yes', 'Sat', 'Dinner', 4], [58, 26.41, 1.5, 'Female', 'No', 'Sat', 'Dinner', 2], [59, 11.24, 1.76, 'Male', 'Yes', 'Sat', 'Dinner', 2], [60, 48.27, 6.73, 'Male', 'No', 'Sat', 'Dinner', 4], [61, 20.29, 3.21, 'Male', 'Yes', 'Sat', 'Dinner', 2], [62, 13.81, 2.0, 'Male', 'Yes', 'Sat', 'Dinner', 2], [63, 11.02, 1.98, 'Male', 'Yes', 'Sat', 'Dinner', 2], [64, 18.29, 3.76, 'Male', 'Yes', 'Sat', 'Dinner', 4], [65, 17.59, 2.64, 'Male', 'No', 'Sat', 'Dinner', 3], [66, 20.08, 3.15, 'Male', 'No', 'Sat', 'Dinner', 3], [67, 16.45, 2.47, 'Female', 'No', 'Sat', 'Dinner', 2], [68, 3.07, 1.0, 'Female', 'Yes', 'Sat', 'Dinner', 1], [69, 20.23, 2.01, 'Male', 'No', 'Sat', 'Dinner', 2], [70, 15.01, 2.09, 'Male', 'Yes', 'Sat', 'Dinner', 2], [71, 12.02, 1.97, 'Male', 'No', 'Sat', 'Dinner', 2], [72, 17.07, 3.0, 'Female', 'No', 'Sat', 'Dinner', 3], [73, 26.86, 3.14, 'Female', 'Yes', 'Sat', 'Dinner', 2], [74, 25.28, 5.0, 'Female', 'Yes', 'Sat', 'Dinner', 2], [75, 14.73, 2.2, 'Female', 'No', 'Sat', 'Dinner', 2], [76, 10.51, 1.25, 'Male', 'No', 'Sat', 'Dinner', 2], [77, 17.92, 3.08, 'Male', 'Yes', 'Sat', 'Dinner', 2], [78, 27.2, 4.0, 'Male', 'No', 'Thur', 'Lunch', 4], [79, 22.76, 3.0, 'Male', 'No', 'Thur', 'Lunch', 2], [80, 17.29, 2.71, 'Male', 'No', 'Thur', 'Lunch', 2], [81, 19.44, 3.0, 'Male', 'Yes', 'Thur', 'Lunch', 2], [82, 16.66, 3.4, 'Male', 'No', 'Thur', 'Lunch', 2], [83, 10.07, 1.83, 'Female', 'No', 'Thur', 'Lunch', 1], [84, 32.68, 5.0, 'Male', 'Yes', 'Thur', 'Lunch', 2], [85, 15.98, 2.03, 'Male', 'No', 'Thur', 'Lunch', 2], [86, 34.83, 5.17, 'Female', 'No', 'Thur', 'Lunch', 4], [87, 13.03, 2.0, 'Male', 'No', 'Thur', 'Lunch', 2], [88, 18.28, 4.0, 'Male', 'No', 'Thur', 'Lunch', 2], [89, 24.71, 5.85, 'Male', 'No', 'Thur', 'Lunch', 2], [90, 21.16, 3.0, 'Male', 'No', 'Thur', 'Lunch', 2], [91, 28.97, 3.0, 'Male', 'Yes', 'Fri', 'Dinner', 2], [92, 22.49, 3.5, 'Male', 'No', 'Fri', 'Dinner', 2], [93, 5.75, 1.0, 'Female', 'Yes', 'Fri', 'Dinner', 2], [94, 16.32, 4.3, 'Female', 'Yes', 'Fri', 'Dinner', 2], [95, 22.75, 3.25, 'Female', 'No', 'Fri', 'Dinner', 2], [96, 40.17, 4.73, 'Male', 'Yes', 'Fri', 'Dinner', 4], [97, 27.28, 4.0, 'Male', 'Yes', 'Fri', 'Dinner', 2], [98, 12.03, 1.5, 'Male', 'Yes', 'Fri', 'Dinner', 2], [99, 21.01, 3.0, 'Male', 'Yes', 'Fri', 'Dinner', 2], [100, 12.46, 1.5, 'Male', 'No', 'Fri', 'Dinner', 2], [101, 11.35, 2.5, 'Female', 'Yes', 'Fri', 'Dinner', 2], [102, 15.38, 3.0, 'Female', 'Yes', 'Fri', 'Dinner', 2], [103, 44.3, 2.5, 'Female', 'Yes', 'Sat', 'Dinner', 3], [104, 22.42, 3.48, 'Female', 'Yes', 'Sat', 'Dinner', 2], [105, 20.92, 4.08, 'Female', 'No', 'Sat', 'Dinner', 2], [106, 15.36, 1.64, 'Male', 'Yes', 'Sat', 'Dinner', 2], [107, 20.49, 4.06, 'Male', 'Yes', 'Sat', 'Dinner', 2], [108, 25.21, 4.29, 'Male', 'Yes', 'Sat', 'Dinner', 2], [109, 18.24, 3.76, 'Male', 'No', 'Sat', 'Dinner', 2], [110, 14.31, 4.0, 'Female', 'Yes', 'Sat', 'Dinner', 2], [111, 14.0, 3.0, 'Male', 'No', 'Sat', 'Dinner', 2], [112, 7.25, 1.0, 'Female', 'No', 'Sat', 'Dinner', 1], [113, 38.07, 4.0, 'Male', 'No', 'Sun', 'Dinner', 3], [114, 23.95, 2.55, 'Male', 'No', 'Sun', 'Dinner', 2], [115, 25.71, 4.0, 'Female', 'No', 'Sun', 'Dinner', 3], [116, 17.31, 3.5, 'Female', 'No', 'Sun', 'Dinner', 2], [117, 29.93, 5.07, 'Male', 'No', 'Sun', 'Dinner', 4], [118, 10.65, 1.5, 'Female', 'No', 'Thur', 'Lunch', 2], [119, 12.43, 1.8, 'Female', 'No', 'Thur', 'Lunch', 2], [120, 24.08, 2.92, 'Female', 'No', 'Thur', 'Lunch', 4], [121, 11.69, 2.31, 'Male', 'No', 'Thur', 'Lunch', 2], [122, 13.42, 1.68, 'Female', 'No', 'Thur', 'Lunch', 2], [123, 14.26, 2.5, 'Male', 'No', 'Thur', 'Lunch', 2], [124, 15.95, 2.0, 'Male', 'No', 'Thur', 'Lunch', 2], [125, 12.48, 2.52, 'Female', 'No', 'Thur', 'Lunch', 2], [126, 29.8, 4.2, 'Female', 'No', 'Thur', 'Lunch', 6], [127, 8.52, 1.48, 'Male', 'No', 'Thur', 'Lunch', 2], [128, 14.52, 2.0, 'Female', 'No', 'Thur', 'Lunch', 2], [129, 11.38, 2.0, 'Female', 'No', 'Thur', 'Lunch', 2], [130, 22.82, 2.18, 'Male', 'No', 'Thur', 'Lunch', 3], [131, 19.08, 1.5, 'Male', 'No', 'Thur', 'Lunch', 2], [132, 20.27, 2.83, 'Female', 'No', 'Thur', 'Lunch', 2], [133, 11.17, 1.5, 'Female', 'No', 'Thur', 'Lunch', 2], [134, 12.26, 2.0, 'Female', 'No', 'Thur', 'Lunch', 2], [135, 18.26, 3.25, 'Female', 'No', 'Thur', 'Lunch', 2], [136, 8.51, 1.25, 'Female', 'No', 'Thur', 'Lunch', 2], [137, 10.33, 2.0, 'Female', 'No', 'Thur', 'Lunch', 2], [138, 14.15, 2.0, 'Female', 'No', 'Thur', 'Lunch', 2], [139, 16.0, 2.0, 'Male', 'Yes', 'Thur', 'Lunch', 2], [140, 13.16, 2.75, 'Female', 'No', 'Thur', 'Lunch', 2], [141, 17.47, 3.5, 'Female', 'No', 'Thur', 'Lunch', 2], [142, 34.3, 6.7, 'Male', 'No', 'Thur', 'Lunch', 6], [143, 41.19, 5.0, 'Male', 'No', 'Thur', 'Lunch', 5], [144, 27.05, 5.0, 'Female', 'No', 'Thur', 'Lunch', 6], [145, 16.43, 2.3, 'Female', 'No', 'Thur', 'Lunch', 2], [146, 8.35, 1.5, 'Female', 'No', 'Thur', 'Lunch', 2], [147, 18.64, 1.36, 'Female', 'No', 'Thur', 'Lunch', 3], [148, 11.87, 1.63, 'Female', 'No', 'Thur', 'Lunch', 2], [149, 9.78, 1.73, 'Male', 'No', 'Thur', 'Lunch', 2], [150, 7.51, 2.0, 'Male', 'No', 'Thur', 'Lunch', 2], [151, 14.07, 2.5, 'Male', 'No', 'Sun', 'Dinner', 2], [152, 13.13, 2.0, 'Male', 'No', 'Sun', 'Dinner', 2], [153, 17.26, 2.74, 'Male', 'No', 'Sun', 'Dinner', 3], [154, 24.55, 2.0, 'Male', 'No', 'Sun', 'Dinner', 4], [155, 19.77, 2.0, 'Male', 'No', 'Sun', 'Dinner', 4], [156, 29.85, 5.14, 'Female', 'No', 'Sun', 'Dinner', 5], [157, 48.17, 5.0, 'Male', 'No', 'Sun', 'Dinner', 6], [158, 25.0, 3.75, 'Female', 'No', 'Sun', 'Dinner', 4], [159, 13.39, 2.61, 'Female', 'No', 'Sun', 'Dinner', 2], [160, 16.49, 2.0, 'Male', 'No', 'Sun', 'Dinner', 4], [161, 21.5, 3.5, 'Male', 'No', 'Sun', 'Dinner', 4], [162, 12.66, 2.5, 'Male', 'No', 'Sun', 'Dinner', 2], [163, 16.21, 2.0, 'Female', 'No', 'Sun', 'Dinner', 3], [164, 13.81, 2.0, 'Male', 'No', 'Sun', 'Dinner', 2], [165, 17.51, 3.0, 'Female', 'Yes', 'Sun', 'Dinner', 2], [166, 24.52, 3.48, 'Male', 'No', 'Sun', 'Dinner', 3], [167, 20.76, 2.24, 'Male', 'No', 'Sun', 'Dinner', 2], [168, 31.71, 4.5, 'Male', 'No', 'Sun', 'Dinner', 4], [169, 10.59, 1.61, 'Female', 'Yes', 'Sat', 'Dinner', 2], [170, 10.63, 2.0, 'Female', 'Yes', 'Sat', 'Dinner', 2], [171, 50.81, 10.0, 'Male', 'Yes', 'Sat', 'Dinner', 3], [172, 15.81, 3.16, 'Male', 'Yes', 'Sat', 'Dinner', 2], [173, 7.25, 5.15, 'Male', 'Yes', 'Sun', 'Dinner', 2], [174, 31.85, 3.18, 'Male', 'Yes', 'Sun', 'Dinner', 2], [175, 16.82, 4.0, 'Male', 'Yes', 'Sun', 'Dinner', 2], [176, 32.9, 3.11, 'Male', 'Yes', 'Sun', 'Dinner', 2], [177, 17.89, 2.0, 'Male', 'Yes', 'Sun', 'Dinner', 2], [178, 14.48, 2.0, 'Male', 'Yes', 'Sun', 'Dinner', 2], [179, 9.6, 4.0, 'Female', 'Yes', 'Sun', 'Dinner', 2], [180, 34.63, 3.55, 'Male', 'Yes', 'Sun', 'Dinner', 2], [181, 34.65, 3.68, 'Male', 'Yes', 'Sun', 'Dinner', 4], [182, 23.33, 5.65, 'Male', 'Yes', 'Sun', 'Dinner', 2], [183, 45.35, 3.5, 'Male', 'Yes', 'Sun', 'Dinner', 3], [184, 23.17, 6.5, 'Male', 'Yes', 'Sun', 'Dinner', 4], [185, 40.55, 3.0, 'Male', 'Yes', 'Sun', 'Dinner', 2], [186, 20.69, 5.0, 'Male', 'No', 'Sun', 'Dinner', 5], [187, 20.9, 3.5, 'Female', 'Yes', 'Sun', 'Dinner', 3], [188, 30.46, 2.0, 'Male', 'Yes', 'Sun', 'Dinner', 5], [189, 18.15, 3.5, 'Female', 'Yes', 'Sun', 'Dinner', 3], [190, 23.1, 4.0, 'Male', 'Yes', 'Sun', 'Dinner', 3], [191, 15.69, 1.5, 'Male', 'Yes', 'Sun', 'Dinner', 2], [192, 19.81, 4.19, 'Female', 'Yes', 'Thur', 'Lunch', 2], [193, 28.44, 2.56, 'Male', 'Yes', 'Thur', 'Lunch', 2], [194, 15.48, 2.02, 'Male', 'Yes', 'Thur', 'Lunch', 2], [195, 16.58, 4.0, 'Male', 'Yes', 'Thur', 'Lunch', 2], [196, 7.56, 1.44, 'Male', 'No', 'Thur', 'Lunch', 2], [197, 10.34, 2.0, 'Male', 'Yes', 'Thur', 'Lunch', 2], [198, 43.11, 5.0, 'Female', 'Yes', 'Thur', 'Lunch', 4], [199, 13.0, 2.0, 'Female', 'Yes', 'Thur', 'Lunch', 2], [200, 13.51, 2.0, 'Male', 'Yes', 'Thur', 'Lunch', 2], [201, 18.71, 4.0, 'Male', 'Yes', 'Thur', 'Lunch', 3], [202, 12.74, 2.01, 'Female', 'Yes', 'Thur', 'Lunch', 2], [203, 13.0, 2.0, 'Female', 'Yes', 'Thur', 'Lunch', 2], [204, 16.4, 2.5, 'Female', 'Yes', 'Thur', 'Lunch', 2], [205, 20.53, 4.0, 'Male', 'Yes', 'Thur', 'Lunch', 4], [206, 16.47, 3.23, 'Female', 'Yes', 'Thur', 'Lunch', 3], [207, 26.59, 3.41, 'Male', 'Yes', 'Sat', 'Dinner', 3], [208, 38.73, 3.0, 'Male', 'Yes', 'Sat', 'Dinner', 4], [209, 24.27, 2.03, 'Male', 'Yes', 'Sat', 'Dinner', 2], [210, 12.76, 2.23, 'Female', 'Yes', 'Sat', 'Dinner', 2], [211, 30.06, 2.0, 'Male', 'Yes', 'Sat', 'Dinner', 3], [212, 25.89, 5.16, 'Male', 'Yes', 'Sat', 'Dinner', 4], [213, 48.33, 9.0, 'Male', 'No', 'Sat', 'Dinner', 4], [214, 13.27, 2.5, 'Female', 'Yes', 'Sat', 'Dinner', 2], [215, 28.17, 6.5, 'Female', 'Yes', 'Sat', 'Dinner', 3], [216, 12.9, 1.1, 'Female', 'Yes', 'Sat', 'Dinner', 2], [217, 28.15, 3.0, 'Male', 'Yes', 'Sat', 'Dinner', 5], [218, 11.59, 1.5, 'Male', 'Yes', 'Sat', 'Dinner', 2], [219, 7.74, 1.44, 'Male', 'Yes', 'Sat', 'Dinner', 2], [220, 30.14, 3.09, 'Female', 'Yes', 'Sat', 'Dinner', 4], [221, 12.16, 2.2, 'Male', 'Yes', 'Fri', 'Lunch', 2], [222, 13.42, 3.48, 'Female', 'Yes', 'Fri', 'Lunch', 2], [223, 8.58, 1.92, 'Male', 'Yes', 'Fri', 'Lunch', 1], [224, 15.98, 3.0, 'Female', 'No', 'Fri', 'Lunch', 3], [225, 13.42, 1.58, 'Male', 'Yes', 'Fri', 'Lunch', 2], [226, 16.27, 2.5, 'Female', 'Yes', 'Fri', 'Lunch', 2], [227, 10.09, 2.0, 'Female', 'Yes', 'Fri', 'Lunch', 2], [228, 20.45, 3.0, 'Male', 'No', 'Sat', 'Dinner', 4], [229, 13.28, 2.72, 'Male', 'No', 'Sat', 'Dinner', 2], [230, 22.12, 2.88, 'Female', 'Yes', 'Sat', 'Dinner', 2], [231, 24.01, 2.0, 'Male', 'Yes', 'Sat', 'Dinner', 4], [232, 15.69, 3.0, 'Male', 'Yes', 'Sat', 'Dinner', 3], [233, 11.61, 3.39, 'Male', 'No', 'Sat', 'Dinner', 2], [234, 10.77, 1.47, 'Male', 'No', 'Sat', 'Dinner', 2], [235, 15.53, 3.0, 'Male', 'Yes', 'Sat', 'Dinner', 2], [236, 10.07, 1.25, 'Male', 'No', 'Sat', 'Dinner', 2], [237, 12.6, 1.0, 'Male', 'Yes', 'Sat', 'Dinner', 2], [238, 32.83, 1.17, 'Male', 'Yes', 'Sat', 'Dinner', 2], [239, 35.83, 4.67, 'Female', 'No', 'Sat', 'Dinner', 3], [240, 29.03, 5.92, 'Male', 'No', 'Sat', 'Dinner', 3], [241, 27.18, 2.0, 'Female', 'Yes', 'Sat', 'Dinner', 2], [242, 22.67, 2.0, 'Male', 'Yes', 'Sat', 'Dinner', 2], [243, 17.82, 1.75, 'Male', 'No', 'Sat', 'Dinner', 2], [244, 18.78, 3.0, 'Female', 'No', 'Thur', 'Dinner', 2]], options={'rows': ['sex', 'smoker'], 'cols': ['day', 'time'], 'vals': ['tip', 'total_bill'], 'aggregator': '$.pivotUtilities.aggregators[\"Sum over Sum\"]([\"tip\", \"total_bill\"])', 'renderer': '$.pivotUtilities.renderers[\"Heatmap\"]'})"
      ]
     },
     "metadata": {},
     "output_type": "display_data"
    }
   ],
   "source": [
    "df = pt.samples.df_tips\n",
    "dic = {\n",
    "    'sumOverSum': '$.pivotUtilities.aggregators[\"Sum over Sum\"]',\n",
    "    'heatmap': '$.pivotUtilities.renderers[\"Heatmap\"]'    \n",
    "}\n",
    "\n",
    "p2 = pt.Pivot(df_data=df)\n",
    "opts = p2.options_object\n",
    "opts.rows = [\"sex\", \"smoker\"]\n",
    "opts.cols = [\"day\", \"time\"]\n",
    "opts.vals = [\"tip\", \"total_bill\"]\n",
    "opts.aggregator  = '{sumOverSum}([\"tip\", \"total_bill\"])'.format(**dic)\n",
    "opts.renderer = '{heatmap}'.format(**dic)\n",
    "\n",
    "p2"
   ]
  },
  {
   "cell_type": "code",
   "execution_count": 4,
   "metadata": {},
   "outputs": [
    {
     "data": {
      "application/vnd.jupyter.widget-view+json": {
       "model_id": "0d49d2873e0e4f5eba744c166e8cd538",
       "version_major": 2,
       "version_minor": 0
      },
      "text/html": [
       "<p>Failed to display Jupyter Widget of type <code>Pivot</code>.</p>\n",
       "<p>\n",
       "  If you're reading this message in the Jupyter Notebook or JupyterLab Notebook, it may mean\n",
       "  that the widgets JavaScript is still loading. If this message persists, it\n",
       "  likely means that the widgets JavaScript library is either not installed or\n",
       "  not enabled. See the <a href=\"https://ipywidgets.readthedocs.io/en/stable/user_install.html\">Jupyter\n",
       "  Widgets Documentation</a> for setup instructions.\n",
       "</p>\n",
       "<p>\n",
       "  If you're reading this message in another frontend (for example, a static\n",
       "  rendering on GitHub or <a href=\"https://nbviewer.jupyter.org/\">NBViewer</a>),\n",
       "  it may mean that your frontend doesn't currently support widgets.\n",
       "</p>\n"
      ],
      "text/plain": [
       "Pivot(data=[['row', 'total_bill', 'tip', 'sex', 'smoker', 'day', 'time', 'size'], [1, 16.99, 1.01, 'Female', 'No', 'Sun', 'Dinner', 2], [2, 10.34, 1.66, 'Male', 'No', 'Sun', 'Dinner', 3], [3, 21.01, 3.5, 'Male', 'No', 'Sun', 'Dinner', 3], [4, 23.68, 3.31, 'Male', 'No', 'Sun', 'Dinner', 2], [5, 24.59, 3.61, 'Female', 'No', 'Sun', 'Dinner', 4], [6, 25.29, 4.71, 'Male', 'No', 'Sun', 'Dinner', 4], [7, 8.77, 2.0, 'Male', 'No', 'Sun', 'Dinner', 2], [8, 26.88, 3.12, 'Male', 'No', 'Sun', 'Dinner', 4], [9, 15.04, 1.96, 'Male', 'No', 'Sun', 'Dinner', 2], [10, 14.78, 3.23, 'Male', 'No', 'Sun', 'Dinner', 2], [11, 10.27, 1.71, 'Male', 'No', 'Sun', 'Dinner', 2], [12, 35.26, 5.0, 'Female', 'No', 'Sun', 'Dinner', 4], [13, 15.42, 1.57, 'Male', 'No', 'Sun', 'Dinner', 2], [14, 18.43, 3.0, 'Male', 'No', 'Sun', 'Dinner', 4], [15, 14.83, 3.02, 'Female', 'No', 'Sun', 'Dinner', 2], [16, 21.58, 3.92, 'Male', 'No', 'Sun', 'Dinner', 2], [17, 10.33, 1.67, 'Female', 'No', 'Sun', 'Dinner', 3], [18, 16.29, 3.71, 'Male', 'No', 'Sun', 'Dinner', 3], [19, 16.97, 3.5, 'Female', 'No', 'Sun', 'Dinner', 3], [20, 20.65, 3.35, 'Male', 'No', 'Sat', 'Dinner', 3], [21, 17.92, 4.08, 'Male', 'No', 'Sat', 'Dinner', 2], [22, 20.29, 2.75, 'Female', 'No', 'Sat', 'Dinner', 2], [23, 15.77, 2.23, 'Female', 'No', 'Sat', 'Dinner', 2], [24, 39.42, 7.58, 'Male', 'No', 'Sat', 'Dinner', 4], [25, 19.82, 3.18, 'Male', 'No', 'Sat', 'Dinner', 2], [26, 17.81, 2.34, 'Male', 'No', 'Sat', 'Dinner', 4], [27, 13.37, 2.0, 'Male', 'No', 'Sat', 'Dinner', 2], [28, 12.69, 2.0, 'Male', 'No', 'Sat', 'Dinner', 2], [29, 21.7, 4.3, 'Male', 'No', 'Sat', 'Dinner', 2], [30, 19.65, 3.0, 'Female', 'No', 'Sat', 'Dinner', 2], [31, 9.55, 1.45, 'Male', 'No', 'Sat', 'Dinner', 2], [32, 18.35, 2.5, 'Male', 'No', 'Sat', 'Dinner', 4], [33, 15.06, 3.0, 'Female', 'No', 'Sat', 'Dinner', 2], [34, 20.69, 2.45, 'Female', 'No', 'Sat', 'Dinner', 4], [35, 17.78, 3.27, 'Male', 'No', 'Sat', 'Dinner', 2], [36, 24.06, 3.6, 'Male', 'No', 'Sat', 'Dinner', 3], [37, 16.31, 2.0, 'Male', 'No', 'Sat', 'Dinner', 3], [38, 16.93, 3.07, 'Female', 'No', 'Sat', 'Dinner', 3], [39, 18.69, 2.31, 'Male', 'No', 'Sat', 'Dinner', 3], [40, 31.27, 5.0, 'Male', 'No', 'Sat', 'Dinner', 3], [41, 16.04, 2.24, 'Male', 'No', 'Sat', 'Dinner', 3], [42, 17.46, 2.54, 'Male', 'No', 'Sun', 'Dinner', 2], [43, 13.94, 3.06, 'Male', 'No', 'Sun', 'Dinner', 2], [44, 9.68, 1.32, 'Male', 'No', 'Sun', 'Dinner', 2], [45, 30.4, 5.6, 'Male', 'No', 'Sun', 'Dinner', 4], [46, 18.29, 3.0, 'Male', 'No', 'Sun', 'Dinner', 2], [47, 22.23, 5.0, 'Male', 'No', 'Sun', 'Dinner', 2], [48, 32.4, 6.0, 'Male', 'No', 'Sun', 'Dinner', 4], [49, 28.55, 2.05, 'Male', 'No', 'Sun', 'Dinner', 3], [50, 18.04, 3.0, 'Male', 'No', 'Sun', 'Dinner', 2], [51, 12.54, 2.5, 'Male', 'No', 'Sun', 'Dinner', 2], [52, 10.29, 2.6, 'Female', 'No', 'Sun', 'Dinner', 2], [53, 34.81, 5.2, 'Female', 'No', 'Sun', 'Dinner', 4], [54, 9.94, 1.56, 'Male', 'No', 'Sun', 'Dinner', 2], [55, 25.56, 4.34, 'Male', 'No', 'Sun', 'Dinner', 4], [56, 19.49, 3.51, 'Male', 'No', 'Sun', 'Dinner', 2], [57, 38.01, 3.0, 'Male', 'Yes', 'Sat', 'Dinner', 4], [58, 26.41, 1.5, 'Female', 'No', 'Sat', 'Dinner', 2], [59, 11.24, 1.76, 'Male', 'Yes', 'Sat', 'Dinner', 2], [60, 48.27, 6.73, 'Male', 'No', 'Sat', 'Dinner', 4], [61, 20.29, 3.21, 'Male', 'Yes', 'Sat', 'Dinner', 2], [62, 13.81, 2.0, 'Male', 'Yes', 'Sat', 'Dinner', 2], [63, 11.02, 1.98, 'Male', 'Yes', 'Sat', 'Dinner', 2], [64, 18.29, 3.76, 'Male', 'Yes', 'Sat', 'Dinner', 4], [65, 17.59, 2.64, 'Male', 'No', 'Sat', 'Dinner', 3], [66, 20.08, 3.15, 'Male', 'No', 'Sat', 'Dinner', 3], [67, 16.45, 2.47, 'Female', 'No', 'Sat', 'Dinner', 2], [68, 3.07, 1.0, 'Female', 'Yes', 'Sat', 'Dinner', 1], [69, 20.23, 2.01, 'Male', 'No', 'Sat', 'Dinner', 2], [70, 15.01, 2.09, 'Male', 'Yes', 'Sat', 'Dinner', 2], [71, 12.02, 1.97, 'Male', 'No', 'Sat', 'Dinner', 2], [72, 17.07, 3.0, 'Female', 'No', 'Sat', 'Dinner', 3], [73, 26.86, 3.14, 'Female', 'Yes', 'Sat', 'Dinner', 2], [74, 25.28, 5.0, 'Female', 'Yes', 'Sat', 'Dinner', 2], [75, 14.73, 2.2, 'Female', 'No', 'Sat', 'Dinner', 2], [76, 10.51, 1.25, 'Male', 'No', 'Sat', 'Dinner', 2], [77, 17.92, 3.08, 'Male', 'Yes', 'Sat', 'Dinner', 2], [78, 27.2, 4.0, 'Male', 'No', 'Thur', 'Lunch', 4], [79, 22.76, 3.0, 'Male', 'No', 'Thur', 'Lunch', 2], [80, 17.29, 2.71, 'Male', 'No', 'Thur', 'Lunch', 2], [81, 19.44, 3.0, 'Male', 'Yes', 'Thur', 'Lunch', 2], [82, 16.66, 3.4, 'Male', 'No', 'Thur', 'Lunch', 2], [83, 10.07, 1.83, 'Female', 'No', 'Thur', 'Lunch', 1], [84, 32.68, 5.0, 'Male', 'Yes', 'Thur', 'Lunch', 2], [85, 15.98, 2.03, 'Male', 'No', 'Thur', 'Lunch', 2], [86, 34.83, 5.17, 'Female', 'No', 'Thur', 'Lunch', 4], [87, 13.03, 2.0, 'Male', 'No', 'Thur', 'Lunch', 2], [88, 18.28, 4.0, 'Male', 'No', 'Thur', 'Lunch', 2], [89, 24.71, 5.85, 'Male', 'No', 'Thur', 'Lunch', 2], [90, 21.16, 3.0, 'Male', 'No', 'Thur', 'Lunch', 2], [91, 28.97, 3.0, 'Male', 'Yes', 'Fri', 'Dinner', 2], [92, 22.49, 3.5, 'Male', 'No', 'Fri', 'Dinner', 2], [93, 5.75, 1.0, 'Female', 'Yes', 'Fri', 'Dinner', 2], [94, 16.32, 4.3, 'Female', 'Yes', 'Fri', 'Dinner', 2], [95, 22.75, 3.25, 'Female', 'No', 'Fri', 'Dinner', 2], [96, 40.17, 4.73, 'Male', 'Yes', 'Fri', 'Dinner', 4], [97, 27.28, 4.0, 'Male', 'Yes', 'Fri', 'Dinner', 2], [98, 12.03, 1.5, 'Male', 'Yes', 'Fri', 'Dinner', 2], [99, 21.01, 3.0, 'Male', 'Yes', 'Fri', 'Dinner', 2], [100, 12.46, 1.5, 'Male', 'No', 'Fri', 'Dinner', 2], [101, 11.35, 2.5, 'Female', 'Yes', 'Fri', 'Dinner', 2], [102, 15.38, 3.0, 'Female', 'Yes', 'Fri', 'Dinner', 2], [103, 44.3, 2.5, 'Female', 'Yes', 'Sat', 'Dinner', 3], [104, 22.42, 3.48, 'Female', 'Yes', 'Sat', 'Dinner', 2], [105, 20.92, 4.08, 'Female', 'No', 'Sat', 'Dinner', 2], [106, 15.36, 1.64, 'Male', 'Yes', 'Sat', 'Dinner', 2], [107, 20.49, 4.06, 'Male', 'Yes', 'Sat', 'Dinner', 2], [108, 25.21, 4.29, 'Male', 'Yes', 'Sat', 'Dinner', 2], [109, 18.24, 3.76, 'Male', 'No', 'Sat', 'Dinner', 2], [110, 14.31, 4.0, 'Female', 'Yes', 'Sat', 'Dinner', 2], [111, 14.0, 3.0, 'Male', 'No', 'Sat', 'Dinner', 2], [112, 7.25, 1.0, 'Female', 'No', 'Sat', 'Dinner', 1], [113, 38.07, 4.0, 'Male', 'No', 'Sun', 'Dinner', 3], [114, 23.95, 2.55, 'Male', 'No', 'Sun', 'Dinner', 2], [115, 25.71, 4.0, 'Female', 'No', 'Sun', 'Dinner', 3], [116, 17.31, 3.5, 'Female', 'No', 'Sun', 'Dinner', 2], [117, 29.93, 5.07, 'Male', 'No', 'Sun', 'Dinner', 4], [118, 10.65, 1.5, 'Female', 'No', 'Thur', 'Lunch', 2], [119, 12.43, 1.8, 'Female', 'No', 'Thur', 'Lunch', 2], [120, 24.08, 2.92, 'Female', 'No', 'Thur', 'Lunch', 4], [121, 11.69, 2.31, 'Male', 'No', 'Thur', 'Lunch', 2], [122, 13.42, 1.68, 'Female', 'No', 'Thur', 'Lunch', 2], [123, 14.26, 2.5, 'Male', 'No', 'Thur', 'Lunch', 2], [124, 15.95, 2.0, 'Male', 'No', 'Thur', 'Lunch', 2], [125, 12.48, 2.52, 'Female', 'No', 'Thur', 'Lunch', 2], [126, 29.8, 4.2, 'Female', 'No', 'Thur', 'Lunch', 6], [127, 8.52, 1.48, 'Male', 'No', 'Thur', 'Lunch', 2], [128, 14.52, 2.0, 'Female', 'No', 'Thur', 'Lunch', 2], [129, 11.38, 2.0, 'Female', 'No', 'Thur', 'Lunch', 2], [130, 22.82, 2.18, 'Male', 'No', 'Thur', 'Lunch', 3], [131, 19.08, 1.5, 'Male', 'No', 'Thur', 'Lunch', 2], [132, 20.27, 2.83, 'Female', 'No', 'Thur', 'Lunch', 2], [133, 11.17, 1.5, 'Female', 'No', 'Thur', 'Lunch', 2], [134, 12.26, 2.0, 'Female', 'No', 'Thur', 'Lunch', 2], [135, 18.26, 3.25, 'Female', 'No', 'Thur', 'Lunch', 2], [136, 8.51, 1.25, 'Female', 'No', 'Thur', 'Lunch', 2], [137, 10.33, 2.0, 'Female', 'No', 'Thur', 'Lunch', 2], [138, 14.15, 2.0, 'Female', 'No', 'Thur', 'Lunch', 2], [139, 16.0, 2.0, 'Male', 'Yes', 'Thur', 'Lunch', 2], [140, 13.16, 2.75, 'Female', 'No', 'Thur', 'Lunch', 2], [141, 17.47, 3.5, 'Female', 'No', 'Thur', 'Lunch', 2], [142, 34.3, 6.7, 'Male', 'No', 'Thur', 'Lunch', 6], [143, 41.19, 5.0, 'Male', 'No', 'Thur', 'Lunch', 5], [144, 27.05, 5.0, 'Female', 'No', 'Thur', 'Lunch', 6], [145, 16.43, 2.3, 'Female', 'No', 'Thur', 'Lunch', 2], [146, 8.35, 1.5, 'Female', 'No', 'Thur', 'Lunch', 2], [147, 18.64, 1.36, 'Female', 'No', 'Thur', 'Lunch', 3], [148, 11.87, 1.63, 'Female', 'No', 'Thur', 'Lunch', 2], [149, 9.78, 1.73, 'Male', 'No', 'Thur', 'Lunch', 2], [150, 7.51, 2.0, 'Male', 'No', 'Thur', 'Lunch', 2], [151, 14.07, 2.5, 'Male', 'No', 'Sun', 'Dinner', 2], [152, 13.13, 2.0, 'Male', 'No', 'Sun', 'Dinner', 2], [153, 17.26, 2.74, 'Male', 'No', 'Sun', 'Dinner', 3], [154, 24.55, 2.0, 'Male', 'No', 'Sun', 'Dinner', 4], [155, 19.77, 2.0, 'Male', 'No', 'Sun', 'Dinner', 4], [156, 29.85, 5.14, 'Female', 'No', 'Sun', 'Dinner', 5], [157, 48.17, 5.0, 'Male', 'No', 'Sun', 'Dinner', 6], [158, 25.0, 3.75, 'Female', 'No', 'Sun', 'Dinner', 4], [159, 13.39, 2.61, 'Female', 'No', 'Sun', 'Dinner', 2], [160, 16.49, 2.0, 'Male', 'No', 'Sun', 'Dinner', 4], [161, 21.5, 3.5, 'Male', 'No', 'Sun', 'Dinner', 4], [162, 12.66, 2.5, 'Male', 'No', 'Sun', 'Dinner', 2], [163, 16.21, 2.0, 'Female', 'No', 'Sun', 'Dinner', 3], [164, 13.81, 2.0, 'Male', 'No', 'Sun', 'Dinner', 2], [165, 17.51, 3.0, 'Female', 'Yes', 'Sun', 'Dinner', 2], [166, 24.52, 3.48, 'Male', 'No', 'Sun', 'Dinner', 3], [167, 20.76, 2.24, 'Male', 'No', 'Sun', 'Dinner', 2], [168, 31.71, 4.5, 'Male', 'No', 'Sun', 'Dinner', 4], [169, 10.59, 1.61, 'Female', 'Yes', 'Sat', 'Dinner', 2], [170, 10.63, 2.0, 'Female', 'Yes', 'Sat', 'Dinner', 2], [171, 50.81, 10.0, 'Male', 'Yes', 'Sat', 'Dinner', 3], [172, 15.81, 3.16, 'Male', 'Yes', 'Sat', 'Dinner', 2], [173, 7.25, 5.15, 'Male', 'Yes', 'Sun', 'Dinner', 2], [174, 31.85, 3.18, 'Male', 'Yes', 'Sun', 'Dinner', 2], [175, 16.82, 4.0, 'Male', 'Yes', 'Sun', 'Dinner', 2], [176, 32.9, 3.11, 'Male', 'Yes', 'Sun', 'Dinner', 2], [177, 17.89, 2.0, 'Male', 'Yes', 'Sun', 'Dinner', 2], [178, 14.48, 2.0, 'Male', 'Yes', 'Sun', 'Dinner', 2], [179, 9.6, 4.0, 'Female', 'Yes', 'Sun', 'Dinner', 2], [180, 34.63, 3.55, 'Male', 'Yes', 'Sun', 'Dinner', 2], [181, 34.65, 3.68, 'Male', 'Yes', 'Sun', 'Dinner', 4], [182, 23.33, 5.65, 'Male', 'Yes', 'Sun', 'Dinner', 2], [183, 45.35, 3.5, 'Male', 'Yes', 'Sun', 'Dinner', 3], [184, 23.17, 6.5, 'Male', 'Yes', 'Sun', 'Dinner', 4], [185, 40.55, 3.0, 'Male', 'Yes', 'Sun', 'Dinner', 2], [186, 20.69, 5.0, 'Male', 'No', 'Sun', 'Dinner', 5], [187, 20.9, 3.5, 'Female', 'Yes', 'Sun', 'Dinner', 3], [188, 30.46, 2.0, 'Male', 'Yes', 'Sun', 'Dinner', 5], [189, 18.15, 3.5, 'Female', 'Yes', 'Sun', 'Dinner', 3], [190, 23.1, 4.0, 'Male', 'Yes', 'Sun', 'Dinner', 3], [191, 15.69, 1.5, 'Male', 'Yes', 'Sun', 'Dinner', 2], [192, 19.81, 4.19, 'Female', 'Yes', 'Thur', 'Lunch', 2], [193, 28.44, 2.56, 'Male', 'Yes', 'Thur', 'Lunch', 2], [194, 15.48, 2.02, 'Male', 'Yes', 'Thur', 'Lunch', 2], [195, 16.58, 4.0, 'Male', 'Yes', 'Thur', 'Lunch', 2], [196, 7.56, 1.44, 'Male', 'No', 'Thur', 'Lunch', 2], [197, 10.34, 2.0, 'Male', 'Yes', 'Thur', 'Lunch', 2], [198, 43.11, 5.0, 'Female', 'Yes', 'Thur', 'Lunch', 4], [199, 13.0, 2.0, 'Female', 'Yes', 'Thur', 'Lunch', 2], [200, 13.51, 2.0, 'Male', 'Yes', 'Thur', 'Lunch', 2], [201, 18.71, 4.0, 'Male', 'Yes', 'Thur', 'Lunch', 3], [202, 12.74, 2.01, 'Female', 'Yes', 'Thur', 'Lunch', 2], [203, 13.0, 2.0, 'Female', 'Yes', 'Thur', 'Lunch', 2], [204, 16.4, 2.5, 'Female', 'Yes', 'Thur', 'Lunch', 2], [205, 20.53, 4.0, 'Male', 'Yes', 'Thur', 'Lunch', 4], [206, 16.47, 3.23, 'Female', 'Yes', 'Thur', 'Lunch', 3], [207, 26.59, 3.41, 'Male', 'Yes', 'Sat', 'Dinner', 3], [208, 38.73, 3.0, 'Male', 'Yes', 'Sat', 'Dinner', 4], [209, 24.27, 2.03, 'Male', 'Yes', 'Sat', 'Dinner', 2], [210, 12.76, 2.23, 'Female', 'Yes', 'Sat', 'Dinner', 2], [211, 30.06, 2.0, 'Male', 'Yes', 'Sat', 'Dinner', 3], [212, 25.89, 5.16, 'Male', 'Yes', 'Sat', 'Dinner', 4], [213, 48.33, 9.0, 'Male', 'No', 'Sat', 'Dinner', 4], [214, 13.27, 2.5, 'Female', 'Yes', 'Sat', 'Dinner', 2], [215, 28.17, 6.5, 'Female', 'Yes', 'Sat', 'Dinner', 3], [216, 12.9, 1.1, 'Female', 'Yes', 'Sat', 'Dinner', 2], [217, 28.15, 3.0, 'Male', 'Yes', 'Sat', 'Dinner', 5], [218, 11.59, 1.5, 'Male', 'Yes', 'Sat', 'Dinner', 2], [219, 7.74, 1.44, 'Male', 'Yes', 'Sat', 'Dinner', 2], [220, 30.14, 3.09, 'Female', 'Yes', 'Sat', 'Dinner', 4], [221, 12.16, 2.2, 'Male', 'Yes', 'Fri', 'Lunch', 2], [222, 13.42, 3.48, 'Female', 'Yes', 'Fri', 'Lunch', 2], [223, 8.58, 1.92, 'Male', 'Yes', 'Fri', 'Lunch', 1], [224, 15.98, 3.0, 'Female', 'No', 'Fri', 'Lunch', 3], [225, 13.42, 1.58, 'Male', 'Yes', 'Fri', 'Lunch', 2], [226, 16.27, 2.5, 'Female', 'Yes', 'Fri', 'Lunch', 2], [227, 10.09, 2.0, 'Female', 'Yes', 'Fri', 'Lunch', 2], [228, 20.45, 3.0, 'Male', 'No', 'Sat', 'Dinner', 4], [229, 13.28, 2.72, 'Male', 'No', 'Sat', 'Dinner', 2], [230, 22.12, 2.88, 'Female', 'Yes', 'Sat', 'Dinner', 2], [231, 24.01, 2.0, 'Male', 'Yes', 'Sat', 'Dinner', 4], [232, 15.69, 3.0, 'Male', 'Yes', 'Sat', 'Dinner', 3], [233, 11.61, 3.39, 'Male', 'No', 'Sat', 'Dinner', 2], [234, 10.77, 1.47, 'Male', 'No', 'Sat', 'Dinner', 2], [235, 15.53, 3.0, 'Male', 'Yes', 'Sat', 'Dinner', 2], [236, 10.07, 1.25, 'Male', 'No', 'Sat', 'Dinner', 2], [237, 12.6, 1.0, 'Male', 'Yes', 'Sat', 'Dinner', 2], [238, 32.83, 1.17, 'Male', 'Yes', 'Sat', 'Dinner', 2], [239, 35.83, 4.67, 'Female', 'No', 'Sat', 'Dinner', 3], [240, 29.03, 5.92, 'Male', 'No', 'Sat', 'Dinner', 3], [241, 27.18, 2.0, 'Female', 'Yes', 'Sat', 'Dinner', 2], [242, 22.67, 2.0, 'Male', 'Yes', 'Sat', 'Dinner', 2], [243, 17.82, 1.75, 'Male', 'No', 'Sat', 'Dinner', 2], [244, 18.78, 3.0, 'Female', 'No', 'Thur', 'Dinner', 2]], options={'rows': ['sex', 'smoker'], 'cols': ['day', 'time'], 'vals': ['tip', 'total_bill'], 'aggregator': '$.pivotUtilities.aggregators[\"Sum over Sum\"]([\"tip\", \"total_bill\"])', 'renderer': '$.pivotUtilities.renderers[\"Heatmap\"]'})"
      ]
     },
     "metadata": {},
     "output_type": "display_data"
    }
   ],
   "source": [
    "p2"
   ]
  },
  {
   "cell_type": "code",
   "execution_count": 5,
   "metadata": {},
   "outputs": [
    {
     "data": {
      "text/plain": [
       "{'aggregator': '$.pivotUtilities.aggregators[\"Sum over Sum\"]([\"tip\", \"total_bill\"])',\n",
       " 'cols': ['day', 'time'],\n",
       " 'renderer': '$.pivotUtilities.renderers[\"Heatmap\"]',\n",
       " 'rows': ['sex', 'smoker'],\n",
       " 'vals': ['tip', 'total_bill']}"
      ]
     },
     "execution_count": 5,
     "metadata": {},
     "output_type": "execute_result"
    }
   ],
   "source": [
    "p2.options"
   ]
  },
  {
   "cell_type": "code",
   "execution_count": 6,
   "metadata": {},
   "outputs": [
    {
     "data": {
      "text/plain": [
       "{'aggregator': '$.pivotUtilities.aggregators[\"Sum over Sum\"]([\"tip\", \"total_bill\"])',\n",
       " 'cols': ['day', 'time'],\n",
       " 'renderer': '$.pivotUtilities.renderers[\"Heatmap\"]',\n",
       " 'rows': ['sex', 'smoker'],\n",
       " 'vals': ['tip', 'total_bill']}"
      ]
     },
     "execution_count": 6,
     "metadata": {},
     "output_type": "execute_result"
    }
   ],
   "source": [
    "p2.options_object.to_dict()"
   ]
  },
  {
   "cell_type": "code",
   "execution_count": 7,
   "metadata": {},
   "outputs": [
    {
     "name": "stdout",
     "output_type": "stream",
     "text": [
      "change\n"
     ]
    }
   ],
   "source": [
    "p2.options_object.rows  = [\"smoker\", \"sex\"]"
   ]
  },
  {
   "cell_type": "code",
   "execution_count": 8,
   "metadata": {
    "scrolled": true
   },
   "outputs": [
    {
     "name": "stdout",
     "output_type": "stream",
     "text": [
      "change\n"
     ]
    }
   ],
   "source": [
    "p2.options_object.renderer = '$.pivotUtilities.renderers[\"Table\"]'"
   ]
  },
  {
   "cell_type": "markdown",
   "metadata": {},
   "source": [
    "## Demo Pivot UI"
   ]
  },
  {
   "cell_type": "code",
   "execution_count": 9,
   "metadata": {},
   "outputs": [
    {
     "name": "stdout",
     "output_type": "stream",
     "text": [
      "change counter\n",
      "change options\n",
      "change counter\n",
      "change options\n",
      "change counter\n",
      "change options\n",
      "change counter\n",
      "change options\n",
      "change counter\n",
      "change options\n"
     ]
    },
    {
     "data": {
      "application/vnd.jupyter.widget-view+json": {
       "model_id": "22726c8ead8f4a15bf930fce05ef7c18",
       "version_major": 2,
       "version_minor": 0
      },
      "text/html": [
       "<p>Failed to display Jupyter Widget of type <code>PivotUI</code>.</p>\n",
       "<p>\n",
       "  If you're reading this message in the Jupyter Notebook or JupyterLab Notebook, it may mean\n",
       "  that the widgets JavaScript is still loading. If this message persists, it\n",
       "  likely means that the widgets JavaScript library is either not installed or\n",
       "  not enabled. See the <a href=\"https://ipywidgets.readthedocs.io/en/stable/user_install.html\">Jupyter\n",
       "  Widgets Documentation</a> for setup instructions.\n",
       "</p>\n",
       "<p>\n",
       "  If you're reading this message in another frontend (for example, a static\n",
       "  rendering on GitHub or <a href=\"https://nbviewer.jupyter.org/\">NBViewer</a>),\n",
       "  it may mean that your frontend doesn't currently support widgets.\n",
       "</p>\n"
      ],
      "text/plain": [
       "PivotUI(data=[['row', 'total_bill', 'tip', 'sex', 'smoker', 'day', 'time', 'size'], [1, 16.99, 1.01, 'Female', 'No', 'Sun', 'Dinner', 2], [2, 10.34, 1.66, 'Male', 'No', 'Sun', 'Dinner', 3], [3, 21.01, 3.5, 'Male', 'No', 'Sun', 'Dinner', 3], [4, 23.68, 3.31, 'Male', 'No', 'Sun', 'Dinner', 2], [5, 24.59, 3.61, 'Female', 'No', 'Sun', 'Dinner', 4], [6, 25.29, 4.71, 'Male', 'No', 'Sun', 'Dinner', 4], [7, 8.77, 2.0, 'Male', 'No', 'Sun', 'Dinner', 2], [8, 26.88, 3.12, 'Male', 'No', 'Sun', 'Dinner', 4], [9, 15.04, 1.96, 'Male', 'No', 'Sun', 'Dinner', 2], [10, 14.78, 3.23, 'Male', 'No', 'Sun', 'Dinner', 2], [11, 10.27, 1.71, 'Male', 'No', 'Sun', 'Dinner', 2], [12, 35.26, 5.0, 'Female', 'No', 'Sun', 'Dinner', 4], [13, 15.42, 1.57, 'Male', 'No', 'Sun', 'Dinner', 2], [14, 18.43, 3.0, 'Male', 'No', 'Sun', 'Dinner', 4], [15, 14.83, 3.02, 'Female', 'No', 'Sun', 'Dinner', 2], [16, 21.58, 3.92, 'Male', 'No', 'Sun', 'Dinner', 2], [17, 10.33, 1.67, 'Female', 'No', 'Sun', 'Dinner', 3], [18, 16.29, 3.71, 'Male', 'No', 'Sun', 'Dinner', 3], [19, 16.97, 3.5, 'Female', 'No', 'Sun', 'Dinner', 3], [20, 20.65, 3.35, 'Male', 'No', 'Sat', 'Dinner', 3], [21, 17.92, 4.08, 'Male', 'No', 'Sat', 'Dinner', 2], [22, 20.29, 2.75, 'Female', 'No', 'Sat', 'Dinner', 2], [23, 15.77, 2.23, 'Female', 'No', 'Sat', 'Dinner', 2], [24, 39.42, 7.58, 'Male', 'No', 'Sat', 'Dinner', 4], [25, 19.82, 3.18, 'Male', 'No', 'Sat', 'Dinner', 2], [26, 17.81, 2.34, 'Male', 'No', 'Sat', 'Dinner', 4], [27, 13.37, 2.0, 'Male', 'No', 'Sat', 'Dinner', 2], [28, 12.69, 2.0, 'Male', 'No', 'Sat', 'Dinner', 2], [29, 21.7, 4.3, 'Male', 'No', 'Sat', 'Dinner', 2], [30, 19.65, 3.0, 'Female', 'No', 'Sat', 'Dinner', 2], [31, 9.55, 1.45, 'Male', 'No', 'Sat', 'Dinner', 2], [32, 18.35, 2.5, 'Male', 'No', 'Sat', 'Dinner', 4], [33, 15.06, 3.0, 'Female', 'No', 'Sat', 'Dinner', 2], [34, 20.69, 2.45, 'Female', 'No', 'Sat', 'Dinner', 4], [35, 17.78, 3.27, 'Male', 'No', 'Sat', 'Dinner', 2], [36, 24.06, 3.6, 'Male', 'No', 'Sat', 'Dinner', 3], [37, 16.31, 2.0, 'Male', 'No', 'Sat', 'Dinner', 3], [38, 16.93, 3.07, 'Female', 'No', 'Sat', 'Dinner', 3], [39, 18.69, 2.31, 'Male', 'No', 'Sat', 'Dinner', 3], [40, 31.27, 5.0, 'Male', 'No', 'Sat', 'Dinner', 3], [41, 16.04, 2.24, 'Male', 'No', 'Sat', 'Dinner', 3], [42, 17.46, 2.54, 'Male', 'No', 'Sun', 'Dinner', 2], [43, 13.94, 3.06, 'Male', 'No', 'Sun', 'Dinner', 2], [44, 9.68, 1.32, 'Male', 'No', 'Sun', 'Dinner', 2], [45, 30.4, 5.6, 'Male', 'No', 'Sun', 'Dinner', 4], [46, 18.29, 3.0, 'Male', 'No', 'Sun', 'Dinner', 2], [47, 22.23, 5.0, 'Male', 'No', 'Sun', 'Dinner', 2], [48, 32.4, 6.0, 'Male', 'No', 'Sun', 'Dinner', 4], [49, 28.55, 2.05, 'Male', 'No', 'Sun', 'Dinner', 3], [50, 18.04, 3.0, 'Male', 'No', 'Sun', 'Dinner', 2], [51, 12.54, 2.5, 'Male', 'No', 'Sun', 'Dinner', 2], [52, 10.29, 2.6, 'Female', 'No', 'Sun', 'Dinner', 2], [53, 34.81, 5.2, 'Female', 'No', 'Sun', 'Dinner', 4], [54, 9.94, 1.56, 'Male', 'No', 'Sun', 'Dinner', 2], [55, 25.56, 4.34, 'Male', 'No', 'Sun', 'Dinner', 4], [56, 19.49, 3.51, 'Male', 'No', 'Sun', 'Dinner', 2], [57, 38.01, 3.0, 'Male', 'Yes', 'Sat', 'Dinner', 4], [58, 26.41, 1.5, 'Female', 'No', 'Sat', 'Dinner', 2], [59, 11.24, 1.76, 'Male', 'Yes', 'Sat', 'Dinner', 2], [60, 48.27, 6.73, 'Male', 'No', 'Sat', 'Dinner', 4], [61, 20.29, 3.21, 'Male', 'Yes', 'Sat', 'Dinner', 2], [62, 13.81, 2.0, 'Male', 'Yes', 'Sat', 'Dinner', 2], [63, 11.02, 1.98, 'Male', 'Yes', 'Sat', 'Dinner', 2], [64, 18.29, 3.76, 'Male', 'Yes', 'Sat', 'Dinner', 4], [65, 17.59, 2.64, 'Male', 'No', 'Sat', 'Dinner', 3], [66, 20.08, 3.15, 'Male', 'No', 'Sat', 'Dinner', 3], [67, 16.45, 2.47, 'Female', 'No', 'Sat', 'Dinner', 2], [68, 3.07, 1.0, 'Female', 'Yes', 'Sat', 'Dinner', 1], [69, 20.23, 2.01, 'Male', 'No', 'Sat', 'Dinner', 2], [70, 15.01, 2.09, 'Male', 'Yes', 'Sat', 'Dinner', 2], [71, 12.02, 1.97, 'Male', 'No', 'Sat', 'Dinner', 2], [72, 17.07, 3.0, 'Female', 'No', 'Sat', 'Dinner', 3], [73, 26.86, 3.14, 'Female', 'Yes', 'Sat', 'Dinner', 2], [74, 25.28, 5.0, 'Female', 'Yes', 'Sat', 'Dinner', 2], [75, 14.73, 2.2, 'Female', 'No', 'Sat', 'Dinner', 2], [76, 10.51, 1.25, 'Male', 'No', 'Sat', 'Dinner', 2], [77, 17.92, 3.08, 'Male', 'Yes', 'Sat', 'Dinner', 2], [78, 27.2, 4.0, 'Male', 'No', 'Thur', 'Lunch', 4], [79, 22.76, 3.0, 'Male', 'No', 'Thur', 'Lunch', 2], [80, 17.29, 2.71, 'Male', 'No', 'Thur', 'Lunch', 2], [81, 19.44, 3.0, 'Male', 'Yes', 'Thur', 'Lunch', 2], [82, 16.66, 3.4, 'Male', 'No', 'Thur', 'Lunch', 2], [83, 10.07, 1.83, 'Female', 'No', 'Thur', 'Lunch', 1], [84, 32.68, 5.0, 'Male', 'Yes', 'Thur', 'Lunch', 2], [85, 15.98, 2.03, 'Male', 'No', 'Thur', 'Lunch', 2], [86, 34.83, 5.17, 'Female', 'No', 'Thur', 'Lunch', 4], [87, 13.03, 2.0, 'Male', 'No', 'Thur', 'Lunch', 2], [88, 18.28, 4.0, 'Male', 'No', 'Thur', 'Lunch', 2], [89, 24.71, 5.85, 'Male', 'No', 'Thur', 'Lunch', 2], [90, 21.16, 3.0, 'Male', 'No', 'Thur', 'Lunch', 2], [91, 28.97, 3.0, 'Male', 'Yes', 'Fri', 'Dinner', 2], [92, 22.49, 3.5, 'Male', 'No', 'Fri', 'Dinner', 2], [93, 5.75, 1.0, 'Female', 'Yes', 'Fri', 'Dinner', 2], [94, 16.32, 4.3, 'Female', 'Yes', 'Fri', 'Dinner', 2], [95, 22.75, 3.25, 'Female', 'No', 'Fri', 'Dinner', 2], [96, 40.17, 4.73, 'Male', 'Yes', 'Fri', 'Dinner', 4], [97, 27.28, 4.0, 'Male', 'Yes', 'Fri', 'Dinner', 2], [98, 12.03, 1.5, 'Male', 'Yes', 'Fri', 'Dinner', 2], [99, 21.01, 3.0, 'Male', 'Yes', 'Fri', 'Dinner', 2], [100, 12.46, 1.5, 'Male', 'No', 'Fri', 'Dinner', 2], [101, 11.35, 2.5, 'Female', 'Yes', 'Fri', 'Dinner', 2], [102, 15.38, 3.0, 'Female', 'Yes', 'Fri', 'Dinner', 2], [103, 44.3, 2.5, 'Female', 'Yes', 'Sat', 'Dinner', 3], [104, 22.42, 3.48, 'Female', 'Yes', 'Sat', 'Dinner', 2], [105, 20.92, 4.08, 'Female', 'No', 'Sat', 'Dinner', 2], [106, 15.36, 1.64, 'Male', 'Yes', 'Sat', 'Dinner', 2], [107, 20.49, 4.06, 'Male', 'Yes', 'Sat', 'Dinner', 2], [108, 25.21, 4.29, 'Male', 'Yes', 'Sat', 'Dinner', 2], [109, 18.24, 3.76, 'Male', 'No', 'Sat', 'Dinner', 2], [110, 14.31, 4.0, 'Female', 'Yes', 'Sat', 'Dinner', 2], [111, 14.0, 3.0, 'Male', 'No', 'Sat', 'Dinner', 2], [112, 7.25, 1.0, 'Female', 'No', 'Sat', 'Dinner', 1], [113, 38.07, 4.0, 'Male', 'No', 'Sun', 'Dinner', 3], [114, 23.95, 2.55, 'Male', 'No', 'Sun', 'Dinner', 2], [115, 25.71, 4.0, 'Female', 'No', 'Sun', 'Dinner', 3], [116, 17.31, 3.5, 'Female', 'No', 'Sun', 'Dinner', 2], [117, 29.93, 5.07, 'Male', 'No', 'Sun', 'Dinner', 4], [118, 10.65, 1.5, 'Female', 'No', 'Thur', 'Lunch', 2], [119, 12.43, 1.8, 'Female', 'No', 'Thur', 'Lunch', 2], [120, 24.08, 2.92, 'Female', 'No', 'Thur', 'Lunch', 4], [121, 11.69, 2.31, 'Male', 'No', 'Thur', 'Lunch', 2], [122, 13.42, 1.68, 'Female', 'No', 'Thur', 'Lunch', 2], [123, 14.26, 2.5, 'Male', 'No', 'Thur', 'Lunch', 2], [124, 15.95, 2.0, 'Male', 'No', 'Thur', 'Lunch', 2], [125, 12.48, 2.52, 'Female', 'No', 'Thur', 'Lunch', 2], [126, 29.8, 4.2, 'Female', 'No', 'Thur', 'Lunch', 6], [127, 8.52, 1.48, 'Male', 'No', 'Thur', 'Lunch', 2], [128, 14.52, 2.0, 'Female', 'No', 'Thur', 'Lunch', 2], [129, 11.38, 2.0, 'Female', 'No', 'Thur', 'Lunch', 2], [130, 22.82, 2.18, 'Male', 'No', 'Thur', 'Lunch', 3], [131, 19.08, 1.5, 'Male', 'No', 'Thur', 'Lunch', 2], [132, 20.27, 2.83, 'Female', 'No', 'Thur', 'Lunch', 2], [133, 11.17, 1.5, 'Female', 'No', 'Thur', 'Lunch', 2], [134, 12.26, 2.0, 'Female', 'No', 'Thur', 'Lunch', 2], [135, 18.26, 3.25, 'Female', 'No', 'Thur', 'Lunch', 2], [136, 8.51, 1.25, 'Female', 'No', 'Thur', 'Lunch', 2], [137, 10.33, 2.0, 'Female', 'No', 'Thur', 'Lunch', 2], [138, 14.15, 2.0, 'Female', 'No', 'Thur', 'Lunch', 2], [139, 16.0, 2.0, 'Male', 'Yes', 'Thur', 'Lunch', 2], [140, 13.16, 2.75, 'Female', 'No', 'Thur', 'Lunch', 2], [141, 17.47, 3.5, 'Female', 'No', 'Thur', 'Lunch', 2], [142, 34.3, 6.7, 'Male', 'No', 'Thur', 'Lunch', 6], [143, 41.19, 5.0, 'Male', 'No', 'Thur', 'Lunch', 5], [144, 27.05, 5.0, 'Female', 'No', 'Thur', 'Lunch', 6], [145, 16.43, 2.3, 'Female', 'No', 'Thur', 'Lunch', 2], [146, 8.35, 1.5, 'Female', 'No', 'Thur', 'Lunch', 2], [147, 18.64, 1.36, 'Female', 'No', 'Thur', 'Lunch', 3], [148, 11.87, 1.63, 'Female', 'No', 'Thur', 'Lunch', 2], [149, 9.78, 1.73, 'Male', 'No', 'Thur', 'Lunch', 2], [150, 7.51, 2.0, 'Male', 'No', 'Thur', 'Lunch', 2], [151, 14.07, 2.5, 'Male', 'No', 'Sun', 'Dinner', 2], [152, 13.13, 2.0, 'Male', 'No', 'Sun', 'Dinner', 2], [153, 17.26, 2.74, 'Male', 'No', 'Sun', 'Dinner', 3], [154, 24.55, 2.0, 'Male', 'No', 'Sun', 'Dinner', 4], [155, 19.77, 2.0, 'Male', 'No', 'Sun', 'Dinner', 4], [156, 29.85, 5.14, 'Female', 'No', 'Sun', 'Dinner', 5], [157, 48.17, 5.0, 'Male', 'No', 'Sun', 'Dinner', 6], [158, 25.0, 3.75, 'Female', 'No', 'Sun', 'Dinner', 4], [159, 13.39, 2.61, 'Female', 'No', 'Sun', 'Dinner', 2], [160, 16.49, 2.0, 'Male', 'No', 'Sun', 'Dinner', 4], [161, 21.5, 3.5, 'Male', 'No', 'Sun', 'Dinner', 4], [162, 12.66, 2.5, 'Male', 'No', 'Sun', 'Dinner', 2], [163, 16.21, 2.0, 'Female', 'No', 'Sun', 'Dinner', 3], [164, 13.81, 2.0, 'Male', 'No', 'Sun', 'Dinner', 2], [165, 17.51, 3.0, 'Female', 'Yes', 'Sun', 'Dinner', 2], [166, 24.52, 3.48, 'Male', 'No', 'Sun', 'Dinner', 3], [167, 20.76, 2.24, 'Male', 'No', 'Sun', 'Dinner', 2], [168, 31.71, 4.5, 'Male', 'No', 'Sun', 'Dinner', 4], [169, 10.59, 1.61, 'Female', 'Yes', 'Sat', 'Dinner', 2], [170, 10.63, 2.0, 'Female', 'Yes', 'Sat', 'Dinner', 2], [171, 50.81, 10.0, 'Male', 'Yes', 'Sat', 'Dinner', 3], [172, 15.81, 3.16, 'Male', 'Yes', 'Sat', 'Dinner', 2], [173, 7.25, 5.15, 'Male', 'Yes', 'Sun', 'Dinner', 2], [174, 31.85, 3.18, 'Male', 'Yes', 'Sun', 'Dinner', 2], [175, 16.82, 4.0, 'Male', 'Yes', 'Sun', 'Dinner', 2], [176, 32.9, 3.11, 'Male', 'Yes', 'Sun', 'Dinner', 2], [177, 17.89, 2.0, 'Male', 'Yes', 'Sun', 'Dinner', 2], [178, 14.48, 2.0, 'Male', 'Yes', 'Sun', 'Dinner', 2], [179, 9.6, 4.0, 'Female', 'Yes', 'Sun', 'Dinner', 2], [180, 34.63, 3.55, 'Male', 'Yes', 'Sun', 'Dinner', 2], [181, 34.65, 3.68, 'Male', 'Yes', 'Sun', 'Dinner', 4], [182, 23.33, 5.65, 'Male', 'Yes', 'Sun', 'Dinner', 2], [183, 45.35, 3.5, 'Male', 'Yes', 'Sun', 'Dinner', 3], [184, 23.17, 6.5, 'Male', 'Yes', 'Sun', 'Dinner', 4], [185, 40.55, 3.0, 'Male', 'Yes', 'Sun', 'Dinner', 2], [186, 20.69, 5.0, 'Male', 'No', 'Sun', 'Dinner', 5], [187, 20.9, 3.5, 'Female', 'Yes', 'Sun', 'Dinner', 3], [188, 30.46, 2.0, 'Male', 'Yes', 'Sun', 'Dinner', 5], [189, 18.15, 3.5, 'Female', 'Yes', 'Sun', 'Dinner', 3], [190, 23.1, 4.0, 'Male', 'Yes', 'Sun', 'Dinner', 3], [191, 15.69, 1.5, 'Male', 'Yes', 'Sun', 'Dinner', 2], [192, 19.81, 4.19, 'Female', 'Yes', 'Thur', 'Lunch', 2], [193, 28.44, 2.56, 'Male', 'Yes', 'Thur', 'Lunch', 2], [194, 15.48, 2.02, 'Male', 'Yes', 'Thur', 'Lunch', 2], [195, 16.58, 4.0, 'Male', 'Yes', 'Thur', 'Lunch', 2], [196, 7.56, 1.44, 'Male', 'No', 'Thur', 'Lunch', 2], [197, 10.34, 2.0, 'Male', 'Yes', 'Thur', 'Lunch', 2], [198, 43.11, 5.0, 'Female', 'Yes', 'Thur', 'Lunch', 4], [199, 13.0, 2.0, 'Female', 'Yes', 'Thur', 'Lunch', 2], [200, 13.51, 2.0, 'Male', 'Yes', 'Thur', 'Lunch', 2], [201, 18.71, 4.0, 'Male', 'Yes', 'Thur', 'Lunch', 3], [202, 12.74, 2.01, 'Female', 'Yes', 'Thur', 'Lunch', 2], [203, 13.0, 2.0, 'Female', 'Yes', 'Thur', 'Lunch', 2], [204, 16.4, 2.5, 'Female', 'Yes', 'Thur', 'Lunch', 2], [205, 20.53, 4.0, 'Male', 'Yes', 'Thur', 'Lunch', 4], [206, 16.47, 3.23, 'Female', 'Yes', 'Thur', 'Lunch', 3], [207, 26.59, 3.41, 'Male', 'Yes', 'Sat', 'Dinner', 3], [208, 38.73, 3.0, 'Male', 'Yes', 'Sat', 'Dinner', 4], [209, 24.27, 2.03, 'Male', 'Yes', 'Sat', 'Dinner', 2], [210, 12.76, 2.23, 'Female', 'Yes', 'Sat', 'Dinner', 2], [211, 30.06, 2.0, 'Male', 'Yes', 'Sat', 'Dinner', 3], [212, 25.89, 5.16, 'Male', 'Yes', 'Sat', 'Dinner', 4], [213, 48.33, 9.0, 'Male', 'No', 'Sat', 'Dinner', 4], [214, 13.27, 2.5, 'Female', 'Yes', 'Sat', 'Dinner', 2], [215, 28.17, 6.5, 'Female', 'Yes', 'Sat', 'Dinner', 3], [216, 12.9, 1.1, 'Female', 'Yes', 'Sat', 'Dinner', 2], [217, 28.15, 3.0, 'Male', 'Yes', 'Sat', 'Dinner', 5], [218, 11.59, 1.5, 'Male', 'Yes', 'Sat', 'Dinner', 2], [219, 7.74, 1.44, 'Male', 'Yes', 'Sat', 'Dinner', 2], [220, 30.14, 3.09, 'Female', 'Yes', 'Sat', 'Dinner', 4], [221, 12.16, 2.2, 'Male', 'Yes', 'Fri', 'Lunch', 2], [222, 13.42, 3.48, 'Female', 'Yes', 'Fri', 'Lunch', 2], [223, 8.58, 1.92, 'Male', 'Yes', 'Fri', 'Lunch', 1], [224, 15.98, 3.0, 'Female', 'No', 'Fri', 'Lunch', 3], [225, 13.42, 1.58, 'Male', 'Yes', 'Fri', 'Lunch', 2], [226, 16.27, 2.5, 'Female', 'Yes', 'Fri', 'Lunch', 2], [227, 10.09, 2.0, 'Female', 'Yes', 'Fri', 'Lunch', 2], [228, 20.45, 3.0, 'Male', 'No', 'Sat', 'Dinner', 4], [229, 13.28, 2.72, 'Male', 'No', 'Sat', 'Dinner', 2], [230, 22.12, 2.88, 'Female', 'Yes', 'Sat', 'Dinner', 2], [231, 24.01, 2.0, 'Male', 'Yes', 'Sat', 'Dinner', 4], [232, 15.69, 3.0, 'Male', 'Yes', 'Sat', 'Dinner', 3], [233, 11.61, 3.39, 'Male', 'No', 'Sat', 'Dinner', 2], [234, 10.77, 1.47, 'Male', 'No', 'Sat', 'Dinner', 2], [235, 15.53, 3.0, 'Male', 'Yes', 'Sat', 'Dinner', 2], [236, 10.07, 1.25, 'Male', 'No', 'Sat', 'Dinner', 2], [237, 12.6, 1.0, 'Male', 'Yes', 'Sat', 'Dinner', 2], [238, 32.83, 1.17, 'Male', 'Yes', 'Sat', 'Dinner', 2], [239, 35.83, 4.67, 'Female', 'No', 'Sat', 'Dinner', 3], [240, 29.03, 5.92, 'Male', 'No', 'Sat', 'Dinner', 3], [241, 27.18, 2.0, 'Female', 'Yes', 'Sat', 'Dinner', 2], [242, 22.67, 2.0, 'Male', 'Yes', 'Sat', 'Dinner', 2], [243, 17.82, 1.75, 'Male', 'No', 'Sat', 'Dinner', 2], [244, 18.78, 3.0, 'Female', 'No', 'Thur', 'Dinner', 2]], options={'rows': ['sex', 'smoker'], 'cols': ['day', 'time'], 'vals': ['tip', 'total_bill'], 'aggregatorName': 'Sum over Sum', 'rendererName': 'Heatmap'})"
      ]
     },
     "metadata": {},
     "output_type": "display_data"
    }
   ],
   "source": [
    "df = pt.samples.df_tips\n",
    "\n",
    "p2 = pt.PivotUI(df_data=df)\n",
    "opts = p2.options_object\n",
    "opts.rows = ['sex', 'smoker']\n",
    "opts.cols = ['day', 'time']\n",
    "opts.vals = ['tip', 'total_bill']\n",
    "opts.aggregatorName = 'Sum over Sum'\n",
    "opts.rendererName = 'Heatmap'\n",
    "\n",
    "\n",
    "p2"
   ]
  },
  {
   "cell_type": "code",
   "execution_count": 10,
   "metadata": {},
   "outputs": [
    {
     "data": {
      "text/plain": [
       "{'aggregatorName': 'Sum over Sum',\n",
       " 'cols': ['day', 'time'],\n",
       " 'rendererName': 'Heatmap',\n",
       " 'rows': ['sex', 'smoker'],\n",
       " 'vals': ['tip', 'total_bill']}"
      ]
     },
     "execution_count": 10,
     "metadata": {},
     "output_type": "execute_result"
    }
   ],
   "source": [
    "p2.options"
   ]
  },
  {
   "cell_type": "code",
   "execution_count": 11,
   "metadata": {},
   "outputs": [
    {
     "data": {
      "text/plain": [
       "{'aggregatorName': 'Sum over Sum',\n",
       " 'cols': ['day', 'time'],\n",
       " 'rendererName': 'Heatmap',\n",
       " 'rows': ['sex', 'smoker'],\n",
       " 'vals': ['tip', 'total_bill']}"
      ]
     },
     "execution_count": 11,
     "metadata": {},
     "output_type": "execute_result"
    }
   ],
   "source": [
    "p2.options_object.to_dict()"
   ]
  },
  {
   "cell_type": "code",
   "execution_count": 12,
   "metadata": {},
   "outputs": [
    {
     "data": {
      "application/vnd.jupyter.widget-view+json": {
       "model_id": "22726c8ead8f4a15bf930fce05ef7c18",
       "version_major": 2,
       "version_minor": 0
      },
      "text/html": [
       "<p>Failed to display Jupyter Widget of type <code>PivotUI</code>.</p>\n",
       "<p>\n",
       "  If you're reading this message in the Jupyter Notebook or JupyterLab Notebook, it may mean\n",
       "  that the widgets JavaScript is still loading. If this message persists, it\n",
       "  likely means that the widgets JavaScript library is either not installed or\n",
       "  not enabled. See the <a href=\"https://ipywidgets.readthedocs.io/en/stable/user_install.html\">Jupyter\n",
       "  Widgets Documentation</a> for setup instructions.\n",
       "</p>\n",
       "<p>\n",
       "  If you're reading this message in another frontend (for example, a static\n",
       "  rendering on GitHub or <a href=\"https://nbviewer.jupyter.org/\">NBViewer</a>),\n",
       "  it may mean that your frontend doesn't currently support widgets.\n",
       "</p>\n"
      ],
      "text/plain": [
       "PivotUI(data=[['row', 'total_bill', 'tip', 'sex', 'smoker', 'day', 'time', 'size'], [1, 16.99, 1.01, 'Female', 'No', 'Sun', 'Dinner', 2], [2, 10.34, 1.66, 'Male', 'No', 'Sun', 'Dinner', 3], [3, 21.01, 3.5, 'Male', 'No', 'Sun', 'Dinner', 3], [4, 23.68, 3.31, 'Male', 'No', 'Sun', 'Dinner', 2], [5, 24.59, 3.61, 'Female', 'No', 'Sun', 'Dinner', 4], [6, 25.29, 4.71, 'Male', 'No', 'Sun', 'Dinner', 4], [7, 8.77, 2.0, 'Male', 'No', 'Sun', 'Dinner', 2], [8, 26.88, 3.12, 'Male', 'No', 'Sun', 'Dinner', 4], [9, 15.04, 1.96, 'Male', 'No', 'Sun', 'Dinner', 2], [10, 14.78, 3.23, 'Male', 'No', 'Sun', 'Dinner', 2], [11, 10.27, 1.71, 'Male', 'No', 'Sun', 'Dinner', 2], [12, 35.26, 5.0, 'Female', 'No', 'Sun', 'Dinner', 4], [13, 15.42, 1.57, 'Male', 'No', 'Sun', 'Dinner', 2], [14, 18.43, 3.0, 'Male', 'No', 'Sun', 'Dinner', 4], [15, 14.83, 3.02, 'Female', 'No', 'Sun', 'Dinner', 2], [16, 21.58, 3.92, 'Male', 'No', 'Sun', 'Dinner', 2], [17, 10.33, 1.67, 'Female', 'No', 'Sun', 'Dinner', 3], [18, 16.29, 3.71, 'Male', 'No', 'Sun', 'Dinner', 3], [19, 16.97, 3.5, 'Female', 'No', 'Sun', 'Dinner', 3], [20, 20.65, 3.35, 'Male', 'No', 'Sat', 'Dinner', 3], [21, 17.92, 4.08, 'Male', 'No', 'Sat', 'Dinner', 2], [22, 20.29, 2.75, 'Female', 'No', 'Sat', 'Dinner', 2], [23, 15.77, 2.23, 'Female', 'No', 'Sat', 'Dinner', 2], [24, 39.42, 7.58, 'Male', 'No', 'Sat', 'Dinner', 4], [25, 19.82, 3.18, 'Male', 'No', 'Sat', 'Dinner', 2], [26, 17.81, 2.34, 'Male', 'No', 'Sat', 'Dinner', 4], [27, 13.37, 2.0, 'Male', 'No', 'Sat', 'Dinner', 2], [28, 12.69, 2.0, 'Male', 'No', 'Sat', 'Dinner', 2], [29, 21.7, 4.3, 'Male', 'No', 'Sat', 'Dinner', 2], [30, 19.65, 3.0, 'Female', 'No', 'Sat', 'Dinner', 2], [31, 9.55, 1.45, 'Male', 'No', 'Sat', 'Dinner', 2], [32, 18.35, 2.5, 'Male', 'No', 'Sat', 'Dinner', 4], [33, 15.06, 3.0, 'Female', 'No', 'Sat', 'Dinner', 2], [34, 20.69, 2.45, 'Female', 'No', 'Sat', 'Dinner', 4], [35, 17.78, 3.27, 'Male', 'No', 'Sat', 'Dinner', 2], [36, 24.06, 3.6, 'Male', 'No', 'Sat', 'Dinner', 3], [37, 16.31, 2.0, 'Male', 'No', 'Sat', 'Dinner', 3], [38, 16.93, 3.07, 'Female', 'No', 'Sat', 'Dinner', 3], [39, 18.69, 2.31, 'Male', 'No', 'Sat', 'Dinner', 3], [40, 31.27, 5.0, 'Male', 'No', 'Sat', 'Dinner', 3], [41, 16.04, 2.24, 'Male', 'No', 'Sat', 'Dinner', 3], [42, 17.46, 2.54, 'Male', 'No', 'Sun', 'Dinner', 2], [43, 13.94, 3.06, 'Male', 'No', 'Sun', 'Dinner', 2], [44, 9.68, 1.32, 'Male', 'No', 'Sun', 'Dinner', 2], [45, 30.4, 5.6, 'Male', 'No', 'Sun', 'Dinner', 4], [46, 18.29, 3.0, 'Male', 'No', 'Sun', 'Dinner', 2], [47, 22.23, 5.0, 'Male', 'No', 'Sun', 'Dinner', 2], [48, 32.4, 6.0, 'Male', 'No', 'Sun', 'Dinner', 4], [49, 28.55, 2.05, 'Male', 'No', 'Sun', 'Dinner', 3], [50, 18.04, 3.0, 'Male', 'No', 'Sun', 'Dinner', 2], [51, 12.54, 2.5, 'Male', 'No', 'Sun', 'Dinner', 2], [52, 10.29, 2.6, 'Female', 'No', 'Sun', 'Dinner', 2], [53, 34.81, 5.2, 'Female', 'No', 'Sun', 'Dinner', 4], [54, 9.94, 1.56, 'Male', 'No', 'Sun', 'Dinner', 2], [55, 25.56, 4.34, 'Male', 'No', 'Sun', 'Dinner', 4], [56, 19.49, 3.51, 'Male', 'No', 'Sun', 'Dinner', 2], [57, 38.01, 3.0, 'Male', 'Yes', 'Sat', 'Dinner', 4], [58, 26.41, 1.5, 'Female', 'No', 'Sat', 'Dinner', 2], [59, 11.24, 1.76, 'Male', 'Yes', 'Sat', 'Dinner', 2], [60, 48.27, 6.73, 'Male', 'No', 'Sat', 'Dinner', 4], [61, 20.29, 3.21, 'Male', 'Yes', 'Sat', 'Dinner', 2], [62, 13.81, 2.0, 'Male', 'Yes', 'Sat', 'Dinner', 2], [63, 11.02, 1.98, 'Male', 'Yes', 'Sat', 'Dinner', 2], [64, 18.29, 3.76, 'Male', 'Yes', 'Sat', 'Dinner', 4], [65, 17.59, 2.64, 'Male', 'No', 'Sat', 'Dinner', 3], [66, 20.08, 3.15, 'Male', 'No', 'Sat', 'Dinner', 3], [67, 16.45, 2.47, 'Female', 'No', 'Sat', 'Dinner', 2], [68, 3.07, 1.0, 'Female', 'Yes', 'Sat', 'Dinner', 1], [69, 20.23, 2.01, 'Male', 'No', 'Sat', 'Dinner', 2], [70, 15.01, 2.09, 'Male', 'Yes', 'Sat', 'Dinner', 2], [71, 12.02, 1.97, 'Male', 'No', 'Sat', 'Dinner', 2], [72, 17.07, 3.0, 'Female', 'No', 'Sat', 'Dinner', 3], [73, 26.86, 3.14, 'Female', 'Yes', 'Sat', 'Dinner', 2], [74, 25.28, 5.0, 'Female', 'Yes', 'Sat', 'Dinner', 2], [75, 14.73, 2.2, 'Female', 'No', 'Sat', 'Dinner', 2], [76, 10.51, 1.25, 'Male', 'No', 'Sat', 'Dinner', 2], [77, 17.92, 3.08, 'Male', 'Yes', 'Sat', 'Dinner', 2], [78, 27.2, 4.0, 'Male', 'No', 'Thur', 'Lunch', 4], [79, 22.76, 3.0, 'Male', 'No', 'Thur', 'Lunch', 2], [80, 17.29, 2.71, 'Male', 'No', 'Thur', 'Lunch', 2], [81, 19.44, 3.0, 'Male', 'Yes', 'Thur', 'Lunch', 2], [82, 16.66, 3.4, 'Male', 'No', 'Thur', 'Lunch', 2], [83, 10.07, 1.83, 'Female', 'No', 'Thur', 'Lunch', 1], [84, 32.68, 5.0, 'Male', 'Yes', 'Thur', 'Lunch', 2], [85, 15.98, 2.03, 'Male', 'No', 'Thur', 'Lunch', 2], [86, 34.83, 5.17, 'Female', 'No', 'Thur', 'Lunch', 4], [87, 13.03, 2.0, 'Male', 'No', 'Thur', 'Lunch', 2], [88, 18.28, 4.0, 'Male', 'No', 'Thur', 'Lunch', 2], [89, 24.71, 5.85, 'Male', 'No', 'Thur', 'Lunch', 2], [90, 21.16, 3.0, 'Male', 'No', 'Thur', 'Lunch', 2], [91, 28.97, 3.0, 'Male', 'Yes', 'Fri', 'Dinner', 2], [92, 22.49, 3.5, 'Male', 'No', 'Fri', 'Dinner', 2], [93, 5.75, 1.0, 'Female', 'Yes', 'Fri', 'Dinner', 2], [94, 16.32, 4.3, 'Female', 'Yes', 'Fri', 'Dinner', 2], [95, 22.75, 3.25, 'Female', 'No', 'Fri', 'Dinner', 2], [96, 40.17, 4.73, 'Male', 'Yes', 'Fri', 'Dinner', 4], [97, 27.28, 4.0, 'Male', 'Yes', 'Fri', 'Dinner', 2], [98, 12.03, 1.5, 'Male', 'Yes', 'Fri', 'Dinner', 2], [99, 21.01, 3.0, 'Male', 'Yes', 'Fri', 'Dinner', 2], [100, 12.46, 1.5, 'Male', 'No', 'Fri', 'Dinner', 2], [101, 11.35, 2.5, 'Female', 'Yes', 'Fri', 'Dinner', 2], [102, 15.38, 3.0, 'Female', 'Yes', 'Fri', 'Dinner', 2], [103, 44.3, 2.5, 'Female', 'Yes', 'Sat', 'Dinner', 3], [104, 22.42, 3.48, 'Female', 'Yes', 'Sat', 'Dinner', 2], [105, 20.92, 4.08, 'Female', 'No', 'Sat', 'Dinner', 2], [106, 15.36, 1.64, 'Male', 'Yes', 'Sat', 'Dinner', 2], [107, 20.49, 4.06, 'Male', 'Yes', 'Sat', 'Dinner', 2], [108, 25.21, 4.29, 'Male', 'Yes', 'Sat', 'Dinner', 2], [109, 18.24, 3.76, 'Male', 'No', 'Sat', 'Dinner', 2], [110, 14.31, 4.0, 'Female', 'Yes', 'Sat', 'Dinner', 2], [111, 14.0, 3.0, 'Male', 'No', 'Sat', 'Dinner', 2], [112, 7.25, 1.0, 'Female', 'No', 'Sat', 'Dinner', 1], [113, 38.07, 4.0, 'Male', 'No', 'Sun', 'Dinner', 3], [114, 23.95, 2.55, 'Male', 'No', 'Sun', 'Dinner', 2], [115, 25.71, 4.0, 'Female', 'No', 'Sun', 'Dinner', 3], [116, 17.31, 3.5, 'Female', 'No', 'Sun', 'Dinner', 2], [117, 29.93, 5.07, 'Male', 'No', 'Sun', 'Dinner', 4], [118, 10.65, 1.5, 'Female', 'No', 'Thur', 'Lunch', 2], [119, 12.43, 1.8, 'Female', 'No', 'Thur', 'Lunch', 2], [120, 24.08, 2.92, 'Female', 'No', 'Thur', 'Lunch', 4], [121, 11.69, 2.31, 'Male', 'No', 'Thur', 'Lunch', 2], [122, 13.42, 1.68, 'Female', 'No', 'Thur', 'Lunch', 2], [123, 14.26, 2.5, 'Male', 'No', 'Thur', 'Lunch', 2], [124, 15.95, 2.0, 'Male', 'No', 'Thur', 'Lunch', 2], [125, 12.48, 2.52, 'Female', 'No', 'Thur', 'Lunch', 2], [126, 29.8, 4.2, 'Female', 'No', 'Thur', 'Lunch', 6], [127, 8.52, 1.48, 'Male', 'No', 'Thur', 'Lunch', 2], [128, 14.52, 2.0, 'Female', 'No', 'Thur', 'Lunch', 2], [129, 11.38, 2.0, 'Female', 'No', 'Thur', 'Lunch', 2], [130, 22.82, 2.18, 'Male', 'No', 'Thur', 'Lunch', 3], [131, 19.08, 1.5, 'Male', 'No', 'Thur', 'Lunch', 2], [132, 20.27, 2.83, 'Female', 'No', 'Thur', 'Lunch', 2], [133, 11.17, 1.5, 'Female', 'No', 'Thur', 'Lunch', 2], [134, 12.26, 2.0, 'Female', 'No', 'Thur', 'Lunch', 2], [135, 18.26, 3.25, 'Female', 'No', 'Thur', 'Lunch', 2], [136, 8.51, 1.25, 'Female', 'No', 'Thur', 'Lunch', 2], [137, 10.33, 2.0, 'Female', 'No', 'Thur', 'Lunch', 2], [138, 14.15, 2.0, 'Female', 'No', 'Thur', 'Lunch', 2], [139, 16.0, 2.0, 'Male', 'Yes', 'Thur', 'Lunch', 2], [140, 13.16, 2.75, 'Female', 'No', 'Thur', 'Lunch', 2], [141, 17.47, 3.5, 'Female', 'No', 'Thur', 'Lunch', 2], [142, 34.3, 6.7, 'Male', 'No', 'Thur', 'Lunch', 6], [143, 41.19, 5.0, 'Male', 'No', 'Thur', 'Lunch', 5], [144, 27.05, 5.0, 'Female', 'No', 'Thur', 'Lunch', 6], [145, 16.43, 2.3, 'Female', 'No', 'Thur', 'Lunch', 2], [146, 8.35, 1.5, 'Female', 'No', 'Thur', 'Lunch', 2], [147, 18.64, 1.36, 'Female', 'No', 'Thur', 'Lunch', 3], [148, 11.87, 1.63, 'Female', 'No', 'Thur', 'Lunch', 2], [149, 9.78, 1.73, 'Male', 'No', 'Thur', 'Lunch', 2], [150, 7.51, 2.0, 'Male', 'No', 'Thur', 'Lunch', 2], [151, 14.07, 2.5, 'Male', 'No', 'Sun', 'Dinner', 2], [152, 13.13, 2.0, 'Male', 'No', 'Sun', 'Dinner', 2], [153, 17.26, 2.74, 'Male', 'No', 'Sun', 'Dinner', 3], [154, 24.55, 2.0, 'Male', 'No', 'Sun', 'Dinner', 4], [155, 19.77, 2.0, 'Male', 'No', 'Sun', 'Dinner', 4], [156, 29.85, 5.14, 'Female', 'No', 'Sun', 'Dinner', 5], [157, 48.17, 5.0, 'Male', 'No', 'Sun', 'Dinner', 6], [158, 25.0, 3.75, 'Female', 'No', 'Sun', 'Dinner', 4], [159, 13.39, 2.61, 'Female', 'No', 'Sun', 'Dinner', 2], [160, 16.49, 2.0, 'Male', 'No', 'Sun', 'Dinner', 4], [161, 21.5, 3.5, 'Male', 'No', 'Sun', 'Dinner', 4], [162, 12.66, 2.5, 'Male', 'No', 'Sun', 'Dinner', 2], [163, 16.21, 2.0, 'Female', 'No', 'Sun', 'Dinner', 3], [164, 13.81, 2.0, 'Male', 'No', 'Sun', 'Dinner', 2], [165, 17.51, 3.0, 'Female', 'Yes', 'Sun', 'Dinner', 2], [166, 24.52, 3.48, 'Male', 'No', 'Sun', 'Dinner', 3], [167, 20.76, 2.24, 'Male', 'No', 'Sun', 'Dinner', 2], [168, 31.71, 4.5, 'Male', 'No', 'Sun', 'Dinner', 4], [169, 10.59, 1.61, 'Female', 'Yes', 'Sat', 'Dinner', 2], [170, 10.63, 2.0, 'Female', 'Yes', 'Sat', 'Dinner', 2], [171, 50.81, 10.0, 'Male', 'Yes', 'Sat', 'Dinner', 3], [172, 15.81, 3.16, 'Male', 'Yes', 'Sat', 'Dinner', 2], [173, 7.25, 5.15, 'Male', 'Yes', 'Sun', 'Dinner', 2], [174, 31.85, 3.18, 'Male', 'Yes', 'Sun', 'Dinner', 2], [175, 16.82, 4.0, 'Male', 'Yes', 'Sun', 'Dinner', 2], [176, 32.9, 3.11, 'Male', 'Yes', 'Sun', 'Dinner', 2], [177, 17.89, 2.0, 'Male', 'Yes', 'Sun', 'Dinner', 2], [178, 14.48, 2.0, 'Male', 'Yes', 'Sun', 'Dinner', 2], [179, 9.6, 4.0, 'Female', 'Yes', 'Sun', 'Dinner', 2], [180, 34.63, 3.55, 'Male', 'Yes', 'Sun', 'Dinner', 2], [181, 34.65, 3.68, 'Male', 'Yes', 'Sun', 'Dinner', 4], [182, 23.33, 5.65, 'Male', 'Yes', 'Sun', 'Dinner', 2], [183, 45.35, 3.5, 'Male', 'Yes', 'Sun', 'Dinner', 3], [184, 23.17, 6.5, 'Male', 'Yes', 'Sun', 'Dinner', 4], [185, 40.55, 3.0, 'Male', 'Yes', 'Sun', 'Dinner', 2], [186, 20.69, 5.0, 'Male', 'No', 'Sun', 'Dinner', 5], [187, 20.9, 3.5, 'Female', 'Yes', 'Sun', 'Dinner', 3], [188, 30.46, 2.0, 'Male', 'Yes', 'Sun', 'Dinner', 5], [189, 18.15, 3.5, 'Female', 'Yes', 'Sun', 'Dinner', 3], [190, 23.1, 4.0, 'Male', 'Yes', 'Sun', 'Dinner', 3], [191, 15.69, 1.5, 'Male', 'Yes', 'Sun', 'Dinner', 2], [192, 19.81, 4.19, 'Female', 'Yes', 'Thur', 'Lunch', 2], [193, 28.44, 2.56, 'Male', 'Yes', 'Thur', 'Lunch', 2], [194, 15.48, 2.02, 'Male', 'Yes', 'Thur', 'Lunch', 2], [195, 16.58, 4.0, 'Male', 'Yes', 'Thur', 'Lunch', 2], [196, 7.56, 1.44, 'Male', 'No', 'Thur', 'Lunch', 2], [197, 10.34, 2.0, 'Male', 'Yes', 'Thur', 'Lunch', 2], [198, 43.11, 5.0, 'Female', 'Yes', 'Thur', 'Lunch', 4], [199, 13.0, 2.0, 'Female', 'Yes', 'Thur', 'Lunch', 2], [200, 13.51, 2.0, 'Male', 'Yes', 'Thur', 'Lunch', 2], [201, 18.71, 4.0, 'Male', 'Yes', 'Thur', 'Lunch', 3], [202, 12.74, 2.01, 'Female', 'Yes', 'Thur', 'Lunch', 2], [203, 13.0, 2.0, 'Female', 'Yes', 'Thur', 'Lunch', 2], [204, 16.4, 2.5, 'Female', 'Yes', 'Thur', 'Lunch', 2], [205, 20.53, 4.0, 'Male', 'Yes', 'Thur', 'Lunch', 4], [206, 16.47, 3.23, 'Female', 'Yes', 'Thur', 'Lunch', 3], [207, 26.59, 3.41, 'Male', 'Yes', 'Sat', 'Dinner', 3], [208, 38.73, 3.0, 'Male', 'Yes', 'Sat', 'Dinner', 4], [209, 24.27, 2.03, 'Male', 'Yes', 'Sat', 'Dinner', 2], [210, 12.76, 2.23, 'Female', 'Yes', 'Sat', 'Dinner', 2], [211, 30.06, 2.0, 'Male', 'Yes', 'Sat', 'Dinner', 3], [212, 25.89, 5.16, 'Male', 'Yes', 'Sat', 'Dinner', 4], [213, 48.33, 9.0, 'Male', 'No', 'Sat', 'Dinner', 4], [214, 13.27, 2.5, 'Female', 'Yes', 'Sat', 'Dinner', 2], [215, 28.17, 6.5, 'Female', 'Yes', 'Sat', 'Dinner', 3], [216, 12.9, 1.1, 'Female', 'Yes', 'Sat', 'Dinner', 2], [217, 28.15, 3.0, 'Male', 'Yes', 'Sat', 'Dinner', 5], [218, 11.59, 1.5, 'Male', 'Yes', 'Sat', 'Dinner', 2], [219, 7.74, 1.44, 'Male', 'Yes', 'Sat', 'Dinner', 2], [220, 30.14, 3.09, 'Female', 'Yes', 'Sat', 'Dinner', 4], [221, 12.16, 2.2, 'Male', 'Yes', 'Fri', 'Lunch', 2], [222, 13.42, 3.48, 'Female', 'Yes', 'Fri', 'Lunch', 2], [223, 8.58, 1.92, 'Male', 'Yes', 'Fri', 'Lunch', 1], [224, 15.98, 3.0, 'Female', 'No', 'Fri', 'Lunch', 3], [225, 13.42, 1.58, 'Male', 'Yes', 'Fri', 'Lunch', 2], [226, 16.27, 2.5, 'Female', 'Yes', 'Fri', 'Lunch', 2], [227, 10.09, 2.0, 'Female', 'Yes', 'Fri', 'Lunch', 2], [228, 20.45, 3.0, 'Male', 'No', 'Sat', 'Dinner', 4], [229, 13.28, 2.72, 'Male', 'No', 'Sat', 'Dinner', 2], [230, 22.12, 2.88, 'Female', 'Yes', 'Sat', 'Dinner', 2], [231, 24.01, 2.0, 'Male', 'Yes', 'Sat', 'Dinner', 4], [232, 15.69, 3.0, 'Male', 'Yes', 'Sat', 'Dinner', 3], [233, 11.61, 3.39, 'Male', 'No', 'Sat', 'Dinner', 2], [234, 10.77, 1.47, 'Male', 'No', 'Sat', 'Dinner', 2], [235, 15.53, 3.0, 'Male', 'Yes', 'Sat', 'Dinner', 2], [236, 10.07, 1.25, 'Male', 'No', 'Sat', 'Dinner', 2], [237, 12.6, 1.0, 'Male', 'Yes', 'Sat', 'Dinner', 2], [238, 32.83, 1.17, 'Male', 'Yes', 'Sat', 'Dinner', 2], [239, 35.83, 4.67, 'Female', 'No', 'Sat', 'Dinner', 3], [240, 29.03, 5.92, 'Male', 'No', 'Sat', 'Dinner', 3], [241, 27.18, 2.0, 'Female', 'Yes', 'Sat', 'Dinner', 2], [242, 22.67, 2.0, 'Male', 'Yes', 'Sat', 'Dinner', 2], [243, 17.82, 1.75, 'Male', 'No', 'Sat', 'Dinner', 2], [244, 18.78, 3.0, 'Female', 'No', 'Thur', 'Dinner', 2]], options={'rows': ['sex', 'smoker'], 'cols': ['day', 'time'], 'vals': ['tip', 'total_bill'], 'aggregatorName': 'Sum over Sum', 'rendererName': 'Heatmap'})"
      ]
     },
     "metadata": {},
     "output_type": "display_data"
    }
   ],
   "source": [
    "p2"
   ]
  },
  {
   "cell_type": "code",
   "execution_count": 13,
   "metadata": {},
   "outputs": [
    {
     "data": {
      "text/plain": [
       "{'aggregatorName': 'Sum over Sum',\n",
       " 'cols': ['day', 'time'],\n",
       " 'rendererName': 'Heatmap',\n",
       " 'rows': ['sex', 'smoker'],\n",
       " 'vals': ['tip', 'total_bill']}"
      ]
     },
     "execution_count": 13,
     "metadata": {},
     "output_type": "execute_result"
    }
   ],
   "source": [
    "p2.options"
   ]
  },
  {
   "cell_type": "code",
   "execution_count": 14,
   "metadata": {},
   "outputs": [
    {
     "name": "stdout",
     "output_type": "stream",
     "text": [
      "change counter\n",
      "change options\n"
     ]
    }
   ],
   "source": [
    "p2.options_object.rendererName  = 'Table Barchart'"
   ]
  },
  {
   "cell_type": "code",
   "execution_count": 15,
   "metadata": {},
   "outputs": [
    {
     "data": {
      "text/plain": [
       "{'aggregatorName': 'Sum over Sum',\n",
       " 'cols': ['day', 'time'],\n",
       " 'rendererName': 'Table Barchart',\n",
       " 'rows': ['sex', 'smoker'],\n",
       " 'vals': ['tip', 'total_bill']}"
      ]
     },
     "execution_count": 15,
     "metadata": {},
     "output_type": "execute_result"
    }
   ],
   "source": [
    "p2.options_object.to_dict()"
   ]
  },
  {
   "cell_type": "code",
   "execution_count": 16,
   "metadata": {},
   "outputs": [
    {
     "data": {
      "text/plain": [
       "{'aggregatorName': 'Sum over Sum',\n",
       " 'cols': ['day', 'time'],\n",
       " 'rendererName': 'Table Barchart',\n",
       " 'rows': ['sex', 'smoker'],\n",
       " 'vals': ['tip', 'total_bill']}"
      ]
     },
     "execution_count": 16,
     "metadata": {},
     "output_type": "execute_result"
    }
   ],
   "source": [
    "p2.options"
   ]
  },
  {
   "cell_type": "code",
   "execution_count": 17,
   "metadata": {
    "scrolled": false
   },
   "outputs": [
    {
     "data": {
      "application/vnd.jupyter.widget-view+json": {
       "model_id": "22726c8ead8f4a15bf930fce05ef7c18",
       "version_major": 2,
       "version_minor": 0
      },
      "text/html": [
       "<p>Failed to display Jupyter Widget of type <code>PivotUI</code>.</p>\n",
       "<p>\n",
       "  If you're reading this message in the Jupyter Notebook or JupyterLab Notebook, it may mean\n",
       "  that the widgets JavaScript is still loading. If this message persists, it\n",
       "  likely means that the widgets JavaScript library is either not installed or\n",
       "  not enabled. See the <a href=\"https://ipywidgets.readthedocs.io/en/stable/user_install.html\">Jupyter\n",
       "  Widgets Documentation</a> for setup instructions.\n",
       "</p>\n",
       "<p>\n",
       "  If you're reading this message in another frontend (for example, a static\n",
       "  rendering on GitHub or <a href=\"https://nbviewer.jupyter.org/\">NBViewer</a>),\n",
       "  it may mean that your frontend doesn't currently support widgets.\n",
       "</p>\n"
      ],
      "text/plain": [
       "PivotUI(data=[['row', 'total_bill', 'tip', 'sex', 'smoker', 'day', 'time', 'size'], [1, 16.99, 1.01, 'Female', 'No', 'Sun', 'Dinner', 2], [2, 10.34, 1.66, 'Male', 'No', 'Sun', 'Dinner', 3], [3, 21.01, 3.5, 'Male', 'No', 'Sun', 'Dinner', 3], [4, 23.68, 3.31, 'Male', 'No', 'Sun', 'Dinner', 2], [5, 24.59, 3.61, 'Female', 'No', 'Sun', 'Dinner', 4], [6, 25.29, 4.71, 'Male', 'No', 'Sun', 'Dinner', 4], [7, 8.77, 2.0, 'Male', 'No', 'Sun', 'Dinner', 2], [8, 26.88, 3.12, 'Male', 'No', 'Sun', 'Dinner', 4], [9, 15.04, 1.96, 'Male', 'No', 'Sun', 'Dinner', 2], [10, 14.78, 3.23, 'Male', 'No', 'Sun', 'Dinner', 2], [11, 10.27, 1.71, 'Male', 'No', 'Sun', 'Dinner', 2], [12, 35.26, 5.0, 'Female', 'No', 'Sun', 'Dinner', 4], [13, 15.42, 1.57, 'Male', 'No', 'Sun', 'Dinner', 2], [14, 18.43, 3.0, 'Male', 'No', 'Sun', 'Dinner', 4], [15, 14.83, 3.02, 'Female', 'No', 'Sun', 'Dinner', 2], [16, 21.58, 3.92, 'Male', 'No', 'Sun', 'Dinner', 2], [17, 10.33, 1.67, 'Female', 'No', 'Sun', 'Dinner', 3], [18, 16.29, 3.71, 'Male', 'No', 'Sun', 'Dinner', 3], [19, 16.97, 3.5, 'Female', 'No', 'Sun', 'Dinner', 3], [20, 20.65, 3.35, 'Male', 'No', 'Sat', 'Dinner', 3], [21, 17.92, 4.08, 'Male', 'No', 'Sat', 'Dinner', 2], [22, 20.29, 2.75, 'Female', 'No', 'Sat', 'Dinner', 2], [23, 15.77, 2.23, 'Female', 'No', 'Sat', 'Dinner', 2], [24, 39.42, 7.58, 'Male', 'No', 'Sat', 'Dinner', 4], [25, 19.82, 3.18, 'Male', 'No', 'Sat', 'Dinner', 2], [26, 17.81, 2.34, 'Male', 'No', 'Sat', 'Dinner', 4], [27, 13.37, 2.0, 'Male', 'No', 'Sat', 'Dinner', 2], [28, 12.69, 2.0, 'Male', 'No', 'Sat', 'Dinner', 2], [29, 21.7, 4.3, 'Male', 'No', 'Sat', 'Dinner', 2], [30, 19.65, 3.0, 'Female', 'No', 'Sat', 'Dinner', 2], [31, 9.55, 1.45, 'Male', 'No', 'Sat', 'Dinner', 2], [32, 18.35, 2.5, 'Male', 'No', 'Sat', 'Dinner', 4], [33, 15.06, 3.0, 'Female', 'No', 'Sat', 'Dinner', 2], [34, 20.69, 2.45, 'Female', 'No', 'Sat', 'Dinner', 4], [35, 17.78, 3.27, 'Male', 'No', 'Sat', 'Dinner', 2], [36, 24.06, 3.6, 'Male', 'No', 'Sat', 'Dinner', 3], [37, 16.31, 2.0, 'Male', 'No', 'Sat', 'Dinner', 3], [38, 16.93, 3.07, 'Female', 'No', 'Sat', 'Dinner', 3], [39, 18.69, 2.31, 'Male', 'No', 'Sat', 'Dinner', 3], [40, 31.27, 5.0, 'Male', 'No', 'Sat', 'Dinner', 3], [41, 16.04, 2.24, 'Male', 'No', 'Sat', 'Dinner', 3], [42, 17.46, 2.54, 'Male', 'No', 'Sun', 'Dinner', 2], [43, 13.94, 3.06, 'Male', 'No', 'Sun', 'Dinner', 2], [44, 9.68, 1.32, 'Male', 'No', 'Sun', 'Dinner', 2], [45, 30.4, 5.6, 'Male', 'No', 'Sun', 'Dinner', 4], [46, 18.29, 3.0, 'Male', 'No', 'Sun', 'Dinner', 2], [47, 22.23, 5.0, 'Male', 'No', 'Sun', 'Dinner', 2], [48, 32.4, 6.0, 'Male', 'No', 'Sun', 'Dinner', 4], [49, 28.55, 2.05, 'Male', 'No', 'Sun', 'Dinner', 3], [50, 18.04, 3.0, 'Male', 'No', 'Sun', 'Dinner', 2], [51, 12.54, 2.5, 'Male', 'No', 'Sun', 'Dinner', 2], [52, 10.29, 2.6, 'Female', 'No', 'Sun', 'Dinner', 2], [53, 34.81, 5.2, 'Female', 'No', 'Sun', 'Dinner', 4], [54, 9.94, 1.56, 'Male', 'No', 'Sun', 'Dinner', 2], [55, 25.56, 4.34, 'Male', 'No', 'Sun', 'Dinner', 4], [56, 19.49, 3.51, 'Male', 'No', 'Sun', 'Dinner', 2], [57, 38.01, 3.0, 'Male', 'Yes', 'Sat', 'Dinner', 4], [58, 26.41, 1.5, 'Female', 'No', 'Sat', 'Dinner', 2], [59, 11.24, 1.76, 'Male', 'Yes', 'Sat', 'Dinner', 2], [60, 48.27, 6.73, 'Male', 'No', 'Sat', 'Dinner', 4], [61, 20.29, 3.21, 'Male', 'Yes', 'Sat', 'Dinner', 2], [62, 13.81, 2.0, 'Male', 'Yes', 'Sat', 'Dinner', 2], [63, 11.02, 1.98, 'Male', 'Yes', 'Sat', 'Dinner', 2], [64, 18.29, 3.76, 'Male', 'Yes', 'Sat', 'Dinner', 4], [65, 17.59, 2.64, 'Male', 'No', 'Sat', 'Dinner', 3], [66, 20.08, 3.15, 'Male', 'No', 'Sat', 'Dinner', 3], [67, 16.45, 2.47, 'Female', 'No', 'Sat', 'Dinner', 2], [68, 3.07, 1.0, 'Female', 'Yes', 'Sat', 'Dinner', 1], [69, 20.23, 2.01, 'Male', 'No', 'Sat', 'Dinner', 2], [70, 15.01, 2.09, 'Male', 'Yes', 'Sat', 'Dinner', 2], [71, 12.02, 1.97, 'Male', 'No', 'Sat', 'Dinner', 2], [72, 17.07, 3.0, 'Female', 'No', 'Sat', 'Dinner', 3], [73, 26.86, 3.14, 'Female', 'Yes', 'Sat', 'Dinner', 2], [74, 25.28, 5.0, 'Female', 'Yes', 'Sat', 'Dinner', 2], [75, 14.73, 2.2, 'Female', 'No', 'Sat', 'Dinner', 2], [76, 10.51, 1.25, 'Male', 'No', 'Sat', 'Dinner', 2], [77, 17.92, 3.08, 'Male', 'Yes', 'Sat', 'Dinner', 2], [78, 27.2, 4.0, 'Male', 'No', 'Thur', 'Lunch', 4], [79, 22.76, 3.0, 'Male', 'No', 'Thur', 'Lunch', 2], [80, 17.29, 2.71, 'Male', 'No', 'Thur', 'Lunch', 2], [81, 19.44, 3.0, 'Male', 'Yes', 'Thur', 'Lunch', 2], [82, 16.66, 3.4, 'Male', 'No', 'Thur', 'Lunch', 2], [83, 10.07, 1.83, 'Female', 'No', 'Thur', 'Lunch', 1], [84, 32.68, 5.0, 'Male', 'Yes', 'Thur', 'Lunch', 2], [85, 15.98, 2.03, 'Male', 'No', 'Thur', 'Lunch', 2], [86, 34.83, 5.17, 'Female', 'No', 'Thur', 'Lunch', 4], [87, 13.03, 2.0, 'Male', 'No', 'Thur', 'Lunch', 2], [88, 18.28, 4.0, 'Male', 'No', 'Thur', 'Lunch', 2], [89, 24.71, 5.85, 'Male', 'No', 'Thur', 'Lunch', 2], [90, 21.16, 3.0, 'Male', 'No', 'Thur', 'Lunch', 2], [91, 28.97, 3.0, 'Male', 'Yes', 'Fri', 'Dinner', 2], [92, 22.49, 3.5, 'Male', 'No', 'Fri', 'Dinner', 2], [93, 5.75, 1.0, 'Female', 'Yes', 'Fri', 'Dinner', 2], [94, 16.32, 4.3, 'Female', 'Yes', 'Fri', 'Dinner', 2], [95, 22.75, 3.25, 'Female', 'No', 'Fri', 'Dinner', 2], [96, 40.17, 4.73, 'Male', 'Yes', 'Fri', 'Dinner', 4], [97, 27.28, 4.0, 'Male', 'Yes', 'Fri', 'Dinner', 2], [98, 12.03, 1.5, 'Male', 'Yes', 'Fri', 'Dinner', 2], [99, 21.01, 3.0, 'Male', 'Yes', 'Fri', 'Dinner', 2], [100, 12.46, 1.5, 'Male', 'No', 'Fri', 'Dinner', 2], [101, 11.35, 2.5, 'Female', 'Yes', 'Fri', 'Dinner', 2], [102, 15.38, 3.0, 'Female', 'Yes', 'Fri', 'Dinner', 2], [103, 44.3, 2.5, 'Female', 'Yes', 'Sat', 'Dinner', 3], [104, 22.42, 3.48, 'Female', 'Yes', 'Sat', 'Dinner', 2], [105, 20.92, 4.08, 'Female', 'No', 'Sat', 'Dinner', 2], [106, 15.36, 1.64, 'Male', 'Yes', 'Sat', 'Dinner', 2], [107, 20.49, 4.06, 'Male', 'Yes', 'Sat', 'Dinner', 2], [108, 25.21, 4.29, 'Male', 'Yes', 'Sat', 'Dinner', 2], [109, 18.24, 3.76, 'Male', 'No', 'Sat', 'Dinner', 2], [110, 14.31, 4.0, 'Female', 'Yes', 'Sat', 'Dinner', 2], [111, 14.0, 3.0, 'Male', 'No', 'Sat', 'Dinner', 2], [112, 7.25, 1.0, 'Female', 'No', 'Sat', 'Dinner', 1], [113, 38.07, 4.0, 'Male', 'No', 'Sun', 'Dinner', 3], [114, 23.95, 2.55, 'Male', 'No', 'Sun', 'Dinner', 2], [115, 25.71, 4.0, 'Female', 'No', 'Sun', 'Dinner', 3], [116, 17.31, 3.5, 'Female', 'No', 'Sun', 'Dinner', 2], [117, 29.93, 5.07, 'Male', 'No', 'Sun', 'Dinner', 4], [118, 10.65, 1.5, 'Female', 'No', 'Thur', 'Lunch', 2], [119, 12.43, 1.8, 'Female', 'No', 'Thur', 'Lunch', 2], [120, 24.08, 2.92, 'Female', 'No', 'Thur', 'Lunch', 4], [121, 11.69, 2.31, 'Male', 'No', 'Thur', 'Lunch', 2], [122, 13.42, 1.68, 'Female', 'No', 'Thur', 'Lunch', 2], [123, 14.26, 2.5, 'Male', 'No', 'Thur', 'Lunch', 2], [124, 15.95, 2.0, 'Male', 'No', 'Thur', 'Lunch', 2], [125, 12.48, 2.52, 'Female', 'No', 'Thur', 'Lunch', 2], [126, 29.8, 4.2, 'Female', 'No', 'Thur', 'Lunch', 6], [127, 8.52, 1.48, 'Male', 'No', 'Thur', 'Lunch', 2], [128, 14.52, 2.0, 'Female', 'No', 'Thur', 'Lunch', 2], [129, 11.38, 2.0, 'Female', 'No', 'Thur', 'Lunch', 2], [130, 22.82, 2.18, 'Male', 'No', 'Thur', 'Lunch', 3], [131, 19.08, 1.5, 'Male', 'No', 'Thur', 'Lunch', 2], [132, 20.27, 2.83, 'Female', 'No', 'Thur', 'Lunch', 2], [133, 11.17, 1.5, 'Female', 'No', 'Thur', 'Lunch', 2], [134, 12.26, 2.0, 'Female', 'No', 'Thur', 'Lunch', 2], [135, 18.26, 3.25, 'Female', 'No', 'Thur', 'Lunch', 2], [136, 8.51, 1.25, 'Female', 'No', 'Thur', 'Lunch', 2], [137, 10.33, 2.0, 'Female', 'No', 'Thur', 'Lunch', 2], [138, 14.15, 2.0, 'Female', 'No', 'Thur', 'Lunch', 2], [139, 16.0, 2.0, 'Male', 'Yes', 'Thur', 'Lunch', 2], [140, 13.16, 2.75, 'Female', 'No', 'Thur', 'Lunch', 2], [141, 17.47, 3.5, 'Female', 'No', 'Thur', 'Lunch', 2], [142, 34.3, 6.7, 'Male', 'No', 'Thur', 'Lunch', 6], [143, 41.19, 5.0, 'Male', 'No', 'Thur', 'Lunch', 5], [144, 27.05, 5.0, 'Female', 'No', 'Thur', 'Lunch', 6], [145, 16.43, 2.3, 'Female', 'No', 'Thur', 'Lunch', 2], [146, 8.35, 1.5, 'Female', 'No', 'Thur', 'Lunch', 2], [147, 18.64, 1.36, 'Female', 'No', 'Thur', 'Lunch', 3], [148, 11.87, 1.63, 'Female', 'No', 'Thur', 'Lunch', 2], [149, 9.78, 1.73, 'Male', 'No', 'Thur', 'Lunch', 2], [150, 7.51, 2.0, 'Male', 'No', 'Thur', 'Lunch', 2], [151, 14.07, 2.5, 'Male', 'No', 'Sun', 'Dinner', 2], [152, 13.13, 2.0, 'Male', 'No', 'Sun', 'Dinner', 2], [153, 17.26, 2.74, 'Male', 'No', 'Sun', 'Dinner', 3], [154, 24.55, 2.0, 'Male', 'No', 'Sun', 'Dinner', 4], [155, 19.77, 2.0, 'Male', 'No', 'Sun', 'Dinner', 4], [156, 29.85, 5.14, 'Female', 'No', 'Sun', 'Dinner', 5], [157, 48.17, 5.0, 'Male', 'No', 'Sun', 'Dinner', 6], [158, 25.0, 3.75, 'Female', 'No', 'Sun', 'Dinner', 4], [159, 13.39, 2.61, 'Female', 'No', 'Sun', 'Dinner', 2], [160, 16.49, 2.0, 'Male', 'No', 'Sun', 'Dinner', 4], [161, 21.5, 3.5, 'Male', 'No', 'Sun', 'Dinner', 4], [162, 12.66, 2.5, 'Male', 'No', 'Sun', 'Dinner', 2], [163, 16.21, 2.0, 'Female', 'No', 'Sun', 'Dinner', 3], [164, 13.81, 2.0, 'Male', 'No', 'Sun', 'Dinner', 2], [165, 17.51, 3.0, 'Female', 'Yes', 'Sun', 'Dinner', 2], [166, 24.52, 3.48, 'Male', 'No', 'Sun', 'Dinner', 3], [167, 20.76, 2.24, 'Male', 'No', 'Sun', 'Dinner', 2], [168, 31.71, 4.5, 'Male', 'No', 'Sun', 'Dinner', 4], [169, 10.59, 1.61, 'Female', 'Yes', 'Sat', 'Dinner', 2], [170, 10.63, 2.0, 'Female', 'Yes', 'Sat', 'Dinner', 2], [171, 50.81, 10.0, 'Male', 'Yes', 'Sat', 'Dinner', 3], [172, 15.81, 3.16, 'Male', 'Yes', 'Sat', 'Dinner', 2], [173, 7.25, 5.15, 'Male', 'Yes', 'Sun', 'Dinner', 2], [174, 31.85, 3.18, 'Male', 'Yes', 'Sun', 'Dinner', 2], [175, 16.82, 4.0, 'Male', 'Yes', 'Sun', 'Dinner', 2], [176, 32.9, 3.11, 'Male', 'Yes', 'Sun', 'Dinner', 2], [177, 17.89, 2.0, 'Male', 'Yes', 'Sun', 'Dinner', 2], [178, 14.48, 2.0, 'Male', 'Yes', 'Sun', 'Dinner', 2], [179, 9.6, 4.0, 'Female', 'Yes', 'Sun', 'Dinner', 2], [180, 34.63, 3.55, 'Male', 'Yes', 'Sun', 'Dinner', 2], [181, 34.65, 3.68, 'Male', 'Yes', 'Sun', 'Dinner', 4], [182, 23.33, 5.65, 'Male', 'Yes', 'Sun', 'Dinner', 2], [183, 45.35, 3.5, 'Male', 'Yes', 'Sun', 'Dinner', 3], [184, 23.17, 6.5, 'Male', 'Yes', 'Sun', 'Dinner', 4], [185, 40.55, 3.0, 'Male', 'Yes', 'Sun', 'Dinner', 2], [186, 20.69, 5.0, 'Male', 'No', 'Sun', 'Dinner', 5], [187, 20.9, 3.5, 'Female', 'Yes', 'Sun', 'Dinner', 3], [188, 30.46, 2.0, 'Male', 'Yes', 'Sun', 'Dinner', 5], [189, 18.15, 3.5, 'Female', 'Yes', 'Sun', 'Dinner', 3], [190, 23.1, 4.0, 'Male', 'Yes', 'Sun', 'Dinner', 3], [191, 15.69, 1.5, 'Male', 'Yes', 'Sun', 'Dinner', 2], [192, 19.81, 4.19, 'Female', 'Yes', 'Thur', 'Lunch', 2], [193, 28.44, 2.56, 'Male', 'Yes', 'Thur', 'Lunch', 2], [194, 15.48, 2.02, 'Male', 'Yes', 'Thur', 'Lunch', 2], [195, 16.58, 4.0, 'Male', 'Yes', 'Thur', 'Lunch', 2], [196, 7.56, 1.44, 'Male', 'No', 'Thur', 'Lunch', 2], [197, 10.34, 2.0, 'Male', 'Yes', 'Thur', 'Lunch', 2], [198, 43.11, 5.0, 'Female', 'Yes', 'Thur', 'Lunch', 4], [199, 13.0, 2.0, 'Female', 'Yes', 'Thur', 'Lunch', 2], [200, 13.51, 2.0, 'Male', 'Yes', 'Thur', 'Lunch', 2], [201, 18.71, 4.0, 'Male', 'Yes', 'Thur', 'Lunch', 3], [202, 12.74, 2.01, 'Female', 'Yes', 'Thur', 'Lunch', 2], [203, 13.0, 2.0, 'Female', 'Yes', 'Thur', 'Lunch', 2], [204, 16.4, 2.5, 'Female', 'Yes', 'Thur', 'Lunch', 2], [205, 20.53, 4.0, 'Male', 'Yes', 'Thur', 'Lunch', 4], [206, 16.47, 3.23, 'Female', 'Yes', 'Thur', 'Lunch', 3], [207, 26.59, 3.41, 'Male', 'Yes', 'Sat', 'Dinner', 3], [208, 38.73, 3.0, 'Male', 'Yes', 'Sat', 'Dinner', 4], [209, 24.27, 2.03, 'Male', 'Yes', 'Sat', 'Dinner', 2], [210, 12.76, 2.23, 'Female', 'Yes', 'Sat', 'Dinner', 2], [211, 30.06, 2.0, 'Male', 'Yes', 'Sat', 'Dinner', 3], [212, 25.89, 5.16, 'Male', 'Yes', 'Sat', 'Dinner', 4], [213, 48.33, 9.0, 'Male', 'No', 'Sat', 'Dinner', 4], [214, 13.27, 2.5, 'Female', 'Yes', 'Sat', 'Dinner', 2], [215, 28.17, 6.5, 'Female', 'Yes', 'Sat', 'Dinner', 3], [216, 12.9, 1.1, 'Female', 'Yes', 'Sat', 'Dinner', 2], [217, 28.15, 3.0, 'Male', 'Yes', 'Sat', 'Dinner', 5], [218, 11.59, 1.5, 'Male', 'Yes', 'Sat', 'Dinner', 2], [219, 7.74, 1.44, 'Male', 'Yes', 'Sat', 'Dinner', 2], [220, 30.14, 3.09, 'Female', 'Yes', 'Sat', 'Dinner', 4], [221, 12.16, 2.2, 'Male', 'Yes', 'Fri', 'Lunch', 2], [222, 13.42, 3.48, 'Female', 'Yes', 'Fri', 'Lunch', 2], [223, 8.58, 1.92, 'Male', 'Yes', 'Fri', 'Lunch', 1], [224, 15.98, 3.0, 'Female', 'No', 'Fri', 'Lunch', 3], [225, 13.42, 1.58, 'Male', 'Yes', 'Fri', 'Lunch', 2], [226, 16.27, 2.5, 'Female', 'Yes', 'Fri', 'Lunch', 2], [227, 10.09, 2.0, 'Female', 'Yes', 'Fri', 'Lunch', 2], [228, 20.45, 3.0, 'Male', 'No', 'Sat', 'Dinner', 4], [229, 13.28, 2.72, 'Male', 'No', 'Sat', 'Dinner', 2], [230, 22.12, 2.88, 'Female', 'Yes', 'Sat', 'Dinner', 2], [231, 24.01, 2.0, 'Male', 'Yes', 'Sat', 'Dinner', 4], [232, 15.69, 3.0, 'Male', 'Yes', 'Sat', 'Dinner', 3], [233, 11.61, 3.39, 'Male', 'No', 'Sat', 'Dinner', 2], [234, 10.77, 1.47, 'Male', 'No', 'Sat', 'Dinner', 2], [235, 15.53, 3.0, 'Male', 'Yes', 'Sat', 'Dinner', 2], [236, 10.07, 1.25, 'Male', 'No', 'Sat', 'Dinner', 2], [237, 12.6, 1.0, 'Male', 'Yes', 'Sat', 'Dinner', 2], [238, 32.83, 1.17, 'Male', 'Yes', 'Sat', 'Dinner', 2], [239, 35.83, 4.67, 'Female', 'No', 'Sat', 'Dinner', 3], [240, 29.03, 5.92, 'Male', 'No', 'Sat', 'Dinner', 3], [241, 27.18, 2.0, 'Female', 'Yes', 'Sat', 'Dinner', 2], [242, 22.67, 2.0, 'Male', 'Yes', 'Sat', 'Dinner', 2], [243, 17.82, 1.75, 'Male', 'No', 'Sat', 'Dinner', 2], [244, 18.78, 3.0, 'Female', 'No', 'Thur', 'Dinner', 2]], options={'rows': ['sex', 'smoker'], 'cols': ['day', 'time'], 'vals': ['tip', 'total_bill'], 'aggregatorName': 'Sum over Sum', 'rendererName': 'Table Barchart'})"
      ]
     },
     "metadata": {},
     "output_type": "display_data"
    }
   ],
   "source": [
    "p2"
   ]
  },
  {
   "cell_type": "markdown",
   "metadata": {},
   "source": [
    "## Demo Pivot UI -- Complex example"
   ]
  },
  {
   "cell_type": "code",
   "execution_count": 18,
   "metadata": {},
   "outputs": [
    {
     "name": "stdout",
     "output_type": "stream",
     "text": [
      "change counter\n",
      "change options\n",
      "change counter\n",
      "change options\n",
      "change counter\n",
      "change options\n",
      "change counter\n",
      "change options\n",
      "change counter\n",
      "change options\n",
      "change counter\n",
      "change options\n",
      "change counter\n",
      "change options\n",
      "change counter\n",
      "change options\n",
      "change counter\n",
      "change options\n"
     ]
    },
    {
     "data": {
      "application/vnd.jupyter.widget-view+json": {
       "model_id": "ce629305e2c3479eac06c343c785caa8",
       "version_major": 2,
       "version_minor": 0
      },
      "text/html": [
       "<p>Failed to display Jupyter Widget of type <code>PivotUI</code>.</p>\n",
       "<p>\n",
       "  If you're reading this message in the Jupyter Notebook or JupyterLab Notebook, it may mean\n",
       "  that the widgets JavaScript is still loading. If this message persists, it\n",
       "  likely means that the widgets JavaScript library is either not installed or\n",
       "  not enabled. See the <a href=\"https://ipywidgets.readthedocs.io/en/stable/user_install.html\">Jupyter\n",
       "  Widgets Documentation</a> for setup instructions.\n",
       "</p>\n",
       "<p>\n",
       "  If you're reading this message in another frontend (for example, a static\n",
       "  rendering on GitHub or <a href=\"https://nbviewer.jupyter.org/\">NBViewer</a>),\n",
       "  it may mean that your frontend doesn't currently support widgets.\n",
       "</p>\n"
      ],
      "text/plain": [
       "PivotUI(data=[['Date', 'Max Temp (C)', 'Min Temp (C)', 'Mean Temp (C)', 'Total Rain (mm)', 'Total Snow (cm)'], ['2014-01-01', -16.5, -24.6, -20.6, 0.0, 0.0], ['2014-01-02', -22.6, -27.3, -25.0, 0.0, 1.4], ['2014-01-03', -19.2, -24.3, -21.8, 0.0, 0.0], ['2014-01-04', -8.6, -23.3, -16.0, 0.0, 0.0], ['2014-01-05', 0.3, -12.6, -6.2, 12.2, 1.8], ['2014-01-06', 7.1, -11.1, -2.0, 14.3, 0.4], ['2014-01-07', -11.1, -16.6, -13.9, 0.0, 0.2], ['2014-01-08', -8.7, -14.7, -11.7, 0.0, 0.0], ['2014-01-09', -7.8, -12.3, -10.1, 0.0, 0.0], ['2014-01-10', -4.5, -14.2, -9.4, 0.0, 0.0], ['2014-01-11', 7.3, -6.4, 0.5, 6.2, 0.0], ['2014-01-12', 4.5, 0.3, 2.4, 0.0, 0.0], ['2014-01-13', 5.1, -0.9, 2.1, 0.0, 0.0], ['2014-01-14', 4.2, -1.3, 1.5, 5.4, 0.0], ['2014-01-15', 1.9, -4.1, -1.1, 0.2, 0.0], ['2014-01-16', -0.5, -5.1, -2.8, 0.0, 0.0], ['2014-01-17', 0.6, -5.2, -2.3, 0.0, 0.6], ['2014-01-18', 2.4, -7.0, -2.3, 0.0, 0.2], ['2014-01-19', -2.2, -6.4, -4.3, 0.0, 1.4], ['2014-01-20', -6.4, -20.7, -13.6, 0.0, 1.6], ['2014-01-21', -19.1, -23.8, -21.5, 0.0, 0.0], ['2014-01-22', -17.6, -25.4, -21.5, 0.0, 0.0], ['2014-01-23', -17.5, -23.2, -20.4, 0.0, 0.0], ['2014-01-24', -9.7, -23.8, -16.8, 0.0, 0.0], ['2014-01-25', -5.3, -15.5, -10.4, 0.0, 2.0], ['2014-01-26', -13.8, -21.5, -17.7, 0.0, 0.4], ['2014-01-27', -6.4, -17.9, -12.2, 0.0, 5.6], ['2014-01-28', -10.8, -19.9, -15.4, 0.0, 0.0], ['2014-01-29', -9.6, -14.2, -11.9, 0.0, 0.0], ['2014-01-30', -4.4, -12.7, -8.6, 0.0, 0.0], ['2014-01-31', 1.3, -7.1, -2.9, 0.0, 0.0], ['2014-02-01', -1.3, -10.9, -6.1, 0.0, 12.0], ['2014-02-02', -1.1, -7.9, -4.5, 0.0, 4.6], ['2014-02-03', -6.9, -15.3, -11.1, 0.0, 0.0], ['2014-02-04', -6.1, -16.8, -11.5, 0.0, 0.0], ['2014-02-05', -7.9, -15.6, -11.8, 0.0, 5.4], ['2014-02-06', -9.3, -20.0, -14.7, 0.0, 0.4], ['2014-02-07', -7.6, -12.9, -10.3, 0.0, 0.0], ['2014-02-08', -5.7, -12.3, -9.0, 0.0, 0.0], ['2014-02-09', -7.1, -12.5, -9.8, 0.0, 1.4], ['2014-02-10', -6.8, -16.1, -11.5, 0.0, 0.4], ['2014-02-11', -11.1, -19.6, -15.4, 0.0, 0.0], ['2014-02-12', -9.8, -23.1, -16.5, 0.0, 0.0], ['2014-02-13', -6.1, -18.4, -12.3, 0.0, 2.0], ['2014-02-14', -2.2, -6.1, -4.2, 0.0, 12.4], ['2014-02-15', -5.6, -11.8, -8.7, 0.0, 0.0], ['2014-02-16', -9.5, -15.8, -12.7, 0.0, 0.0], ['2014-02-17', -9.9, -17.4, -13.7, 0.0, 0.0], ['2014-02-18', -3.4, -15.6, -9.5, 0.0, 2.4], ['2014-02-19', 1.5, -5.4, -2.0, 0.0, 0.0], ['2014-02-20', 2.8, -4.9, -1.1, 0.0, 0.0], ['2014-02-21', 4.2, -0.6, 1.8, 19.2, 0.0], ['2014-02-22', 6.1, -1.8, 2.2, 0.0, 0.0], ['2014-02-23', 1.7, -4.3, -1.3, 0.0, 0.0], ['2014-02-24', -4.3, -10.6, -7.5, 0.0, 0.2], ['2014-02-25', -9.0, -12.9, -11.0, 0.0, 0.0], ['2014-02-26', -9.7, -14.8, -12.3, 0.0, 1.6], ['2014-02-27', -6.9, -14.8, -10.9, 0.0, 0.4], ['2014-02-28', -12.1, -18.2, -15.2, 0.0, 0.0], ['2014-03-01', -3.4, -14.2, -8.8, 0.0, 2.0], ['2014-03-02', -5.5, -16.6, -11.1, 0.0, 0.6], ['2014-03-03', -13.0, -18.1, -15.6, 0.0, 0.0], ['2014-03-04', -11.0, -18.5, -14.8, 0.0, 1.4], ['2014-03-05', -9.0, -17.6, -13.3, 0.0, 0.0], ['2014-03-06', -6.9, -19.4, -13.2, 0.0, 0.0], ['2014-03-07', 0.2, -17.8, -8.8, 0.0, 0.0], ['2014-03-08', 3.3, -6.2, -1.5, 0.0, 0.8], ['2014-03-09', -3.8, -12.6, -8.2, 0.0, 3.0], ['2014-03-10', 0.7, -5.4, -2.4, 0.0, 4.0], ['2014-03-11', 5.2, 0.2, 2.7, 0.0, 0.0], ['2014-03-12', 1.7, -11.9, -5.1, 0.0, 16.6], ['2014-03-13', -6.7, -15.6, -11.2, 0.0, 2.4], ['2014-03-14', 2.1, -16.7, -7.3, 0.0, 0.0], ['2014-03-15', 4.6, -8.4, -1.9, 0.2, 0.2], ['2014-03-16', -8.4, -14.1, -11.3, 0.0, 0.0], ['2014-03-17', -6.8, -16.8, -11.8, 0.0, 0.0], ['2014-03-18', -2.1, -13.8, -8.0, 0.0, 0.0], ['2014-03-19', 3.2, -9.0, -2.9, 1.4, 0.4], ['2014-03-20', 2.9, -0.3, 1.3, 2.4, 0.2], ['2014-03-21', 2.5, -3.0, -0.3, 0.0, 0.2], ['2014-03-22', 0.6, -3.8, -1.6, 0.0, 9.6], ['2014-03-23', 0.0, -13.6, -6.8, 0.0, 0.0], ['2014-03-24', -4.7, -16.5, -10.6, 0.0, 0.0], ['2014-03-25', -0.6, -11.7, -6.2, 0.0, 0.0], ['2014-03-26', -2.4, -10.4, -6.4, 0.0, 0.0], ['2014-03-27', -1.6, -13.1, -7.4, 0.0, 0.2], ['2014-03-28', 4.1, -2.7, 0.7, 9.2, 4.2], ['2014-03-29', 3.2, 0.5, 1.9, 0.0, 0.0], ['2014-03-30', 0.5, -1.4, -0.5, 0.0, 15.2], ['2014-03-31', 6.2, -1.8, 2.2, 0.0, 0.0], ['2014-04-01', 5.0, -3.5, 0.8, 0.0, 0.0], ['2014-04-02', 5.0, 1.2, 3.1, 0.0, 0.0], ['2014-04-03', 2.9, -2.2, 0.4, 0.0, 0.0], ['2014-04-04', 7.0, -3.4, 1.8, 16.8, 0.0], ['2014-04-05', 4.7, 0.4, 2.6, 1.2, 0.0], ['2014-04-06', 7.1, -1.2, 3.0, 0.0, 0.0], ['2014-04-07', 13.0, -0.1, 6.5, 6.4, 0.0], ['2014-04-08', 5.2, 2.6, 3.9, 22.6, 0.0], ['2014-04-09', 4.8, -0.9, 2.0, 0.0, 0.0], ['2014-04-10', 16.2, -1.6, 7.3, 4.0, 0.0], ['2014-04-11', 11.8, 2.9, 7.4, 0.0, 0.0], ['2014-04-12', 14.3, 1.5, 7.9, 0.0, 0.0], ['2014-04-13', 11.7, 2.6, 7.2, 8.2, 0.0], ['2014-04-14', 24.5, 2.2, 13.4, 9.0, 0.0], ['2014-04-15', 16.2, -5.1, 5.6, 8.6, 0.4], ['2014-04-16', 0.6, -7.3, -3.4, 0.0, 0.0], ['2014-04-17', 7.7, -2.9, 2.4, 0.0, 0.0], ['2014-04-18', 10.8, 1.7, 6.3, 0.0, 0.0], ['2014-04-19', 10.6, 0.9, 5.8, 0.4, 0.0], ['2014-04-20', 14.1, -2.6, 5.8, 0.0, 0.0], ['2014-04-21', 19.2, 7.4, 13.3, 1.2, 0.0], ['2014-04-22', 12.7, 7.0, 9.9, 10.4, 0.0], ['2014-04-23', 11.8, 3.6, 7.7, 0.0, 0.0], ['2014-04-24', 13.2, 1.4, 7.3, 0.0, 0.0], ['2014-04-25', 11.9, -0.3, 5.8, 0.0, 0.0], ['2014-04-26', 8.4, 2.8, 5.6, 11.4, 0.0], ['2014-04-27', 10.4, 2.3, 6.4, 2.0, 0.0], ['2014-04-28', 12.3, 1.8, 7.1, 0.0, 0.0], ['2014-04-29', 16.5, 5.7, 11.1, 2.8, 0.0], ['2014-04-30', 10.6, 5.1, 7.9, 30.8, 0.0], ['2014-05-01', 16.1, 6.1, 11.1, 8.2, 0.0], ['2014-05-02', 13.0, 8.1, 10.6, 0.6, 0.0], ['2014-05-03', 16.3, 7.9, 12.1, 0.8, 0.0], ['2014-05-04', 12.0, 7.3, 9.7, 19.4, 0.0], ['2014-05-05', 13.4, 6.3, 9.9, 0.0, 0.0], ['2014-05-06', 15.0, 4.2, 9.6, 0.0, 0.0], ['2014-05-07', 15.8, 3.2, 9.5, 0.0, 0.0], ['2014-05-08', 16.8, 5.2, 11.0, 0.0, 0.0], ['2014-05-09', 20.8, 8.8, 14.8, 4.2, 0.0], ['2014-05-10', 23.8, 11.9, 17.9, 4.4, 0.0], ['2014-05-11', 21.9, 11.4, 16.7, 0.0, 0.0], ['2014-05-12', 22.4, 9.1, 15.8, 0.0, 0.0], ['2014-05-13', 18.4, 8.3, 13.4, 1.4, 0.0], ['2014-05-14', 24.9, 13.6, 19.3, 0.0, 0.0], ['2014-05-15', 28.2, 17.5, 22.9, 0.0, 0.0], ['2014-05-16', 22.2, 10.3, 16.3, 29.8, 0.0], ['2014-05-17', 15.4, 8.3, 11.9, 10.8, 0.0], ['2014-05-18', 16.6, 6.3, 11.5, 0.0, 0.0], ['2014-05-19', 20.2, 9.2, 14.7, 0.0, 0.0], ['2014-05-20', 22.8, 8.7, 15.8, 0.0, 0.0], ['2014-05-21', 23.8, 10.4, 17.1, 0.0, 0.0], ['2014-05-22', 19.0, 12.9, 16.0, 1.0, 0.0], ['2014-05-23', 20.8, 10.8, 15.8, 0.0, 0.0], ['2014-05-24', 21.4, 11.4, 16.4, 0.0, 0.0], ['2014-05-25', 25.2, 9.4, 17.3, 4.6, 0.0], ['2014-05-26', 22.8, 16.3, 19.6, 3.6, 0.0], ['2014-05-27', 16.9, 8.6, 12.8, 4.2, 0.0], ['2014-05-28', 16.1, 8.1, 12.1, 0.6, 0.0], ['2014-05-29', 20.5, 6.1, 13.3, 0.0, 0.0], ['2014-05-30', 22.6, 12.0, 17.3, 2.0, 0.0], ['2014-05-31', 20.2, 9.1, 14.7, 0.0, 0.0], ['2014-06-01', 25.2, 9.7, 17.5, 0.0, 0.0], ['2014-06-02', 30.4, 15.7, 23.1, 0.0, 0.0], ['2014-06-03', 28.1, 19.1, 23.6, 22.0, 0.0], ['2014-06-04', 21.3, 14.0, 17.7, 0.2, 0.0], ['2014-06-05', 17.0, 13.4, 15.2, 0.6, 0.0], ['2014-06-06', 23.0, 12.9, 18.0, 0.0, 0.0], ['2014-06-07', 27.5, 13.3, 20.4, 0.0, 0.0], ['2014-06-08', 28.0, 14.6, 21.3, 0.0, 0.0], ['2014-06-09', 27.9, 19.2, 23.6, 0.0, 0.0], ['2014-06-10', 24.6, 15.8, 20.2, 0.4, 0.0], ['2014-06-11', 24.1, 13.1, 18.6, 10.4, 0.0], ['2014-06-12', 17.9, 12.9, 15.4, 26.2, 0.0], ['2014-06-13', 19.9, 16.8, 18.4, 41.4, 0.0], ['2014-06-14', 19.8, 14.6, 17.2, 1.4, 0.0], ['2014-06-15', 23.6, 13.6, 18.6, 0.0, 0.0], ['2014-06-16', 24.8, 11.4, 18.1, 0.0, 0.0], ['2014-06-17', 27.2, 14.0, 20.6, 23.4, 0.0], ['2014-06-18', 25.7, 16.6, 21.2, 2.0, 0.0], ['2014-06-19', 24.6, 14.6, 19.6, 0.0, 0.0], ['2014-06-20', 21.7, 12.1, 16.9, 0.0, 0.0], ['2014-06-21', 22.1, 10.4, 16.3, 0.0, 0.0], ['2014-06-22', 23.8, 11.5, 17.7, 0.0, 0.0], ['2014-06-23', 26.8, 13.4, 20.1, 0.0, 0.0], ['2014-06-24', 21.9, 19.2, 20.6, 40.0, 0.0], ['2014-06-25', 24.0, 18.2, 21.1, 0.2, 0.0], ['2014-06-26', 26.3, 17.0, 21.7, 0.0, 0.0], ['2014-06-27', 28.4, 15.0, 21.7, 0.0, 0.0], ['2014-06-28', 29.2, 16.3, 22.8, 0.0, 0.0], ['2014-06-29', 30.7, 19.1, 24.9, 0.0, 0.0], ['2014-06-30', 29.7, 22.8, 26.3, 0.0, 0.0], ['2014-07-01', 33.2, 21.6, 27.4, 0.0, 0.0], ['2014-07-02', 29.8, 21.2, 25.5, 0.0, 0.0], ['2014-07-03', 24.4, 18.9, 21.7, 0.6, 0.0], ['2014-07-04', 23.4, 16.0, 19.7, 3.2, 0.0], ['2014-07-05', 27.7, 14.5, 21.1, 0.0, 0.0], ['2014-07-06', 27.7, 18.7, 23.2, 0.0, 0.0], ['2014-07-07', 23.4, 19.5, 21.5, 10.0, 0.0], ['2014-07-08', 30.6, 19.0, 24.8, 7.0, 0.0], ['2014-07-09', 23.5, 17.7, 20.6, 0.0, 0.0], ['2014-07-10', 23.1, 14.3, 18.7, 0.0, 0.0], ['2014-07-11', 25.4, 13.4, 19.4, 0.0, 0.0], ['2014-07-12', 27.4, 16.0, 21.7, 0.0, 0.0], ['2014-07-13', 23.9, 19.6, 21.8, 11.0, 0.0], ['2014-07-14', 24.1, 17.6, 20.9, 0.0, 0.0], ['2014-07-15', 21.9, 17.6, 19.8, 2.8, 0.0], ['2014-07-16', 24.8, 16.6, 20.7, 0.0, 0.0], ['2014-07-17', 23.4, 14.0, 18.7, 0.2, 0.0], ['2014-07-18', 26.2, 14.0, 20.1, 0.0, 0.0], ['2014-07-19', 27.5, 16.5, 22.0, 0.0, 0.0], ['2014-07-20', 28.0, 18.9, 23.5, 0.0, 0.0], ['2014-07-21', 29.4, 20.8, 25.1, 0.0, 0.0], ['2014-07-22', 29.7, 20.5, 25.1, 0.0, 0.0], ['2014-07-23', 26.4, 17.7, 22.1, 11.4, 0.0], ['2014-07-24', 22.9, 13.8, 18.4, 0.0, 0.0], ['2014-07-25', 25.8, 14.7, 20.3, 0.0, 0.0], ['2014-07-26', 26.0, 15.9, 21.0, 0.2, 0.0], ['2014-07-27', 25.0, 18.0, 21.5, 10.2, 0.0], ['2014-07-28', 18.5, 14.2, 16.4, 9.8, 0.0], ['2014-07-29', 21.3, 12.0, 16.7, 0.0, 0.0], ['2014-07-30', 24.0, 13.8, 18.9, 0.8, 0.0], ['2014-07-31', 21.8, 14.3, 18.1, 12.8, 0.0], ['2014-08-01', 26.1, 14.8, 20.5, 0.0, 0.0], ['2014-08-02', 27.8, 16.1, 22.0, 0.0, 0.0], ['2014-08-03', 28.0, 16.6, 22.3, 0.0, 0.0], ['2014-08-04', 27.7, 18.3, 23.0, 0.6, 0.0], ['2014-08-05', 25.4, 17.7, 21.6, 1.6, 0.0], ['2014-08-06', 25.6, 14.9, 20.3, 0.0, 0.0], ['2014-08-07', 23.1, 15.9, 19.5, 6.2, 0.0], ['2014-08-08', 27.0, 14.0, 20.5, 0.0, 0.0], ['2014-08-09', 28.7, 15.4, 22.1, 0.0, 0.0], ['2014-08-10', 28.6, 16.6, 22.6, 0.0, 0.0], ['2014-08-11', 29.7, 17.8, 23.8, 0.0, 0.0], ['2014-08-12', 27.9, 19.1, 23.5, 2.2, 0.0], ['2014-08-13', 21.1, 16.0, 18.6, 44.4, 0.0], ['2014-08-14', 17.6, 12.0, 14.8, 0.0, 0.0], ['2014-08-15', 17.5, 12.2, 14.9, 5.2, 0.0], ['2014-08-16', 18.5, 14.6, 16.6, 13.2, 0.0], ['2014-08-17', 22.8, 14.6, 18.7, 0.0, 0.0], ['2014-08-18', 22.2, 11.7, 17.0, 0.0, 0.0], ['2014-08-19', 23.5, 10.6, 17.1, 0.0, 0.0], ['2014-08-20', 27.3, 12.8, 20.1, 0.0, 0.0], ['2014-08-21', 23.1, 17.9, 20.5, 0.0, 0.0], ['2014-08-22', 23.8, 17.3, 20.6, 0.0, 0.0], ['2014-08-23', 26.0, 14.7, 20.4, 0.0, 0.0], ['2014-08-24', 27.7, 14.5, 21.1, 0.0, 0.0], ['2014-08-25', 28.9, 17.6, 23.3, 0.0, 0.0], ['2014-08-26', 28.6, 17.0, 22.8, 0.4, 0.0], ['2014-08-27', 25.6, 18.4, 22.0, 0.0, 0.0], ['2014-08-28', 21.9, 14.2, 18.1, 0.0, 0.0], ['2014-08-29', 22.6, 11.4, 17.0, 0.0, 0.0], ['2014-08-30', 27.3, 16.7, 22.0, 0.2, 0.0], ['2014-08-31', 25.3, 19.8, 22.6, 11.2, 0.0], ['2014-09-01', 25.9, 18.7, 22.3, 0.0, 0.0], ['2014-09-02', 28.6, 18.3, 23.5, 4.4, 0.0], ['2014-09-03', 25.5, 18.0, 21.8, 0.0, 0.0], ['2014-09-04', 27.7, 16.3, 22.0, 0.4, 0.0], ['2014-09-05', 30.8, 20.1, 25.5, 3.0, 0.0], ['2014-09-06', 23.2, 10.6, 16.9, 5.0, 0.0], ['2014-09-07', 22.1, 10.6, 16.4, 0.0, 0.0], ['2014-09-08', 24.7, 11.4, 18.1, 0.0, 0.0], ['2014-09-09', 23.1, 14.3, 18.7, 0.0, 0.0], ['2014-09-10', 24.8, 14.6, 19.7, 0.0, 0.0], ['2014-09-11', 25.1, 10.1, 17.6, 7.2, 0.0], ['2014-09-12', 14.1, 6.1, 10.1, 0.0, 0.0], ['2014-09-13', 12.6, 5.9, 9.3, 19.0, 0.0], ['2014-09-14', 10.9, 4.6, 7.8, 0.0, 0.0], ['2014-09-15', 18.3, 4.8, 11.6, 0.2, 0.0], ['2014-09-16', 18.6, 9.3, 14.0, 0.4, 0.0], ['2014-09-17', 17.2, 8.0, 12.6, 2.6, 0.0], ['2014-09-18', 12.4, 3.4, 7.9, 0.2, 0.0], ['2014-09-19', 13.0, 1.2, 7.1, 0.0, 0.0], ['2014-09-20', 19.8, 9.2, 14.5, 0.2, 0.0], ['2014-09-21', 23.2, 14.0, 18.6, 6.2, 0.0], ['2014-09-22', 14.0, 6.9, 10.5, 0.0, 0.0], ['2014-09-23', 17.2, 7.3, 12.3, 1.2, 0.0], ['2014-09-24', 21.8, 6.7, 14.3, 0.0, 0.0], ['2014-09-25', 22.8, 10.8, 16.8, 0.0, 0.0], ['2014-09-26', 25.5, 11.9, 18.7, 0.0, 0.0], ['2014-09-27', 25.5, 12.8, 19.2, 0.0, 0.0], ['2014-09-28', 24.8, 14.8, 19.8, 0.0, 0.0], ['2014-09-29', 18.0, 8.7, 13.4, 0.0, 0.0], ['2014-09-30', 17.3, 9.3, 13.3, 0.0, 0.0], ['2014-10-01', 16.6, 10.4, 13.5, 0.0, 0.0], ['2014-10-02', 20.3, 8.7, 14.5, 0.0, 0.0], ['2014-10-03', 23.1, 8.8, 16.0, 0.0, 0.0], ['2014-10-04', 16.6, 9.8, 13.2, 23.6, 0.0], ['2014-10-05', 13.7, 7.9, 10.8, 0.0, 0.0], ['2014-10-06', 16.3, 8.0, 12.2, 0.4, 0.0], ['2014-10-07', 18.2, 11.9, 15.1, 4.0, 0.0], ['2014-10-08', 17.5, 8.7, 13.1, 19.8, 0.0], ['2014-10-09', 12.5, 5.2, 8.9, 0.8, 0.0], ['2014-10-10', 11.8, 4.6, 8.2, 0.0, 0.0], ['2014-10-11', 13.1, 2.6, 7.9, 0.0, 0.0], ['2014-10-12', 13.2, 2.6, 7.9, 0.0, 0.0], ['2014-10-13', 17.8, 2.2, 10.0, 0.0, 0.0], ['2014-10-14', 24.8, 13.7, 19.3, 0.0, 0.0], ['2014-10-15', 23.6, 18.2, 20.9, 6.4, 0.0], ['2014-10-16', 21.7, 14.6, 18.2, 7.6, 0.0], ['2014-10-17', 18.4, 14.3, 16.4, 0.4, 0.0], ['2014-10-18', 16.9, 5.9, 11.4, 1.4, 0.0], ['2014-10-19', 7.5, 3.0, 5.3, 0.0, 0.0], ['2014-10-20', 6.8, 1.8, 4.3, 1.2, 0.0], ['2014-10-21', 7.4, 5.6, 6.5, 3.0, 0.0], ['2014-10-22', 12.6, 6.0, 9.3, 0.0, 0.0], ['2014-10-23', 8.6, 6.9, 7.8, 5.8, 0.0], ['2014-10-24', 11.5, 4.9, 8.2, 1.0, 0.0], ['2014-10-25', 13.1, 5.2, 9.2, 3.8, 0.0], ['2014-10-26', 10.9, 7.2, 9.1, 0.8, 0.0], ['2014-10-27', 11.2, 5.7, 8.5, 0.2, 0.0], ['2014-10-28', 13.7, 7.0, 10.4, 6.2, 0.0], ['2014-10-29', 14.2, 8.5, 11.4, 0.6, 0.0], ['2014-10-30', 10.0, 2.8, 6.4, 0.0, 0.0], ['2014-10-31', 7.2, 1.5, 4.4, 0.0, 0.0], ['2014-11-01', 6.9, 1.9, 4.4, 0.0, 0.0], ['2014-11-02', 7.6, -0.3, 3.7, 0.0, 0.0], ['2014-11-03', 6.3, -1.0, 2.7, 0.0, 0.0], ['2014-11-04', 11.7, 4.3, 8.0, 2.4, 0.0], ['2014-11-05', 12.2, 5.7, 9.0, 2.0, 0.0], ['2014-11-06', 8.3, 2.6, 5.5, 3.0, 0.0], ['2014-11-07', 4.8, -0.2, 2.3, 1.8, 0.0], ['2014-11-08', 4.4, -1.4, 1.5, 0.2, 0.0], ['2014-11-09', 6.5, 2.7, 4.6, 0.0, 0.0], ['2014-11-10', 7.1, 3.5, 5.3, 0.0, 0.0], ['2014-11-11', 12.5, 0.2, 6.4, 0.0, 0.0], ['2014-11-12', 8.4, 1.6, 5.0, 3.8, 0.0], ['2014-11-13', 4.7, -0.8, 2.0, 0.0, 0.0], ['2014-11-14', 2.1, -4.0, -1.0, 0.0, 0.0], ['2014-11-15', 1.6, -4.9, -1.7, 0.0, 0.0], ['2014-11-16', 3.3, -0.6, 1.4, 0.0, 0.8], ['2014-11-17', 1.5, -0.6, 0.5, 0.0, 12.6], ['2014-11-18', 1.5, -4.7, -1.6, 0.0, 2.0], ['2014-11-19', -2.0, -7.7, -4.9, 0.0, 0.6], ['2014-11-20', -0.1, -5.1, -2.6, 0.0, 0.4], ['2014-11-21', -4.6, -8.2, -6.4, 0.0, 0.0], ['2014-11-22', 3.0, -7.9, -2.5, 3.4, 0.4], ['2014-11-23', 7.9, 2.8, 5.4, 0.0, 0.0], ['2014-11-24', 18.0, 6.8, 12.4, 16.0, 0.0], ['2014-11-25', 7.8, 2.0, 4.9, 0.0, 0.0], ['2014-11-26', 2.5, -0.9, 0.8, 0.0, 0.0], ['2014-11-27', -0.1, -3.8, -2.0, 0.0, 0.0], ['2014-11-28', -2.8, -8.2, -5.5, 0.0, 0.4], ['2014-11-29', -0.8, -8.3, -4.6, 0.0, 0.0], ['2014-11-30', 6.8, -0.9, 3.0, 0.6, 0.0], ['2014-12-01', 6.2, -8.7, -1.3, 0.2, 0.0], ['2014-12-02', -3.2, -14.9, -9.1, 0.0, 6.2], ['2014-12-03', 3.3, -3.2, 0.1, 5.4, 0.6], ['2014-12-04', 0.1, -11.3, -5.6, 0.0, 0.0], ['2014-12-05', -4.6, -13.1, -8.9, 0.0, 2.2], ['2014-12-06', -1.1, -6.0, -3.6, 0.0, 0.6], ['2014-12-07', -4.9, -12.9, -8.9, 0.0, 0.0], ['2014-12-08', -2.3, -13.9, -8.1, 0.0, 0.0], ['2014-12-09', 0.2, -4.8, -2.3, 0.0, 6.8], ['2014-12-10', 0.2, -0.8, -0.3, 0.0, 20.0], ['2014-12-11', 0.4, -3.2, -1.4, 0.2, 4.8], ['2014-12-12', -1.7, -4.2, -3.0, 0.0, 2.0], ['2014-12-13', -1.6, -5.9, -3.8, 0.0, 0.0], ['2014-12-14', -0.9, -4.8, -2.9, 0.0, 0.0], ['2014-12-15', -0.1, -1.9, -1.0, 0.0, 0.0], ['2014-12-16', 0.6, -1.4, -0.4, 0.0, 0.0], ['2014-12-17', 0.6, -0.2, 0.2, 2.0, 0.2], ['2014-12-18', 0.4, -2.4, -1.0, 0.0, 2.0], ['2014-12-19', -2.4, -11.5, -7.0, 0.0, 0.0], ['2014-12-20', -7.7, -15.6, -11.7, 0.0, 0.0], ['2014-12-21', -7.2, -10.3, -8.8, 0.0, 0.2], ['2014-12-22', -5.5, -8.6, -7.1, 0.0, 0.0], ['2014-12-23', 3.1, -5.8, -1.4, 2.6, 3.0], ['2014-12-24', 6.2, 2.3, 4.3, 32.0, 0.0], ['2014-12-25', 7.8, 3.5, 5.7, 1.0, 0.0], ['2014-12-26', 4.5, 1.4, 3.0, 0.0, 0.0], ['2014-12-27', 7.4, 0.9, 4.2, 0.2, 0.0], ['2014-12-28', 8.3, -3.3, 2.5, 0.8, 0.0], ['2014-12-29', -0.7, -11.1, -5.9, 0.0, 0.0], ['2014-12-30', -10.6, -14.5, -12.6, 0.0, 0.0], ['2014-12-31', -6.3, -14.9, -10.6, 0.0, 0.0]], options={'hiddenAttributes': ['Date', 'Max Temp (C)', 'Mean Temp (C)', 'Min Temp (C)', 'Total Rain (mm)', 'Total Snow (cm)'], 'derivedAttributes': {'month name': \"$.pivotUtilities.derivers.dateFormat('Date', '%n', true)\", 'day name': \"$.pivotUtilities.derivers.dateFormat('Date', '%w', true)\"}, 'rows': ['day name'], 'cols': ['month name'], 'sorters': {'month name': \"$.pivotUtilities.sortAs(['Jan', 'Feb', 'Mar', 'Apr', 'May', 'Jun', \\n                               'Jul', 'Aug', 'Sep', 'Oct', 'Nov', 'Dec'])\", 'day name': \"$.pivotUtilities.sortAs(['Mon', 'Tue', 'Wed', 'Thu', 'Fri', 'Sat', 'Sun'])\"}, 'aggregators': {'Mean Temperature': \"function () { return $.pivotUtilities.aggregatorTemplates.average($.pivotUtilities.numberFormat({ suffix: ' °C' }))(['Mean Temp (C)']) }\", 'Max Temperature': \"function () { return $.pivotUtilities.aggregatorTemplates.max($.pivotUtilities.numberFormat({ suffix: ' °C' }))(['Max Temp (C)']) }\", 'Min Temperature': \"function () { return $.pivotUtilities.aggregatorTemplates.min($.pivotUtilities.numberFormat({ suffix: ' °C' }))(['Min Temp (C)']) }\"}, 'renderers': '$.extend($.pivotUtilities.renderers, $.pivotUtilities.c3_renderers, $.pivotUtilities.export_renderers)', 'rendererName': 'Heatmap', 'rendererOptions': {'heatmap': {'colorScaleGenerator': \"function (values) {\\n            return d3.scale.linear()\\n                .domain([-35, 0, 35])\\n                .range(['#77F', '#FFF', '#F77'])\\n        }\"}}})"
      ]
     },
     "metadata": {},
     "output_type": "display_data"
    }
   ],
   "source": [
    "df = pt.samples.df_weather\n",
    "\n",
    "p2 = pt.PivotUI(df_data=df)\n",
    "opts = p2.options_object\n",
    "\n",
    "putil = '$.pivotUtilities'\n",
    "dic = {\n",
    "    'dateFormat': putil+'.derivers.dateFormat',\n",
    "    'sortAs': putil+'.sortAs',\n",
    "    'tpl': putil+'.aggregatorTemplates',\n",
    "    'numberFormat': putil+\".numberFormat({ suffix: ' °C' })\"    \n",
    "}\n",
    "dic['putil'] = putil\n",
    "\n",
    "opts.hiddenAttributes = ['Date', 'Max Temp (C)', 'Mean Temp (C)',\n",
    "                        'Min Temp (C)', 'Total Rain (mm)', 'Total Snow (cm)']\n",
    "\n",
    "opts.derivedAttributes = {\n",
    "    'month name': \"{dateFormat}('Date', '%n', true)\".format(**dic),\n",
    "    'day name': \"{dateFormat}('Date', '%w', true)\".format(**dic)\n",
    "}\n",
    "\n",
    "opts.rows = ['day name']\n",
    "opts.cols = ['month name']\n",
    "opts.sorters = {\n",
    "    'month name': \"\"\"{sortAs}(['Jan', 'Feb', 'Mar', 'Apr', 'May', 'Jun', \n",
    "                               'Jul', 'Aug', 'Sep', 'Oct', 'Nov', 'Dec'])\"\"\".format(**dic),\n",
    "    'day name': \"{sortAs}(['Mon', 'Tue', 'Wed', 'Thu', 'Fri', 'Sat', 'Sun'])\".format(**dic)\n",
    "}\n",
    "opts.aggregators = {\n",
    "    'Mean Temperature': \"function () {{ return {tpl}.average({numberFormat})(['Mean Temp (C)']) }}\".format(**dic),\n",
    "    'Max Temperature': \"function () {{ return {tpl}.max({numberFormat})(['Max Temp (C)']) }}\".format(**dic),\n",
    "    'Min Temperature': \"function () {{ return {tpl}.min({numberFormat})(['Min Temp (C)']) }}\".format(**dic)\n",
    "}\n",
    "opts.renderers = '$.extend({putil}.renderers, {putil}.c3_renderers, {putil}.export_renderers)'.format(**dic)\n",
    "opts.rendererName = 'Heatmap'\n",
    "opts.rendererOptions = {\n",
    "    'heatmap': {\n",
    "        'colorScaleGenerator': \"\"\"function (values) {\n",
    "            return d3.scale.linear()\n",
    "                .domain([-35, 0, 35])\n",
    "                .range(['#77F', '#FFF', '#F77'])\n",
    "        }\"\"\"\n",
    "    }\n",
    "}\n",
    "\n",
    "dd = opts.to_dict()\n",
    "dd\n",
    "\n",
    "\n",
    "p2"
   ]
  },
  {
   "cell_type": "code",
   "execution_count": 19,
   "metadata": {},
   "outputs": [
    {
     "data": {
      "text/plain": [
       "{'aggregators': {'Max Temperature': \"function () { return $.pivotUtilities.aggregatorTemplates.max($.pivotUtilities.numberFormat({ suffix: ' °C' }))(['Max Temp (C)']) }\",\n",
       "  'Mean Temperature': \"function () { return $.pivotUtilities.aggregatorTemplates.average($.pivotUtilities.numberFormat({ suffix: ' °C' }))(['Mean Temp (C)']) }\",\n",
       "  'Min Temperature': \"function () { return $.pivotUtilities.aggregatorTemplates.min($.pivotUtilities.numberFormat({ suffix: ' °C' }))(['Min Temp (C)']) }\"},\n",
       " 'cols': ['month name'],\n",
       " 'derivedAttributes': {'day name': \"$.pivotUtilities.derivers.dateFormat('Date', '%w', true)\",\n",
       "  'month name': \"$.pivotUtilities.derivers.dateFormat('Date', '%n', true)\"},\n",
       " 'hiddenAttributes': ['Date',\n",
       "  'Max Temp (C)',\n",
       "  'Mean Temp (C)',\n",
       "  'Min Temp (C)',\n",
       "  'Total Rain (mm)',\n",
       "  'Total Snow (cm)'],\n",
       " 'rendererName': 'Heatmap',\n",
       " 'rendererOptions': {'heatmap': {'colorScaleGenerator': \"function (values) {\\n            return d3.scale.linear()\\n                .domain([-35, 0, 35])\\n                .range(['#77F', '#FFF', '#F77'])\\n        }\"}},\n",
       " 'renderers': '$.extend($.pivotUtilities.renderers, $.pivotUtilities.c3_renderers, $.pivotUtilities.export_renderers)',\n",
       " 'rows': ['day name'],\n",
       " 'sorters': {'day name': \"$.pivotUtilities.sortAs(['Mon', 'Tue', 'Wed', 'Thu', 'Fri', 'Sat', 'Sun'])\",\n",
       "  'month name': \"$.pivotUtilities.sortAs(['Jan', 'Feb', 'Mar', 'Apr', 'May', 'Jun', \\n                               'Jul', 'Aug', 'Sep', 'Oct', 'Nov', 'Dec'])\"}}"
      ]
     },
     "execution_count": 19,
     "metadata": {},
     "output_type": "execute_result"
    }
   ],
   "source": [
    "p2.options"
   ]
  },
  {
   "cell_type": "code",
   "execution_count": 20,
   "metadata": {},
   "outputs": [
    {
     "name": "stdout",
     "output_type": "stream",
     "text": [
      "change counter\n",
      "change options\n"
     ]
    }
   ],
   "source": [
    "p2.options_object.aggregatorName = 'Max Temperature'"
   ]
  },
  {
   "cell_type": "code",
   "execution_count": 21,
   "metadata": {},
   "outputs": [
    {
     "name": "stdout",
     "output_type": "stream",
     "text": [
      "change counter\n",
      "change options\n"
     ]
    }
   ],
   "source": [
    "p2.options_object.aggregators = {\n",
    "    'Mean Temperature': \"function () {{ return {tpl}.average({numberFormat})(['Mean Temp (C)']) }}\".format(**dic),\n",
    "    'Max Temperature': \"function () {{ return {tpl}.max({numberFormat})(['Max Temp (C)']) }}\".format(**dic)\n",
    "}"
   ]
  },
  {
   "cell_type": "code",
   "execution_count": 22,
   "metadata": {},
   "outputs": [
    {
     "name": "stdout",
     "output_type": "stream",
     "text": [
      "change counter\n",
      "change options\n"
     ]
    }
   ],
   "source": [
    "p2.options_object.aggregatorName = 'Mean Temperature'"
   ]
  },
  {
   "cell_type": "code",
   "execution_count": 23,
   "metadata": {},
   "outputs": [
    {
     "name": "stdout",
     "output_type": "stream",
     "text": [
      "change counter\n",
      "change options\n"
     ]
    }
   ],
   "source": [
    "p2.options_object.rendererOptions = {\n",
    "    'heatmap': {\n",
    "        'colorScaleGenerator': \"\"\"function (values) {\n",
    "            return d3.scale.linear()\n",
    "                .domain([-350, 0, 35])\n",
    "                .range(['#77F', '#FFF', '#F77'])\n",
    "        }\"\"\"\n",
    "    }\n",
    "}"
   ]
  },
  {
   "cell_type": "code",
   "execution_count": 24,
   "metadata": {},
   "outputs": [
    {
     "data": {
      "application/vnd.jupyter.widget-view+json": {
       "model_id": "ce629305e2c3479eac06c343c785caa8",
       "version_major": 2,
       "version_minor": 0
      },
      "text/html": [
       "<p>Failed to display Jupyter Widget of type <code>PivotUI</code>.</p>\n",
       "<p>\n",
       "  If you're reading this message in the Jupyter Notebook or JupyterLab Notebook, it may mean\n",
       "  that the widgets JavaScript is still loading. If this message persists, it\n",
       "  likely means that the widgets JavaScript library is either not installed or\n",
       "  not enabled. See the <a href=\"https://ipywidgets.readthedocs.io/en/stable/user_install.html\">Jupyter\n",
       "  Widgets Documentation</a> for setup instructions.\n",
       "</p>\n",
       "<p>\n",
       "  If you're reading this message in another frontend (for example, a static\n",
       "  rendering on GitHub or <a href=\"https://nbviewer.jupyter.org/\">NBViewer</a>),\n",
       "  it may mean that your frontend doesn't currently support widgets.\n",
       "</p>\n"
      ],
      "text/plain": [
       "PivotUI(data=[['Date', 'Max Temp (C)', 'Min Temp (C)', 'Mean Temp (C)', 'Total Rain (mm)', 'Total Snow (cm)'], ['2014-01-01', -16.5, -24.6, -20.6, 0.0, 0.0], ['2014-01-02', -22.6, -27.3, -25.0, 0.0, 1.4], ['2014-01-03', -19.2, -24.3, -21.8, 0.0, 0.0], ['2014-01-04', -8.6, -23.3, -16.0, 0.0, 0.0], ['2014-01-05', 0.3, -12.6, -6.2, 12.2, 1.8], ['2014-01-06', 7.1, -11.1, -2.0, 14.3, 0.4], ['2014-01-07', -11.1, -16.6, -13.9, 0.0, 0.2], ['2014-01-08', -8.7, -14.7, -11.7, 0.0, 0.0], ['2014-01-09', -7.8, -12.3, -10.1, 0.0, 0.0], ['2014-01-10', -4.5, -14.2, -9.4, 0.0, 0.0], ['2014-01-11', 7.3, -6.4, 0.5, 6.2, 0.0], ['2014-01-12', 4.5, 0.3, 2.4, 0.0, 0.0], ['2014-01-13', 5.1, -0.9, 2.1, 0.0, 0.0], ['2014-01-14', 4.2, -1.3, 1.5, 5.4, 0.0], ['2014-01-15', 1.9, -4.1, -1.1, 0.2, 0.0], ['2014-01-16', -0.5, -5.1, -2.8, 0.0, 0.0], ['2014-01-17', 0.6, -5.2, -2.3, 0.0, 0.6], ['2014-01-18', 2.4, -7.0, -2.3, 0.0, 0.2], ['2014-01-19', -2.2, -6.4, -4.3, 0.0, 1.4], ['2014-01-20', -6.4, -20.7, -13.6, 0.0, 1.6], ['2014-01-21', -19.1, -23.8, -21.5, 0.0, 0.0], ['2014-01-22', -17.6, -25.4, -21.5, 0.0, 0.0], ['2014-01-23', -17.5, -23.2, -20.4, 0.0, 0.0], ['2014-01-24', -9.7, -23.8, -16.8, 0.0, 0.0], ['2014-01-25', -5.3, -15.5, -10.4, 0.0, 2.0], ['2014-01-26', -13.8, -21.5, -17.7, 0.0, 0.4], ['2014-01-27', -6.4, -17.9, -12.2, 0.0, 5.6], ['2014-01-28', -10.8, -19.9, -15.4, 0.0, 0.0], ['2014-01-29', -9.6, -14.2, -11.9, 0.0, 0.0], ['2014-01-30', -4.4, -12.7, -8.6, 0.0, 0.0], ['2014-01-31', 1.3, -7.1, -2.9, 0.0, 0.0], ['2014-02-01', -1.3, -10.9, -6.1, 0.0, 12.0], ['2014-02-02', -1.1, -7.9, -4.5, 0.0, 4.6], ['2014-02-03', -6.9, -15.3, -11.1, 0.0, 0.0], ['2014-02-04', -6.1, -16.8, -11.5, 0.0, 0.0], ['2014-02-05', -7.9, -15.6, -11.8, 0.0, 5.4], ['2014-02-06', -9.3, -20.0, -14.7, 0.0, 0.4], ['2014-02-07', -7.6, -12.9, -10.3, 0.0, 0.0], ['2014-02-08', -5.7, -12.3, -9.0, 0.0, 0.0], ['2014-02-09', -7.1, -12.5, -9.8, 0.0, 1.4], ['2014-02-10', -6.8, -16.1, -11.5, 0.0, 0.4], ['2014-02-11', -11.1, -19.6, -15.4, 0.0, 0.0], ['2014-02-12', -9.8, -23.1, -16.5, 0.0, 0.0], ['2014-02-13', -6.1, -18.4, -12.3, 0.0, 2.0], ['2014-02-14', -2.2, -6.1, -4.2, 0.0, 12.4], ['2014-02-15', -5.6, -11.8, -8.7, 0.0, 0.0], ['2014-02-16', -9.5, -15.8, -12.7, 0.0, 0.0], ['2014-02-17', -9.9, -17.4, -13.7, 0.0, 0.0], ['2014-02-18', -3.4, -15.6, -9.5, 0.0, 2.4], ['2014-02-19', 1.5, -5.4, -2.0, 0.0, 0.0], ['2014-02-20', 2.8, -4.9, -1.1, 0.0, 0.0], ['2014-02-21', 4.2, -0.6, 1.8, 19.2, 0.0], ['2014-02-22', 6.1, -1.8, 2.2, 0.0, 0.0], ['2014-02-23', 1.7, -4.3, -1.3, 0.0, 0.0], ['2014-02-24', -4.3, -10.6, -7.5, 0.0, 0.2], ['2014-02-25', -9.0, -12.9, -11.0, 0.0, 0.0], ['2014-02-26', -9.7, -14.8, -12.3, 0.0, 1.6], ['2014-02-27', -6.9, -14.8, -10.9, 0.0, 0.4], ['2014-02-28', -12.1, -18.2, -15.2, 0.0, 0.0], ['2014-03-01', -3.4, -14.2, -8.8, 0.0, 2.0], ['2014-03-02', -5.5, -16.6, -11.1, 0.0, 0.6], ['2014-03-03', -13.0, -18.1, -15.6, 0.0, 0.0], ['2014-03-04', -11.0, -18.5, -14.8, 0.0, 1.4], ['2014-03-05', -9.0, -17.6, -13.3, 0.0, 0.0], ['2014-03-06', -6.9, -19.4, -13.2, 0.0, 0.0], ['2014-03-07', 0.2, -17.8, -8.8, 0.0, 0.0], ['2014-03-08', 3.3, -6.2, -1.5, 0.0, 0.8], ['2014-03-09', -3.8, -12.6, -8.2, 0.0, 3.0], ['2014-03-10', 0.7, -5.4, -2.4, 0.0, 4.0], ['2014-03-11', 5.2, 0.2, 2.7, 0.0, 0.0], ['2014-03-12', 1.7, -11.9, -5.1, 0.0, 16.6], ['2014-03-13', -6.7, -15.6, -11.2, 0.0, 2.4], ['2014-03-14', 2.1, -16.7, -7.3, 0.0, 0.0], ['2014-03-15', 4.6, -8.4, -1.9, 0.2, 0.2], ['2014-03-16', -8.4, -14.1, -11.3, 0.0, 0.0], ['2014-03-17', -6.8, -16.8, -11.8, 0.0, 0.0], ['2014-03-18', -2.1, -13.8, -8.0, 0.0, 0.0], ['2014-03-19', 3.2, -9.0, -2.9, 1.4, 0.4], ['2014-03-20', 2.9, -0.3, 1.3, 2.4, 0.2], ['2014-03-21', 2.5, -3.0, -0.3, 0.0, 0.2], ['2014-03-22', 0.6, -3.8, -1.6, 0.0, 9.6], ['2014-03-23', 0.0, -13.6, -6.8, 0.0, 0.0], ['2014-03-24', -4.7, -16.5, -10.6, 0.0, 0.0], ['2014-03-25', -0.6, -11.7, -6.2, 0.0, 0.0], ['2014-03-26', -2.4, -10.4, -6.4, 0.0, 0.0], ['2014-03-27', -1.6, -13.1, -7.4, 0.0, 0.2], ['2014-03-28', 4.1, -2.7, 0.7, 9.2, 4.2], ['2014-03-29', 3.2, 0.5, 1.9, 0.0, 0.0], ['2014-03-30', 0.5, -1.4, -0.5, 0.0, 15.2], ['2014-03-31', 6.2, -1.8, 2.2, 0.0, 0.0], ['2014-04-01', 5.0, -3.5, 0.8, 0.0, 0.0], ['2014-04-02', 5.0, 1.2, 3.1, 0.0, 0.0], ['2014-04-03', 2.9, -2.2, 0.4, 0.0, 0.0], ['2014-04-04', 7.0, -3.4, 1.8, 16.8, 0.0], ['2014-04-05', 4.7, 0.4, 2.6, 1.2, 0.0], ['2014-04-06', 7.1, -1.2, 3.0, 0.0, 0.0], ['2014-04-07', 13.0, -0.1, 6.5, 6.4, 0.0], ['2014-04-08', 5.2, 2.6, 3.9, 22.6, 0.0], ['2014-04-09', 4.8, -0.9, 2.0, 0.0, 0.0], ['2014-04-10', 16.2, -1.6, 7.3, 4.0, 0.0], ['2014-04-11', 11.8, 2.9, 7.4, 0.0, 0.0], ['2014-04-12', 14.3, 1.5, 7.9, 0.0, 0.0], ['2014-04-13', 11.7, 2.6, 7.2, 8.2, 0.0], ['2014-04-14', 24.5, 2.2, 13.4, 9.0, 0.0], ['2014-04-15', 16.2, -5.1, 5.6, 8.6, 0.4], ['2014-04-16', 0.6, -7.3, -3.4, 0.0, 0.0], ['2014-04-17', 7.7, -2.9, 2.4, 0.0, 0.0], ['2014-04-18', 10.8, 1.7, 6.3, 0.0, 0.0], ['2014-04-19', 10.6, 0.9, 5.8, 0.4, 0.0], ['2014-04-20', 14.1, -2.6, 5.8, 0.0, 0.0], ['2014-04-21', 19.2, 7.4, 13.3, 1.2, 0.0], ['2014-04-22', 12.7, 7.0, 9.9, 10.4, 0.0], ['2014-04-23', 11.8, 3.6, 7.7, 0.0, 0.0], ['2014-04-24', 13.2, 1.4, 7.3, 0.0, 0.0], ['2014-04-25', 11.9, -0.3, 5.8, 0.0, 0.0], ['2014-04-26', 8.4, 2.8, 5.6, 11.4, 0.0], ['2014-04-27', 10.4, 2.3, 6.4, 2.0, 0.0], ['2014-04-28', 12.3, 1.8, 7.1, 0.0, 0.0], ['2014-04-29', 16.5, 5.7, 11.1, 2.8, 0.0], ['2014-04-30', 10.6, 5.1, 7.9, 30.8, 0.0], ['2014-05-01', 16.1, 6.1, 11.1, 8.2, 0.0], ['2014-05-02', 13.0, 8.1, 10.6, 0.6, 0.0], ['2014-05-03', 16.3, 7.9, 12.1, 0.8, 0.0], ['2014-05-04', 12.0, 7.3, 9.7, 19.4, 0.0], ['2014-05-05', 13.4, 6.3, 9.9, 0.0, 0.0], ['2014-05-06', 15.0, 4.2, 9.6, 0.0, 0.0], ['2014-05-07', 15.8, 3.2, 9.5, 0.0, 0.0], ['2014-05-08', 16.8, 5.2, 11.0, 0.0, 0.0], ['2014-05-09', 20.8, 8.8, 14.8, 4.2, 0.0], ['2014-05-10', 23.8, 11.9, 17.9, 4.4, 0.0], ['2014-05-11', 21.9, 11.4, 16.7, 0.0, 0.0], ['2014-05-12', 22.4, 9.1, 15.8, 0.0, 0.0], ['2014-05-13', 18.4, 8.3, 13.4, 1.4, 0.0], ['2014-05-14', 24.9, 13.6, 19.3, 0.0, 0.0], ['2014-05-15', 28.2, 17.5, 22.9, 0.0, 0.0], ['2014-05-16', 22.2, 10.3, 16.3, 29.8, 0.0], ['2014-05-17', 15.4, 8.3, 11.9, 10.8, 0.0], ['2014-05-18', 16.6, 6.3, 11.5, 0.0, 0.0], ['2014-05-19', 20.2, 9.2, 14.7, 0.0, 0.0], ['2014-05-20', 22.8, 8.7, 15.8, 0.0, 0.0], ['2014-05-21', 23.8, 10.4, 17.1, 0.0, 0.0], ['2014-05-22', 19.0, 12.9, 16.0, 1.0, 0.0], ['2014-05-23', 20.8, 10.8, 15.8, 0.0, 0.0], ['2014-05-24', 21.4, 11.4, 16.4, 0.0, 0.0], ['2014-05-25', 25.2, 9.4, 17.3, 4.6, 0.0], ['2014-05-26', 22.8, 16.3, 19.6, 3.6, 0.0], ['2014-05-27', 16.9, 8.6, 12.8, 4.2, 0.0], ['2014-05-28', 16.1, 8.1, 12.1, 0.6, 0.0], ['2014-05-29', 20.5, 6.1, 13.3, 0.0, 0.0], ['2014-05-30', 22.6, 12.0, 17.3, 2.0, 0.0], ['2014-05-31', 20.2, 9.1, 14.7, 0.0, 0.0], ['2014-06-01', 25.2, 9.7, 17.5, 0.0, 0.0], ['2014-06-02', 30.4, 15.7, 23.1, 0.0, 0.0], ['2014-06-03', 28.1, 19.1, 23.6, 22.0, 0.0], ['2014-06-04', 21.3, 14.0, 17.7, 0.2, 0.0], ['2014-06-05', 17.0, 13.4, 15.2, 0.6, 0.0], ['2014-06-06', 23.0, 12.9, 18.0, 0.0, 0.0], ['2014-06-07', 27.5, 13.3, 20.4, 0.0, 0.0], ['2014-06-08', 28.0, 14.6, 21.3, 0.0, 0.0], ['2014-06-09', 27.9, 19.2, 23.6, 0.0, 0.0], ['2014-06-10', 24.6, 15.8, 20.2, 0.4, 0.0], ['2014-06-11', 24.1, 13.1, 18.6, 10.4, 0.0], ['2014-06-12', 17.9, 12.9, 15.4, 26.2, 0.0], ['2014-06-13', 19.9, 16.8, 18.4, 41.4, 0.0], ['2014-06-14', 19.8, 14.6, 17.2, 1.4, 0.0], ['2014-06-15', 23.6, 13.6, 18.6, 0.0, 0.0], ['2014-06-16', 24.8, 11.4, 18.1, 0.0, 0.0], ['2014-06-17', 27.2, 14.0, 20.6, 23.4, 0.0], ['2014-06-18', 25.7, 16.6, 21.2, 2.0, 0.0], ['2014-06-19', 24.6, 14.6, 19.6, 0.0, 0.0], ['2014-06-20', 21.7, 12.1, 16.9, 0.0, 0.0], ['2014-06-21', 22.1, 10.4, 16.3, 0.0, 0.0], ['2014-06-22', 23.8, 11.5, 17.7, 0.0, 0.0], ['2014-06-23', 26.8, 13.4, 20.1, 0.0, 0.0], ['2014-06-24', 21.9, 19.2, 20.6, 40.0, 0.0], ['2014-06-25', 24.0, 18.2, 21.1, 0.2, 0.0], ['2014-06-26', 26.3, 17.0, 21.7, 0.0, 0.0], ['2014-06-27', 28.4, 15.0, 21.7, 0.0, 0.0], ['2014-06-28', 29.2, 16.3, 22.8, 0.0, 0.0], ['2014-06-29', 30.7, 19.1, 24.9, 0.0, 0.0], ['2014-06-30', 29.7, 22.8, 26.3, 0.0, 0.0], ['2014-07-01', 33.2, 21.6, 27.4, 0.0, 0.0], ['2014-07-02', 29.8, 21.2, 25.5, 0.0, 0.0], ['2014-07-03', 24.4, 18.9, 21.7, 0.6, 0.0], ['2014-07-04', 23.4, 16.0, 19.7, 3.2, 0.0], ['2014-07-05', 27.7, 14.5, 21.1, 0.0, 0.0], ['2014-07-06', 27.7, 18.7, 23.2, 0.0, 0.0], ['2014-07-07', 23.4, 19.5, 21.5, 10.0, 0.0], ['2014-07-08', 30.6, 19.0, 24.8, 7.0, 0.0], ['2014-07-09', 23.5, 17.7, 20.6, 0.0, 0.0], ['2014-07-10', 23.1, 14.3, 18.7, 0.0, 0.0], ['2014-07-11', 25.4, 13.4, 19.4, 0.0, 0.0], ['2014-07-12', 27.4, 16.0, 21.7, 0.0, 0.0], ['2014-07-13', 23.9, 19.6, 21.8, 11.0, 0.0], ['2014-07-14', 24.1, 17.6, 20.9, 0.0, 0.0], ['2014-07-15', 21.9, 17.6, 19.8, 2.8, 0.0], ['2014-07-16', 24.8, 16.6, 20.7, 0.0, 0.0], ['2014-07-17', 23.4, 14.0, 18.7, 0.2, 0.0], ['2014-07-18', 26.2, 14.0, 20.1, 0.0, 0.0], ['2014-07-19', 27.5, 16.5, 22.0, 0.0, 0.0], ['2014-07-20', 28.0, 18.9, 23.5, 0.0, 0.0], ['2014-07-21', 29.4, 20.8, 25.1, 0.0, 0.0], ['2014-07-22', 29.7, 20.5, 25.1, 0.0, 0.0], ['2014-07-23', 26.4, 17.7, 22.1, 11.4, 0.0], ['2014-07-24', 22.9, 13.8, 18.4, 0.0, 0.0], ['2014-07-25', 25.8, 14.7, 20.3, 0.0, 0.0], ['2014-07-26', 26.0, 15.9, 21.0, 0.2, 0.0], ['2014-07-27', 25.0, 18.0, 21.5, 10.2, 0.0], ['2014-07-28', 18.5, 14.2, 16.4, 9.8, 0.0], ['2014-07-29', 21.3, 12.0, 16.7, 0.0, 0.0], ['2014-07-30', 24.0, 13.8, 18.9, 0.8, 0.0], ['2014-07-31', 21.8, 14.3, 18.1, 12.8, 0.0], ['2014-08-01', 26.1, 14.8, 20.5, 0.0, 0.0], ['2014-08-02', 27.8, 16.1, 22.0, 0.0, 0.0], ['2014-08-03', 28.0, 16.6, 22.3, 0.0, 0.0], ['2014-08-04', 27.7, 18.3, 23.0, 0.6, 0.0], ['2014-08-05', 25.4, 17.7, 21.6, 1.6, 0.0], ['2014-08-06', 25.6, 14.9, 20.3, 0.0, 0.0], ['2014-08-07', 23.1, 15.9, 19.5, 6.2, 0.0], ['2014-08-08', 27.0, 14.0, 20.5, 0.0, 0.0], ['2014-08-09', 28.7, 15.4, 22.1, 0.0, 0.0], ['2014-08-10', 28.6, 16.6, 22.6, 0.0, 0.0], ['2014-08-11', 29.7, 17.8, 23.8, 0.0, 0.0], ['2014-08-12', 27.9, 19.1, 23.5, 2.2, 0.0], ['2014-08-13', 21.1, 16.0, 18.6, 44.4, 0.0], ['2014-08-14', 17.6, 12.0, 14.8, 0.0, 0.0], ['2014-08-15', 17.5, 12.2, 14.9, 5.2, 0.0], ['2014-08-16', 18.5, 14.6, 16.6, 13.2, 0.0], ['2014-08-17', 22.8, 14.6, 18.7, 0.0, 0.0], ['2014-08-18', 22.2, 11.7, 17.0, 0.0, 0.0], ['2014-08-19', 23.5, 10.6, 17.1, 0.0, 0.0], ['2014-08-20', 27.3, 12.8, 20.1, 0.0, 0.0], ['2014-08-21', 23.1, 17.9, 20.5, 0.0, 0.0], ['2014-08-22', 23.8, 17.3, 20.6, 0.0, 0.0], ['2014-08-23', 26.0, 14.7, 20.4, 0.0, 0.0], ['2014-08-24', 27.7, 14.5, 21.1, 0.0, 0.0], ['2014-08-25', 28.9, 17.6, 23.3, 0.0, 0.0], ['2014-08-26', 28.6, 17.0, 22.8, 0.4, 0.0], ['2014-08-27', 25.6, 18.4, 22.0, 0.0, 0.0], ['2014-08-28', 21.9, 14.2, 18.1, 0.0, 0.0], ['2014-08-29', 22.6, 11.4, 17.0, 0.0, 0.0], ['2014-08-30', 27.3, 16.7, 22.0, 0.2, 0.0], ['2014-08-31', 25.3, 19.8, 22.6, 11.2, 0.0], ['2014-09-01', 25.9, 18.7, 22.3, 0.0, 0.0], ['2014-09-02', 28.6, 18.3, 23.5, 4.4, 0.0], ['2014-09-03', 25.5, 18.0, 21.8, 0.0, 0.0], ['2014-09-04', 27.7, 16.3, 22.0, 0.4, 0.0], ['2014-09-05', 30.8, 20.1, 25.5, 3.0, 0.0], ['2014-09-06', 23.2, 10.6, 16.9, 5.0, 0.0], ['2014-09-07', 22.1, 10.6, 16.4, 0.0, 0.0], ['2014-09-08', 24.7, 11.4, 18.1, 0.0, 0.0], ['2014-09-09', 23.1, 14.3, 18.7, 0.0, 0.0], ['2014-09-10', 24.8, 14.6, 19.7, 0.0, 0.0], ['2014-09-11', 25.1, 10.1, 17.6, 7.2, 0.0], ['2014-09-12', 14.1, 6.1, 10.1, 0.0, 0.0], ['2014-09-13', 12.6, 5.9, 9.3, 19.0, 0.0], ['2014-09-14', 10.9, 4.6, 7.8, 0.0, 0.0], ['2014-09-15', 18.3, 4.8, 11.6, 0.2, 0.0], ['2014-09-16', 18.6, 9.3, 14.0, 0.4, 0.0], ['2014-09-17', 17.2, 8.0, 12.6, 2.6, 0.0], ['2014-09-18', 12.4, 3.4, 7.9, 0.2, 0.0], ['2014-09-19', 13.0, 1.2, 7.1, 0.0, 0.0], ['2014-09-20', 19.8, 9.2, 14.5, 0.2, 0.0], ['2014-09-21', 23.2, 14.0, 18.6, 6.2, 0.0], ['2014-09-22', 14.0, 6.9, 10.5, 0.0, 0.0], ['2014-09-23', 17.2, 7.3, 12.3, 1.2, 0.0], ['2014-09-24', 21.8, 6.7, 14.3, 0.0, 0.0], ['2014-09-25', 22.8, 10.8, 16.8, 0.0, 0.0], ['2014-09-26', 25.5, 11.9, 18.7, 0.0, 0.0], ['2014-09-27', 25.5, 12.8, 19.2, 0.0, 0.0], ['2014-09-28', 24.8, 14.8, 19.8, 0.0, 0.0], ['2014-09-29', 18.0, 8.7, 13.4, 0.0, 0.0], ['2014-09-30', 17.3, 9.3, 13.3, 0.0, 0.0], ['2014-10-01', 16.6, 10.4, 13.5, 0.0, 0.0], ['2014-10-02', 20.3, 8.7, 14.5, 0.0, 0.0], ['2014-10-03', 23.1, 8.8, 16.0, 0.0, 0.0], ['2014-10-04', 16.6, 9.8, 13.2, 23.6, 0.0], ['2014-10-05', 13.7, 7.9, 10.8, 0.0, 0.0], ['2014-10-06', 16.3, 8.0, 12.2, 0.4, 0.0], ['2014-10-07', 18.2, 11.9, 15.1, 4.0, 0.0], ['2014-10-08', 17.5, 8.7, 13.1, 19.8, 0.0], ['2014-10-09', 12.5, 5.2, 8.9, 0.8, 0.0], ['2014-10-10', 11.8, 4.6, 8.2, 0.0, 0.0], ['2014-10-11', 13.1, 2.6, 7.9, 0.0, 0.0], ['2014-10-12', 13.2, 2.6, 7.9, 0.0, 0.0], ['2014-10-13', 17.8, 2.2, 10.0, 0.0, 0.0], ['2014-10-14', 24.8, 13.7, 19.3, 0.0, 0.0], ['2014-10-15', 23.6, 18.2, 20.9, 6.4, 0.0], ['2014-10-16', 21.7, 14.6, 18.2, 7.6, 0.0], ['2014-10-17', 18.4, 14.3, 16.4, 0.4, 0.0], ['2014-10-18', 16.9, 5.9, 11.4, 1.4, 0.0], ['2014-10-19', 7.5, 3.0, 5.3, 0.0, 0.0], ['2014-10-20', 6.8, 1.8, 4.3, 1.2, 0.0], ['2014-10-21', 7.4, 5.6, 6.5, 3.0, 0.0], ['2014-10-22', 12.6, 6.0, 9.3, 0.0, 0.0], ['2014-10-23', 8.6, 6.9, 7.8, 5.8, 0.0], ['2014-10-24', 11.5, 4.9, 8.2, 1.0, 0.0], ['2014-10-25', 13.1, 5.2, 9.2, 3.8, 0.0], ['2014-10-26', 10.9, 7.2, 9.1, 0.8, 0.0], ['2014-10-27', 11.2, 5.7, 8.5, 0.2, 0.0], ['2014-10-28', 13.7, 7.0, 10.4, 6.2, 0.0], ['2014-10-29', 14.2, 8.5, 11.4, 0.6, 0.0], ['2014-10-30', 10.0, 2.8, 6.4, 0.0, 0.0], ['2014-10-31', 7.2, 1.5, 4.4, 0.0, 0.0], ['2014-11-01', 6.9, 1.9, 4.4, 0.0, 0.0], ['2014-11-02', 7.6, -0.3, 3.7, 0.0, 0.0], ['2014-11-03', 6.3, -1.0, 2.7, 0.0, 0.0], ['2014-11-04', 11.7, 4.3, 8.0, 2.4, 0.0], ['2014-11-05', 12.2, 5.7, 9.0, 2.0, 0.0], ['2014-11-06', 8.3, 2.6, 5.5, 3.0, 0.0], ['2014-11-07', 4.8, -0.2, 2.3, 1.8, 0.0], ['2014-11-08', 4.4, -1.4, 1.5, 0.2, 0.0], ['2014-11-09', 6.5, 2.7, 4.6, 0.0, 0.0], ['2014-11-10', 7.1, 3.5, 5.3, 0.0, 0.0], ['2014-11-11', 12.5, 0.2, 6.4, 0.0, 0.0], ['2014-11-12', 8.4, 1.6, 5.0, 3.8, 0.0], ['2014-11-13', 4.7, -0.8, 2.0, 0.0, 0.0], ['2014-11-14', 2.1, -4.0, -1.0, 0.0, 0.0], ['2014-11-15', 1.6, -4.9, -1.7, 0.0, 0.0], ['2014-11-16', 3.3, -0.6, 1.4, 0.0, 0.8], ['2014-11-17', 1.5, -0.6, 0.5, 0.0, 12.6], ['2014-11-18', 1.5, -4.7, -1.6, 0.0, 2.0], ['2014-11-19', -2.0, -7.7, -4.9, 0.0, 0.6], ['2014-11-20', -0.1, -5.1, -2.6, 0.0, 0.4], ['2014-11-21', -4.6, -8.2, -6.4, 0.0, 0.0], ['2014-11-22', 3.0, -7.9, -2.5, 3.4, 0.4], ['2014-11-23', 7.9, 2.8, 5.4, 0.0, 0.0], ['2014-11-24', 18.0, 6.8, 12.4, 16.0, 0.0], ['2014-11-25', 7.8, 2.0, 4.9, 0.0, 0.0], ['2014-11-26', 2.5, -0.9, 0.8, 0.0, 0.0], ['2014-11-27', -0.1, -3.8, -2.0, 0.0, 0.0], ['2014-11-28', -2.8, -8.2, -5.5, 0.0, 0.4], ['2014-11-29', -0.8, -8.3, -4.6, 0.0, 0.0], ['2014-11-30', 6.8, -0.9, 3.0, 0.6, 0.0], ['2014-12-01', 6.2, -8.7, -1.3, 0.2, 0.0], ['2014-12-02', -3.2, -14.9, -9.1, 0.0, 6.2], ['2014-12-03', 3.3, -3.2, 0.1, 5.4, 0.6], ['2014-12-04', 0.1, -11.3, -5.6, 0.0, 0.0], ['2014-12-05', -4.6, -13.1, -8.9, 0.0, 2.2], ['2014-12-06', -1.1, -6.0, -3.6, 0.0, 0.6], ['2014-12-07', -4.9, -12.9, -8.9, 0.0, 0.0], ['2014-12-08', -2.3, -13.9, -8.1, 0.0, 0.0], ['2014-12-09', 0.2, -4.8, -2.3, 0.0, 6.8], ['2014-12-10', 0.2, -0.8, -0.3, 0.0, 20.0], ['2014-12-11', 0.4, -3.2, -1.4, 0.2, 4.8], ['2014-12-12', -1.7, -4.2, -3.0, 0.0, 2.0], ['2014-12-13', -1.6, -5.9, -3.8, 0.0, 0.0], ['2014-12-14', -0.9, -4.8, -2.9, 0.0, 0.0], ['2014-12-15', -0.1, -1.9, -1.0, 0.0, 0.0], ['2014-12-16', 0.6, -1.4, -0.4, 0.0, 0.0], ['2014-12-17', 0.6, -0.2, 0.2, 2.0, 0.2], ['2014-12-18', 0.4, -2.4, -1.0, 0.0, 2.0], ['2014-12-19', -2.4, -11.5, -7.0, 0.0, 0.0], ['2014-12-20', -7.7, -15.6, -11.7, 0.0, 0.0], ['2014-12-21', -7.2, -10.3, -8.8, 0.0, 0.2], ['2014-12-22', -5.5, -8.6, -7.1, 0.0, 0.0], ['2014-12-23', 3.1, -5.8, -1.4, 2.6, 3.0], ['2014-12-24', 6.2, 2.3, 4.3, 32.0, 0.0], ['2014-12-25', 7.8, 3.5, 5.7, 1.0, 0.0], ['2014-12-26', 4.5, 1.4, 3.0, 0.0, 0.0], ['2014-12-27', 7.4, 0.9, 4.2, 0.2, 0.0], ['2014-12-28', 8.3, -3.3, 2.5, 0.8, 0.0], ['2014-12-29', -0.7, -11.1, -5.9, 0.0, 0.0], ['2014-12-30', -10.6, -14.5, -12.6, 0.0, 0.0], ['2014-12-31', -6.3, -14.9, -10.6, 0.0, 0.0]], options={'hiddenAttributes': ['Date', 'Max Temp (C)', 'Mean Temp (C)', 'Min Temp (C)', 'Total Rain (mm)', 'Total Snow (cm)'], 'derivedAttributes': {'month name': \"$.pivotUtilities.derivers.dateFormat('Date', '%n', true)\", 'day name': \"$.pivotUtilities.derivers.dateFormat('Date', '%w', true)\"}, 'rows': ['day name'], 'cols': ['month name'], 'sorters': {'month name': \"$.pivotUtilities.sortAs(['Jan', 'Feb', 'Mar', 'Apr', 'May', 'Jun', \\n                               'Jul', 'Aug', 'Sep', 'Oct', 'Nov', 'Dec'])\", 'day name': \"$.pivotUtilities.sortAs(['Mon', 'Tue', 'Wed', 'Thu', 'Fri', 'Sat', 'Sun'])\"}, 'aggregators': {'Mean Temperature': \"function () { return $.pivotUtilities.aggregatorTemplates.average($.pivotUtilities.numberFormat({ suffix: ' °C' }))(['Mean Temp (C)']) }\", 'Max Temperature': \"function () { return $.pivotUtilities.aggregatorTemplates.max($.pivotUtilities.numberFormat({ suffix: ' °C' }))(['Max Temp (C)']) }\"}, 'renderers': '$.extend($.pivotUtilities.renderers, $.pivotUtilities.c3_renderers, $.pivotUtilities.export_renderers)', 'rendererName': 'Heatmap', 'rendererOptions': {'heatmap': {'colorScaleGenerator': \"function (values) {\\n            return d3.scale.linear()\\n                .domain([-350, 0, 35])\\n                .range(['#77F', '#FFF', '#F77'])\\n        }\"}}, 'aggregatorName': 'Mean Temperature'})"
      ]
     },
     "metadata": {},
     "output_type": "display_data"
    }
   ],
   "source": [
    "p2"
   ]
  },
  {
   "cell_type": "code",
   "execution_count": 25,
   "metadata": {},
   "outputs": [
    {
     "data": {
      "text/plain": [
       "{'aggregatorName': 'Mean Temperature',\n",
       " 'aggregators': {'Max Temperature': \"function () { return $.pivotUtilities.aggregatorTemplates.max($.pivotUtilities.numberFormat({ suffix: ' °C' }))(['Max Temp (C)']) }\",\n",
       "  'Mean Temperature': \"function () { return $.pivotUtilities.aggregatorTemplates.average($.pivotUtilities.numberFormat({ suffix: ' °C' }))(['Mean Temp (C)']) }\"},\n",
       " 'cols': ['month name'],\n",
       " 'derivedAttributes': {'day name': \"$.pivotUtilities.derivers.dateFormat('Date', '%w', true)\",\n",
       "  'month name': \"$.pivotUtilities.derivers.dateFormat('Date', '%n', true)\"},\n",
       " 'hiddenAttributes': ['Date',\n",
       "  'Max Temp (C)',\n",
       "  'Mean Temp (C)',\n",
       "  'Min Temp (C)',\n",
       "  'Total Rain (mm)',\n",
       "  'Total Snow (cm)'],\n",
       " 'rendererName': 'Heatmap',\n",
       " 'rendererOptions': {'heatmap': {'colorScaleGenerator': \"function (values) {\\n            return d3.scale.linear()\\n                .domain([-350, 0, 35])\\n                .range(['#77F', '#FFF', '#F77'])\\n        }\"}},\n",
       " 'renderers': '$.extend($.pivotUtilities.renderers, $.pivotUtilities.c3_renderers, $.pivotUtilities.export_renderers)',\n",
       " 'rows': ['day name'],\n",
       " 'sorters': {'day name': \"$.pivotUtilities.sortAs(['Mon', 'Tue', 'Wed', 'Thu', 'Fri', 'Sat', 'Sun'])\",\n",
       "  'month name': \"$.pivotUtilities.sortAs(['Jan', 'Feb', 'Mar', 'Apr', 'May', 'Jun', \\n                               'Jul', 'Aug', 'Sep', 'Oct', 'Nov', 'Dec'])\"}}"
      ]
     },
     "execution_count": 25,
     "metadata": {},
     "output_type": "execute_result"
    }
   ],
   "source": [
    "p2.options_object.to_dict()"
   ]
  },
  {
   "cell_type": "code",
   "execution_count": null,
   "metadata": {},
   "outputs": [],
   "source": []
  }
 ],
 "metadata": {
  "kernelspec": {
   "display_name": "Python 3",
   "language": "python",
   "name": "python3"
  },
  "language_info": {
   "codemirror_mode": {
    "name": "ipython",
    "version": 3
   },
   "file_extension": ".py",
   "mimetype": "text/x-python",
   "name": "python",
   "nbconvert_exporter": "python",
   "pygments_lexer": "ipython3",
   "version": "3.6.4"
  },
  "widgets": {
   "application/vnd.jupyter.widget-state+json": {
    "state": {
     "3ea2bd3f62d74f2da838f4aee743fe1b": {
      "model_module": "ipywidget-pivot-table",
      "model_module_version": "^0.1.0",
      "model_name": "PivotUIModel",
      "state": {
       "_model_module_version": "^0.1.0",
       "_view_module_version": "^0.1.0",
       "data": [
        [
         "row",
         "total_bill",
         "tip",
         "sex",
         "smoker",
         "day",
         "time",
         "size"
        ],
        [
         1,
         16.99,
         1.01,
         "Female",
         "No",
         "Sun",
         "Dinner",
         2
        ],
        [
         2,
         10.34,
         1.66,
         "Male",
         "No",
         "Sun",
         "Dinner",
         3
        ],
        [
         3,
         21.01,
         3.5,
         "Male",
         "No",
         "Sun",
         "Dinner",
         3
        ],
        [
         4,
         23.68,
         3.31,
         "Male",
         "No",
         "Sun",
         "Dinner",
         2
        ],
        [
         5,
         24.59,
         3.61,
         "Female",
         "No",
         "Sun",
         "Dinner",
         4
        ],
        [
         6,
         25.29,
         4.71,
         "Male",
         "No",
         "Sun",
         "Dinner",
         4
        ],
        [
         7,
         8.77,
         2,
         "Male",
         "No",
         "Sun",
         "Dinner",
         2
        ],
        [
         8,
         26.88,
         3.12,
         "Male",
         "No",
         "Sun",
         "Dinner",
         4
        ],
        [
         9,
         15.04,
         1.96,
         "Male",
         "No",
         "Sun",
         "Dinner",
         2
        ],
        [
         10,
         14.78,
         3.23,
         "Male",
         "No",
         "Sun",
         "Dinner",
         2
        ],
        [
         11,
         10.27,
         1.71,
         "Male",
         "No",
         "Sun",
         "Dinner",
         2
        ],
        [
         12,
         35.26,
         5,
         "Female",
         "No",
         "Sun",
         "Dinner",
         4
        ],
        [
         13,
         15.42,
         1.57,
         "Male",
         "No",
         "Sun",
         "Dinner",
         2
        ],
        [
         14,
         18.43,
         3,
         "Male",
         "No",
         "Sun",
         "Dinner",
         4
        ],
        [
         15,
         14.83,
         3.02,
         "Female",
         "No",
         "Sun",
         "Dinner",
         2
        ],
        [
         16,
         21.58,
         3.92,
         "Male",
         "No",
         "Sun",
         "Dinner",
         2
        ],
        [
         17,
         10.33,
         1.67,
         "Female",
         "No",
         "Sun",
         "Dinner",
         3
        ],
        [
         18,
         16.29,
         3.71,
         "Male",
         "No",
         "Sun",
         "Dinner",
         3
        ],
        [
         19,
         16.97,
         3.5,
         "Female",
         "No",
         "Sun",
         "Dinner",
         3
        ],
        [
         20,
         20.65,
         3.35,
         "Male",
         "No",
         "Sat",
         "Dinner",
         3
        ],
        [
         21,
         17.92,
         4.08,
         "Male",
         "No",
         "Sat",
         "Dinner",
         2
        ],
        [
         22,
         20.29,
         2.75,
         "Female",
         "No",
         "Sat",
         "Dinner",
         2
        ],
        [
         23,
         15.77,
         2.23,
         "Female",
         "No",
         "Sat",
         "Dinner",
         2
        ],
        [
         24,
         39.42,
         7.58,
         "Male",
         "No",
         "Sat",
         "Dinner",
         4
        ],
        [
         25,
         19.82,
         3.18,
         "Male",
         "No",
         "Sat",
         "Dinner",
         2
        ],
        [
         26,
         17.81,
         2.34,
         "Male",
         "No",
         "Sat",
         "Dinner",
         4
        ],
        [
         27,
         13.37,
         2,
         "Male",
         "No",
         "Sat",
         "Dinner",
         2
        ],
        [
         28,
         12.69,
         2,
         "Male",
         "No",
         "Sat",
         "Dinner",
         2
        ],
        [
         29,
         21.7,
         4.3,
         "Male",
         "No",
         "Sat",
         "Dinner",
         2
        ],
        [
         30,
         19.65,
         3,
         "Female",
         "No",
         "Sat",
         "Dinner",
         2
        ],
        [
         31,
         9.55,
         1.45,
         "Male",
         "No",
         "Sat",
         "Dinner",
         2
        ],
        [
         32,
         18.35,
         2.5,
         "Male",
         "No",
         "Sat",
         "Dinner",
         4
        ],
        [
         33,
         15.06,
         3,
         "Female",
         "No",
         "Sat",
         "Dinner",
         2
        ],
        [
         34,
         20.69,
         2.45,
         "Female",
         "No",
         "Sat",
         "Dinner",
         4
        ],
        [
         35,
         17.78,
         3.27,
         "Male",
         "No",
         "Sat",
         "Dinner",
         2
        ],
        [
         36,
         24.06,
         3.6,
         "Male",
         "No",
         "Sat",
         "Dinner",
         3
        ],
        [
         37,
         16.31,
         2,
         "Male",
         "No",
         "Sat",
         "Dinner",
         3
        ],
        [
         38,
         16.93,
         3.07,
         "Female",
         "No",
         "Sat",
         "Dinner",
         3
        ],
        [
         39,
         18.69,
         2.31,
         "Male",
         "No",
         "Sat",
         "Dinner",
         3
        ],
        [
         40,
         31.27,
         5,
         "Male",
         "No",
         "Sat",
         "Dinner",
         3
        ],
        [
         41,
         16.04,
         2.24,
         "Male",
         "No",
         "Sat",
         "Dinner",
         3
        ],
        [
         42,
         17.46,
         2.54,
         "Male",
         "No",
         "Sun",
         "Dinner",
         2
        ],
        [
         43,
         13.94,
         3.06,
         "Male",
         "No",
         "Sun",
         "Dinner",
         2
        ],
        [
         44,
         9.68,
         1.32,
         "Male",
         "No",
         "Sun",
         "Dinner",
         2
        ],
        [
         45,
         30.4,
         5.6,
         "Male",
         "No",
         "Sun",
         "Dinner",
         4
        ],
        [
         46,
         18.29,
         3,
         "Male",
         "No",
         "Sun",
         "Dinner",
         2
        ],
        [
         47,
         22.23,
         5,
         "Male",
         "No",
         "Sun",
         "Dinner",
         2
        ],
        [
         48,
         32.4,
         6,
         "Male",
         "No",
         "Sun",
         "Dinner",
         4
        ],
        [
         49,
         28.55,
         2.05,
         "Male",
         "No",
         "Sun",
         "Dinner",
         3
        ],
        [
         50,
         18.04,
         3,
         "Male",
         "No",
         "Sun",
         "Dinner",
         2
        ],
        [
         51,
         12.54,
         2.5,
         "Male",
         "No",
         "Sun",
         "Dinner",
         2
        ],
        [
         52,
         10.29,
         2.6,
         "Female",
         "No",
         "Sun",
         "Dinner",
         2
        ],
        [
         53,
         34.81,
         5.2,
         "Female",
         "No",
         "Sun",
         "Dinner",
         4
        ],
        [
         54,
         9.94,
         1.56,
         "Male",
         "No",
         "Sun",
         "Dinner",
         2
        ],
        [
         55,
         25.56,
         4.34,
         "Male",
         "No",
         "Sun",
         "Dinner",
         4
        ],
        [
         56,
         19.49,
         3.51,
         "Male",
         "No",
         "Sun",
         "Dinner",
         2
        ],
        [
         57,
         38.01,
         3,
         "Male",
         "Yes",
         "Sat",
         "Dinner",
         4
        ],
        [
         58,
         26.41,
         1.5,
         "Female",
         "No",
         "Sat",
         "Dinner",
         2
        ],
        [
         59,
         11.24,
         1.76,
         "Male",
         "Yes",
         "Sat",
         "Dinner",
         2
        ],
        [
         60,
         48.27,
         6.73,
         "Male",
         "No",
         "Sat",
         "Dinner",
         4
        ],
        [
         61,
         20.29,
         3.21,
         "Male",
         "Yes",
         "Sat",
         "Dinner",
         2
        ],
        [
         62,
         13.81,
         2,
         "Male",
         "Yes",
         "Sat",
         "Dinner",
         2
        ],
        [
         63,
         11.02,
         1.98,
         "Male",
         "Yes",
         "Sat",
         "Dinner",
         2
        ],
        [
         64,
         18.29,
         3.76,
         "Male",
         "Yes",
         "Sat",
         "Dinner",
         4
        ],
        [
         65,
         17.59,
         2.64,
         "Male",
         "No",
         "Sat",
         "Dinner",
         3
        ],
        [
         66,
         20.08,
         3.15,
         "Male",
         "No",
         "Sat",
         "Dinner",
         3
        ],
        [
         67,
         16.45,
         2.47,
         "Female",
         "No",
         "Sat",
         "Dinner",
         2
        ],
        [
         68,
         3.07,
         1,
         "Female",
         "Yes",
         "Sat",
         "Dinner",
         1
        ],
        [
         69,
         20.23,
         2.01,
         "Male",
         "No",
         "Sat",
         "Dinner",
         2
        ],
        [
         70,
         15.01,
         2.09,
         "Male",
         "Yes",
         "Sat",
         "Dinner",
         2
        ],
        [
         71,
         12.02,
         1.97,
         "Male",
         "No",
         "Sat",
         "Dinner",
         2
        ],
        [
         72,
         17.07,
         3,
         "Female",
         "No",
         "Sat",
         "Dinner",
         3
        ],
        [
         73,
         26.86,
         3.14,
         "Female",
         "Yes",
         "Sat",
         "Dinner",
         2
        ],
        [
         74,
         25.28,
         5,
         "Female",
         "Yes",
         "Sat",
         "Dinner",
         2
        ],
        [
         75,
         14.73,
         2.2,
         "Female",
         "No",
         "Sat",
         "Dinner",
         2
        ],
        [
         76,
         10.51,
         1.25,
         "Male",
         "No",
         "Sat",
         "Dinner",
         2
        ],
        [
         77,
         17.92,
         3.08,
         "Male",
         "Yes",
         "Sat",
         "Dinner",
         2
        ],
        [
         78,
         27.2,
         4,
         "Male",
         "No",
         "Thur",
         "Lunch",
         4
        ],
        [
         79,
         22.76,
         3,
         "Male",
         "No",
         "Thur",
         "Lunch",
         2
        ],
        [
         80,
         17.29,
         2.71,
         "Male",
         "No",
         "Thur",
         "Lunch",
         2
        ],
        [
         81,
         19.44,
         3,
         "Male",
         "Yes",
         "Thur",
         "Lunch",
         2
        ],
        [
         82,
         16.66,
         3.4,
         "Male",
         "No",
         "Thur",
         "Lunch",
         2
        ],
        [
         83,
         10.07,
         1.83,
         "Female",
         "No",
         "Thur",
         "Lunch",
         1
        ],
        [
         84,
         32.68,
         5,
         "Male",
         "Yes",
         "Thur",
         "Lunch",
         2
        ],
        [
         85,
         15.98,
         2.03,
         "Male",
         "No",
         "Thur",
         "Lunch",
         2
        ],
        [
         86,
         34.83,
         5.17,
         "Female",
         "No",
         "Thur",
         "Lunch",
         4
        ],
        [
         87,
         13.03,
         2,
         "Male",
         "No",
         "Thur",
         "Lunch",
         2
        ],
        [
         88,
         18.28,
         4,
         "Male",
         "No",
         "Thur",
         "Lunch",
         2
        ],
        [
         89,
         24.71,
         5.85,
         "Male",
         "No",
         "Thur",
         "Lunch",
         2
        ],
        [
         90,
         21.16,
         3,
         "Male",
         "No",
         "Thur",
         "Lunch",
         2
        ],
        [
         91,
         28.97,
         3,
         "Male",
         "Yes",
         "Fri",
         "Dinner",
         2
        ],
        [
         92,
         22.49,
         3.5,
         "Male",
         "No",
         "Fri",
         "Dinner",
         2
        ],
        [
         93,
         5.75,
         1,
         "Female",
         "Yes",
         "Fri",
         "Dinner",
         2
        ],
        [
         94,
         16.32,
         4.3,
         "Female",
         "Yes",
         "Fri",
         "Dinner",
         2
        ],
        [
         95,
         22.75,
         3.25,
         "Female",
         "No",
         "Fri",
         "Dinner",
         2
        ],
        [
         96,
         40.17,
         4.73,
         "Male",
         "Yes",
         "Fri",
         "Dinner",
         4
        ],
        [
         97,
         27.28,
         4,
         "Male",
         "Yes",
         "Fri",
         "Dinner",
         2
        ],
        [
         98,
         12.03,
         1.5,
         "Male",
         "Yes",
         "Fri",
         "Dinner",
         2
        ],
        [
         99,
         21.01,
         3,
         "Male",
         "Yes",
         "Fri",
         "Dinner",
         2
        ],
        [
         100,
         12.46,
         1.5,
         "Male",
         "No",
         "Fri",
         "Dinner",
         2
        ],
        [
         101,
         11.35,
         2.5,
         "Female",
         "Yes",
         "Fri",
         "Dinner",
         2
        ],
        [
         102,
         15.38,
         3,
         "Female",
         "Yes",
         "Fri",
         "Dinner",
         2
        ],
        [
         103,
         44.3,
         2.5,
         "Female",
         "Yes",
         "Sat",
         "Dinner",
         3
        ],
        [
         104,
         22.42,
         3.48,
         "Female",
         "Yes",
         "Sat",
         "Dinner",
         2
        ],
        [
         105,
         20.92,
         4.08,
         "Female",
         "No",
         "Sat",
         "Dinner",
         2
        ],
        [
         106,
         15.36,
         1.64,
         "Male",
         "Yes",
         "Sat",
         "Dinner",
         2
        ],
        [
         107,
         20.49,
         4.06,
         "Male",
         "Yes",
         "Sat",
         "Dinner",
         2
        ],
        [
         108,
         25.21,
         4.29,
         "Male",
         "Yes",
         "Sat",
         "Dinner",
         2
        ],
        [
         109,
         18.24,
         3.76,
         "Male",
         "No",
         "Sat",
         "Dinner",
         2
        ],
        [
         110,
         14.31,
         4,
         "Female",
         "Yes",
         "Sat",
         "Dinner",
         2
        ],
        [
         111,
         14,
         3,
         "Male",
         "No",
         "Sat",
         "Dinner",
         2
        ],
        [
         112,
         7.25,
         1,
         "Female",
         "No",
         "Sat",
         "Dinner",
         1
        ],
        [
         113,
         38.07,
         4,
         "Male",
         "No",
         "Sun",
         "Dinner",
         3
        ],
        [
         114,
         23.95,
         2.55,
         "Male",
         "No",
         "Sun",
         "Dinner",
         2
        ],
        [
         115,
         25.71,
         4,
         "Female",
         "No",
         "Sun",
         "Dinner",
         3
        ],
        [
         116,
         17.31,
         3.5,
         "Female",
         "No",
         "Sun",
         "Dinner",
         2
        ],
        [
         117,
         29.93,
         5.07,
         "Male",
         "No",
         "Sun",
         "Dinner",
         4
        ],
        [
         118,
         10.65,
         1.5,
         "Female",
         "No",
         "Thur",
         "Lunch",
         2
        ],
        [
         119,
         12.43,
         1.8,
         "Female",
         "No",
         "Thur",
         "Lunch",
         2
        ],
        [
         120,
         24.08,
         2.92,
         "Female",
         "No",
         "Thur",
         "Lunch",
         4
        ],
        [
         121,
         11.69,
         2.31,
         "Male",
         "No",
         "Thur",
         "Lunch",
         2
        ],
        [
         122,
         13.42,
         1.68,
         "Female",
         "No",
         "Thur",
         "Lunch",
         2
        ],
        [
         123,
         14.26,
         2.5,
         "Male",
         "No",
         "Thur",
         "Lunch",
         2
        ],
        [
         124,
         15.95,
         2,
         "Male",
         "No",
         "Thur",
         "Lunch",
         2
        ],
        [
         125,
         12.48,
         2.52,
         "Female",
         "No",
         "Thur",
         "Lunch",
         2
        ],
        [
         126,
         29.8,
         4.2,
         "Female",
         "No",
         "Thur",
         "Lunch",
         6
        ],
        [
         127,
         8.52,
         1.48,
         "Male",
         "No",
         "Thur",
         "Lunch",
         2
        ],
        [
         128,
         14.52,
         2,
         "Female",
         "No",
         "Thur",
         "Lunch",
         2
        ],
        [
         129,
         11.38,
         2,
         "Female",
         "No",
         "Thur",
         "Lunch",
         2
        ],
        [
         130,
         22.82,
         2.18,
         "Male",
         "No",
         "Thur",
         "Lunch",
         3
        ],
        [
         131,
         19.08,
         1.5,
         "Male",
         "No",
         "Thur",
         "Lunch",
         2
        ],
        [
         132,
         20.27,
         2.83,
         "Female",
         "No",
         "Thur",
         "Lunch",
         2
        ],
        [
         133,
         11.17,
         1.5,
         "Female",
         "No",
         "Thur",
         "Lunch",
         2
        ],
        [
         134,
         12.26,
         2,
         "Female",
         "No",
         "Thur",
         "Lunch",
         2
        ],
        [
         135,
         18.26,
         3.25,
         "Female",
         "No",
         "Thur",
         "Lunch",
         2
        ],
        [
         136,
         8.51,
         1.25,
         "Female",
         "No",
         "Thur",
         "Lunch",
         2
        ],
        [
         137,
         10.33,
         2,
         "Female",
         "No",
         "Thur",
         "Lunch",
         2
        ],
        [
         138,
         14.15,
         2,
         "Female",
         "No",
         "Thur",
         "Lunch",
         2
        ],
        [
         139,
         16,
         2,
         "Male",
         "Yes",
         "Thur",
         "Lunch",
         2
        ],
        [
         140,
         13.16,
         2.75,
         "Female",
         "No",
         "Thur",
         "Lunch",
         2
        ],
        [
         141,
         17.47,
         3.5,
         "Female",
         "No",
         "Thur",
         "Lunch",
         2
        ],
        [
         142,
         34.3,
         6.7,
         "Male",
         "No",
         "Thur",
         "Lunch",
         6
        ],
        [
         143,
         41.19,
         5,
         "Male",
         "No",
         "Thur",
         "Lunch",
         5
        ],
        [
         144,
         27.05,
         5,
         "Female",
         "No",
         "Thur",
         "Lunch",
         6
        ],
        [
         145,
         16.43,
         2.3,
         "Female",
         "No",
         "Thur",
         "Lunch",
         2
        ],
        [
         146,
         8.35,
         1.5,
         "Female",
         "No",
         "Thur",
         "Lunch",
         2
        ],
        [
         147,
         18.64,
         1.36,
         "Female",
         "No",
         "Thur",
         "Lunch",
         3
        ],
        [
         148,
         11.87,
         1.63,
         "Female",
         "No",
         "Thur",
         "Lunch",
         2
        ],
        [
         149,
         9.78,
         1.73,
         "Male",
         "No",
         "Thur",
         "Lunch",
         2
        ],
        [
         150,
         7.51,
         2,
         "Male",
         "No",
         "Thur",
         "Lunch",
         2
        ],
        [
         151,
         14.07,
         2.5,
         "Male",
         "No",
         "Sun",
         "Dinner",
         2
        ],
        [
         152,
         13.13,
         2,
         "Male",
         "No",
         "Sun",
         "Dinner",
         2
        ],
        [
         153,
         17.26,
         2.74,
         "Male",
         "No",
         "Sun",
         "Dinner",
         3
        ],
        [
         154,
         24.55,
         2,
         "Male",
         "No",
         "Sun",
         "Dinner",
         4
        ],
        [
         155,
         19.77,
         2,
         "Male",
         "No",
         "Sun",
         "Dinner",
         4
        ],
        [
         156,
         29.85,
         5.14,
         "Female",
         "No",
         "Sun",
         "Dinner",
         5
        ],
        [
         157,
         48.17,
         5,
         "Male",
         "No",
         "Sun",
         "Dinner",
         6
        ],
        [
         158,
         25,
         3.75,
         "Female",
         "No",
         "Sun",
         "Dinner",
         4
        ],
        [
         159,
         13.39,
         2.61,
         "Female",
         "No",
         "Sun",
         "Dinner",
         2
        ],
        [
         160,
         16.49,
         2,
         "Male",
         "No",
         "Sun",
         "Dinner",
         4
        ],
        [
         161,
         21.5,
         3.5,
         "Male",
         "No",
         "Sun",
         "Dinner",
         4
        ],
        [
         162,
         12.66,
         2.5,
         "Male",
         "No",
         "Sun",
         "Dinner",
         2
        ],
        [
         163,
         16.21,
         2,
         "Female",
         "No",
         "Sun",
         "Dinner",
         3
        ],
        [
         164,
         13.81,
         2,
         "Male",
         "No",
         "Sun",
         "Dinner",
         2
        ],
        [
         165,
         17.51,
         3,
         "Female",
         "Yes",
         "Sun",
         "Dinner",
         2
        ],
        [
         166,
         24.52,
         3.48,
         "Male",
         "No",
         "Sun",
         "Dinner",
         3
        ],
        [
         167,
         20.76,
         2.24,
         "Male",
         "No",
         "Sun",
         "Dinner",
         2
        ],
        [
         168,
         31.71,
         4.5,
         "Male",
         "No",
         "Sun",
         "Dinner",
         4
        ],
        [
         169,
         10.59,
         1.61,
         "Female",
         "Yes",
         "Sat",
         "Dinner",
         2
        ],
        [
         170,
         10.63,
         2,
         "Female",
         "Yes",
         "Sat",
         "Dinner",
         2
        ],
        [
         171,
         50.81,
         10,
         "Male",
         "Yes",
         "Sat",
         "Dinner",
         3
        ],
        [
         172,
         15.81,
         3.16,
         "Male",
         "Yes",
         "Sat",
         "Dinner",
         2
        ],
        [
         173,
         7.25,
         5.15,
         "Male",
         "Yes",
         "Sun",
         "Dinner",
         2
        ],
        [
         174,
         31.85,
         3.18,
         "Male",
         "Yes",
         "Sun",
         "Dinner",
         2
        ],
        [
         175,
         16.82,
         4,
         "Male",
         "Yes",
         "Sun",
         "Dinner",
         2
        ],
        [
         176,
         32.9,
         3.11,
         "Male",
         "Yes",
         "Sun",
         "Dinner",
         2
        ],
        [
         177,
         17.89,
         2,
         "Male",
         "Yes",
         "Sun",
         "Dinner",
         2
        ],
        [
         178,
         14.48,
         2,
         "Male",
         "Yes",
         "Sun",
         "Dinner",
         2
        ],
        [
         179,
         9.6,
         4,
         "Female",
         "Yes",
         "Sun",
         "Dinner",
         2
        ],
        [
         180,
         34.63,
         3.55,
         "Male",
         "Yes",
         "Sun",
         "Dinner",
         2
        ],
        [
         181,
         34.65,
         3.68,
         "Male",
         "Yes",
         "Sun",
         "Dinner",
         4
        ],
        [
         182,
         23.33,
         5.65,
         "Male",
         "Yes",
         "Sun",
         "Dinner",
         2
        ],
        [
         183,
         45.35,
         3.5,
         "Male",
         "Yes",
         "Sun",
         "Dinner",
         3
        ],
        [
         184,
         23.17,
         6.5,
         "Male",
         "Yes",
         "Sun",
         "Dinner",
         4
        ],
        [
         185,
         40.55,
         3,
         "Male",
         "Yes",
         "Sun",
         "Dinner",
         2
        ],
        [
         186,
         20.69,
         5,
         "Male",
         "No",
         "Sun",
         "Dinner",
         5
        ],
        [
         187,
         20.9,
         3.5,
         "Female",
         "Yes",
         "Sun",
         "Dinner",
         3
        ],
        [
         188,
         30.46,
         2,
         "Male",
         "Yes",
         "Sun",
         "Dinner",
         5
        ],
        [
         189,
         18.15,
         3.5,
         "Female",
         "Yes",
         "Sun",
         "Dinner",
         3
        ],
        [
         190,
         23.1,
         4,
         "Male",
         "Yes",
         "Sun",
         "Dinner",
         3
        ],
        [
         191,
         15.69,
         1.5,
         "Male",
         "Yes",
         "Sun",
         "Dinner",
         2
        ],
        [
         192,
         19.81,
         4.19,
         "Female",
         "Yes",
         "Thur",
         "Lunch",
         2
        ],
        [
         193,
         28.44,
         2.56,
         "Male",
         "Yes",
         "Thur",
         "Lunch",
         2
        ],
        [
         194,
         15.48,
         2.02,
         "Male",
         "Yes",
         "Thur",
         "Lunch",
         2
        ],
        [
         195,
         16.58,
         4,
         "Male",
         "Yes",
         "Thur",
         "Lunch",
         2
        ],
        [
         196,
         7.56,
         1.44,
         "Male",
         "No",
         "Thur",
         "Lunch",
         2
        ],
        [
         197,
         10.34,
         2,
         "Male",
         "Yes",
         "Thur",
         "Lunch",
         2
        ],
        [
         198,
         43.11,
         5,
         "Female",
         "Yes",
         "Thur",
         "Lunch",
         4
        ],
        [
         199,
         13,
         2,
         "Female",
         "Yes",
         "Thur",
         "Lunch",
         2
        ],
        [
         200,
         13.51,
         2,
         "Male",
         "Yes",
         "Thur",
         "Lunch",
         2
        ],
        [
         201,
         18.71,
         4,
         "Male",
         "Yes",
         "Thur",
         "Lunch",
         3
        ],
        [
         202,
         12.74,
         2.01,
         "Female",
         "Yes",
         "Thur",
         "Lunch",
         2
        ],
        [
         203,
         13,
         2,
         "Female",
         "Yes",
         "Thur",
         "Lunch",
         2
        ],
        [
         204,
         16.4,
         2.5,
         "Female",
         "Yes",
         "Thur",
         "Lunch",
         2
        ],
        [
         205,
         20.53,
         4,
         "Male",
         "Yes",
         "Thur",
         "Lunch",
         4
        ],
        [
         206,
         16.47,
         3.23,
         "Female",
         "Yes",
         "Thur",
         "Lunch",
         3
        ],
        [
         207,
         26.59,
         3.41,
         "Male",
         "Yes",
         "Sat",
         "Dinner",
         3
        ],
        [
         208,
         38.73,
         3,
         "Male",
         "Yes",
         "Sat",
         "Dinner",
         4
        ],
        [
         209,
         24.27,
         2.03,
         "Male",
         "Yes",
         "Sat",
         "Dinner",
         2
        ],
        [
         210,
         12.76,
         2.23,
         "Female",
         "Yes",
         "Sat",
         "Dinner",
         2
        ],
        [
         211,
         30.06,
         2,
         "Male",
         "Yes",
         "Sat",
         "Dinner",
         3
        ],
        [
         212,
         25.89,
         5.16,
         "Male",
         "Yes",
         "Sat",
         "Dinner",
         4
        ],
        [
         213,
         48.33,
         9,
         "Male",
         "No",
         "Sat",
         "Dinner",
         4
        ],
        [
         214,
         13.27,
         2.5,
         "Female",
         "Yes",
         "Sat",
         "Dinner",
         2
        ],
        [
         215,
         28.17,
         6.5,
         "Female",
         "Yes",
         "Sat",
         "Dinner",
         3
        ],
        [
         216,
         12.9,
         1.1,
         "Female",
         "Yes",
         "Sat",
         "Dinner",
         2
        ],
        [
         217,
         28.15,
         3,
         "Male",
         "Yes",
         "Sat",
         "Dinner",
         5
        ],
        [
         218,
         11.59,
         1.5,
         "Male",
         "Yes",
         "Sat",
         "Dinner",
         2
        ],
        [
         219,
         7.74,
         1.44,
         "Male",
         "Yes",
         "Sat",
         "Dinner",
         2
        ],
        [
         220,
         30.14,
         3.09,
         "Female",
         "Yes",
         "Sat",
         "Dinner",
         4
        ],
        [
         221,
         12.16,
         2.2,
         "Male",
         "Yes",
         "Fri",
         "Lunch",
         2
        ],
        [
         222,
         13.42,
         3.48,
         "Female",
         "Yes",
         "Fri",
         "Lunch",
         2
        ],
        [
         223,
         8.58,
         1.92,
         "Male",
         "Yes",
         "Fri",
         "Lunch",
         1
        ],
        [
         224,
         15.98,
         3,
         "Female",
         "No",
         "Fri",
         "Lunch",
         3
        ],
        [
         225,
         13.42,
         1.58,
         "Male",
         "Yes",
         "Fri",
         "Lunch",
         2
        ],
        [
         226,
         16.27,
         2.5,
         "Female",
         "Yes",
         "Fri",
         "Lunch",
         2
        ],
        [
         227,
         10.09,
         2,
         "Female",
         "Yes",
         "Fri",
         "Lunch",
         2
        ],
        [
         228,
         20.45,
         3,
         "Male",
         "No",
         "Sat",
         "Dinner",
         4
        ],
        [
         229,
         13.28,
         2.72,
         "Male",
         "No",
         "Sat",
         "Dinner",
         2
        ],
        [
         230,
         22.12,
         2.88,
         "Female",
         "Yes",
         "Sat",
         "Dinner",
         2
        ],
        [
         231,
         24.01,
         2,
         "Male",
         "Yes",
         "Sat",
         "Dinner",
         4
        ],
        [
         232,
         15.69,
         3,
         "Male",
         "Yes",
         "Sat",
         "Dinner",
         3
        ],
        [
         233,
         11.61,
         3.39,
         "Male",
         "No",
         "Sat",
         "Dinner",
         2
        ],
        [
         234,
         10.77,
         1.47,
         "Male",
         "No",
         "Sat",
         "Dinner",
         2
        ],
        [
         235,
         15.53,
         3,
         "Male",
         "Yes",
         "Sat",
         "Dinner",
         2
        ],
        [
         236,
         10.07,
         1.25,
         "Male",
         "No",
         "Sat",
         "Dinner",
         2
        ],
        [
         237,
         12.6,
         1,
         "Male",
         "Yes",
         "Sat",
         "Dinner",
         2
        ],
        [
         238,
         32.83,
         1.17,
         "Male",
         "Yes",
         "Sat",
         "Dinner",
         2
        ],
        [
         239,
         35.83,
         4.67,
         "Female",
         "No",
         "Sat",
         "Dinner",
         3
        ],
        [
         240,
         29.03,
         5.92,
         "Male",
         "No",
         "Sat",
         "Dinner",
         3
        ],
        [
         241,
         27.18,
         2,
         "Female",
         "Yes",
         "Sat",
         "Dinner",
         2
        ],
        [
         242,
         22.67,
         2,
         "Male",
         "Yes",
         "Sat",
         "Dinner",
         2
        ],
        [
         243,
         17.82,
         1.75,
         "Male",
         "No",
         "Sat",
         "Dinner",
         2
        ],
        [
         244,
         18.78,
         3,
         "Female",
         "No",
         "Thur",
         "Dinner",
         2
        ]
       ],
       "data_tsv": "Empty",
       "layout": "IPY_MODEL_70ae4a8608fe4592b39a04e21410ab26",
       "options": {
        "aggregatorName": "Sum over Sum",
        "cols": [
         "day",
         "time"
        ],
        "rendererName": "Heatmap",
        "rows": [
         "sex",
         "smoker"
        ],
        "vals": [
         "tip",
         "total_bill"
        ]
       },
       "options_init": {
        "aggregatorName": "Sum over Sum",
        "cols": [
         "day",
         "time"
        ],
        "rendererName": "Heatmap",
        "rows": [
         "sex",
         "smoker"
        ],
        "vals": [
         "tip",
         "total_bill"
        ]
       }
      }
     },
     "70ae4a8608fe4592b39a04e21410ab26": {
      "model_module": "@jupyter-widgets/base",
      "model_module_version": "1.0.0",
      "model_name": "LayoutModel",
      "state": {}
     },
     "9f99feeb6d1a448fb81bdbef3f2a6f54": {
      "model_module": "@jupyter-widgets/base",
      "model_module_version": "1.0.0",
      "model_name": "LayoutModel",
      "state": {}
     },
     "ea4ecc1b4b63485c92d90c86f8bc5c1f": {
      "model_module": "ipywidget-pivot-table",
      "model_module_version": "^0.1.0",
      "model_name": "PivotModel",
      "state": {
       "_model_module_version": "^0.1.0",
       "_view_module_version": "^0.1.0",
       "data": [
        [
         "row",
         "total_bill",
         "tip",
         "sex",
         "smoker",
         "day",
         "time",
         "size"
        ],
        [
         1,
         16.99,
         1.01,
         "Female",
         "No",
         "Sun",
         "Dinner",
         2
        ],
        [
         2,
         10.34,
         1.66,
         "Male",
         "No",
         "Sun",
         "Dinner",
         3
        ],
        [
         3,
         21.01,
         3.5,
         "Male",
         "No",
         "Sun",
         "Dinner",
         3
        ],
        [
         4,
         23.68,
         3.31,
         "Male",
         "No",
         "Sun",
         "Dinner",
         2
        ],
        [
         5,
         24.59,
         3.61,
         "Female",
         "No",
         "Sun",
         "Dinner",
         4
        ],
        [
         6,
         25.29,
         4.71,
         "Male",
         "No",
         "Sun",
         "Dinner",
         4
        ],
        [
         7,
         8.77,
         2,
         "Male",
         "No",
         "Sun",
         "Dinner",
         2
        ],
        [
         8,
         26.88,
         3.12,
         "Male",
         "No",
         "Sun",
         "Dinner",
         4
        ],
        [
         9,
         15.04,
         1.96,
         "Male",
         "No",
         "Sun",
         "Dinner",
         2
        ],
        [
         10,
         14.78,
         3.23,
         "Male",
         "No",
         "Sun",
         "Dinner",
         2
        ],
        [
         11,
         10.27,
         1.71,
         "Male",
         "No",
         "Sun",
         "Dinner",
         2
        ],
        [
         12,
         35.26,
         5,
         "Female",
         "No",
         "Sun",
         "Dinner",
         4
        ],
        [
         13,
         15.42,
         1.57,
         "Male",
         "No",
         "Sun",
         "Dinner",
         2
        ],
        [
         14,
         18.43,
         3,
         "Male",
         "No",
         "Sun",
         "Dinner",
         4
        ],
        [
         15,
         14.83,
         3.02,
         "Female",
         "No",
         "Sun",
         "Dinner",
         2
        ],
        [
         16,
         21.58,
         3.92,
         "Male",
         "No",
         "Sun",
         "Dinner",
         2
        ],
        [
         17,
         10.33,
         1.67,
         "Female",
         "No",
         "Sun",
         "Dinner",
         3
        ],
        [
         18,
         16.29,
         3.71,
         "Male",
         "No",
         "Sun",
         "Dinner",
         3
        ],
        [
         19,
         16.97,
         3.5,
         "Female",
         "No",
         "Sun",
         "Dinner",
         3
        ],
        [
         20,
         20.65,
         3.35,
         "Male",
         "No",
         "Sat",
         "Dinner",
         3
        ],
        [
         21,
         17.92,
         4.08,
         "Male",
         "No",
         "Sat",
         "Dinner",
         2
        ],
        [
         22,
         20.29,
         2.75,
         "Female",
         "No",
         "Sat",
         "Dinner",
         2
        ],
        [
         23,
         15.77,
         2.23,
         "Female",
         "No",
         "Sat",
         "Dinner",
         2
        ],
        [
         24,
         39.42,
         7.58,
         "Male",
         "No",
         "Sat",
         "Dinner",
         4
        ],
        [
         25,
         19.82,
         3.18,
         "Male",
         "No",
         "Sat",
         "Dinner",
         2
        ],
        [
         26,
         17.81,
         2.34,
         "Male",
         "No",
         "Sat",
         "Dinner",
         4
        ],
        [
         27,
         13.37,
         2,
         "Male",
         "No",
         "Sat",
         "Dinner",
         2
        ],
        [
         28,
         12.69,
         2,
         "Male",
         "No",
         "Sat",
         "Dinner",
         2
        ],
        [
         29,
         21.7,
         4.3,
         "Male",
         "No",
         "Sat",
         "Dinner",
         2
        ],
        [
         30,
         19.65,
         3,
         "Female",
         "No",
         "Sat",
         "Dinner",
         2
        ],
        [
         31,
         9.55,
         1.45,
         "Male",
         "No",
         "Sat",
         "Dinner",
         2
        ],
        [
         32,
         18.35,
         2.5,
         "Male",
         "No",
         "Sat",
         "Dinner",
         4
        ],
        [
         33,
         15.06,
         3,
         "Female",
         "No",
         "Sat",
         "Dinner",
         2
        ],
        [
         34,
         20.69,
         2.45,
         "Female",
         "No",
         "Sat",
         "Dinner",
         4
        ],
        [
         35,
         17.78,
         3.27,
         "Male",
         "No",
         "Sat",
         "Dinner",
         2
        ],
        [
         36,
         24.06,
         3.6,
         "Male",
         "No",
         "Sat",
         "Dinner",
         3
        ],
        [
         37,
         16.31,
         2,
         "Male",
         "No",
         "Sat",
         "Dinner",
         3
        ],
        [
         38,
         16.93,
         3.07,
         "Female",
         "No",
         "Sat",
         "Dinner",
         3
        ],
        [
         39,
         18.69,
         2.31,
         "Male",
         "No",
         "Sat",
         "Dinner",
         3
        ],
        [
         40,
         31.27,
         5,
         "Male",
         "No",
         "Sat",
         "Dinner",
         3
        ],
        [
         41,
         16.04,
         2.24,
         "Male",
         "No",
         "Sat",
         "Dinner",
         3
        ],
        [
         42,
         17.46,
         2.54,
         "Male",
         "No",
         "Sun",
         "Dinner",
         2
        ],
        [
         43,
         13.94,
         3.06,
         "Male",
         "No",
         "Sun",
         "Dinner",
         2
        ],
        [
         44,
         9.68,
         1.32,
         "Male",
         "No",
         "Sun",
         "Dinner",
         2
        ],
        [
         45,
         30.4,
         5.6,
         "Male",
         "No",
         "Sun",
         "Dinner",
         4
        ],
        [
         46,
         18.29,
         3,
         "Male",
         "No",
         "Sun",
         "Dinner",
         2
        ],
        [
         47,
         22.23,
         5,
         "Male",
         "No",
         "Sun",
         "Dinner",
         2
        ],
        [
         48,
         32.4,
         6,
         "Male",
         "No",
         "Sun",
         "Dinner",
         4
        ],
        [
         49,
         28.55,
         2.05,
         "Male",
         "No",
         "Sun",
         "Dinner",
         3
        ],
        [
         50,
         18.04,
         3,
         "Male",
         "No",
         "Sun",
         "Dinner",
         2
        ],
        [
         51,
         12.54,
         2.5,
         "Male",
         "No",
         "Sun",
         "Dinner",
         2
        ],
        [
         52,
         10.29,
         2.6,
         "Female",
         "No",
         "Sun",
         "Dinner",
         2
        ],
        [
         53,
         34.81,
         5.2,
         "Female",
         "No",
         "Sun",
         "Dinner",
         4
        ],
        [
         54,
         9.94,
         1.56,
         "Male",
         "No",
         "Sun",
         "Dinner",
         2
        ],
        [
         55,
         25.56,
         4.34,
         "Male",
         "No",
         "Sun",
         "Dinner",
         4
        ],
        [
         56,
         19.49,
         3.51,
         "Male",
         "No",
         "Sun",
         "Dinner",
         2
        ],
        [
         57,
         38.01,
         3,
         "Male",
         "Yes",
         "Sat",
         "Dinner",
         4
        ],
        [
         58,
         26.41,
         1.5,
         "Female",
         "No",
         "Sat",
         "Dinner",
         2
        ],
        [
         59,
         11.24,
         1.76,
         "Male",
         "Yes",
         "Sat",
         "Dinner",
         2
        ],
        [
         60,
         48.27,
         6.73,
         "Male",
         "No",
         "Sat",
         "Dinner",
         4
        ],
        [
         61,
         20.29,
         3.21,
         "Male",
         "Yes",
         "Sat",
         "Dinner",
         2
        ],
        [
         62,
         13.81,
         2,
         "Male",
         "Yes",
         "Sat",
         "Dinner",
         2
        ],
        [
         63,
         11.02,
         1.98,
         "Male",
         "Yes",
         "Sat",
         "Dinner",
         2
        ],
        [
         64,
         18.29,
         3.76,
         "Male",
         "Yes",
         "Sat",
         "Dinner",
         4
        ],
        [
         65,
         17.59,
         2.64,
         "Male",
         "No",
         "Sat",
         "Dinner",
         3
        ],
        [
         66,
         20.08,
         3.15,
         "Male",
         "No",
         "Sat",
         "Dinner",
         3
        ],
        [
         67,
         16.45,
         2.47,
         "Female",
         "No",
         "Sat",
         "Dinner",
         2
        ],
        [
         68,
         3.07,
         1,
         "Female",
         "Yes",
         "Sat",
         "Dinner",
         1
        ],
        [
         69,
         20.23,
         2.01,
         "Male",
         "No",
         "Sat",
         "Dinner",
         2
        ],
        [
         70,
         15.01,
         2.09,
         "Male",
         "Yes",
         "Sat",
         "Dinner",
         2
        ],
        [
         71,
         12.02,
         1.97,
         "Male",
         "No",
         "Sat",
         "Dinner",
         2
        ],
        [
         72,
         17.07,
         3,
         "Female",
         "No",
         "Sat",
         "Dinner",
         3
        ],
        [
         73,
         26.86,
         3.14,
         "Female",
         "Yes",
         "Sat",
         "Dinner",
         2
        ],
        [
         74,
         25.28,
         5,
         "Female",
         "Yes",
         "Sat",
         "Dinner",
         2
        ],
        [
         75,
         14.73,
         2.2,
         "Female",
         "No",
         "Sat",
         "Dinner",
         2
        ],
        [
         76,
         10.51,
         1.25,
         "Male",
         "No",
         "Sat",
         "Dinner",
         2
        ],
        [
         77,
         17.92,
         3.08,
         "Male",
         "Yes",
         "Sat",
         "Dinner",
         2
        ],
        [
         78,
         27.2,
         4,
         "Male",
         "No",
         "Thur",
         "Lunch",
         4
        ],
        [
         79,
         22.76,
         3,
         "Male",
         "No",
         "Thur",
         "Lunch",
         2
        ],
        [
         80,
         17.29,
         2.71,
         "Male",
         "No",
         "Thur",
         "Lunch",
         2
        ],
        [
         81,
         19.44,
         3,
         "Male",
         "Yes",
         "Thur",
         "Lunch",
         2
        ],
        [
         82,
         16.66,
         3.4,
         "Male",
         "No",
         "Thur",
         "Lunch",
         2
        ],
        [
         83,
         10.07,
         1.83,
         "Female",
         "No",
         "Thur",
         "Lunch",
         1
        ],
        [
         84,
         32.68,
         5,
         "Male",
         "Yes",
         "Thur",
         "Lunch",
         2
        ],
        [
         85,
         15.98,
         2.03,
         "Male",
         "No",
         "Thur",
         "Lunch",
         2
        ],
        [
         86,
         34.83,
         5.17,
         "Female",
         "No",
         "Thur",
         "Lunch",
         4
        ],
        [
         87,
         13.03,
         2,
         "Male",
         "No",
         "Thur",
         "Lunch",
         2
        ],
        [
         88,
         18.28,
         4,
         "Male",
         "No",
         "Thur",
         "Lunch",
         2
        ],
        [
         89,
         24.71,
         5.85,
         "Male",
         "No",
         "Thur",
         "Lunch",
         2
        ],
        [
         90,
         21.16,
         3,
         "Male",
         "No",
         "Thur",
         "Lunch",
         2
        ],
        [
         91,
         28.97,
         3,
         "Male",
         "Yes",
         "Fri",
         "Dinner",
         2
        ],
        [
         92,
         22.49,
         3.5,
         "Male",
         "No",
         "Fri",
         "Dinner",
         2
        ],
        [
         93,
         5.75,
         1,
         "Female",
         "Yes",
         "Fri",
         "Dinner",
         2
        ],
        [
         94,
         16.32,
         4.3,
         "Female",
         "Yes",
         "Fri",
         "Dinner",
         2
        ],
        [
         95,
         22.75,
         3.25,
         "Female",
         "No",
         "Fri",
         "Dinner",
         2
        ],
        [
         96,
         40.17,
         4.73,
         "Male",
         "Yes",
         "Fri",
         "Dinner",
         4
        ],
        [
         97,
         27.28,
         4,
         "Male",
         "Yes",
         "Fri",
         "Dinner",
         2
        ],
        [
         98,
         12.03,
         1.5,
         "Male",
         "Yes",
         "Fri",
         "Dinner",
         2
        ],
        [
         99,
         21.01,
         3,
         "Male",
         "Yes",
         "Fri",
         "Dinner",
         2
        ],
        [
         100,
         12.46,
         1.5,
         "Male",
         "No",
         "Fri",
         "Dinner",
         2
        ],
        [
         101,
         11.35,
         2.5,
         "Female",
         "Yes",
         "Fri",
         "Dinner",
         2
        ],
        [
         102,
         15.38,
         3,
         "Female",
         "Yes",
         "Fri",
         "Dinner",
         2
        ],
        [
         103,
         44.3,
         2.5,
         "Female",
         "Yes",
         "Sat",
         "Dinner",
         3
        ],
        [
         104,
         22.42,
         3.48,
         "Female",
         "Yes",
         "Sat",
         "Dinner",
         2
        ],
        [
         105,
         20.92,
         4.08,
         "Female",
         "No",
         "Sat",
         "Dinner",
         2
        ],
        [
         106,
         15.36,
         1.64,
         "Male",
         "Yes",
         "Sat",
         "Dinner",
         2
        ],
        [
         107,
         20.49,
         4.06,
         "Male",
         "Yes",
         "Sat",
         "Dinner",
         2
        ],
        [
         108,
         25.21,
         4.29,
         "Male",
         "Yes",
         "Sat",
         "Dinner",
         2
        ],
        [
         109,
         18.24,
         3.76,
         "Male",
         "No",
         "Sat",
         "Dinner",
         2
        ],
        [
         110,
         14.31,
         4,
         "Female",
         "Yes",
         "Sat",
         "Dinner",
         2
        ],
        [
         111,
         14,
         3,
         "Male",
         "No",
         "Sat",
         "Dinner",
         2
        ],
        [
         112,
         7.25,
         1,
         "Female",
         "No",
         "Sat",
         "Dinner",
         1
        ],
        [
         113,
         38.07,
         4,
         "Male",
         "No",
         "Sun",
         "Dinner",
         3
        ],
        [
         114,
         23.95,
         2.55,
         "Male",
         "No",
         "Sun",
         "Dinner",
         2
        ],
        [
         115,
         25.71,
         4,
         "Female",
         "No",
         "Sun",
         "Dinner",
         3
        ],
        [
         116,
         17.31,
         3.5,
         "Female",
         "No",
         "Sun",
         "Dinner",
         2
        ],
        [
         117,
         29.93,
         5.07,
         "Male",
         "No",
         "Sun",
         "Dinner",
         4
        ],
        [
         118,
         10.65,
         1.5,
         "Female",
         "No",
         "Thur",
         "Lunch",
         2
        ],
        [
         119,
         12.43,
         1.8,
         "Female",
         "No",
         "Thur",
         "Lunch",
         2
        ],
        [
         120,
         24.08,
         2.92,
         "Female",
         "No",
         "Thur",
         "Lunch",
         4
        ],
        [
         121,
         11.69,
         2.31,
         "Male",
         "No",
         "Thur",
         "Lunch",
         2
        ],
        [
         122,
         13.42,
         1.68,
         "Female",
         "No",
         "Thur",
         "Lunch",
         2
        ],
        [
         123,
         14.26,
         2.5,
         "Male",
         "No",
         "Thur",
         "Lunch",
         2
        ],
        [
         124,
         15.95,
         2,
         "Male",
         "No",
         "Thur",
         "Lunch",
         2
        ],
        [
         125,
         12.48,
         2.52,
         "Female",
         "No",
         "Thur",
         "Lunch",
         2
        ],
        [
         126,
         29.8,
         4.2,
         "Female",
         "No",
         "Thur",
         "Lunch",
         6
        ],
        [
         127,
         8.52,
         1.48,
         "Male",
         "No",
         "Thur",
         "Lunch",
         2
        ],
        [
         128,
         14.52,
         2,
         "Female",
         "No",
         "Thur",
         "Lunch",
         2
        ],
        [
         129,
         11.38,
         2,
         "Female",
         "No",
         "Thur",
         "Lunch",
         2
        ],
        [
         130,
         22.82,
         2.18,
         "Male",
         "No",
         "Thur",
         "Lunch",
         3
        ],
        [
         131,
         19.08,
         1.5,
         "Male",
         "No",
         "Thur",
         "Lunch",
         2
        ],
        [
         132,
         20.27,
         2.83,
         "Female",
         "No",
         "Thur",
         "Lunch",
         2
        ],
        [
         133,
         11.17,
         1.5,
         "Female",
         "No",
         "Thur",
         "Lunch",
         2
        ],
        [
         134,
         12.26,
         2,
         "Female",
         "No",
         "Thur",
         "Lunch",
         2
        ],
        [
         135,
         18.26,
         3.25,
         "Female",
         "No",
         "Thur",
         "Lunch",
         2
        ],
        [
         136,
         8.51,
         1.25,
         "Female",
         "No",
         "Thur",
         "Lunch",
         2
        ],
        [
         137,
         10.33,
         2,
         "Female",
         "No",
         "Thur",
         "Lunch",
         2
        ],
        [
         138,
         14.15,
         2,
         "Female",
         "No",
         "Thur",
         "Lunch",
         2
        ],
        [
         139,
         16,
         2,
         "Male",
         "Yes",
         "Thur",
         "Lunch",
         2
        ],
        [
         140,
         13.16,
         2.75,
         "Female",
         "No",
         "Thur",
         "Lunch",
         2
        ],
        [
         141,
         17.47,
         3.5,
         "Female",
         "No",
         "Thur",
         "Lunch",
         2
        ],
        [
         142,
         34.3,
         6.7,
         "Male",
         "No",
         "Thur",
         "Lunch",
         6
        ],
        [
         143,
         41.19,
         5,
         "Male",
         "No",
         "Thur",
         "Lunch",
         5
        ],
        [
         144,
         27.05,
         5,
         "Female",
         "No",
         "Thur",
         "Lunch",
         6
        ],
        [
         145,
         16.43,
         2.3,
         "Female",
         "No",
         "Thur",
         "Lunch",
         2
        ],
        [
         146,
         8.35,
         1.5,
         "Female",
         "No",
         "Thur",
         "Lunch",
         2
        ],
        [
         147,
         18.64,
         1.36,
         "Female",
         "No",
         "Thur",
         "Lunch",
         3
        ],
        [
         148,
         11.87,
         1.63,
         "Female",
         "No",
         "Thur",
         "Lunch",
         2
        ],
        [
         149,
         9.78,
         1.73,
         "Male",
         "No",
         "Thur",
         "Lunch",
         2
        ],
        [
         150,
         7.51,
         2,
         "Male",
         "No",
         "Thur",
         "Lunch",
         2
        ],
        [
         151,
         14.07,
         2.5,
         "Male",
         "No",
         "Sun",
         "Dinner",
         2
        ],
        [
         152,
         13.13,
         2,
         "Male",
         "No",
         "Sun",
         "Dinner",
         2
        ],
        [
         153,
         17.26,
         2.74,
         "Male",
         "No",
         "Sun",
         "Dinner",
         3
        ],
        [
         154,
         24.55,
         2,
         "Male",
         "No",
         "Sun",
         "Dinner",
         4
        ],
        [
         155,
         19.77,
         2,
         "Male",
         "No",
         "Sun",
         "Dinner",
         4
        ],
        [
         156,
         29.85,
         5.14,
         "Female",
         "No",
         "Sun",
         "Dinner",
         5
        ],
        [
         157,
         48.17,
         5,
         "Male",
         "No",
         "Sun",
         "Dinner",
         6
        ],
        [
         158,
         25,
         3.75,
         "Female",
         "No",
         "Sun",
         "Dinner",
         4
        ],
        [
         159,
         13.39,
         2.61,
         "Female",
         "No",
         "Sun",
         "Dinner",
         2
        ],
        [
         160,
         16.49,
         2,
         "Male",
         "No",
         "Sun",
         "Dinner",
         4
        ],
        [
         161,
         21.5,
         3.5,
         "Male",
         "No",
         "Sun",
         "Dinner",
         4
        ],
        [
         162,
         12.66,
         2.5,
         "Male",
         "No",
         "Sun",
         "Dinner",
         2
        ],
        [
         163,
         16.21,
         2,
         "Female",
         "No",
         "Sun",
         "Dinner",
         3
        ],
        [
         164,
         13.81,
         2,
         "Male",
         "No",
         "Sun",
         "Dinner",
         2
        ],
        [
         165,
         17.51,
         3,
         "Female",
         "Yes",
         "Sun",
         "Dinner",
         2
        ],
        [
         166,
         24.52,
         3.48,
         "Male",
         "No",
         "Sun",
         "Dinner",
         3
        ],
        [
         167,
         20.76,
         2.24,
         "Male",
         "No",
         "Sun",
         "Dinner",
         2
        ],
        [
         168,
         31.71,
         4.5,
         "Male",
         "No",
         "Sun",
         "Dinner",
         4
        ],
        [
         169,
         10.59,
         1.61,
         "Female",
         "Yes",
         "Sat",
         "Dinner",
         2
        ],
        [
         170,
         10.63,
         2,
         "Female",
         "Yes",
         "Sat",
         "Dinner",
         2
        ],
        [
         171,
         50.81,
         10,
         "Male",
         "Yes",
         "Sat",
         "Dinner",
         3
        ],
        [
         172,
         15.81,
         3.16,
         "Male",
         "Yes",
         "Sat",
         "Dinner",
         2
        ],
        [
         173,
         7.25,
         5.15,
         "Male",
         "Yes",
         "Sun",
         "Dinner",
         2
        ],
        [
         174,
         31.85,
         3.18,
         "Male",
         "Yes",
         "Sun",
         "Dinner",
         2
        ],
        [
         175,
         16.82,
         4,
         "Male",
         "Yes",
         "Sun",
         "Dinner",
         2
        ],
        [
         176,
         32.9,
         3.11,
         "Male",
         "Yes",
         "Sun",
         "Dinner",
         2
        ],
        [
         177,
         17.89,
         2,
         "Male",
         "Yes",
         "Sun",
         "Dinner",
         2
        ],
        [
         178,
         14.48,
         2,
         "Male",
         "Yes",
         "Sun",
         "Dinner",
         2
        ],
        [
         179,
         9.6,
         4,
         "Female",
         "Yes",
         "Sun",
         "Dinner",
         2
        ],
        [
         180,
         34.63,
         3.55,
         "Male",
         "Yes",
         "Sun",
         "Dinner",
         2
        ],
        [
         181,
         34.65,
         3.68,
         "Male",
         "Yes",
         "Sun",
         "Dinner",
         4
        ],
        [
         182,
         23.33,
         5.65,
         "Male",
         "Yes",
         "Sun",
         "Dinner",
         2
        ],
        [
         183,
         45.35,
         3.5,
         "Male",
         "Yes",
         "Sun",
         "Dinner",
         3
        ],
        [
         184,
         23.17,
         6.5,
         "Male",
         "Yes",
         "Sun",
         "Dinner",
         4
        ],
        [
         185,
         40.55,
         3,
         "Male",
         "Yes",
         "Sun",
         "Dinner",
         2
        ],
        [
         186,
         20.69,
         5,
         "Male",
         "No",
         "Sun",
         "Dinner",
         5
        ],
        [
         187,
         20.9,
         3.5,
         "Female",
         "Yes",
         "Sun",
         "Dinner",
         3
        ],
        [
         188,
         30.46,
         2,
         "Male",
         "Yes",
         "Sun",
         "Dinner",
         5
        ],
        [
         189,
         18.15,
         3.5,
         "Female",
         "Yes",
         "Sun",
         "Dinner",
         3
        ],
        [
         190,
         23.1,
         4,
         "Male",
         "Yes",
         "Sun",
         "Dinner",
         3
        ],
        [
         191,
         15.69,
         1.5,
         "Male",
         "Yes",
         "Sun",
         "Dinner",
         2
        ],
        [
         192,
         19.81,
         4.19,
         "Female",
         "Yes",
         "Thur",
         "Lunch",
         2
        ],
        [
         193,
         28.44,
         2.56,
         "Male",
         "Yes",
         "Thur",
         "Lunch",
         2
        ],
        [
         194,
         15.48,
         2.02,
         "Male",
         "Yes",
         "Thur",
         "Lunch",
         2
        ],
        [
         195,
         16.58,
         4,
         "Male",
         "Yes",
         "Thur",
         "Lunch",
         2
        ],
        [
         196,
         7.56,
         1.44,
         "Male",
         "No",
         "Thur",
         "Lunch",
         2
        ],
        [
         197,
         10.34,
         2,
         "Male",
         "Yes",
         "Thur",
         "Lunch",
         2
        ],
        [
         198,
         43.11,
         5,
         "Female",
         "Yes",
         "Thur",
         "Lunch",
         4
        ],
        [
         199,
         13,
         2,
         "Female",
         "Yes",
         "Thur",
         "Lunch",
         2
        ],
        [
         200,
         13.51,
         2,
         "Male",
         "Yes",
         "Thur",
         "Lunch",
         2
        ],
        [
         201,
         18.71,
         4,
         "Male",
         "Yes",
         "Thur",
         "Lunch",
         3
        ],
        [
         202,
         12.74,
         2.01,
         "Female",
         "Yes",
         "Thur",
         "Lunch",
         2
        ],
        [
         203,
         13,
         2,
         "Female",
         "Yes",
         "Thur",
         "Lunch",
         2
        ],
        [
         204,
         16.4,
         2.5,
         "Female",
         "Yes",
         "Thur",
         "Lunch",
         2
        ],
        [
         205,
         20.53,
         4,
         "Male",
         "Yes",
         "Thur",
         "Lunch",
         4
        ],
        [
         206,
         16.47,
         3.23,
         "Female",
         "Yes",
         "Thur",
         "Lunch",
         3
        ],
        [
         207,
         26.59,
         3.41,
         "Male",
         "Yes",
         "Sat",
         "Dinner",
         3
        ],
        [
         208,
         38.73,
         3,
         "Male",
         "Yes",
         "Sat",
         "Dinner",
         4
        ],
        [
         209,
         24.27,
         2.03,
         "Male",
         "Yes",
         "Sat",
         "Dinner",
         2
        ],
        [
         210,
         12.76,
         2.23,
         "Female",
         "Yes",
         "Sat",
         "Dinner",
         2
        ],
        [
         211,
         30.06,
         2,
         "Male",
         "Yes",
         "Sat",
         "Dinner",
         3
        ],
        [
         212,
         25.89,
         5.16,
         "Male",
         "Yes",
         "Sat",
         "Dinner",
         4
        ],
        [
         213,
         48.33,
         9,
         "Male",
         "No",
         "Sat",
         "Dinner",
         4
        ],
        [
         214,
         13.27,
         2.5,
         "Female",
         "Yes",
         "Sat",
         "Dinner",
         2
        ],
        [
         215,
         28.17,
         6.5,
         "Female",
         "Yes",
         "Sat",
         "Dinner",
         3
        ],
        [
         216,
         12.9,
         1.1,
         "Female",
         "Yes",
         "Sat",
         "Dinner",
         2
        ],
        [
         217,
         28.15,
         3,
         "Male",
         "Yes",
         "Sat",
         "Dinner",
         5
        ],
        [
         218,
         11.59,
         1.5,
         "Male",
         "Yes",
         "Sat",
         "Dinner",
         2
        ],
        [
         219,
         7.74,
         1.44,
         "Male",
         "Yes",
         "Sat",
         "Dinner",
         2
        ],
        [
         220,
         30.14,
         3.09,
         "Female",
         "Yes",
         "Sat",
         "Dinner",
         4
        ],
        [
         221,
         12.16,
         2.2,
         "Male",
         "Yes",
         "Fri",
         "Lunch",
         2
        ],
        [
         222,
         13.42,
         3.48,
         "Female",
         "Yes",
         "Fri",
         "Lunch",
         2
        ],
        [
         223,
         8.58,
         1.92,
         "Male",
         "Yes",
         "Fri",
         "Lunch",
         1
        ],
        [
         224,
         15.98,
         3,
         "Female",
         "No",
         "Fri",
         "Lunch",
         3
        ],
        [
         225,
         13.42,
         1.58,
         "Male",
         "Yes",
         "Fri",
         "Lunch",
         2
        ],
        [
         226,
         16.27,
         2.5,
         "Female",
         "Yes",
         "Fri",
         "Lunch",
         2
        ],
        [
         227,
         10.09,
         2,
         "Female",
         "Yes",
         "Fri",
         "Lunch",
         2
        ],
        [
         228,
         20.45,
         3,
         "Male",
         "No",
         "Sat",
         "Dinner",
         4
        ],
        [
         229,
         13.28,
         2.72,
         "Male",
         "No",
         "Sat",
         "Dinner",
         2
        ],
        [
         230,
         22.12,
         2.88,
         "Female",
         "Yes",
         "Sat",
         "Dinner",
         2
        ],
        [
         231,
         24.01,
         2,
         "Male",
         "Yes",
         "Sat",
         "Dinner",
         4
        ],
        [
         232,
         15.69,
         3,
         "Male",
         "Yes",
         "Sat",
         "Dinner",
         3
        ],
        [
         233,
         11.61,
         3.39,
         "Male",
         "No",
         "Sat",
         "Dinner",
         2
        ],
        [
         234,
         10.77,
         1.47,
         "Male",
         "No",
         "Sat",
         "Dinner",
         2
        ],
        [
         235,
         15.53,
         3,
         "Male",
         "Yes",
         "Sat",
         "Dinner",
         2
        ],
        [
         236,
         10.07,
         1.25,
         "Male",
         "No",
         "Sat",
         "Dinner",
         2
        ],
        [
         237,
         12.6,
         1,
         "Male",
         "Yes",
         "Sat",
         "Dinner",
         2
        ],
        [
         238,
         32.83,
         1.17,
         "Male",
         "Yes",
         "Sat",
         "Dinner",
         2
        ],
        [
         239,
         35.83,
         4.67,
         "Female",
         "No",
         "Sat",
         "Dinner",
         3
        ],
        [
         240,
         29.03,
         5.92,
         "Male",
         "No",
         "Sat",
         "Dinner",
         3
        ],
        [
         241,
         27.18,
         2,
         "Female",
         "Yes",
         "Sat",
         "Dinner",
         2
        ],
        [
         242,
         22.67,
         2,
         "Male",
         "Yes",
         "Sat",
         "Dinner",
         2
        ],
        [
         243,
         17.82,
         1.75,
         "Male",
         "No",
         "Sat",
         "Dinner",
         2
        ],
        [
         244,
         18.78,
         3,
         "Female",
         "No",
         "Thur",
         "Dinner",
         2
        ]
       ],
       "layout": "IPY_MODEL_9f99feeb6d1a448fb81bdbef3f2a6f54",
       "options": {
        "aggregator": "$.pivotUtilities.aggregators[\"Sum over Sum\"]([\"tip\", \"total_bill\"])",
        "cols": [
         "day",
         "time"
        ],
        "renderer": "$.pivotUtilities.renderers[\"Table\"]",
        "rows": [
         "smoker",
         "sex"
        ],
        "vals": [
         "tip",
         "total_bill"
        ]
       },
       "options_init": {
        "aggregator": "$.pivotUtilities.aggregators[\"Sum over Sum\"]([\"tip\", \"total_bill\"])",
        "cols": [
         "day",
         "time"
        ],
        "renderer": "$.pivotUtilities.renderers[\"Heatmap\"]",
        "rows": [
         "sex",
         "smoker"
        ],
        "vals": [
         "tip",
         "total_bill"
        ]
       }
      }
     }
    },
    "version_major": 2,
    "version_minor": 0
   }
  }
 },
 "nbformat": 4,
 "nbformat_minor": 2
}
