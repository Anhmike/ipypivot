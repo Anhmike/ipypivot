{
 "cells": [
  {
   "cell_type": "code",
   "execution_count": null,
   "metadata": {},
   "outputs": [],
   "source": [
    "%load_ext autoreload\n",
    "%autoreload 2"
   ]
  },
  {
   "cell_type": "code",
   "execution_count": null,
   "metadata": {},
   "outputs": [],
   "source": [
    "import pandas as pd\n",
    "import ipypivot as pt"
   ]
  },
  {
   "cell_type": "markdown",
   "metadata": {},
   "source": [
    "# Demo notebook for `ipypivot`\n",
    "+ This [Jupyter widget](https://ipywidgets.readthedocs.io/en/stable/#) wraps the very convenient [pivotTable.js lib](https://pivottable.js.org/examples/)\n",
    "+ The examples below are reproduced from the pivotTable.js [examples page](https://pivottable.js.org/examples/)\n",
    "+ `.Pivot()` corresponds to pivotTable.js [`pivot()` method](https://github.com/nicolaskruchten/pivottable/wiki/Parameters#pivotinput-options-locale)\n",
    "+ `.PivotUI_Box()` corresponds to pivotTable.js [`pivotUI()` method](https://github.com/nicolaskruchten/pivottable/wiki/Parameters#pivotuiinput-options-overwrite-locale)\n",
    "+ data must be input as a [pandas DataFrame](https://pandas.pydata.org/pandas-docs/stable/generated/pandas.DataFrame.html)\n",
    "+ options must be input as a `Pivot_Options` or `PivotUI_Options` object.\n",
    "    + key-values as per the pivotTable.js [documentation](https://github.com/nicolaskruchten/pivottable/wiki/Parameters)\n",
    "    + These objects have first level autocomplete.\n",
    "+ A `PivotUI` object p (say `p` for example) has 2 buttons: **Save** and **Restore**.\n",
    "    + **Save** to snapshot the current configuration into dataframe `p.table.df_export` and dict `p.table.options`.  \n",
    "    _Note_: Options that are javascript functions are discarded when passed to Python\n",
    "    + **Restore** to apply the options saved\n",
    "+ Bidirectional synchronization is applied (see the end of the notebook for examples)\n",
    "    + from JS to Python: as explained above, if you change the table configuration from the JS and hit the **Save** button, it will be saved in the Python side.\n",
    "    + from Python to JS: if any attribute of the `option` object is changed from the Python side, all views will be automatically re-rerendered."
   ]
  },
  {
   "cell_type": "markdown",
   "metadata": {},
   "source": [
    "# Examples of pivot tables\n",
    "## 1 - pivot - Base\n",
    "+ Cf. original in [jsfiddle](https://jsfiddle.net/nicolaskruchten/kn381h7s/)"
   ]
  },
  {
   "cell_type": "code",
   "execution_count": null,
   "metadata": {},
   "outputs": [],
   "source": [
    "df = pt.samples.df_tips\n",
    "p1 = pt.Pivot(df_data=df)\n",
    "opts = p1.options\n",
    "opts.rows = ['sex', 'smoker']\n",
    "opts.cols = ['day', 'time']\n",
    "opts.aggregatorName = 'Sum over Sum'\n",
    "opts.vals = [\"tip\", \"total_bill\"]\n",
    "opts.rendererName = 'Table Heatmap'\n",
    "\n",
    "p1"
   ]
  },
  {
   "cell_type": "code",
   "execution_count": null,
   "metadata": {},
   "outputs": [],
   "source": [
    "p1.options"
   ]
  },
  {
   "cell_type": "markdown",
   "metadata": {},
   "source": [
    "## 2 - pivotUI - Base\n",
    "+ Options as `PivotUI_Options` helper object\n",
    "+ Cf. [original jsfiddle](https://jsfiddle.net/nicolaskruchten/kn381h7s/)"
   ]
  },
  {
   "cell_type": "code",
   "execution_count": null,
   "metadata": {
    "scrolled": true
   },
   "outputs": [],
   "source": [
    "df = pt.samples.df_tips\n",
    "\n",
    "p2 = pt.PivotUI(df_data=df)\n",
    "opts = p2.table.options\n",
    "\n",
    "opts.rows = ['sex', 'smoker']\n",
    "opts.cols = ['day', 'time']\n",
    "opts.vals = ['tip', 'total_bill']\n",
    "opts.aggregatorName = 'Sum over Sum'\n",
    "opts.rendererName = 'Table Heatmap'\n",
    "p2"
   ]
  },
  {
   "cell_type": "code",
   "execution_count": null,
   "metadata": {},
   "outputs": [],
   "source": [
    "p2.table.options.rows = ['sex', 'smoker']"
   ]
  },
  {
   "cell_type": "code",
   "execution_count": null,
   "metadata": {},
   "outputs": [],
   "source": [
    "p2.table._options"
   ]
  },
  {
   "cell_type": "code",
   "execution_count": null,
   "metadata": {
    "scrolled": false
   },
   "outputs": [],
   "source": [
    "p2.table.options"
   ]
  },
  {
   "cell_type": "code",
   "execution_count": null,
   "metadata": {},
   "outputs": [],
   "source": [
    "p2.table.df_export"
   ]
  },
  {
   "cell_type": "markdown",
   "metadata": {},
   "source": [
    "## 3 - pivotUI - derived attributes\n",
    "+ Cf. original in [pivotTable.js example](https://pivottable.js.org/examples/mps.html)"
   ]
  },
  {
   "cell_type": "code",
   "execution_count": null,
   "metadata": {
    "scrolled": false
   },
   "outputs": [],
   "source": [
    "df = pt.samples.df_mps\n",
    "\n",
    "p3 = pt.PivotUI(df_data=df)\n",
    "opts = p3.table.options\n",
    "\n",
    "opts.rows = ['Gender Imbalance']\n",
    "opts.cols = ['Age Bin']\n",
    "opts.derivedAttributes = {\n",
    "    'Age Bin': 'Utilities.derivers.bin(\"Age\", 10)',\n",
    "    'Gender Imbalance': 'function(mp) { return mp[\"Gender\"] == \"Male\" ? 1 : -1; }'    \n",
    "}\n",
    "opts.unusedOrientationCutoff = 100000\n",
    "\n",
    "p3"
   ]
  },
  {
   "cell_type": "markdown",
   "metadata": {},
   "source": [
    "## 5 - pivotUI - prepopulated with click callback\n",
    "+ Cf. [original pivotTable.js example](https://pivottable.js.org/examples/mps_prepop.html)"
   ]
  },
  {
   "cell_type": "code",
   "execution_count": null,
   "metadata": {},
   "outputs": [],
   "source": [
    "df = pt.samples.df_mps\n",
    "\n",
    "p5 = pt.PivotUI(df_data=df)\n",
    "opts = p5.table.options\n",
    "\n",
    "opts.rows = ['Province']\n",
    "opts.cols = ['Party']\n",
    "opts.aggregatorName = 'Integer Sum'\n",
    "opts.vals = ['Age']\n",
    "opts.rendererName = 'Table Heatmap'\n",
    "opts.rendererOptions = {\n",
    "    'table': {\n",
    "        'clickCallback': \"\"\"function(e, value, filters, pivotData){\n",
    "                            var names = [];\n",
    "                            pivotData.forEachMatchingRecord(filters,\n",
    "                                function(record){ names.push(record.Name); });\n",
    "                            alert(names.join(\\\"\\\\n\\\"));\n",
    "                        }\"\"\"\n",
    "    }\n",
    "}\n",
    "\n",
    "print('-> Click on a cell to view the contents')  ### does not work for now...\n",
    "p5"
   ]
  },
  {
   "cell_type": "code",
   "execution_count": null,
   "metadata": {},
   "outputs": [],
   "source": [
    "p5.table.options"
   ]
  },
  {
   "cell_type": "markdown",
   "metadata": {},
   "source": [
    "## 6 - pivotUI - custom aggregators and sort order\n",
    "+ Cf. [original pivotTable.js example](https://pivottable.js.org/examples/mps_agg.html)"
   ]
  },
  {
   "cell_type": "code",
   "execution_count": null,
   "metadata": {},
   "outputs": [],
   "source": [
    "df = pt.samples.df_mps\n",
    "\n",
    "p6 = pt.PivotUI(df_data=df)\n",
    "opts = p6.table.options\n",
    "\n",
    "dic = {\n",
    "    'tpl': 'Utilities.aggregatorTemplates',\n",
    "    'sortAs': 'Utilities.sortAs'\n",
    "}\n",
    "\n",
    "opts.rows = ['Province']\n",
    "opts.cols = ['Party']\n",
    "opts.aggregators = {\n",
    "    \"Number of MPs\":      'function() {{ return {tpl}.count()() }}'.format(**dic),\n",
    "    \"Average Age of MPs\": 'function() {{ return {tpl}.average()([\"Age\"]) }}'.format(**dic)\n",
    "}\n",
    "opts.aggregatorName = 'Number of MPs'\n",
    "opts.sorters = {\n",
    "    'Age': 'function(a,b){ return b-a; }', # sort backwards\n",
    "    'Province': \"\"\"{sortAs}([\"British Columbia\", \"Alberta\", \"Saskatchewan\", \"Manitoba\",\n",
    "                             \"Territories\", \"Ontario\", \"Quebec\", \"New Brunswick\",\n",
    "                             \"Prince Edward Island\", \"Nova Scotia\",\n",
    "                             \"Newfoundland and Labrador\"])\"\"\".format(**dic)\n",
    "}\n",
    "\n",
    "p6"
   ]
  },
  {
   "cell_type": "markdown",
   "metadata": {},
   "source": [
    "## 7 - pivotUI - C3 chart renderer\n",
    "+ Cf. original in [pivotTable.js example](https://pivottable.js.org/examples/c3.html)"
   ]
  },
  {
   "cell_type": "code",
   "execution_count": null,
   "metadata": {
    "scrolled": false
   },
   "outputs": [],
   "source": [
    "df = pt.samples.df_mps\n",
    "\n",
    "p7 = pt.PivotUI(df_data=df)\n",
    "opts = p7.table.options\n",
    "\n",
    "opts.rows = ['Province']\n",
    "opts.cols = ['Party']\n",
    "opts.rendererName = 'Stacked Bar Chart'\n",
    "opts.rowOrder = 'value_a_to_z'\n",
    "opts.colOrder = 'value_z_to_a'\n",
    "\n",
    "\n",
    "p7"
   ]
  },
  {
   "cell_type": "code",
   "execution_count": null,
   "metadata": {},
   "outputs": [],
   "source": [
    "p7.table.options"
   ]
  },
  {
   "cell_type": "markdown",
   "metadata": {},
   "source": [
    "# Below: To Be Changed to another example"
   ]
  },
  {
   "cell_type": "markdown",
   "metadata": {},
   "source": [
    "# Examples of bidirectional synchronization\n",
    "### Saved dataframe\n",
    "\n",
    "+ Snapshot by Save button (first click a few milliseconds post creation)\n",
    "+ Multi-index corresponding to pivot table\n"
   ]
  },
  {
   "cell_type": "code",
   "execution_count": null,
   "metadata": {},
   "outputs": [],
   "source": [
    "# p.table.df_export"
   ]
  },
  {
   "cell_type": "markdown",
   "metadata": {},
   "source": [
    "### Modify options properties\n",
    "\n",
    "+ Triggers re-rendering of all views"
   ]
  },
  {
   "cell_type": "code",
   "execution_count": null,
   "metadata": {
    "scrolled": true
   },
   "outputs": [],
   "source": [
    "#p.table.options.aggregatorName = 'Max Temperature'"
   ]
  },
  {
   "cell_type": "code",
   "execution_count": null,
   "metadata": {},
   "outputs": [],
   "source": [
    "#p.table.options.aggregators = {\n",
    "#    'Mean Temperature': \"function () {{ return {tpl}.average({numberFormat})(['Mean Temp (C)']) }}\".format(**dic),\n",
    "#    'Max Temperature': \"function () {{ return {tpl}.max({numberFormat})(['Max Temp (C)']) }}\".format(**dic)\n",
    "#}"
   ]
  },
  {
   "cell_type": "code",
   "execution_count": null,
   "metadata": {},
   "outputs": [],
   "source": [
    "#p.table.options.rendererOptions = {\n",
    "#    'heatmap': {\n",
    "#        'colorScaleGenerator': \"\"\"function (values) {\n",
    "#            return d3.scale.linear()\n",
    "#                .domain([-20, 0, 20])\n",
    "#                .range(['#77F', '#FFF', '#F77'])\n",
    "#        }\"\"\"\n",
    "#    }\n",
    "#}"
   ]
  },
  {
   "cell_type": "code",
   "execution_count": null,
   "metadata": {},
   "outputs": [],
   "source": [
    "#p.table.options.to_dict()"
   ]
  },
  {
   "cell_type": "code",
   "execution_count": null,
   "metadata": {},
   "outputs": [],
   "source": []
  }
 ],
 "metadata": {
  "kernelspec": {
   "display_name": "Python 3",
   "language": "python",
   "name": "python3"
  },
  "language_info": {
   "codemirror_mode": {
    "name": "ipython",
    "version": 3
   },
   "file_extension": ".py",
   "mimetype": "text/x-python",
   "name": "python",
   "nbconvert_exporter": "python",
   "pygments_lexer": "ipython3",
   "version": "3.6.5"
  },
  "widgets": {
   "application/vnd.jupyter.widget-state+json": {
    "state": {
     "0295f219abf649de8ebad19c54194c9c": {
      "model_module": "ipypivot",
      "model_module_version": "~0.1.1",
      "model_name": "PivotUIBoxModel",
      "state": {
       "children": [
        "IPY_MODEL_db3751d698e74820b276b2d0a1c27ef7",
        "IPY_MODEL_89fecbf2e27f4636ab1efcba744e7b0a"
       ],
       "layout": "IPY_MODEL_eaccf3819e4847068896c6c235047c32"
      }
     },
     "02a77761a5e74ba08ca9d0758b8590bb": {
      "model_module": "@jupyter-widgets/base",
      "model_module_version": "1.0.0",
      "model_name": "LayoutModel",
      "state": {
       "width": "160px"
      }
     },
     "02c2d0a062c3433485c06324e5ab40be": {
      "model_module": "@jupyter-widgets/base",
      "model_module_version": "1.0.0",
      "model_name": "LayoutModel",
      "state": {
       "display": "flex",
       "justify_content": "flex-start"
      }
     },
     "037a6f42ca774ef581f77ab2fce5bae6": {
      "model_module": "@jupyter-widgets/controls",
      "model_module_version": "1.1.0",
      "model_name": "HBoxModel",
      "state": {
       "children": [
        "IPY_MODEL_53b4100231124e3f9b3557cfdf69f3cc",
        "IPY_MODEL_3080b8cbc09648d8a1665a603da9e1db",
        "IPY_MODEL_0e9576d68a8d4864bb73ec2a56fd18fd"
       ],
       "layout": "IPY_MODEL_503454ca31834fbb8102b7876d12db8f"
      }
     },
     "05db59b1f9dd4b05909e3580d1023d01": {
      "model_module": "@jupyter-widgets/controls",
      "model_module_version": "1.1.0",
      "model_name": "ButtonStyleModel",
      "state": {}
     },
     "084285f297304317b3df82d7afb9ecaf": {
      "model_module": "@jupyter-widgets/base",
      "model_module_version": "1.0.0",
      "model_name": "LayoutModel",
      "state": {}
     },
     "0b53c5b2e8604a18855b982672f8548a": {
      "model_module": "@jupyter-widgets/controls",
      "model_module_version": "1.1.0",
      "model_name": "TextModel",
      "state": {
       "disabled": true,
       "layout": "IPY_MODEL_f39b63d1d24c4ac69d2aff4ed3aee234",
       "style": "IPY_MODEL_6e432887bcfe4805a4d0b377deba757e"
      }
     },
     "0d378dea3931435382889108f7ac641e": {
      "model_module": "@jupyter-widgets/base",
      "model_module_version": "1.0.0",
      "model_name": "LayoutModel",
      "state": {}
     },
     "0e9576d68a8d4864bb73ec2a56fd18fd": {
      "model_module": "@jupyter-widgets/controls",
      "model_module_version": "1.1.0",
      "model_name": "TextModel",
      "state": {
       "disabled": true,
       "layout": "IPY_MODEL_69be099d47b945a7a23bb246c6b54ec1",
       "style": "IPY_MODEL_bc483b8fdb4d47e48112acf4c05a7fc1"
      }
     },
     "1044de4f4ad44a65afc21efc0f02cb0e": {
      "model_module": "@jupyter-widgets/base",
      "model_module_version": "1.0.0",
      "model_name": "LayoutModel",
      "state": {}
     },
     "1230b2b927de472dad657e7a8b86fc59": {
      "model_module": "@jupyter-widgets/controls",
      "model_module_version": "1.1.0",
      "model_name": "ButtonModel",
      "state": {
       "description": "Save",
       "layout": "IPY_MODEL_1cd7370dd1c9441ba54fc21e2f466b80",
       "style": "IPY_MODEL_a7ad9578b84d4f93890b3b86bf41646f"
      }
     },
     "12c0cf7d7b894350839bc1ea88661361": {
      "model_module": "@jupyter-widgets/base",
      "model_module_version": "1.0.0",
      "model_name": "LayoutModel",
      "state": {
       "display": "flex",
       "justify_content": "space-around",
       "width": "500px"
      }
     },
     "16bc7eb585e64f8ebc036dddf4a59ba4": {
      "model_module": "@jupyter-widgets/base",
      "model_module_version": "1.0.0",
      "model_name": "LayoutModel",
      "state": {
       "display": "flex",
       "justify_content": "flex-start"
      }
     },
     "1a8457c1eca34806ab3b9ae94253d308": {
      "model_module": "@jupyter-widgets/base",
      "model_module_version": "1.0.0",
      "model_name": "LayoutModel",
      "state": {}
     },
     "1cd7370dd1c9441ba54fc21e2f466b80": {
      "model_module": "@jupyter-widgets/base",
      "model_module_version": "1.0.0",
      "model_name": "LayoutModel",
      "state": {
       "width": "100px"
      }
     },
     "1d4d7c2ead314127bfd525c03a6d29ef": {
      "model_module": "@jupyter-widgets/controls",
      "model_module_version": "1.1.0",
      "model_name": "ButtonStyleModel",
      "state": {}
     },
     "1f3aaaf982cb43a98bf5b68765aad904": {
      "model_module": "@jupyter-widgets/base",
      "model_module_version": "1.0.0",
      "model_name": "LayoutModel",
      "state": {
       "width": "100px"
      }
     },
     "2105887d38c847288d21c556fcf1caf5": {
      "model_module": "@jupyter-widgets/base",
      "model_module_version": "1.0.0",
      "model_name": "LayoutModel",
      "state": {
       "width": "160px"
      }
     },
     "252d1a8b47734ed7876717afc7af1993": {
      "model_module": "@jupyter-widgets/controls",
      "model_module_version": "1.1.0",
      "model_name": "ButtonStyleModel",
      "state": {}
     },
     "2cc082dbc37146578bbd1a4878e14ecd": {
      "model_module": "@jupyter-widgets/controls",
      "model_module_version": "1.1.0",
      "model_name": "HBoxModel",
      "state": {
       "children": [
        "IPY_MODEL_67bcea9f2b6a4b22abd1688ff3371944",
        "IPY_MODEL_8cb5906b71354ba1bc77333086cd2d2e",
        "IPY_MODEL_60391f6d2a074b1ea036400f33f2e349"
       ],
       "layout": "IPY_MODEL_02c2d0a062c3433485c06324e5ab40be"
      }
     },
     "2e0b59b1fe8441329f4baf0d8e71f8a8": {
      "model_module": "ipypivot",
      "model_module_version": "~0.1.1",
      "model_name": "PivotModel",
      "state": {
       "_data": [
        [
         "row",
         "total_bill",
         "tip",
         "sex",
         "smoker",
         "day",
         "time",
         "size"
        ],
        [
         1,
         16.99,
         1.01,
         "Female",
         "No",
         "Sun",
         "Dinner",
         2
        ],
        [
         2,
         10.34,
         1.66,
         "Male",
         "No",
         "Sun",
         "Dinner",
         3
        ],
        [
         3,
         21.01,
         3.5,
         "Male",
         "No",
         "Sun",
         "Dinner",
         3
        ],
        [
         4,
         23.68,
         3.31,
         "Male",
         "No",
         "Sun",
         "Dinner",
         2
        ],
        [
         5,
         24.59,
         3.61,
         "Female",
         "No",
         "Sun",
         "Dinner",
         4
        ],
        [
         6,
         25.29,
         4.71,
         "Male",
         "No",
         "Sun",
         "Dinner",
         4
        ],
        [
         7,
         8.77,
         2,
         "Male",
         "No",
         "Sun",
         "Dinner",
         2
        ],
        [
         8,
         26.88,
         3.12,
         "Male",
         "No",
         "Sun",
         "Dinner",
         4
        ],
        [
         9,
         15.04,
         1.96,
         "Male",
         "No",
         "Sun",
         "Dinner",
         2
        ],
        [
         10,
         14.78,
         3.23,
         "Male",
         "No",
         "Sun",
         "Dinner",
         2
        ],
        [
         11,
         10.27,
         1.71,
         "Male",
         "No",
         "Sun",
         "Dinner",
         2
        ],
        [
         12,
         35.26,
         5,
         "Female",
         "No",
         "Sun",
         "Dinner",
         4
        ],
        [
         13,
         15.42,
         1.57,
         "Male",
         "No",
         "Sun",
         "Dinner",
         2
        ],
        [
         14,
         18.43,
         3,
         "Male",
         "No",
         "Sun",
         "Dinner",
         4
        ],
        [
         15,
         14.83,
         3.02,
         "Female",
         "No",
         "Sun",
         "Dinner",
         2
        ],
        [
         16,
         21.58,
         3.92,
         "Male",
         "No",
         "Sun",
         "Dinner",
         2
        ],
        [
         17,
         10.33,
         1.67,
         "Female",
         "No",
         "Sun",
         "Dinner",
         3
        ],
        [
         18,
         16.29,
         3.71,
         "Male",
         "No",
         "Sun",
         "Dinner",
         3
        ],
        [
         19,
         16.97,
         3.5,
         "Female",
         "No",
         "Sun",
         "Dinner",
         3
        ],
        [
         20,
         20.65,
         3.35,
         "Male",
         "No",
         "Sat",
         "Dinner",
         3
        ],
        [
         21,
         17.92,
         4.08,
         "Male",
         "No",
         "Sat",
         "Dinner",
         2
        ],
        [
         22,
         20.29,
         2.75,
         "Female",
         "No",
         "Sat",
         "Dinner",
         2
        ],
        [
         23,
         15.77,
         2.23,
         "Female",
         "No",
         "Sat",
         "Dinner",
         2
        ],
        [
         24,
         39.42,
         7.58,
         "Male",
         "No",
         "Sat",
         "Dinner",
         4
        ],
        [
         25,
         19.82,
         3.18,
         "Male",
         "No",
         "Sat",
         "Dinner",
         2
        ],
        [
         26,
         17.81,
         2.34,
         "Male",
         "No",
         "Sat",
         "Dinner",
         4
        ],
        [
         27,
         13.37,
         2,
         "Male",
         "No",
         "Sat",
         "Dinner",
         2
        ],
        [
         28,
         12.69,
         2,
         "Male",
         "No",
         "Sat",
         "Dinner",
         2
        ],
        [
         29,
         21.7,
         4.3,
         "Male",
         "No",
         "Sat",
         "Dinner",
         2
        ],
        [
         30,
         19.65,
         3,
         "Female",
         "No",
         "Sat",
         "Dinner",
         2
        ],
        [
         31,
         9.55,
         1.45,
         "Male",
         "No",
         "Sat",
         "Dinner",
         2
        ],
        [
         32,
         18.35,
         2.5,
         "Male",
         "No",
         "Sat",
         "Dinner",
         4
        ],
        [
         33,
         15.06,
         3,
         "Female",
         "No",
         "Sat",
         "Dinner",
         2
        ],
        [
         34,
         20.69,
         2.45,
         "Female",
         "No",
         "Sat",
         "Dinner",
         4
        ],
        [
         35,
         17.78,
         3.27,
         "Male",
         "No",
         "Sat",
         "Dinner",
         2
        ],
        [
         36,
         24.06,
         3.6,
         "Male",
         "No",
         "Sat",
         "Dinner",
         3
        ],
        [
         37,
         16.31,
         2,
         "Male",
         "No",
         "Sat",
         "Dinner",
         3
        ],
        [
         38,
         16.93,
         3.07,
         "Female",
         "No",
         "Sat",
         "Dinner",
         3
        ],
        [
         39,
         18.69,
         2.31,
         "Male",
         "No",
         "Sat",
         "Dinner",
         3
        ],
        [
         40,
         31.27,
         5,
         "Male",
         "No",
         "Sat",
         "Dinner",
         3
        ],
        [
         41,
         16.04,
         2.24,
         "Male",
         "No",
         "Sat",
         "Dinner",
         3
        ],
        [
         42,
         17.46,
         2.54,
         "Male",
         "No",
         "Sun",
         "Dinner",
         2
        ],
        [
         43,
         13.94,
         3.06,
         "Male",
         "No",
         "Sun",
         "Dinner",
         2
        ],
        [
         44,
         9.68,
         1.32,
         "Male",
         "No",
         "Sun",
         "Dinner",
         2
        ],
        [
         45,
         30.4,
         5.6,
         "Male",
         "No",
         "Sun",
         "Dinner",
         4
        ],
        [
         46,
         18.29,
         3,
         "Male",
         "No",
         "Sun",
         "Dinner",
         2
        ],
        [
         47,
         22.23,
         5,
         "Male",
         "No",
         "Sun",
         "Dinner",
         2
        ],
        [
         48,
         32.4,
         6,
         "Male",
         "No",
         "Sun",
         "Dinner",
         4
        ],
        [
         49,
         28.55,
         2.05,
         "Male",
         "No",
         "Sun",
         "Dinner",
         3
        ],
        [
         50,
         18.04,
         3,
         "Male",
         "No",
         "Sun",
         "Dinner",
         2
        ],
        [
         51,
         12.54,
         2.5,
         "Male",
         "No",
         "Sun",
         "Dinner",
         2
        ],
        [
         52,
         10.29,
         2.6,
         "Female",
         "No",
         "Sun",
         "Dinner",
         2
        ],
        [
         53,
         34.81,
         5.2,
         "Female",
         "No",
         "Sun",
         "Dinner",
         4
        ],
        [
         54,
         9.94,
         1.56,
         "Male",
         "No",
         "Sun",
         "Dinner",
         2
        ],
        [
         55,
         25.56,
         4.34,
         "Male",
         "No",
         "Sun",
         "Dinner",
         4
        ],
        [
         56,
         19.49,
         3.51,
         "Male",
         "No",
         "Sun",
         "Dinner",
         2
        ],
        [
         57,
         38.01,
         3,
         "Male",
         "Yes",
         "Sat",
         "Dinner",
         4
        ],
        [
         58,
         26.41,
         1.5,
         "Female",
         "No",
         "Sat",
         "Dinner",
         2
        ],
        [
         59,
         11.24,
         1.76,
         "Male",
         "Yes",
         "Sat",
         "Dinner",
         2
        ],
        [
         60,
         48.27,
         6.73,
         "Male",
         "No",
         "Sat",
         "Dinner",
         4
        ],
        [
         61,
         20.29,
         3.21,
         "Male",
         "Yes",
         "Sat",
         "Dinner",
         2
        ],
        [
         62,
         13.81,
         2,
         "Male",
         "Yes",
         "Sat",
         "Dinner",
         2
        ],
        [
         63,
         11.02,
         1.98,
         "Male",
         "Yes",
         "Sat",
         "Dinner",
         2
        ],
        [
         64,
         18.29,
         3.76,
         "Male",
         "Yes",
         "Sat",
         "Dinner",
         4
        ],
        [
         65,
         17.59,
         2.64,
         "Male",
         "No",
         "Sat",
         "Dinner",
         3
        ],
        [
         66,
         20.08,
         3.15,
         "Male",
         "No",
         "Sat",
         "Dinner",
         3
        ],
        [
         67,
         16.45,
         2.47,
         "Female",
         "No",
         "Sat",
         "Dinner",
         2
        ],
        [
         68,
         3.07,
         1,
         "Female",
         "Yes",
         "Sat",
         "Dinner",
         1
        ],
        [
         69,
         20.23,
         2.01,
         "Male",
         "No",
         "Sat",
         "Dinner",
         2
        ],
        [
         70,
         15.01,
         2.09,
         "Male",
         "Yes",
         "Sat",
         "Dinner",
         2
        ],
        [
         71,
         12.02,
         1.97,
         "Male",
         "No",
         "Sat",
         "Dinner",
         2
        ],
        [
         72,
         17.07,
         3,
         "Female",
         "No",
         "Sat",
         "Dinner",
         3
        ],
        [
         73,
         26.86,
         3.14,
         "Female",
         "Yes",
         "Sat",
         "Dinner",
         2
        ],
        [
         74,
         25.28,
         5,
         "Female",
         "Yes",
         "Sat",
         "Dinner",
         2
        ],
        [
         75,
         14.73,
         2.2,
         "Female",
         "No",
         "Sat",
         "Dinner",
         2
        ],
        [
         76,
         10.51,
         1.25,
         "Male",
         "No",
         "Sat",
         "Dinner",
         2
        ],
        [
         77,
         17.92,
         3.08,
         "Male",
         "Yes",
         "Sat",
         "Dinner",
         2
        ],
        [
         78,
         27.2,
         4,
         "Male",
         "No",
         "Thur",
         "Lunch",
         4
        ],
        [
         79,
         22.76,
         3,
         "Male",
         "No",
         "Thur",
         "Lunch",
         2
        ],
        [
         80,
         17.29,
         2.71,
         "Male",
         "No",
         "Thur",
         "Lunch",
         2
        ],
        [
         81,
         19.44,
         3,
         "Male",
         "Yes",
         "Thur",
         "Lunch",
         2
        ],
        [
         82,
         16.66,
         3.4,
         "Male",
         "No",
         "Thur",
         "Lunch",
         2
        ],
        [
         83,
         10.07,
         1.83,
         "Female",
         "No",
         "Thur",
         "Lunch",
         1
        ],
        [
         84,
         32.68,
         5,
         "Male",
         "Yes",
         "Thur",
         "Lunch",
         2
        ],
        [
         85,
         15.98,
         2.03,
         "Male",
         "No",
         "Thur",
         "Lunch",
         2
        ],
        [
         86,
         34.83,
         5.17,
         "Female",
         "No",
         "Thur",
         "Lunch",
         4
        ],
        [
         87,
         13.03,
         2,
         "Male",
         "No",
         "Thur",
         "Lunch",
         2
        ],
        [
         88,
         18.28,
         4,
         "Male",
         "No",
         "Thur",
         "Lunch",
         2
        ],
        [
         89,
         24.71,
         5.85,
         "Male",
         "No",
         "Thur",
         "Lunch",
         2
        ],
        [
         90,
         21.16,
         3,
         "Male",
         "No",
         "Thur",
         "Lunch",
         2
        ],
        [
         91,
         28.97,
         3,
         "Male",
         "Yes",
         "Fri",
         "Dinner",
         2
        ],
        [
         92,
         22.49,
         3.5,
         "Male",
         "No",
         "Fri",
         "Dinner",
         2
        ],
        [
         93,
         5.75,
         1,
         "Female",
         "Yes",
         "Fri",
         "Dinner",
         2
        ],
        [
         94,
         16.32,
         4.3,
         "Female",
         "Yes",
         "Fri",
         "Dinner",
         2
        ],
        [
         95,
         22.75,
         3.25,
         "Female",
         "No",
         "Fri",
         "Dinner",
         2
        ],
        [
         96,
         40.17,
         4.73,
         "Male",
         "Yes",
         "Fri",
         "Dinner",
         4
        ],
        [
         97,
         27.28,
         4,
         "Male",
         "Yes",
         "Fri",
         "Dinner",
         2
        ],
        [
         98,
         12.03,
         1.5,
         "Male",
         "Yes",
         "Fri",
         "Dinner",
         2
        ],
        [
         99,
         21.01,
         3,
         "Male",
         "Yes",
         "Fri",
         "Dinner",
         2
        ],
        [
         100,
         12.46,
         1.5,
         "Male",
         "No",
         "Fri",
         "Dinner",
         2
        ],
        [
         101,
         11.35,
         2.5,
         "Female",
         "Yes",
         "Fri",
         "Dinner",
         2
        ],
        [
         102,
         15.38,
         3,
         "Female",
         "Yes",
         "Fri",
         "Dinner",
         2
        ],
        [
         103,
         44.3,
         2.5,
         "Female",
         "Yes",
         "Sat",
         "Dinner",
         3
        ],
        [
         104,
         22.42,
         3.48,
         "Female",
         "Yes",
         "Sat",
         "Dinner",
         2
        ],
        [
         105,
         20.92,
         4.08,
         "Female",
         "No",
         "Sat",
         "Dinner",
         2
        ],
        [
         106,
         15.36,
         1.64,
         "Male",
         "Yes",
         "Sat",
         "Dinner",
         2
        ],
        [
         107,
         20.49,
         4.06,
         "Male",
         "Yes",
         "Sat",
         "Dinner",
         2
        ],
        [
         108,
         25.21,
         4.29,
         "Male",
         "Yes",
         "Sat",
         "Dinner",
         2
        ],
        [
         109,
         18.24,
         3.76,
         "Male",
         "No",
         "Sat",
         "Dinner",
         2
        ],
        [
         110,
         14.31,
         4,
         "Female",
         "Yes",
         "Sat",
         "Dinner",
         2
        ],
        [
         111,
         14,
         3,
         "Male",
         "No",
         "Sat",
         "Dinner",
         2
        ],
        [
         112,
         7.25,
         1,
         "Female",
         "No",
         "Sat",
         "Dinner",
         1
        ],
        [
         113,
         38.07,
         4,
         "Male",
         "No",
         "Sun",
         "Dinner",
         3
        ],
        [
         114,
         23.95,
         2.55,
         "Male",
         "No",
         "Sun",
         "Dinner",
         2
        ],
        [
         115,
         25.71,
         4,
         "Female",
         "No",
         "Sun",
         "Dinner",
         3
        ],
        [
         116,
         17.31,
         3.5,
         "Female",
         "No",
         "Sun",
         "Dinner",
         2
        ],
        [
         117,
         29.93,
         5.07,
         "Male",
         "No",
         "Sun",
         "Dinner",
         4
        ],
        [
         118,
         10.65,
         1.5,
         "Female",
         "No",
         "Thur",
         "Lunch",
         2
        ],
        [
         119,
         12.43,
         1.8,
         "Female",
         "No",
         "Thur",
         "Lunch",
         2
        ],
        [
         120,
         24.08,
         2.92,
         "Female",
         "No",
         "Thur",
         "Lunch",
         4
        ],
        [
         121,
         11.69,
         2.31,
         "Male",
         "No",
         "Thur",
         "Lunch",
         2
        ],
        [
         122,
         13.42,
         1.68,
         "Female",
         "No",
         "Thur",
         "Lunch",
         2
        ],
        [
         123,
         14.26,
         2.5,
         "Male",
         "No",
         "Thur",
         "Lunch",
         2
        ],
        [
         124,
         15.95,
         2,
         "Male",
         "No",
         "Thur",
         "Lunch",
         2
        ],
        [
         125,
         12.48,
         2.52,
         "Female",
         "No",
         "Thur",
         "Lunch",
         2
        ],
        [
         126,
         29.8,
         4.2,
         "Female",
         "No",
         "Thur",
         "Lunch",
         6
        ],
        [
         127,
         8.52,
         1.48,
         "Male",
         "No",
         "Thur",
         "Lunch",
         2
        ],
        [
         128,
         14.52,
         2,
         "Female",
         "No",
         "Thur",
         "Lunch",
         2
        ],
        [
         129,
         11.38,
         2,
         "Female",
         "No",
         "Thur",
         "Lunch",
         2
        ],
        [
         130,
         22.82,
         2.18,
         "Male",
         "No",
         "Thur",
         "Lunch",
         3
        ],
        [
         131,
         19.08,
         1.5,
         "Male",
         "No",
         "Thur",
         "Lunch",
         2
        ],
        [
         132,
         20.27,
         2.83,
         "Female",
         "No",
         "Thur",
         "Lunch",
         2
        ],
        [
         133,
         11.17,
         1.5,
         "Female",
         "No",
         "Thur",
         "Lunch",
         2
        ],
        [
         134,
         12.26,
         2,
         "Female",
         "No",
         "Thur",
         "Lunch",
         2
        ],
        [
         135,
         18.26,
         3.25,
         "Female",
         "No",
         "Thur",
         "Lunch",
         2
        ],
        [
         136,
         8.51,
         1.25,
         "Female",
         "No",
         "Thur",
         "Lunch",
         2
        ],
        [
         137,
         10.33,
         2,
         "Female",
         "No",
         "Thur",
         "Lunch",
         2
        ],
        [
         138,
         14.15,
         2,
         "Female",
         "No",
         "Thur",
         "Lunch",
         2
        ],
        [
         139,
         16,
         2,
         "Male",
         "Yes",
         "Thur",
         "Lunch",
         2
        ],
        [
         140,
         13.16,
         2.75,
         "Female",
         "No",
         "Thur",
         "Lunch",
         2
        ],
        [
         141,
         17.47,
         3.5,
         "Female",
         "No",
         "Thur",
         "Lunch",
         2
        ],
        [
         142,
         34.3,
         6.7,
         "Male",
         "No",
         "Thur",
         "Lunch",
         6
        ],
        [
         143,
         41.19,
         5,
         "Male",
         "No",
         "Thur",
         "Lunch",
         5
        ],
        [
         144,
         27.05,
         5,
         "Female",
         "No",
         "Thur",
         "Lunch",
         6
        ],
        [
         145,
         16.43,
         2.3,
         "Female",
         "No",
         "Thur",
         "Lunch",
         2
        ],
        [
         146,
         8.35,
         1.5,
         "Female",
         "No",
         "Thur",
         "Lunch",
         2
        ],
        [
         147,
         18.64,
         1.36,
         "Female",
         "No",
         "Thur",
         "Lunch",
         3
        ],
        [
         148,
         11.87,
         1.63,
         "Female",
         "No",
         "Thur",
         "Lunch",
         2
        ],
        [
         149,
         9.78,
         1.73,
         "Male",
         "No",
         "Thur",
         "Lunch",
         2
        ],
        [
         150,
         7.51,
         2,
         "Male",
         "No",
         "Thur",
         "Lunch",
         2
        ],
        [
         151,
         14.07,
         2.5,
         "Male",
         "No",
         "Sun",
         "Dinner",
         2
        ],
        [
         152,
         13.13,
         2,
         "Male",
         "No",
         "Sun",
         "Dinner",
         2
        ],
        [
         153,
         17.26,
         2.74,
         "Male",
         "No",
         "Sun",
         "Dinner",
         3
        ],
        [
         154,
         24.55,
         2,
         "Male",
         "No",
         "Sun",
         "Dinner",
         4
        ],
        [
         155,
         19.77,
         2,
         "Male",
         "No",
         "Sun",
         "Dinner",
         4
        ],
        [
         156,
         29.85,
         5.14,
         "Female",
         "No",
         "Sun",
         "Dinner",
         5
        ],
        [
         157,
         48.17,
         5,
         "Male",
         "No",
         "Sun",
         "Dinner",
         6
        ],
        [
         158,
         25,
         3.75,
         "Female",
         "No",
         "Sun",
         "Dinner",
         4
        ],
        [
         159,
         13.39,
         2.61,
         "Female",
         "No",
         "Sun",
         "Dinner",
         2
        ],
        [
         160,
         16.49,
         2,
         "Male",
         "No",
         "Sun",
         "Dinner",
         4
        ],
        [
         161,
         21.5,
         3.5,
         "Male",
         "No",
         "Sun",
         "Dinner",
         4
        ],
        [
         162,
         12.66,
         2.5,
         "Male",
         "No",
         "Sun",
         "Dinner",
         2
        ],
        [
         163,
         16.21,
         2,
         "Female",
         "No",
         "Sun",
         "Dinner",
         3
        ],
        [
         164,
         13.81,
         2,
         "Male",
         "No",
         "Sun",
         "Dinner",
         2
        ],
        [
         165,
         17.51,
         3,
         "Female",
         "Yes",
         "Sun",
         "Dinner",
         2
        ],
        [
         166,
         24.52,
         3.48,
         "Male",
         "No",
         "Sun",
         "Dinner",
         3
        ],
        [
         167,
         20.76,
         2.24,
         "Male",
         "No",
         "Sun",
         "Dinner",
         2
        ],
        [
         168,
         31.71,
         4.5,
         "Male",
         "No",
         "Sun",
         "Dinner",
         4
        ],
        [
         169,
         10.59,
         1.61,
         "Female",
         "Yes",
         "Sat",
         "Dinner",
         2
        ],
        [
         170,
         10.63,
         2,
         "Female",
         "Yes",
         "Sat",
         "Dinner",
         2
        ],
        [
         171,
         50.81,
         10,
         "Male",
         "Yes",
         "Sat",
         "Dinner",
         3
        ],
        [
         172,
         15.81,
         3.16,
         "Male",
         "Yes",
         "Sat",
         "Dinner",
         2
        ],
        [
         173,
         7.25,
         5.15,
         "Male",
         "Yes",
         "Sun",
         "Dinner",
         2
        ],
        [
         174,
         31.85,
         3.18,
         "Male",
         "Yes",
         "Sun",
         "Dinner",
         2
        ],
        [
         175,
         16.82,
         4,
         "Male",
         "Yes",
         "Sun",
         "Dinner",
         2
        ],
        [
         176,
         32.9,
         3.11,
         "Male",
         "Yes",
         "Sun",
         "Dinner",
         2
        ],
        [
         177,
         17.89,
         2,
         "Male",
         "Yes",
         "Sun",
         "Dinner",
         2
        ],
        [
         178,
         14.48,
         2,
         "Male",
         "Yes",
         "Sun",
         "Dinner",
         2
        ],
        [
         179,
         9.6,
         4,
         "Female",
         "Yes",
         "Sun",
         "Dinner",
         2
        ],
        [
         180,
         34.63,
         3.55,
         "Male",
         "Yes",
         "Sun",
         "Dinner",
         2
        ],
        [
         181,
         34.65,
         3.68,
         "Male",
         "Yes",
         "Sun",
         "Dinner",
         4
        ],
        [
         182,
         23.33,
         5.65,
         "Male",
         "Yes",
         "Sun",
         "Dinner",
         2
        ],
        [
         183,
         45.35,
         3.5,
         "Male",
         "Yes",
         "Sun",
         "Dinner",
         3
        ],
        [
         184,
         23.17,
         6.5,
         "Male",
         "Yes",
         "Sun",
         "Dinner",
         4
        ],
        [
         185,
         40.55,
         3,
         "Male",
         "Yes",
         "Sun",
         "Dinner",
         2
        ],
        [
         186,
         20.69,
         5,
         "Male",
         "No",
         "Sun",
         "Dinner",
         5
        ],
        [
         187,
         20.9,
         3.5,
         "Female",
         "Yes",
         "Sun",
         "Dinner",
         3
        ],
        [
         188,
         30.46,
         2,
         "Male",
         "Yes",
         "Sun",
         "Dinner",
         5
        ],
        [
         189,
         18.15,
         3.5,
         "Female",
         "Yes",
         "Sun",
         "Dinner",
         3
        ],
        [
         190,
         23.1,
         4,
         "Male",
         "Yes",
         "Sun",
         "Dinner",
         3
        ],
        [
         191,
         15.69,
         1.5,
         "Male",
         "Yes",
         "Sun",
         "Dinner",
         2
        ],
        [
         192,
         19.81,
         4.19,
         "Female",
         "Yes",
         "Thur",
         "Lunch",
         2
        ],
        [
         193,
         28.44,
         2.56,
         "Male",
         "Yes",
         "Thur",
         "Lunch",
         2
        ],
        [
         194,
         15.48,
         2.02,
         "Male",
         "Yes",
         "Thur",
         "Lunch",
         2
        ],
        [
         195,
         16.58,
         4,
         "Male",
         "Yes",
         "Thur",
         "Lunch",
         2
        ],
        [
         196,
         7.56,
         1.44,
         "Male",
         "No",
         "Thur",
         "Lunch",
         2
        ],
        [
         197,
         10.34,
         2,
         "Male",
         "Yes",
         "Thur",
         "Lunch",
         2
        ],
        [
         198,
         43.11,
         5,
         "Female",
         "Yes",
         "Thur",
         "Lunch",
         4
        ],
        [
         199,
         13,
         2,
         "Female",
         "Yes",
         "Thur",
         "Lunch",
         2
        ],
        [
         200,
         13.51,
         2,
         "Male",
         "Yes",
         "Thur",
         "Lunch",
         2
        ],
        [
         201,
         18.71,
         4,
         "Male",
         "Yes",
         "Thur",
         "Lunch",
         3
        ],
        [
         202,
         12.74,
         2.01,
         "Female",
         "Yes",
         "Thur",
         "Lunch",
         2
        ],
        [
         203,
         13,
         2,
         "Female",
         "Yes",
         "Thur",
         "Lunch",
         2
        ],
        [
         204,
         16.4,
         2.5,
         "Female",
         "Yes",
         "Thur",
         "Lunch",
         2
        ],
        [
         205,
         20.53,
         4,
         "Male",
         "Yes",
         "Thur",
         "Lunch",
         4
        ],
        [
         206,
         16.47,
         3.23,
         "Female",
         "Yes",
         "Thur",
         "Lunch",
         3
        ],
        [
         207,
         26.59,
         3.41,
         "Male",
         "Yes",
         "Sat",
         "Dinner",
         3
        ],
        [
         208,
         38.73,
         3,
         "Male",
         "Yes",
         "Sat",
         "Dinner",
         4
        ],
        [
         209,
         24.27,
         2.03,
         "Male",
         "Yes",
         "Sat",
         "Dinner",
         2
        ],
        [
         210,
         12.76,
         2.23,
         "Female",
         "Yes",
         "Sat",
         "Dinner",
         2
        ],
        [
         211,
         30.06,
         2,
         "Male",
         "Yes",
         "Sat",
         "Dinner",
         3
        ],
        [
         212,
         25.89,
         5.16,
         "Male",
         "Yes",
         "Sat",
         "Dinner",
         4
        ],
        [
         213,
         48.33,
         9,
         "Male",
         "No",
         "Sat",
         "Dinner",
         4
        ],
        [
         214,
         13.27,
         2.5,
         "Female",
         "Yes",
         "Sat",
         "Dinner",
         2
        ],
        [
         215,
         28.17,
         6.5,
         "Female",
         "Yes",
         "Sat",
         "Dinner",
         3
        ],
        [
         216,
         12.9,
         1.1,
         "Female",
         "Yes",
         "Sat",
         "Dinner",
         2
        ],
        [
         217,
         28.15,
         3,
         "Male",
         "Yes",
         "Sat",
         "Dinner",
         5
        ],
        [
         218,
         11.59,
         1.5,
         "Male",
         "Yes",
         "Sat",
         "Dinner",
         2
        ],
        [
         219,
         7.74,
         1.44,
         "Male",
         "Yes",
         "Sat",
         "Dinner",
         2
        ],
        [
         220,
         30.14,
         3.09,
         "Female",
         "Yes",
         "Sat",
         "Dinner",
         4
        ],
        [
         221,
         12.16,
         2.2,
         "Male",
         "Yes",
         "Fri",
         "Lunch",
         2
        ],
        [
         222,
         13.42,
         3.48,
         "Female",
         "Yes",
         "Fri",
         "Lunch",
         2
        ],
        [
         223,
         8.58,
         1.92,
         "Male",
         "Yes",
         "Fri",
         "Lunch",
         1
        ],
        [
         224,
         15.98,
         3,
         "Female",
         "No",
         "Fri",
         "Lunch",
         3
        ],
        [
         225,
         13.42,
         1.58,
         "Male",
         "Yes",
         "Fri",
         "Lunch",
         2
        ],
        [
         226,
         16.27,
         2.5,
         "Female",
         "Yes",
         "Fri",
         "Lunch",
         2
        ],
        [
         227,
         10.09,
         2,
         "Female",
         "Yes",
         "Fri",
         "Lunch",
         2
        ],
        [
         228,
         20.45,
         3,
         "Male",
         "No",
         "Sat",
         "Dinner",
         4
        ],
        [
         229,
         13.28,
         2.72,
         "Male",
         "No",
         "Sat",
         "Dinner",
         2
        ],
        [
         230,
         22.12,
         2.88,
         "Female",
         "Yes",
         "Sat",
         "Dinner",
         2
        ],
        [
         231,
         24.01,
         2,
         "Male",
         "Yes",
         "Sat",
         "Dinner",
         4
        ],
        [
         232,
         15.69,
         3,
         "Male",
         "Yes",
         "Sat",
         "Dinner",
         3
        ],
        [
         233,
         11.61,
         3.39,
         "Male",
         "No",
         "Sat",
         "Dinner",
         2
        ],
        [
         234,
         10.77,
         1.47,
         "Male",
         "No",
         "Sat",
         "Dinner",
         2
        ],
        [
         235,
         15.53,
         3,
         "Male",
         "Yes",
         "Sat",
         "Dinner",
         2
        ],
        [
         236,
         10.07,
         1.25,
         "Male",
         "No",
         "Sat",
         "Dinner",
         2
        ],
        [
         237,
         12.6,
         1,
         "Male",
         "Yes",
         "Sat",
         "Dinner",
         2
        ],
        [
         238,
         32.83,
         1.17,
         "Male",
         "Yes",
         "Sat",
         "Dinner",
         2
        ],
        [
         239,
         35.83,
         4.67,
         "Female",
         "No",
         "Sat",
         "Dinner",
         3
        ],
        [
         240,
         29.03,
         5.92,
         "Male",
         "No",
         "Sat",
         "Dinner",
         3
        ],
        [
         241,
         27.18,
         2,
         "Female",
         "Yes",
         "Sat",
         "Dinner",
         2
        ],
        [
         242,
         22.67,
         2,
         "Male",
         "Yes",
         "Sat",
         "Dinner",
         2
        ],
        [
         243,
         17.82,
         1.75,
         "Male",
         "No",
         "Sat",
         "Dinner",
         2
        ],
        [
         244,
         18.78,
         3,
         "Female",
         "No",
         "Thur",
         "Dinner",
         2
        ]
       ],
       "_options": {
        "aggregator": "$.pivotUtilities.aggregators[\"Sum over Sum\"]([\"tip\", \"total_bill\"])",
        "cols": [
         "day",
         "time"
        ],
        "renderer": "$.pivotUtilities.renderers[\"Heatmap\"]",
        "rows": [
         "sex",
         "smoker"
        ],
        "vals": [
         "tip",
         "total_bill"
        ]
       },
       "layout": "IPY_MODEL_1a8457c1eca34806ab3b9ae94253d308"
      }
     },
     "2e9e80a1b0824228a470643a352116a3": {
      "model_module": "@jupyter-widgets/base",
      "model_module_version": "1.0.0",
      "model_name": "LayoutModel",
      "state": {
       "width": "100px"
      }
     },
     "3047e7f598224b6e9a11c4926e52f350": {
      "model_module": "@jupyter-widgets/base",
      "model_module_version": "1.0.0",
      "model_name": "LayoutModel",
      "state": {
       "width": "100px"
      }
     },
     "3080b8cbc09648d8a1665a603da9e1db": {
      "model_module": "@jupyter-widgets/controls",
      "model_module_version": "1.1.0",
      "model_name": "ButtonModel",
      "state": {
       "description": "Restore",
       "layout": "IPY_MODEL_1f3aaaf982cb43a98bf5b68765aad904",
       "style": "IPY_MODEL_dea302596d1b4858a9b984db9e0e1a9d"
      }
     },
     "32a633582f814b3fa37eb15a56ac9094": {
      "model_module": "@jupyter-widgets/base",
      "model_module_version": "1.0.0",
      "model_name": "LayoutModel",
      "state": {}
     },
     "32d12f6b9af4469793ff96513d244654": {
      "model_module": "@jupyter-widgets/base",
      "model_module_version": "1.0.0",
      "model_name": "LayoutModel",
      "state": {
       "width": "100px"
      }
     },
     "3303f13c9e5246b29e183f17a06fa595": {
      "model_module": "@jupyter-widgets/base",
      "model_module_version": "1.0.0",
      "model_name": "LayoutModel",
      "state": {}
     },
     "379ae57b4cae416cac7ec4a7dee07b3b": {
      "model_module": "@jupyter-widgets/controls",
      "model_module_version": "1.1.0",
      "model_name": "ButtonStyleModel",
      "state": {}
     },
     "39ad3c8a3cc7437dbf3e4afa4787d334": {
      "model_module": "@jupyter-widgets/base",
      "model_module_version": "1.0.0",
      "model_name": "LayoutModel",
      "state": {}
     },
     "3af432630df14c179703716b6d41cc77": {
      "model_module": "@jupyter-widgets/controls",
      "model_module_version": "1.1.0",
      "model_name": "HBoxModel",
      "state": {
       "children": [
        "IPY_MODEL_67bcea9f2b6a4b22abd1688ff3371944",
        "IPY_MODEL_8cb5906b71354ba1bc77333086cd2d2e",
        "IPY_MODEL_60391f6d2a074b1ea036400f33f2e349"
       ],
       "layout": "IPY_MODEL_12c0cf7d7b894350839bc1ea88661361"
      }
     },
     "3d39c29c1b1349178c2b165bd2b400e3": {
      "model_module": "@jupyter-widgets/controls",
      "model_module_version": "1.1.0",
      "model_name": "HBoxModel",
      "state": {
       "children": [
        "IPY_MODEL_de5e1c1ea71c4e20abd3ba7e64798368",
        "IPY_MODEL_c1daae95a8e240e0b5e0925095739001",
        "IPY_MODEL_ba304476690748ffa653e7c9088ff588"
       ],
       "layout": "IPY_MODEL_44cf5856765241cc88c3d9a5ff1c3ecf"
      }
     },
     "448dacb5df4148fa82dae96cb7379050": {
      "model_module": "@jupyter-widgets/controls",
      "model_module_version": "1.1.0",
      "model_name": "ButtonStyleModel",
      "state": {}
     },
     "44cf5856765241cc88c3d9a5ff1c3ecf": {
      "model_module": "@jupyter-widgets/base",
      "model_module_version": "1.0.0",
      "model_name": "LayoutModel",
      "state": {
       "display": "flex",
       "justify_content": "space-around",
       "width": "500px"
      }
     },
     "4bd0e25e8b7d4001a29e17f48b8c87fa": {
      "model_module": "@jupyter-widgets/base",
      "model_module_version": "1.0.0",
      "model_name": "LayoutModel",
      "state": {
       "width": "160px"
      }
     },
     "503454ca31834fbb8102b7876d12db8f": {
      "model_module": "@jupyter-widgets/base",
      "model_module_version": "1.0.0",
      "model_name": "LayoutModel",
      "state": {
       "display": "flex",
       "justify_content": "flex-start"
      }
     },
     "52ce28d79ada4fcb8f2b6496fd680ccb": {
      "model_module": "@jupyter-widgets/base",
      "model_module_version": "1.0.0",
      "model_name": "LayoutModel",
      "state": {}
     },
     "53b4100231124e3f9b3557cfdf69f3cc": {
      "model_module": "@jupyter-widgets/controls",
      "model_module_version": "1.1.0",
      "model_name": "ButtonModel",
      "state": {
       "description": "Save",
       "layout": "IPY_MODEL_9f0478a3086f4aeb98d4cc1650e8123c",
       "style": "IPY_MODEL_379ae57b4cae416cac7ec4a7dee07b3b"
      }
     },
     "53fb039951b3408388e5ae42dafd7c76": {
      "model_module": "@jupyter-widgets/base",
      "model_module_version": "1.0.0",
      "model_name": "LayoutModel",
      "state": {
       "width": "100px"
      }
     },
     "56c3750b510d4632bdabfac009eb8477": {
      "model_module": "@jupyter-widgets/base",
      "model_module_version": "1.0.0",
      "model_name": "LayoutModel",
      "state": {
       "width": "100px"
      }
     },
     "58b7fd6343eb4624bc5ececa711c93ec": {
      "model_module": "@jupyter-widgets/base",
      "model_module_version": "1.0.0",
      "model_name": "LayoutModel",
      "state": {
       "width": "100px"
      }
     },
     "5981d637dd3549a2ade5fcbac7ad2dae": {
      "model_module": "@jupyter-widgets/base",
      "model_module_version": "1.0.0",
      "model_name": "LayoutModel",
      "state": {}
     },
     "59d0a20600ba499e9d91c8dfad88f9a0": {
      "model_module": "@jupyter-widgets/base",
      "model_module_version": "1.0.0",
      "model_name": "LayoutModel",
      "state": {
       "display": "flex",
       "justify_content": "space-around",
       "width": "500px"
      }
     },
     "5b564916f0124b888046fbd6c0e17b20": {
      "model_module": "@jupyter-widgets/base",
      "model_module_version": "1.0.0",
      "model_name": "LayoutModel",
      "state": {}
     },
     "60391f6d2a074b1ea036400f33f2e349": {
      "model_module": "@jupyter-widgets/controls",
      "model_module_version": "1.1.0",
      "model_name": "TextModel",
      "state": {
       "disabled": true,
       "layout": "IPY_MODEL_c799261e9c3346128d8309c8afd0f05b",
       "style": "IPY_MODEL_f22a84c8381e44e5b503042c15387e2d"
      }
     },
     "66a658d7dede4275b700380fe43e8012": {
      "model_module": "@jupyter-widgets/controls",
      "model_module_version": "1.1.0",
      "model_name": "ButtonModel",
      "state": {
       "description": "Save",
       "layout": "IPY_MODEL_58b7fd6343eb4624bc5ececa711c93ec",
       "style": "IPY_MODEL_c26874c77da84e11954d21d7f8323d2d"
      }
     },
     "67bcea9f2b6a4b22abd1688ff3371944": {
      "model_module": "@jupyter-widgets/controls",
      "model_module_version": "1.1.0",
      "model_name": "ButtonModel",
      "state": {
       "description": "Save",
       "layout": "IPY_MODEL_ad858301b2f74d5fb5e0ce9179f755ef",
       "style": "IPY_MODEL_448dacb5df4148fa82dae96cb7379050"
      }
     },
     "69be099d47b945a7a23bb246c6b54ec1": {
      "model_module": "@jupyter-widgets/base",
      "model_module_version": "1.0.0",
      "model_name": "LayoutModel",
      "state": {
       "width": "160px"
      }
     },
     "6b582e9fe16b4d44a5bfe2f0ca030136": {
      "model_module": "@jupyter-widgets/controls",
      "model_module_version": "1.1.0",
      "model_name": "ButtonStyleModel",
      "state": {}
     },
     "6e432887bcfe4805a4d0b377deba757e": {
      "model_module": "@jupyter-widgets/controls",
      "model_module_version": "1.1.0",
      "model_name": "DescriptionStyleModel",
      "state": {
       "description_width": ""
      }
     },
     "6f2c0642872047239ae85386747cbfcc": {
      "model_module": "@jupyter-widgets/controls",
      "model_module_version": "1.1.0",
      "model_name": "HBoxModel",
      "state": {
       "children": [
        "IPY_MODEL_a9dd03f2a4754743af4cfa13ad442300",
        "IPY_MODEL_bc08cb4651354d89b7d7df964973c890",
        "IPY_MODEL_92f20d1c05d34c82a5f9e4c53878a26e"
       ],
       "layout": "IPY_MODEL_b996f3cc947d4e71a625bf122ceb9c72"
      }
     },
     "705863bedfcf470da9e37388d19317a6": {
      "model_module": "@jupyter-widgets/base",
      "model_module_version": "1.0.0",
      "model_name": "LayoutModel",
      "state": {}
     },
     "70e09066943042a1803022214e212c95": {
      "model_module": "@jupyter-widgets/base",
      "model_module_version": "1.0.0",
      "model_name": "LayoutModel",
      "state": {
       "display": "flex",
       "justify_content": "space-around",
       "width": "500px"
      }
     },
     "777f609a1d8f413999dc2fe2f03b4c39": {
      "model_module": "@jupyter-widgets/base",
      "model_module_version": "1.0.0",
      "model_name": "LayoutModel",
      "state": {
       "width": "100px"
      }
     },
     "7a11f1a7b7ae444dae75f0af865dbc6c": {
      "model_module": "ipypivot",
      "model_module_version": "~0.1.1",
      "model_name": "PivotUIModel",
      "state": {
       "_data": [
        [
         "Name",
         "Party",
         "Province",
         "Age",
         "Gender"
        ],
        [
         "Liu, Laurin",
         "NDP",
         "Quebec",
         22,
         "Female"
        ],
        [
         "Mourani, Maria",
         "Bloc Quebecois",
         "Quebec",
         43,
         "Female"
        ],
        [
         "Sellah, Djaouida",
         "NDP",
         "Quebec",
         "nan",
         "Female"
        ],
        [
         "St-Denis, Lise",
         "NDP",
         "Quebec",
         72,
         "Female"
        ],
        [
         "Fry, Hedy",
         "Liberal",
         "British Columbia",
         71,
         "Female"
        ],
        [
         "Turmel, Nycole",
         "NDP",
         "Quebec",
         70,
         "Female"
        ],
        [
         "Sgro, Judy",
         "Liberal",
         "Ontario",
         68,
         "Female"
        ],
        [
         "Raynault, Francine",
         "NDP",
         "Quebec",
         67,
         "Female"
        ],
        [
         "Davidson, Patricia",
         "Conservative",
         "Ontario",
         66,
         "Female"
        ],
        [
         "Smith, Joy",
         "Conservative",
         "Manitoba",
         65,
         "Female"
        ],
        [
         "Wong, Alice",
         "Conservative",
         "British Columbia",
         64,
         "Female"
        ],
        [
         "O'Neill Gordon, Tilly",
         "Conservative",
         "New Brunswick",
         63,
         "Female"
        ],
        [
         "Ablonczy, Diane",
         "Conservative",
         "Alberta",
         63,
         "Female"
        ],
        [
         "Duncan, Linda Francis",
         "NDP",
         "Alberta",
         63,
         "Female"
        ],
        [
         "Bennett, Carolyn",
         "Liberal",
         "Ontario",
         62,
         "Female"
        ],
        [
         "Nash, Peggy",
         "NDP",
         "Ontario",
         61,
         "Female"
        ],
        [
         "Mathyssen, Irene",
         "NDP",
         "Ontario",
         61,
         "Female"
        ],
        [
         "Sims, Jinny Jogindera",
         "NDP",
         "British Columbia",
         60,
         "Female"
        ],
        [
         "Foote, Judy",
         "Liberal",
         "Newfoundland and Labrador",
         60,
         "Female"
        ],
        [
         "Crowder, Jean",
         "NDP",
         "British Columbia",
         60,
         "Female"
        ],
        [
         "Davies, Libby",
         "NDP",
         "British Columbia",
         59,
         "Female"
        ],
        [
         "Yelich, Lynne",
         "Conservative",
         "Saskatchewan",
         59,
         "Female"
        ],
        [
         "Day, Anne-Marie",
         "NDP",
         "Quebec",
         58,
         "Female"
        ],
        [
         "May, Elizabeth",
         "Green",
         "British Columbia",
         58,
         "Female"
        ],
        [
         "Murray, Joyce",
         "Liberal",
         "British Columbia",
         58,
         "Female"
        ],
        [
         "Findlay, Kerry-Lynne D.",
         "Conservative",
         "British Columbia",
         57,
         "Female"
        ],
        [
         "Brown, Lois",
         "Conservative",
         "Ontario",
         57,
         "Female"
        ],
        [
         "Laverdière, Hélène",
         "NDP",
         "Quebec",
         57,
         "Female"
        ],
        [
         "Boutin-Sweet, Marjolaine",
         "NDP",
         "Quebec",
         57,
         "Female"
        ],
        [
         "Crockatt, Joan",
         "Conservative",
         "Alberta",
         56,
         "Female"
        ],
        [
         "Chow, Olivia",
         "NDP",
         "Ontario",
         55,
         "Female"
        ],
        [
         "McLeod, Cathy",
         "Conservative",
         "British Columbia",
         55,
         "Female"
        ],
        [
         "Finley, Diane",
         "Conservative",
         "Ontario",
         55,
         "Female"
        ],
        [
         "LeBlanc, Hélène",
         "NDP",
         "Quebec",
         54,
         "Female"
        ],
        [
         "Grewal, Nina",
         "Conservative",
         "British Columbia",
         54,
         "Female"
        ],
        [
         "Hughes, Carol",
         "NDP",
         "Ontario",
         54,
         "Female"
        ],
        [
         "Shea, Gail",
         "Conservative",
         "Prince Edward Island",
         53,
         "Female"
        ],
        [
         "Truppe, Susan",
         "Conservative",
         "Ontario",
         53,
         "Female"
        ],
        [
         "Young, Wai",
         "Conservative",
         "British Columbia",
         52,
         "Female"
        ],
        [
         "Gallant, Cheryl",
         "Conservative",
         "Ontario",
         52,
         "Female"
        ],
        [
         "Boivin, Françoise",
         "NDP",
         "Quebec",
         52,
         "Female"
        ],
        [
         "Block, Kelly",
         "Conservative",
         "Saskatchewan",
         51,
         "Female"
        ],
        [
         "Ayala, Paulina",
         "NDP",
         "Quebec",
         50,
         "Female"
        ],
        [
         "Groguhé, Sadia",
         "NDP",
         "Quebec",
         50,
         "Female"
        ],
        [
         "Charlton, Chris",
         "NDP",
         "Ontario",
         49,
         "Female"
        ],
        [
         "Bergen, Candice",
         "Conservative",
         "Manitoba",
         48,
         "Female"
        ],
        [
         "Perreault, Manon",
         "NDP",
         "Quebec",
         46,
         "Female"
        ],
        [
         "James, Roxanne",
         "Conservative",
         "Ontario",
         46,
         "Female"
        ],
        [
         "Ambler, Stella",
         "Conservative",
         "Ontario",
         46,
         "Female"
        ],
        [
         "Duncan, Kirsty",
         "Liberal",
         "Ontario",
         46,
         "Female"
        ],
        [
         "Glover, Shelly",
         "Conservative",
         "Manitoba",
         45,
         "Female"
        ],
        [
         "Aglukkaq, Leona",
         "Conservative",
         "Territories",
         45,
         "Female"
        ],
        [
         "Raitt, Lisa",
         "Conservative",
         "Ontario",
         44,
         "Female"
        ],
        [
         "Ambrose, Rona",
         "Conservative",
         "Alberta",
         43,
         "Female"
        ],
        [
         "Leitch, Kellie",
         "Conservative",
         "Ontario",
         42,
         "Female"
        ],
        [
         "Leslie, Megan",
         "NDP",
         "Nova Scotia",
         39,
         "Female"
        ],
        [
         "Hassainia, Sana",
         "NDP",
         "Quebec",
         38,
         "Female"
        ],
        [
         "Adams, Eve",
         "Conservative",
         "Ontario",
         38,
         "Female"
        ],
        [
         "Rempel, Michelle",
         "Conservative",
         "Alberta",
         32,
         "Female"
        ],
        [
         "Papillon, Annick",
         "NDP",
         "Quebec",
         32,
         "Female"
        ],
        [
         "Sitsabaiesan, Rathika",
         "NDP",
         "Ontario",
         31,
         "Female"
        ],
        [
         "Quach, Anne Minh-Thu",
         "NDP",
         "Quebec",
         30,
         "Female"
        ],
        [
         "Ashton, Niki",
         "NDP",
         "Manitoba",
         30,
         "Female"
        ],
        [
         "Moore, Christine",
         "NDP",
         "Quebec",
         29,
         "Female"
        ],
        [
         "Morin, Isabelle",
         "NDP",
         "Quebec",
         28,
         "Female"
        ],
        [
         "Blanchette-Lamothe, Lysane",
         "NDP",
         "Quebec",
         28,
         "Female"
        ],
        [
         "Brosseau, Ruth Ellen",
         "NDP",
         "Quebec",
         28,
         "Female"
        ],
        [
         "Latendresse, Alexandrine",
         "NDP",
         "Quebec",
         28,
         "Female"
        ],
        [
         "Doré Lefebvre, Rosane",
         "NDP",
         "Quebec",
         28,
         "Female"
        ],
        [
         "Morin, Marie-Claude",
         "NDP",
         "Quebec",
         27,
         "Female"
        ],
        [
         "Michaud, Élaine",
         "NDP",
         "Quebec",
         27,
         "Female"
        ],
        [
         "Péclet, Ève",
         "NDP",
         "Quebec",
         24,
         "Female"
        ],
        [
         "Freeman, Mylène",
         "NDP",
         "Quebec",
         23,
         "Female"
        ],
        [
         "Borg, Charmaine",
         "NDP",
         "Quebec",
         22,
         "Female"
        ],
        [
         "Bateman, Joyce",
         "Conservative",
         "Manitoba",
         "nan",
         "Female"
        ],
        [
         "Hiebert, Russ",
         "Conservative",
         "British Columbia",
         43,
         "Male"
        ],
        [
         "Jacob, Pierre",
         "NDP",
         "Quebec",
         59,
         "Male"
        ],
        [
         "Vellacott, Maurice",
         "Conservative",
         "Saskatchewan",
         57,
         "Male"
        ],
        [
         "Boughen, Ray",
         "Conservative",
         "Saskatchewan",
         75,
         "Male"
        ],
        [
         "O'Connor, Gordon",
         "Conservative",
         "Ontario",
         73,
         "Male"
        ],
        [
         "Cotler, Irwin",
         "Liberal",
         "Quebec",
         72,
         "Male"
        ],
        [
         "Oliver, Joe",
         "Conservative",
         "Ontario",
         72,
         "Male"
        ],
        [
         "Tilson, David Allan",
         "Conservative",
         "Ontario",
         71,
         "Male"
        ],
        [
         "Fantino, Julian",
         "Conservative",
         "Ontario",
         70,
         "Male"
        ],
        [
         "Kent, Peter",
         "Conservative",
         "Ontario",
         69,
         "Male"
        ],
        [
         "Plamondon, Louis",
         "Bloc Quebecois",
         "Quebec",
         69,
         "Male"
        ],
        [
         "Schellenberger, Gary",
         "Conservative",
         "Ontario",
         69,
         "Male"
        ],
        [
         "Lauzon, Guy",
         "Conservative",
         "Ontario",
         68,
         "Male"
        ],
        [
         "Harris, Richard M.",
         "Conservative",
         "British Columbia",
         68,
         "Male"
        ],
        [
         "Goldring, Peter",
         "Conservative",
         "Alberta",
         68,
         "Male"
        ],
        [
         "Atamanenko, Alex",
         "NDP",
         "British Columbia",
         67,
         "Male"
        ],
        [
         "Payne, LaVar",
         "Conservative",
         "Alberta",
         67,
         "Male"
        ],
        [
         "Breitkreuz, Garry W.",
         "Conservative",
         "Saskatchewan",
         67,
         "Male"
        ],
        [
         "Genest, Réjean",
         "NDP",
         "Quebec",
         66,
         "Male"
        ],
        [
         "MacKenzie, Dave",
         "Conservative",
         "Ontario",
         66,
         "Male"
        ],
        [
         "Hyer, Bruce",
         "NDP",
         "Ontario",
         66,
         "Male"
        ],
        [
         "MacAulay, Lawrence",
         "Liberal",
         "Prince Edward Island",
         66,
         "Male"
        ],
        [
         "Galipeau, Royal",
         "Conservative",
         "Ontario",
         65,
         "Male"
        ],
        [
         "Marston, Wayne",
         "NDP",
         "Ontario",
         65,
         "Male"
        ],
        [
         "Hawn, Laurie",
         "Conservative",
         "Alberta",
         65,
         "Male"
        ],
        [
         "Kramp, Daryl",
         "Conservative",
         "Ontario",
         65,
         "Male"
        ],
        [
         "Shipley, Bev",
         "Conservative",
         "Ontario",
         65,
         "Male"
        ],
        [
         "Kerr, Greg",
         "Conservative",
         "Nova Scotia",
         65,
         "Male"
        ],
        [
         "Comartin, Joe",
         "NDP",
         "Ontario",
         65,
         "Male"
        ],
        [
         "Norlock, Rick",
         "Conservative",
         "Ontario",
         64,
         "Male"
        ],
        [
         "McKay, John",
         "Liberal",
         "Ontario",
         64,
         "Male"
        ],
        [
         "Mayes, Colin",
         "Conservative",
         "British Columbia",
         64,
         "Male"
        ],
        [
         "Rae, Bob",
         "Liberal",
         "Ontario",
         64,
         "Male"
        ],
        [
         "Harris, Jack",
         "NDP",
         "Newfoundland and Labrador",
         64,
         "Male"
        ],
        [
         "Duncan, John",
         "Conservative",
         "British Columbia",
         64,
         "Male"
        ],
        [
         "Chisu, Corneliu",
         "Conservative",
         "Ontario",
         63,
         "Male"
        ],
        [
         "Garneau, Marc",
         "Liberal",
         "Quebec",
         63,
         "Male"
        ],
        [
         "Easter, Arnold Wayne",
         "Liberal",
         "Prince Edward Island",
         63,
         "Male"
        ],
        [
         "Aspin, Jay",
         "Conservative",
         "Ontario",
         63,
         "Male"
        ],
        [
         "Goodale, Ralph",
         "Liberal",
         "Saskatchewan",
         63,
         "Male"
        ],
        [
         "Albrecht, Harold",
         "Conservative",
         "Ontario",
         63,
         "Male"
        ],
        [
         "Gravelle, Claude",
         "NDP",
         "Ontario",
         63,
         "Male"
        ],
        [
         "Komarnicki, Ed",
         "Conservative",
         "Saskatchewan",
         63,
         "Male"
        ],
        [
         "Flaherty, James Michael (Jim)",
         "Conservative",
         "Ontario",
         62,
         "Male"
        ],
        [
         "Rankin, Murray",
         "NDP",
         "British Columbia",
         62,
         "Male"
        ],
        [
         "McCallum, John",
         "Liberal",
         "Ontario",
         62,
         "Male"
        ],
        [
         "Warawa, Mark",
         "Conservative",
         "British Columbia",
         62,
         "Male"
        ],
        [
         "Obhrai, Deepak",
         "Conservative",
         "Alberta",
         62,
         "Male"
        ],
        [
         "Benoit, Leon Earl",
         "Conservative",
         "Alberta",
         62,
         "Male"
        ],
        [
         "Leung, Chungsen",
         "Conservative",
         "Ontario",
         62,
         "Male"
        ],
        [
         "Morin, Marc-André",
         "NDP",
         "Quebec",
         61,
         "Male"
        ],
        [
         "Sopuck, Robert",
         "Conservative",
         "Manitoba",
         61,
         "Male"
        ],
        [
         "Ritz, Gerry",
         "Conservative",
         "Saskatchewan",
         61,
         "Male"
        ],
        [
         "Garrison, Randall",
         "NDP",
         "British Columbia",
         61,
         "Male"
        ],
        [
         "Lunney, James",
         "Conservative",
         "British Columbia",
         61,
         "Male"
        ],
        [
         "Lukiwski, Tom",
         "Conservative",
         "Saskatchewan",
         61,
         "Male"
        ],
        [
         "Carmichael, John",
         "Conservative",
         "Ontario",
         60,
         "Male"
        ],
        [
         "Menzies, Ted",
         "Conservative",
         "Alberta",
         60,
         "Male"
        ],
        [
         "Valcourt, Bernard",
         "Conservative",
         "New Brunswick",
         60,
         "Male"
        ],
        [
         "Ashfield, Keith",
         "Conservative",
         "New Brunswick",
         60,
         "Male"
        ],
        [
         "Nicholson, Rob",
         "Conservative",
         "Ontario",
         60,
         "Male"
        ],
        [
         "Young, Terence H.",
         "Conservative",
         "Ontario",
         60,
         "Male"
        ],
        [
         "Toews, Vic",
         "Conservative",
         "Manitoba",
         60,
         "Male"
        ],
        [
         "Sullivan, Mike",
         "NDP",
         "Ontario",
         60,
         "Male"
        ],
        [
         "Patry, Claude",
         "NDP",
         "Quebec",
         59,
         "Male"
        ],
        [
         "Keddy, Gerald",
         "Conservative",
         "Nova Scotia",
         59,
         "Male"
        ],
        [
         "Bevington, Dennis Fraser",
         "NDP",
         "Territories",
         59,
         "Male"
        ],
        [
         "Allen, Malcolm",
         "NDP",
         "Ontario",
         59,
         "Male"
        ],
        [
         "Rafferty, John",
         "NDP",
         "Ontario",
         59,
         "Male"
        ],
        [
         "Dreeshen, Earl",
         "Conservative",
         "Alberta",
         59,
         "Male"
        ],
        [
         "Kamp, Randy",
         "Conservative",
         "British Columbia",
         59,
         "Male"
        ],
        [
         "Merrifield, Rob",
         "Conservative",
         "Alberta",
         59,
         "Male"
        ],
        [
         "Woodworth, Stephen",
         "Conservative",
         "Ontario",
         58,
         "Male"
        ],
        [
         "McColeman, Phil",
         "Conservative",
         "Ontario",
         58,
         "Male"
        ],
        [
         "Lebel, Denis",
         "Conservative",
         "Quebec",
         58,
         "Male"
        ],
        [
         "Lizon, Wladyslaw",
         "Conservative",
         "Ontario",
         58,
         "Male"
        ],
        [
         "Holder, Ed",
         "Conservative",
         "Ontario",
         58,
         "Male"
        ],
        [
         "Valeriote, Frank",
         "Liberal",
         "Ontario",
         58,
         "Male"
        ],
        [
         "Christopherson, David",
         "NDP",
         "Ontario",
         58,
         "Male"
        ],
        [
         "Mulcair, Thomas J.",
         "NDP",
         "Quebec",
         58,
         "Male"
        ],
        [
         "Daniel, Joe",
         "Conservative",
         "Ontario",
         58,
         "Male"
        ],
        [
         "Karygiannis, Jim",
         "Liberal",
         "Ontario",
         57,
         "Male"
        ],
        [
         "Godin, Yvon",
         "NDP",
         "New Brunswick",
         57,
         "Male"
        ],
        [
         "Dionne Labelle, Pierre",
         "NDP",
         "Quebec",
         57,
         "Male"
        ],
        [
         "Preston, Joe",
         "Conservative",
         "Ontario",
         57,
         "Male"
        ],
        [
         "Bélanger, Mauril",
         "Liberal",
         "Ontario",
         57,
         "Male"
        ],
        [
         "Fast, Edward",
         "Conservative",
         "British Columbia",
         57,
         "Male"
        ],
        [
         "Tweed, Mervin C.",
         "Conservative",
         "Manitoba",
         57,
         "Male"
        ],
        [
         "Dion, Stéphane",
         "Liberal",
         "Quebec",
         57,
         "Male"
        ],
        [
         "Van Kesteren, Dave",
         "Conservative",
         "Ontario",
         57,
         "Male"
        ],
        [
         "Cuzner, Rodger",
         "Liberal",
         "Nova Scotia",
         57,
         "Male"
        ],
        [
         "Martin, Pat",
         "NDP",
         "Manitoba",
         57,
         "Male"
        ],
        [
         "Stoffer, Peter",
         "NDP",
         "Nova Scotia",
         56,
         "Male"
        ],
        [
         "Miller, Larry",
         "Conservative",
         "Ontario",
         56,
         "Male"
        ],
        [
         "Blanchette, Denis",
         "NDP",
         "Quebec",
         56,
         "Male"
        ],
        [
         "Nunez-Melo, José",
         "NDP",
         "Quebec",
         56,
         "Male"
        ],
        [
         "Goguen, Robert",
         "Conservative",
         "New Brunswick",
         55,
         "Male"
        ],
        [
         "Scarpaleggia, Francis",
         "Liberal",
         "Quebec",
         55,
         "Male"
        ],
        [
         "Sweet, David",
         "Conservative",
         "Ontario",
         55,
         "Male"
        ],
        [
         "Anderson, David",
         "Conservative",
         "Saskatchewan",
         55,
         "Male"
        ],
        [
         "Chisholm, Robert",
         "NDP",
         "Nova Scotia",
         55,
         "Male"
        ],
        [
         "Stanton, Bruce",
         "Conservative",
         "Ontario",
         55,
         "Male"
        ],
        [
         "Goodyear, Gary",
         "Conservative",
         "Ontario",
         54,
         "Male"
        ],
        [
         "Weston, John",
         "Conservative",
         "British Columbia",
         54,
         "Male"
        ],
        [
         "Dechert, Bob",
         "Conservative",
         "Ontario",
         54,
         "Male"
        ],
        [
         "Shory, Devinder",
         "Conservative",
         "Alberta",
         54,
         "Male"
        ],
        [
         "Pilon, François",
         "NDP",
         "Quebec",
         54,
         "Male"
        ],
        [
         "Hayes, Bryan",
         "Conservative",
         "Ontario",
         54,
         "Male"
        ],
        [
         "Giguère, Alain",
         "NDP",
         "Quebec",
         54,
         "Male"
        ],
        [
         "Sorenson, Kevin",
         "Conservative",
         "Alberta",
         54,
         "Male"
        ],
        [
         "Benskin, Tyrone",
         "NDP",
         "Quebec",
         53,
         "Male"
        ],
        [
         "Menegakis, Costas",
         "Conservative",
         "Ontario",
         53,
         "Male"
        ],
        [
         "Harper, Stephen",
         "Conservative",
         "Alberta",
         53,
         "Male"
        ],
        [
         "Wilks, David",
         "Conservative",
         "British Columbia",
         53,
         "Male"
        ],
        [
         "Regan, Geoff",
         "Liberal",
         "Nova Scotia",
         53,
         "Male"
        ],
        [
         "McGuinty, David",
         "Liberal",
         "Ontario",
         52,
         "Male"
        ],
        [
         "Gosal, Bal",
         "Conservative",
         "Ontario",
         52,
         "Male"
        ],
        [
         "Aubin, Robert",
         "NDP",
         "Quebec",
         52,
         "Male"
        ],
        [
         "Eyking, Mark",
         "Liberal",
         "Nova Scotia",
         52,
         "Male"
        ],
        [
         "Brown, Gordon",
         "Conservative",
         "Ontario",
         52,
         "Male"
        ],
        [
         "Allen, Mike",
         "Conservative",
         "New Brunswick",
         52,
         "Male"
        ],
        [
         "Clement, Tony",
         "Conservative",
         "Ontario",
         51,
         "Male"
        ],
        [
         "Cannan, Ronald",
         "Conservative",
         "British Columbia",
         51,
         "Male"
        ],
        [
         "Rousseau, Jean",
         "NDP",
         "Quebec",
         51,
         "Male"
        ],
        [
         "Opitz, Ted",
         "Conservative",
         "Ontario",
         51,
         "Male"
        ],
        [
         "Toet, Lawrence",
         "Conservative",
         "Manitoba",
         50,
         "Male"
        ],
        [
         "Cash, Andrew",
         "NDP",
         "Ontario",
         50,
         "Male"
        ],
        [
         "Lamoureux, Kevin",
         "Liberal",
         "Manitoba",
         50,
         "Male"
        ],
        [
         "Scott, Craig",
         "NDP",
         "Ontario",
         50,
         "Male"
        ],
        [
         "Adler, Mark",
         "Conservative",
         "Ontario",
         50,
         "Male"
        ],
        [
         "Carrie, Colin",
         "Conservative",
         "Ontario",
         50,
         "Male"
        ],
        [
         "Julian, Peter",
         "NDP",
         "British Columbia",
         50,
         "Male"
        ],
        [
         "Pacetti, Massimo",
         "Liberal",
         "Quebec",
         50,
         "Male"
        ],
        [
         "Saganash, Romeo",
         "NDP",
         "Quebec",
         50,
         "Male"
        ],
        [
         "Angus, Charlie",
         "NDP",
         "Ontario",
         50,
         "Male"
        ],
        [
         "Davies, Don",
         "NDP",
         "British Columbia",
         49,
         "Male"
        ],
        [
         "Bernier, Maxime",
         "Conservative",
         "Quebec",
         49,
         "Male"
        ],
        [
         "Dewar, Paul",
         "NDP",
         "Ontario",
         49,
         "Male"
        ],
        [
         "Jean, Brian",
         "Conservative",
         "Alberta",
         49,
         "Male"
        ],
        [
         "Devolin, Barry",
         "Conservative",
         "Ontario",
         49,
         "Male"
        ],
        [
         "Lemieux, Pierre",
         "Conservative",
         "Ontario",
         49,
         "Male"
        ],
        [
         "Van Loan, Peter",
         "Conservative",
         "Ontario",
         49,
         "Male"
        ],
        [
         "Casey, Sean",
         "Liberal",
         "Prince Edward Island",
         49,
         "Male"
        ],
        [
         "Nantel, Pierre",
         "NDP",
         "Quebec",
         49,
         "Male"
        ],
        [
         "Coderre, Denis",
         "Liberal",
         "Quebec",
         49,
         "Male"
        ],
        [
         "Wallace, Mike",
         "Conservative",
         "Ontario",
         49,
         "Male"
        ],
        [
         "Braid, Peter",
         "Conservative",
         "Ontario",
         48,
         "Male"
        ],
        [
         "Gourde, Jacques",
         "Conservative",
         "Quebec",
         48,
         "Male"
        ],
        [
         "Reid, Scott",
         "Conservative",
         "Ontario",
         48,
         "Male"
        ],
        [
         "Hsu, Ted",
         "Liberal",
         "Ontario",
         48,
         "Male"
        ],
        [
         "Saxton, Andrew",
         "Conservative",
         "British Columbia",
         48,
         "Male"
        ],
        [
         "Weston, Rodney",
         "Conservative",
         "New Brunswick",
         48,
         "Male"
        ],
        [
         "Penashue, Peter",
         "Conservative",
         "Newfoundland and Labrador",
         48,
         "Male"
        ],
        [
         "Bellavance, André",
         "Bloc Quebecois",
         "Quebec",
         48,
         "Male"
        ],
        [
         "Rathgeber, Brent",
         "Conservative",
         "Alberta",
         48,
         "Male"
        ],
        [
         "Kellway, Matthew",
         "NDP",
         "Ontario",
         48,
         "Male"
        ],
        [
         "Toone, Philip",
         "NDP",
         "Quebec",
         47,
         "Male"
        ],
        [
         "Allison, Dean",
         "Conservative",
         "Ontario",
         47,
         "Male"
        ],
        [
         "Trottier, Bernard",
         "Conservative",
         "Ontario",
         47,
         "Male"
        ],
        [
         "Blaney, Steven",
         "Conservative",
         "Quebec",
         47,
         "Male"
        ],
        [
         "Bezan, James",
         "Conservative",
         "Manitoba",
         47,
         "Male"
        ],
        [
         "MacKay, Peter Gordon",
         "Conservative",
         "Nova Scotia",
         47,
         "Male"
        ],
        [
         "Dykstra, Richard",
         "Conservative",
         "Ontario",
         46,
         "Male"
        ],
        [
         "Sandhu, Jasbir",
         "NDP",
         "British Columbia",
         46,
         "Male"
        ],
        [
         "Donnelly, Fin",
         "NDP",
         "British Columbia",
         46,
         "Male"
        ],
        [
         "Armstrong, Scott",
         "Conservative",
         "Nova Scotia",
         46,
         "Male"
        ],
        [
         "Byrne, Gerry",
         "Liberal",
         "Newfoundland and Labrador",
         46,
         "Male"
        ],
        [
         "Stewart, Kennedy",
         "NDP",
         "British Columbia",
         46,
         "Male"
        ],
        [
         "Cleary, Ryan",
         "NDP",
         "Newfoundland and Labrador",
         46,
         "Male"
        ],
        [
         "Côté, Raymond",
         "NDP",
         "Quebec",
         45,
         "Male"
        ],
        [
         "Clarke, Rob",
         "Conservative",
         "Saskatchewan",
         45,
         "Male"
        ],
        [
         "Brison, Scott",
         "Liberal",
         "Nova Scotia",
         45,
         "Male"
        ],
        [
         "Butt, Brad",
         "Conservative",
         "Ontario",
         45,
         "Male"
        ],
        [
         "Rickford, Greg",
         "Conservative",
         "Ontario",
         45,
         "Male"
        ],
        [
         "LeBlanc, Dominic",
         "Liberal",
         "New Brunswick",
         45,
         "Male"
        ],
        [
         "Hoback, Randy",
         "Conservative",
         "Saskatchewan",
         45,
         "Male"
        ],
        [
         "Caron, Guy",
         "NDP",
         "Quebec",
         44,
         "Male"
        ],
        [
         "Brahmi, Tarik",
         "NDP",
         "Quebec",
         44,
         "Male"
        ],
        [
         "Kenney, Jason",
         "Conservative",
         "Alberta",
         44,
         "Male"
        ],
        [
         "Masse, Brian",
         "NDP",
         "Ontario",
         44,
         "Male"
        ],
        [
         "Alexander, Chris",
         "Conservative",
         "Ontario",
         44,
         "Male"
        ],
        [
         "Zimmer, Bob",
         "Conservative",
         "British Columbia",
         44,
         "Male"
        ],
        [
         "Calkins, Blaine",
         "Conservative",
         "Alberta",
         44,
         "Male"
        ],
        [
         "Baird, John",
         "Conservative",
         "Ontario",
         43,
         "Male"
        ],
        [
         "Lake, Mike",
         "Conservative",
         "Alberta",
         43,
         "Male"
        ],
        [
         "Simms, Scott",
         "Liberal",
         "Newfoundland and Labrador",
         43,
         "Male"
        ],
        [
         "Thibeault, Glenn",
         "NDP",
         "Ontario",
         43,
         "Male"
        ],
        [
         "Williamson, John",
         "Conservative",
         "New Brunswick",
         42,
         "Male"
        ],
        [
         "Calandra, Paul",
         "Conservative",
         "Ontario",
         42,
         "Male"
        ],
        [
         "Chicoine, Sylvain",
         "NDP",
         "Quebec",
         42,
         "Male"
        ],
        [
         "Del Mastro, Dean",
         "Conservative",
         "Ontario",
         42,
         "Male"
        ],
        [
         "Rajotte, James",
         "Conservative",
         "Alberta",
         42,
         "Male"
        ],
        [
         "Seeback, Kyle",
         "Conservative",
         "Ontario",
         42,
         "Male"
        ],
        [
         "Watson, Jeff",
         "Conservative",
         "Ontario",
         41,
         "Male"
        ],
        [
         "Lapointe, François",
         "NDP",
         "Quebec",
         41,
         "Male"
        ],
        [
         "Nicholls, Jamie",
         "NDP",
         "Quebec",
         41,
         "Male"
        ],
        [
         "Chong, Michael D.",
         "Conservative",
         "Ontario",
         41,
         "Male"
        ],
        [
         "Trudeau, Justin",
         "Liberal",
         "Quebec",
         41,
         "Male"
        ],
        [
         "Larose, Jean-François",
         "NDP",
         "Quebec",
         40,
         "Male"
        ],
        [
         "Anders, Rob",
         "Conservative",
         "Alberta",
         40,
         "Male"
        ],
        [
         "Fletcher, Steven John",
         "Conservative",
         "Manitoba",
         40,
         "Male"
        ],
        [
         "Cullen, Nathan",
         "NDP",
         "British Columbia",
         40,
         "Male"
        ],
        [
         "Ravignat, Mathieu",
         "NDP",
         "Quebec",
         39,
         "Male"
        ],
        [
         "Bruinooge, Rod",
         "Conservative",
         "Manitoba",
         39,
         "Male"
        ],
        [
         "Mai, Hoang",
         "NDP",
         "Quebec",
         39,
         "Male"
        ],
        [
         "Boulerice, Alexandre",
         "NDP",
         "Quebec",
         39,
         "Male"
        ],
        [
         "Fortin, Jean-François",
         "Bloc Quebecois",
         "Quebec",
         39,
         "Male"
        ],
        [
         "Leef, Ryan",
         "Conservative",
         "Territories",
         38,
         "Male"
        ],
        [
         "Paradis, Christian",
         "Conservative",
         "Quebec",
         38,
         "Male"
        ],
        [
         "Choquette, François",
         "NDP",
         "Quebec",
         38,
         "Male"
        ],
        [
         "Moore, Rob",
         "Conservative",
         "New Brunswick",
         38,
         "Male"
        ],
        [
         "Trost, Brad",
         "Conservative",
         "Saskatchewan",
         38,
         "Male"
        ],
        [
         "Gill, Parm",
         "Conservative",
         "Ontario",
         38,
         "Male"
        ],
        [
         "Hillyer, Jim",
         "Conservative",
         "Alberta",
         38,
         "Male"
        ],
        [
         "Richards, Blake",
         "Conservative",
         "Alberta",
         38,
         "Male"
        ],
        [
         "Uppal, Tim",
         "Conservative",
         "Alberta",
         38,
         "Male"
        ],
        [
         "Andrews, Scott",
         "Liberal",
         "Newfoundland and Labrador",
         37,
         "Male"
        ],
        [
         "Moore, James",
         "Conservative",
         "British Columbia",
         36,
         "Male"
        ],
        [
         "Lobb, Ben",
         "Conservative",
         "Ontario",
         36,
         "Male"
        ],
        [
         "Albas, Dan",
         "Conservative",
         "British Columbia",
         36,
         "Male"
        ],
        [
         "Storseth, Brian",
         "Conservative",
         "Alberta",
         34,
         "Male"
        ],
        [
         "Strahl, Mark",
         "Conservative",
         "British Columbia",
         34,
         "Male"
        ],
        [
         "Brown, Patrick W.",
         "Conservative",
         "Ontario",
         34,
         "Male"
        ],
        [
         "Warkentin, Chris",
         "Conservative",
         "Alberta",
         34,
         "Male"
        ],
        [
         "Scheer, Andrew",
         "Conservative",
         "Saskatchewan",
         33,
         "Male"
        ],
        [
         "Poilievre, Pierre",
         "Conservative",
         "Ontario",
         33,
         "Male"
        ],
        [
         "Genest-Jourdain, Jonathan",
         "NDP",
         "Quebec",
         33,
         "Male"
        ],
        [
         "Harris, Dan",
         "NDP",
         "Ontario",
         33,
         "Male"
        ],
        [
         "Tremblay, Jonathan",
         "NDP",
         "Quebec",
         28,
         "Male"
        ],
        [
         "Morin, Dany",
         "NDP",
         "Quebec",
         27,
         "Male"
        ],
        [
         "Dubé, Matthew",
         "NDP",
         "Quebec",
         24,
         "Male"
        ],
        [
         "Dusseault, Pierre-Luc",
         "NDP",
         "Quebec",
         21,
         "Male"
        ],
        [
         "O'Toole, Erin",
         "Conservative",
         "Ontario",
         "nan",
         "Male"
        ]
       ],
       "_data_tsv": "Province\tBloc Quebecois\tConservative\tGreen\tLiberal\tNDP\nBritish Columbia\t\t21\t1\t2\t12\nAlberta\t\t27\t\t\t1\nSaskatchewan\t\t13\t\t1\t\nManitoba\t\t11\t\t1\t2\nTerritories\t\t2\t\t\t1\nOntario\t\t73\t\t11\t22\nQuebec\t4\t5\t\t7\t59\nNew Brunswick\t\t8\t\t1\t1\nPrince Edward Island\t\t1\t\t3\t\nNova Scotia\t\t4\t\t4\t3\nNewfoundland and Labrador\t\t1\t\t4\t2\n",
       "_options": {
        "aggregatorName": "Number of MPs",
        "aggregators": {
         "Average Age of MPs": "function() { return $.pivotUtilities.aggregatorTemplates.average()([\"Age\"]) }",
         "Number of MPs": "function() { return $.pivotUtilities.aggregatorTemplates.count()() }"
        },
        "autoSortUnusedAttrs": false,
        "colOrder": "key_a_to_z",
        "cols": [
         "Party"
        ],
        "exclusions": {},
        "hiddenAttributes": [],
        "hiddenFromAggregators": [],
        "hiddenFromDragDrop": [],
        "inclusions": {},
        "inclusionsInfo": {},
        "localeStrings": {
         "apply": "Apply",
         "by": "by",
         "cancel": "Cancel",
         "computeError": "An error occurred computing the PivotTable results.",
         "filterResults": "Filter values",
         "renderError": "An error occurred rendering the PivotTable results.",
         "selectAll": "Select All",
         "selectNone": "Select None",
         "tooMany": "(too many to list)",
         "totals": "Totals",
         "uiRenderError": "An error occurred rendering the PivotTable UI.",
         "vs": "vs"
        },
        "menuLimit": 500,
        "onRefresh": null,
        "rendererName": "Table",
        "rowOrder": "key_a_to_z",
        "rows": [
         "Province"
        ],
        "sorters": {
         "Age": "function(a,b){ return b-a; }",
         "Province": "$.pivotUtilities.sortAs([\"British Columbia\", \"Alberta\", \"Saskatchewan\", \"Manitoba\",\n                             \"Territories\", \"Ontario\", \"Quebec\", \"New Brunswick\",\n                             \"Prince Edward Island\", \"Nova Scotia\",\n                             \"Newfoundland and Labrador\"])"
        },
        "unusedAttrsVertical": 85,
        "vals": []
       },
       "layout": "IPY_MODEL_52ce28d79ada4fcb8f2b6496fd680ccb"
      }
     },
     "7ab3d1acabf247c0890ed10a7bd8ea02": {
      "model_module": "ipypivot",
      "model_module_version": "~0.1.1",
      "model_name": "PivotModel",
      "state": {
       "_data": [
        [
         "Sepal.Length",
         "Sepal.Width",
         "Petal.Length",
         "Petal.Width",
         "Species"
        ],
        [
         5.1,
         3.5,
         1.4,
         0.2,
         "setosa"
        ],
        [
         4.9,
         3,
         1.4,
         0.2,
         "setosa"
        ],
        [
         4.7,
         3.2,
         1.3,
         0.2,
         "setosa"
        ],
        [
         4.6,
         3.1,
         1.5,
         0.2,
         "setosa"
        ],
        [
         5,
         3.6,
         1.4,
         0.2,
         "setosa"
        ],
        [
         5.4,
         3.9,
         1.7,
         0.4,
         "setosa"
        ],
        [
         4.6,
         3.4,
         1.4,
         0.3,
         "setosa"
        ],
        [
         5,
         3.4,
         1.5,
         0.2,
         "setosa"
        ],
        [
         4.4,
         2.9,
         1.4,
         0.2,
         "setosa"
        ],
        [
         4.9,
         3.1,
         1.5,
         0.1,
         "setosa"
        ],
        [
         5.4,
         3.7,
         1.5,
         0.2,
         "setosa"
        ],
        [
         4.8,
         3.4,
         1.6,
         0.2,
         "setosa"
        ],
        [
         4.8,
         3,
         1.4,
         0.1,
         "setosa"
        ],
        [
         4.3,
         3,
         1.1,
         0.1,
         "setosa"
        ],
        [
         5.8,
         4,
         1.2,
         0.2,
         "setosa"
        ],
        [
         5.7,
         4.4,
         1.5,
         0.4,
         "setosa"
        ],
        [
         5.4,
         3.9,
         1.3,
         0.4,
         "setosa"
        ],
        [
         5.1,
         3.5,
         1.4,
         0.3,
         "setosa"
        ],
        [
         5.7,
         3.8,
         1.7,
         0.3,
         "setosa"
        ],
        [
         5.1,
         3.8,
         1.5,
         0.3,
         "setosa"
        ],
        [
         5.4,
         3.4,
         1.7,
         0.2,
         "setosa"
        ],
        [
         5.1,
         3.7,
         1.5,
         0.4,
         "setosa"
        ],
        [
         4.6,
         3.6,
         1,
         0.2,
         "setosa"
        ],
        [
         5.1,
         3.3,
         1.7,
         0.5,
         "setosa"
        ],
        [
         4.8,
         3.4,
         1.9,
         0.2,
         "setosa"
        ],
        [
         5,
         3,
         1.6,
         0.2,
         "setosa"
        ],
        [
         5,
         3.4,
         1.6,
         0.4,
         "setosa"
        ],
        [
         5.2,
         3.5,
         1.5,
         0.2,
         "setosa"
        ],
        [
         5.2,
         3.4,
         1.4,
         0.2,
         "setosa"
        ],
        [
         4.7,
         3.2,
         1.6,
         0.2,
         "setosa"
        ],
        [
         4.8,
         3.1,
         1.6,
         0.2,
         "setosa"
        ],
        [
         5.4,
         3.4,
         1.5,
         0.4,
         "setosa"
        ],
        [
         5.2,
         4.1,
         1.5,
         0.1,
         "setosa"
        ],
        [
         5.5,
         4.2,
         1.4,
         0.2,
         "setosa"
        ],
        [
         4.9,
         3.1,
         1.5,
         0.2,
         "setosa"
        ],
        [
         5,
         3.2,
         1.2,
         0.2,
         "setosa"
        ],
        [
         5.5,
         3.5,
         1.3,
         0.2,
         "setosa"
        ],
        [
         4.9,
         3.6,
         1.4,
         0.1,
         "setosa"
        ],
        [
         4.4,
         3,
         1.3,
         0.2,
         "setosa"
        ],
        [
         5.1,
         3.4,
         1.5,
         0.2,
         "setosa"
        ],
        [
         5,
         3.5,
         1.3,
         0.3,
         "setosa"
        ],
        [
         4.5,
         2.3,
         1.3,
         0.3,
         "setosa"
        ],
        [
         4.4,
         3.2,
         1.3,
         0.2,
         "setosa"
        ],
        [
         5,
         3.5,
         1.6,
         0.6,
         "setosa"
        ],
        [
         5.1,
         3.8,
         1.9,
         0.4,
         "setosa"
        ],
        [
         4.8,
         3,
         1.4,
         0.3,
         "setosa"
        ],
        [
         5.1,
         3.8,
         1.6,
         0.2,
         "setosa"
        ],
        [
         4.6,
         3.2,
         1.4,
         0.2,
         "setosa"
        ],
        [
         5.3,
         3.7,
         1.5,
         0.2,
         "setosa"
        ],
        [
         5,
         3.3,
         1.4,
         0.2,
         "setosa"
        ],
        [
         7,
         3.2,
         4.7,
         1.4,
         "versicolor"
        ],
        [
         6.4,
         3.2,
         4.5,
         1.5,
         "versicolor"
        ],
        [
         6.9,
         3.1,
         4.9,
         1.5,
         "versicolor"
        ],
        [
         5.5,
         2.3,
         4,
         1.3,
         "versicolor"
        ],
        [
         6.5,
         2.8,
         4.6,
         1.5,
         "versicolor"
        ],
        [
         5.7,
         2.8,
         4.5,
         1.3,
         "versicolor"
        ],
        [
         6.3,
         3.3,
         4.7,
         1.6,
         "versicolor"
        ],
        [
         4.9,
         2.4,
         3.3,
         1,
         "versicolor"
        ],
        [
         6.6,
         2.9,
         4.6,
         1.3,
         "versicolor"
        ],
        [
         5.2,
         2.7,
         3.9,
         1.4,
         "versicolor"
        ],
        [
         5,
         2,
         3.5,
         1,
         "versicolor"
        ],
        [
         5.9,
         3,
         4.2,
         1.5,
         "versicolor"
        ],
        [
         6,
         2.2,
         4,
         1,
         "versicolor"
        ],
        [
         6.1,
         2.9,
         4.7,
         1.4,
         "versicolor"
        ],
        [
         5.6,
         2.9,
         3.6,
         1.3,
         "versicolor"
        ],
        [
         6.7,
         3.1,
         4.4,
         1.4,
         "versicolor"
        ],
        [
         5.6,
         3,
         4.5,
         1.5,
         "versicolor"
        ],
        [
         5.8,
         2.7,
         4.1,
         1,
         "versicolor"
        ],
        [
         6.2,
         2.2,
         4.5,
         1.5,
         "versicolor"
        ],
        [
         5.6,
         2.5,
         3.9,
         1.1,
         "versicolor"
        ],
        [
         5.9,
         3.2,
         4.8,
         1.8,
         "versicolor"
        ],
        [
         6.1,
         2.8,
         4,
         1.3,
         "versicolor"
        ],
        [
         6.3,
         2.5,
         4.9,
         1.5,
         "versicolor"
        ],
        [
         6.1,
         2.8,
         4.7,
         1.2,
         "versicolor"
        ],
        [
         6.4,
         2.9,
         4.3,
         1.3,
         "versicolor"
        ],
        [
         6.6,
         3,
         4.4,
         1.4,
         "versicolor"
        ],
        [
         6.8,
         2.8,
         4.8,
         1.4,
         "versicolor"
        ],
        [
         6.7,
         3,
         5,
         1.7,
         "versicolor"
        ],
        [
         6,
         2.9,
         4.5,
         1.5,
         "versicolor"
        ],
        [
         5.7,
         2.6,
         3.5,
         1,
         "versicolor"
        ],
        [
         5.5,
         2.4,
         3.8,
         1.1,
         "versicolor"
        ],
        [
         5.5,
         2.4,
         3.7,
         1,
         "versicolor"
        ],
        [
         5.8,
         2.7,
         3.9,
         1.2,
         "versicolor"
        ],
        [
         6,
         2.7,
         5.1,
         1.6,
         "versicolor"
        ],
        [
         5.4,
         3,
         4.5,
         1.5,
         "versicolor"
        ],
        [
         6,
         3.4,
         4.5,
         1.6,
         "versicolor"
        ],
        [
         6.7,
         3.1,
         4.7,
         1.5,
         "versicolor"
        ],
        [
         6.3,
         2.3,
         4.4,
         1.3,
         "versicolor"
        ],
        [
         5.6,
         3,
         4.1,
         1.3,
         "versicolor"
        ],
        [
         5.5,
         2.5,
         4,
         1.3,
         "versicolor"
        ],
        [
         5.5,
         2.6,
         4.4,
         1.2,
         "versicolor"
        ],
        [
         6.1,
         3,
         4.6,
         1.4,
         "versicolor"
        ],
        [
         5.8,
         2.6,
         4,
         1.2,
         "versicolor"
        ],
        [
         5,
         2.3,
         3.3,
         1,
         "versicolor"
        ],
        [
         5.6,
         2.7,
         4.2,
         1.3,
         "versicolor"
        ],
        [
         5.7,
         3,
         4.2,
         1.2,
         "versicolor"
        ],
        [
         5.7,
         2.9,
         4.2,
         1.3,
         "versicolor"
        ],
        [
         6.2,
         2.9,
         4.3,
         1.3,
         "versicolor"
        ],
        [
         5.1,
         2.5,
         3,
         1.1,
         "versicolor"
        ],
        [
         5.7,
         2.8,
         4.1,
         1.3,
         "versicolor"
        ],
        [
         6.3,
         3.3,
         6,
         2.5,
         "virginica"
        ],
        [
         5.8,
         2.7,
         5.1,
         1.9,
         "virginica"
        ],
        [
         7.1,
         3,
         5.9,
         2.1,
         "virginica"
        ],
        [
         6.3,
         2.9,
         5.6,
         1.8,
         "virginica"
        ],
        [
         6.5,
         3,
         5.8,
         2.2,
         "virginica"
        ],
        [
         7.6,
         3,
         6.6,
         2.1,
         "virginica"
        ],
        [
         4.9,
         2.5,
         4.5,
         1.7,
         "virginica"
        ],
        [
         7.3,
         2.9,
         6.3,
         1.8,
         "virginica"
        ],
        [
         6.7,
         2.5,
         5.8,
         1.8,
         "virginica"
        ],
        [
         7.2,
         3.6,
         6.1,
         2.5,
         "virginica"
        ],
        [
         6.5,
         3.2,
         5.1,
         2,
         "virginica"
        ],
        [
         6.4,
         2.7,
         5.3,
         1.9,
         "virginica"
        ],
        [
         6.8,
         3,
         5.5,
         2.1,
         "virginica"
        ],
        [
         5.7,
         2.5,
         5,
         2,
         "virginica"
        ],
        [
         5.8,
         2.8,
         5.1,
         2.4,
         "virginica"
        ],
        [
         6.4,
         3.2,
         5.3,
         2.3,
         "virginica"
        ],
        [
         6.5,
         3,
         5.5,
         1.8,
         "virginica"
        ],
        [
         7.7,
         3.8,
         6.7,
         2.2,
         "virginica"
        ],
        [
         7.7,
         2.6,
         6.9,
         2.3,
         "virginica"
        ],
        [
         6,
         2.2,
         5,
         1.5,
         "virginica"
        ],
        [
         6.9,
         3.2,
         5.7,
         2.3,
         "virginica"
        ],
        [
         5.6,
         2.8,
         4.9,
         2,
         "virginica"
        ],
        [
         7.7,
         2.8,
         6.7,
         2,
         "virginica"
        ],
        [
         6.3,
         2.7,
         4.9,
         1.8,
         "virginica"
        ],
        [
         6.7,
         3.3,
         5.7,
         2.1,
         "virginica"
        ],
        [
         7.2,
         3.2,
         6,
         1.8,
         "virginica"
        ],
        [
         6.2,
         2.8,
         4.8,
         1.8,
         "virginica"
        ],
        [
         6.1,
         3,
         4.9,
         1.8,
         "virginica"
        ],
        [
         6.4,
         2.8,
         5.6,
         2.1,
         "virginica"
        ],
        [
         7.2,
         3,
         5.8,
         1.6,
         "virginica"
        ],
        [
         7.4,
         2.8,
         6.1,
         1.9,
         "virginica"
        ],
        [
         7.9,
         3.8,
         6.4,
         2,
         "virginica"
        ],
        [
         6.4,
         2.8,
         5.6,
         2.2,
         "virginica"
        ],
        [
         6.3,
         2.8,
         5.1,
         1.5,
         "virginica"
        ],
        [
         6.1,
         2.6,
         5.6,
         1.4,
         "virginica"
        ],
        [
         7.7,
         3,
         6.1,
         2.3,
         "virginica"
        ],
        [
         6.3,
         3.4,
         5.6,
         2.4,
         "virginica"
        ],
        [
         6.4,
         3.1,
         5.5,
         1.8,
         "virginica"
        ],
        [
         6,
         3,
         4.8,
         1.8,
         "virginica"
        ],
        [
         6.9,
         3.1,
         5.4,
         2.1,
         "virginica"
        ],
        [
         6.7,
         3.1,
         5.6,
         2.4,
         "virginica"
        ],
        [
         6.9,
         3.1,
         5.1,
         2.3,
         "virginica"
        ],
        [
         5.8,
         2.7,
         5.1,
         1.9,
         "virginica"
        ],
        [
         6.8,
         3.2,
         5.9,
         2.3,
         "virginica"
        ],
        [
         6.7,
         3.3,
         5.7,
         2.5,
         "virginica"
        ],
        [
         6.7,
         3,
         5.2,
         2.3,
         "virginica"
        ],
        [
         6.3,
         2.5,
         5,
         1.9,
         "virginica"
        ],
        [
         6.5,
         3,
         5.2,
         2,
         "virginica"
        ],
        [
         6.2,
         3.4,
         5.4,
         2.3,
         "virginica"
        ],
        [
         5.9,
         3,
         5.1,
         1.8,
         "virginica"
        ]
       ],
       "_options": {
        "cols": [
         "Petal.Width",
         "Species"
        ],
        "renderer": "$.pivotUtilities.c3_renderers[\"Scatter Chart\"]",
        "rendererOptions": {
         "c3": {
          "size": {
           "height": 500,
           "width": 700
          }
         }
        },
        "rows": [
         "Petal.Length"
        ]
       },
       "layout": "IPY_MODEL_084285f297304317b3df82d7afb9ecaf"
      }
     },
     "7ec30fd1bd784eb6b2c9010a8a56c244": {
      "model_module": "ipypivot",
      "model_module_version": "~0.1.1",
      "model_name": "PivotUIBoxModel",
      "state": {
       "children": [
        "IPY_MODEL_037a6f42ca774ef581f77ab2fce5bae6",
        "IPY_MODEL_c4618cbbfeef45a18824850e00478632"
       ],
       "layout": "IPY_MODEL_0d378dea3931435382889108f7ac641e"
      }
     },
     "80848ec976434d7f99bfde0e6426bb9d": {
      "model_module": "@jupyter-widgets/base",
      "model_module_version": "1.0.0",
      "model_name": "LayoutModel",
      "state": {}
     },
     "86dc602bdd0e470f9cf6cc4ec5f84038": {
      "model_module": "@jupyter-widgets/controls",
      "model_module_version": "1.1.0",
      "model_name": "HBoxModel",
      "state": {
       "children": [
        "IPY_MODEL_a9dd03f2a4754743af4cfa13ad442300",
        "IPY_MODEL_bc08cb4651354d89b7d7df964973c890",
        "IPY_MODEL_92f20d1c05d34c82a5f9e4c53878a26e"
       ],
       "layout": "IPY_MODEL_70e09066943042a1803022214e212c95"
      }
     },
     "8745d7a17f314905bdd78891f784db9f": {
      "model_module": "ipypivot",
      "model_module_version": "~0.1.1",
      "model_name": "PivotUIModel",
      "state": {
       "_data": [
        [
         "Date",
         "Max Temp (C)",
         "Min Temp (C)",
         "Mean Temp (C)",
         "Total Rain (mm)",
         "Total Snow (cm)"
        ],
        [
         "2014-01-01",
         -16.5,
         -24.6,
         -20.6,
         0,
         0
        ],
        [
         "2014-01-02",
         -22.6,
         -27.3,
         -25,
         0,
         1.4
        ],
        [
         "2014-01-03",
         -19.2,
         -24.3,
         -21.8,
         0,
         0
        ],
        [
         "2014-01-04",
         -8.6,
         -23.3,
         -16,
         0,
         0
        ],
        [
         "2014-01-05",
         0.3,
         -12.6,
         -6.2,
         12.2,
         1.8
        ],
        [
         "2014-01-06",
         7.1,
         -11.1,
         -2,
         14.3,
         0.4
        ],
        [
         "2014-01-07",
         -11.1,
         -16.6,
         -13.9,
         0,
         0.2
        ],
        [
         "2014-01-08",
         -8.7,
         -14.7,
         -11.7,
         0,
         0
        ],
        [
         "2014-01-09",
         -7.8,
         -12.3,
         -10.1,
         0,
         0
        ],
        [
         "2014-01-10",
         -4.5,
         -14.2,
         -9.4,
         0,
         0
        ],
        [
         "2014-01-11",
         7.3,
         -6.4,
         0.5,
         6.2,
         0
        ],
        [
         "2014-01-12",
         4.5,
         0.3,
         2.4,
         0,
         0
        ],
        [
         "2014-01-13",
         5.1,
         -0.9,
         2.1,
         0,
         0
        ],
        [
         "2014-01-14",
         4.2,
         -1.3,
         1.5,
         5.4,
         0
        ],
        [
         "2014-01-15",
         1.9,
         -4.1,
         -1.1,
         0.2,
         0
        ],
        [
         "2014-01-16",
         -0.5,
         -5.1,
         -2.8,
         0,
         0
        ],
        [
         "2014-01-17",
         0.6,
         -5.2,
         -2.3,
         0,
         0.6
        ],
        [
         "2014-01-18",
         2.4,
         -7,
         -2.3,
         0,
         0.2
        ],
        [
         "2014-01-19",
         -2.2,
         -6.4,
         -4.3,
         0,
         1.4
        ],
        [
         "2014-01-20",
         -6.4,
         -20.7,
         -13.6,
         0,
         1.6
        ],
        [
         "2014-01-21",
         -19.1,
         -23.8,
         -21.5,
         0,
         0
        ],
        [
         "2014-01-22",
         -17.6,
         -25.4,
         -21.5,
         0,
         0
        ],
        [
         "2014-01-23",
         -17.5,
         -23.2,
         -20.4,
         0,
         0
        ],
        [
         "2014-01-24",
         -9.7,
         -23.8,
         -16.8,
         0,
         0
        ],
        [
         "2014-01-25",
         -5.3,
         -15.5,
         -10.4,
         0,
         2
        ],
        [
         "2014-01-26",
         -13.8,
         -21.5,
         -17.7,
         0,
         0.4
        ],
        [
         "2014-01-27",
         -6.4,
         -17.9,
         -12.2,
         0,
         5.6
        ],
        [
         "2014-01-28",
         -10.8,
         -19.9,
         -15.4,
         0,
         0
        ],
        [
         "2014-01-29",
         -9.6,
         -14.2,
         -11.9,
         0,
         0
        ],
        [
         "2014-01-30",
         -4.4,
         -12.7,
         -8.6,
         0,
         0
        ],
        [
         "2014-01-31",
         1.3,
         -7.1,
         -2.9,
         0,
         0
        ],
        [
         "2014-02-01",
         -1.3,
         -10.9,
         -6.1,
         0,
         12
        ],
        [
         "2014-02-02",
         -1.1,
         -7.9,
         -4.5,
         0,
         4.6
        ],
        [
         "2014-02-03",
         -6.9,
         -15.3,
         -11.1,
         0,
         0
        ],
        [
         "2014-02-04",
         -6.1,
         -16.8,
         -11.5,
         0,
         0
        ],
        [
         "2014-02-05",
         -7.9,
         -15.6,
         -11.8,
         0,
         5.4
        ],
        [
         "2014-02-06",
         -9.3,
         -20,
         -14.7,
         0,
         0.4
        ],
        [
         "2014-02-07",
         -7.6,
         -12.9,
         -10.3,
         0,
         0
        ],
        [
         "2014-02-08",
         -5.7,
         -12.3,
         -9,
         0,
         0
        ],
        [
         "2014-02-09",
         -7.1,
         -12.5,
         -9.8,
         0,
         1.4
        ],
        [
         "2014-02-10",
         -6.8,
         -16.1,
         -11.5,
         0,
         0.4
        ],
        [
         "2014-02-11",
         -11.1,
         -19.6,
         -15.4,
         0,
         0
        ],
        [
         "2014-02-12",
         -9.8,
         -23.1,
         -16.5,
         0,
         0
        ],
        [
         "2014-02-13",
         -6.1,
         -18.4,
         -12.3,
         0,
         2
        ],
        [
         "2014-02-14",
         -2.2,
         -6.1,
         -4.2,
         0,
         12.4
        ],
        [
         "2014-02-15",
         -5.6,
         -11.8,
         -8.7,
         0,
         0
        ],
        [
         "2014-02-16",
         -9.5,
         -15.8,
         -12.7,
         0,
         0
        ],
        [
         "2014-02-17",
         -9.9,
         -17.4,
         -13.7,
         0,
         0
        ],
        [
         "2014-02-18",
         -3.4,
         -15.6,
         -9.5,
         0,
         2.4
        ],
        [
         "2014-02-19",
         1.5,
         -5.4,
         -2,
         0,
         0
        ],
        [
         "2014-02-20",
         2.8,
         -4.9,
         -1.1,
         0,
         0
        ],
        [
         "2014-02-21",
         4.2,
         -0.6,
         1.8,
         19.2,
         0
        ],
        [
         "2014-02-22",
         6.1,
         -1.8,
         2.2,
         0,
         0
        ],
        [
         "2014-02-23",
         1.7,
         -4.3,
         -1.3,
         0,
         0
        ],
        [
         "2014-02-24",
         -4.3,
         -10.6,
         -7.5,
         0,
         0.2
        ],
        [
         "2014-02-25",
         -9,
         -12.9,
         -11,
         0,
         0
        ],
        [
         "2014-02-26",
         -9.7,
         -14.8,
         -12.3,
         0,
         1.6
        ],
        [
         "2014-02-27",
         -6.9,
         -14.8,
         -10.9,
         0,
         0.4
        ],
        [
         "2014-02-28",
         -12.1,
         -18.2,
         -15.2,
         0,
         0
        ],
        [
         "2014-03-01",
         -3.4,
         -14.2,
         -8.8,
         0,
         2
        ],
        [
         "2014-03-02",
         -5.5,
         -16.6,
         -11.1,
         0,
         0.6
        ],
        [
         "2014-03-03",
         -13,
         -18.1,
         -15.6,
         0,
         0
        ],
        [
         "2014-03-04",
         -11,
         -18.5,
         -14.8,
         0,
         1.4
        ],
        [
         "2014-03-05",
         -9,
         -17.6,
         -13.3,
         0,
         0
        ],
        [
         "2014-03-06",
         -6.9,
         -19.4,
         -13.2,
         0,
         0
        ],
        [
         "2014-03-07",
         0.2,
         -17.8,
         -8.8,
         0,
         0
        ],
        [
         "2014-03-08",
         3.3,
         -6.2,
         -1.5,
         0,
         0.8
        ],
        [
         "2014-03-09",
         -3.8,
         -12.6,
         -8.2,
         0,
         3
        ],
        [
         "2014-03-10",
         0.7,
         -5.4,
         -2.4,
         0,
         4
        ],
        [
         "2014-03-11",
         5.2,
         0.2,
         2.7,
         0,
         0
        ],
        [
         "2014-03-12",
         1.7,
         -11.9,
         -5.1,
         0,
         16.6
        ],
        [
         "2014-03-13",
         -6.7,
         -15.6,
         -11.2,
         0,
         2.4
        ],
        [
         "2014-03-14",
         2.1,
         -16.7,
         -7.3,
         0,
         0
        ],
        [
         "2014-03-15",
         4.6,
         -8.4,
         -1.9,
         0.2,
         0.2
        ],
        [
         "2014-03-16",
         -8.4,
         -14.1,
         -11.3,
         0,
         0
        ],
        [
         "2014-03-17",
         -6.8,
         -16.8,
         -11.8,
         0,
         0
        ],
        [
         "2014-03-18",
         -2.1,
         -13.8,
         -8,
         0,
         0
        ],
        [
         "2014-03-19",
         3.2,
         -9,
         -2.9,
         1.4,
         0.4
        ],
        [
         "2014-03-20",
         2.9,
         -0.3,
         1.3,
         2.4,
         0.2
        ],
        [
         "2014-03-21",
         2.5,
         -3,
         -0.3,
         0,
         0.2
        ],
        [
         "2014-03-22",
         0.6,
         -3.8,
         -1.6,
         0,
         9.6
        ],
        [
         "2014-03-23",
         0,
         -13.6,
         -6.8,
         0,
         0
        ],
        [
         "2014-03-24",
         -4.7,
         -16.5,
         -10.6,
         0,
         0
        ],
        [
         "2014-03-25",
         -0.6,
         -11.7,
         -6.2,
         0,
         0
        ],
        [
         "2014-03-26",
         -2.4,
         -10.4,
         -6.4,
         0,
         0
        ],
        [
         "2014-03-27",
         -1.6,
         -13.1,
         -7.4,
         0,
         0.2
        ],
        [
         "2014-03-28",
         4.1,
         -2.7,
         0.7,
         9.2,
         4.2
        ],
        [
         "2014-03-29",
         3.2,
         0.5,
         1.9,
         0,
         0
        ],
        [
         "2014-03-30",
         0.5,
         -1.4,
         -0.5,
         0,
         15.2
        ],
        [
         "2014-03-31",
         6.2,
         -1.8,
         2.2,
         0,
         0
        ],
        [
         "2014-04-01",
         5,
         -3.5,
         0.8,
         0,
         0
        ],
        [
         "2014-04-02",
         5,
         1.2,
         3.1,
         0,
         0
        ],
        [
         "2014-04-03",
         2.9,
         -2.2,
         0.4,
         0,
         0
        ],
        [
         "2014-04-04",
         7,
         -3.4,
         1.8,
         16.8,
         0
        ],
        [
         "2014-04-05",
         4.7,
         0.4,
         2.6,
         1.2,
         0
        ],
        [
         "2014-04-06",
         7.1,
         -1.2,
         3,
         0,
         0
        ],
        [
         "2014-04-07",
         13,
         -0.1,
         6.5,
         6.4,
         0
        ],
        [
         "2014-04-08",
         5.2,
         2.6,
         3.9,
         22.6,
         0
        ],
        [
         "2014-04-09",
         4.8,
         -0.9,
         2,
         0,
         0
        ],
        [
         "2014-04-10",
         16.2,
         -1.6,
         7.3,
         4,
         0
        ],
        [
         "2014-04-11",
         11.8,
         2.9,
         7.4,
         0,
         0
        ],
        [
         "2014-04-12",
         14.3,
         1.5,
         7.9,
         0,
         0
        ],
        [
         "2014-04-13",
         11.7,
         2.6,
         7.2,
         8.2,
         0
        ],
        [
         "2014-04-14",
         24.5,
         2.2,
         13.4,
         9,
         0
        ],
        [
         "2014-04-15",
         16.2,
         -5.1,
         5.6,
         8.6,
         0.4
        ],
        [
         "2014-04-16",
         0.6,
         -7.3,
         -3.4,
         0,
         0
        ],
        [
         "2014-04-17",
         7.7,
         -2.9,
         2.4,
         0,
         0
        ],
        [
         "2014-04-18",
         10.8,
         1.7,
         6.3,
         0,
         0
        ],
        [
         "2014-04-19",
         10.6,
         0.9,
         5.8,
         0.4,
         0
        ],
        [
         "2014-04-20",
         14.1,
         -2.6,
         5.8,
         0,
         0
        ],
        [
         "2014-04-21",
         19.2,
         7.4,
         13.3,
         1.2,
         0
        ],
        [
         "2014-04-22",
         12.7,
         7,
         9.9,
         10.4,
         0
        ],
        [
         "2014-04-23",
         11.8,
         3.6,
         7.7,
         0,
         0
        ],
        [
         "2014-04-24",
         13.2,
         1.4,
         7.3,
         0,
         0
        ],
        [
         "2014-04-25",
         11.9,
         -0.3,
         5.8,
         0,
         0
        ],
        [
         "2014-04-26",
         8.4,
         2.8,
         5.6,
         11.4,
         0
        ],
        [
         "2014-04-27",
         10.4,
         2.3,
         6.4,
         2,
         0
        ],
        [
         "2014-04-28",
         12.3,
         1.8,
         7.1,
         0,
         0
        ],
        [
         "2014-04-29",
         16.5,
         5.7,
         11.1,
         2.8,
         0
        ],
        [
         "2014-04-30",
         10.6,
         5.1,
         7.9,
         30.8,
         0
        ],
        [
         "2014-05-01",
         16.1,
         6.1,
         11.1,
         8.2,
         0
        ],
        [
         "2014-05-02",
         13,
         8.1,
         10.6,
         0.6,
         0
        ],
        [
         "2014-05-03",
         16.3,
         7.9,
         12.1,
         0.8,
         0
        ],
        [
         "2014-05-04",
         12,
         7.3,
         9.7,
         19.4,
         0
        ],
        [
         "2014-05-05",
         13.4,
         6.3,
         9.9,
         0,
         0
        ],
        [
         "2014-05-06",
         15,
         4.2,
         9.6,
         0,
         0
        ],
        [
         "2014-05-07",
         15.8,
         3.2,
         9.5,
         0,
         0
        ],
        [
         "2014-05-08",
         16.8,
         5.2,
         11,
         0,
         0
        ],
        [
         "2014-05-09",
         20.8,
         8.8,
         14.8,
         4.2,
         0
        ],
        [
         "2014-05-10",
         23.8,
         11.9,
         17.9,
         4.4,
         0
        ],
        [
         "2014-05-11",
         21.9,
         11.4,
         16.7,
         0,
         0
        ],
        [
         "2014-05-12",
         22.4,
         9.1,
         15.8,
         0,
         0
        ],
        [
         "2014-05-13",
         18.4,
         8.3,
         13.4,
         1.4,
         0
        ],
        [
         "2014-05-14",
         24.9,
         13.6,
         19.3,
         0,
         0
        ],
        [
         "2014-05-15",
         28.2,
         17.5,
         22.9,
         0,
         0
        ],
        [
         "2014-05-16",
         22.2,
         10.3,
         16.3,
         29.8,
         0
        ],
        [
         "2014-05-17",
         15.4,
         8.3,
         11.9,
         10.8,
         0
        ],
        [
         "2014-05-18",
         16.6,
         6.3,
         11.5,
         0,
         0
        ],
        [
         "2014-05-19",
         20.2,
         9.2,
         14.7,
         0,
         0
        ],
        [
         "2014-05-20",
         22.8,
         8.7,
         15.8,
         0,
         0
        ],
        [
         "2014-05-21",
         23.8,
         10.4,
         17.1,
         0,
         0
        ],
        [
         "2014-05-22",
         19,
         12.9,
         16,
         1,
         0
        ],
        [
         "2014-05-23",
         20.8,
         10.8,
         15.8,
         0,
         0
        ],
        [
         "2014-05-24",
         21.4,
         11.4,
         16.4,
         0,
         0
        ],
        [
         "2014-05-25",
         25.2,
         9.4,
         17.3,
         4.6,
         0
        ],
        [
         "2014-05-26",
         22.8,
         16.3,
         19.6,
         3.6,
         0
        ],
        [
         "2014-05-27",
         16.9,
         8.6,
         12.8,
         4.2,
         0
        ],
        [
         "2014-05-28",
         16.1,
         8.1,
         12.1,
         0.6,
         0
        ],
        [
         "2014-05-29",
         20.5,
         6.1,
         13.3,
         0,
         0
        ],
        [
         "2014-05-30",
         22.6,
         12,
         17.3,
         2,
         0
        ],
        [
         "2014-05-31",
         20.2,
         9.1,
         14.7,
         0,
         0
        ],
        [
         "2014-06-01",
         25.2,
         9.7,
         17.5,
         0,
         0
        ],
        [
         "2014-06-02",
         30.4,
         15.7,
         23.1,
         0,
         0
        ],
        [
         "2014-06-03",
         28.1,
         19.1,
         23.6,
         22,
         0
        ],
        [
         "2014-06-04",
         21.3,
         14,
         17.7,
         0.2,
         0
        ],
        [
         "2014-06-05",
         17,
         13.4,
         15.2,
         0.6,
         0
        ],
        [
         "2014-06-06",
         23,
         12.9,
         18,
         0,
         0
        ],
        [
         "2014-06-07",
         27.5,
         13.3,
         20.4,
         0,
         0
        ],
        [
         "2014-06-08",
         28,
         14.6,
         21.3,
         0,
         0
        ],
        [
         "2014-06-09",
         27.9,
         19.2,
         23.6,
         0,
         0
        ],
        [
         "2014-06-10",
         24.6,
         15.8,
         20.2,
         0.4,
         0
        ],
        [
         "2014-06-11",
         24.1,
         13.1,
         18.6,
         10.4,
         0
        ],
        [
         "2014-06-12",
         17.9,
         12.9,
         15.4,
         26.2,
         0
        ],
        [
         "2014-06-13",
         19.9,
         16.8,
         18.4,
         41.4,
         0
        ],
        [
         "2014-06-14",
         19.8,
         14.6,
         17.2,
         1.4,
         0
        ],
        [
         "2014-06-15",
         23.6,
         13.6,
         18.6,
         0,
         0
        ],
        [
         "2014-06-16",
         24.8,
         11.4,
         18.1,
         0,
         0
        ],
        [
         "2014-06-17",
         27.2,
         14,
         20.6,
         23.4,
         0
        ],
        [
         "2014-06-18",
         25.7,
         16.6,
         21.2,
         2,
         0
        ],
        [
         "2014-06-19",
         24.6,
         14.6,
         19.6,
         0,
         0
        ],
        [
         "2014-06-20",
         21.7,
         12.1,
         16.9,
         0,
         0
        ],
        [
         "2014-06-21",
         22.1,
         10.4,
         16.3,
         0,
         0
        ],
        [
         "2014-06-22",
         23.8,
         11.5,
         17.7,
         0,
         0
        ],
        [
         "2014-06-23",
         26.8,
         13.4,
         20.1,
         0,
         0
        ],
        [
         "2014-06-24",
         21.9,
         19.2,
         20.6,
         40,
         0
        ],
        [
         "2014-06-25",
         24,
         18.2,
         21.1,
         0.2,
         0
        ],
        [
         "2014-06-26",
         26.3,
         17,
         21.7,
         0,
         0
        ],
        [
         "2014-06-27",
         28.4,
         15,
         21.7,
         0,
         0
        ],
        [
         "2014-06-28",
         29.2,
         16.3,
         22.8,
         0,
         0
        ],
        [
         "2014-06-29",
         30.7,
         19.1,
         24.9,
         0,
         0
        ],
        [
         "2014-06-30",
         29.7,
         22.8,
         26.3,
         0,
         0
        ],
        [
         "2014-07-01",
         33.2,
         21.6,
         27.4,
         0,
         0
        ],
        [
         "2014-07-02",
         29.8,
         21.2,
         25.5,
         0,
         0
        ],
        [
         "2014-07-03",
         24.4,
         18.9,
         21.7,
         0.6,
         0
        ],
        [
         "2014-07-04",
         23.4,
         16,
         19.7,
         3.2,
         0
        ],
        [
         "2014-07-05",
         27.7,
         14.5,
         21.1,
         0,
         0
        ],
        [
         "2014-07-06",
         27.7,
         18.7,
         23.2,
         0,
         0
        ],
        [
         "2014-07-07",
         23.4,
         19.5,
         21.5,
         10,
         0
        ],
        [
         "2014-07-08",
         30.6,
         19,
         24.8,
         7,
         0
        ],
        [
         "2014-07-09",
         23.5,
         17.7,
         20.6,
         0,
         0
        ],
        [
         "2014-07-10",
         23.1,
         14.3,
         18.7,
         0,
         0
        ],
        [
         "2014-07-11",
         25.4,
         13.4,
         19.4,
         0,
         0
        ],
        [
         "2014-07-12",
         27.4,
         16,
         21.7,
         0,
         0
        ],
        [
         "2014-07-13",
         23.9,
         19.6,
         21.8,
         11,
         0
        ],
        [
         "2014-07-14",
         24.1,
         17.6,
         20.9,
         0,
         0
        ],
        [
         "2014-07-15",
         21.9,
         17.6,
         19.8,
         2.8,
         0
        ],
        [
         "2014-07-16",
         24.8,
         16.6,
         20.7,
         0,
         0
        ],
        [
         "2014-07-17",
         23.4,
         14,
         18.7,
         0.2,
         0
        ],
        [
         "2014-07-18",
         26.2,
         14,
         20.1,
         0,
         0
        ],
        [
         "2014-07-19",
         27.5,
         16.5,
         22,
         0,
         0
        ],
        [
         "2014-07-20",
         28,
         18.9,
         23.5,
         0,
         0
        ],
        [
         "2014-07-21",
         29.4,
         20.8,
         25.1,
         0,
         0
        ],
        [
         "2014-07-22",
         29.7,
         20.5,
         25.1,
         0,
         0
        ],
        [
         "2014-07-23",
         26.4,
         17.7,
         22.1,
         11.4,
         0
        ],
        [
         "2014-07-24",
         22.9,
         13.8,
         18.4,
         0,
         0
        ],
        [
         "2014-07-25",
         25.8,
         14.7,
         20.3,
         0,
         0
        ],
        [
         "2014-07-26",
         26,
         15.9,
         21,
         0.2,
         0
        ],
        [
         "2014-07-27",
         25,
         18,
         21.5,
         10.2,
         0
        ],
        [
         "2014-07-28",
         18.5,
         14.2,
         16.4,
         9.8,
         0
        ],
        [
         "2014-07-29",
         21.3,
         12,
         16.7,
         0,
         0
        ],
        [
         "2014-07-30",
         24,
         13.8,
         18.9,
         0.8,
         0
        ],
        [
         "2014-07-31",
         21.8,
         14.3,
         18.1,
         12.8,
         0
        ],
        [
         "2014-08-01",
         26.1,
         14.8,
         20.5,
         0,
         0
        ],
        [
         "2014-08-02",
         27.8,
         16.1,
         22,
         0,
         0
        ],
        [
         "2014-08-03",
         28,
         16.6,
         22.3,
         0,
         0
        ],
        [
         "2014-08-04",
         27.7,
         18.3,
         23,
         0.6,
         0
        ],
        [
         "2014-08-05",
         25.4,
         17.7,
         21.6,
         1.6,
         0
        ],
        [
         "2014-08-06",
         25.6,
         14.9,
         20.3,
         0,
         0
        ],
        [
         "2014-08-07",
         23.1,
         15.9,
         19.5,
         6.2,
         0
        ],
        [
         "2014-08-08",
         27,
         14,
         20.5,
         0,
         0
        ],
        [
         "2014-08-09",
         28.7,
         15.4,
         22.1,
         0,
         0
        ],
        [
         "2014-08-10",
         28.6,
         16.6,
         22.6,
         0,
         0
        ],
        [
         "2014-08-11",
         29.7,
         17.8,
         23.8,
         0,
         0
        ],
        [
         "2014-08-12",
         27.9,
         19.1,
         23.5,
         2.2,
         0
        ],
        [
         "2014-08-13",
         21.1,
         16,
         18.6,
         44.4,
         0
        ],
        [
         "2014-08-14",
         17.6,
         12,
         14.8,
         0,
         0
        ],
        [
         "2014-08-15",
         17.5,
         12.2,
         14.9,
         5.2,
         0
        ],
        [
         "2014-08-16",
         18.5,
         14.6,
         16.6,
         13.2,
         0
        ],
        [
         "2014-08-17",
         22.8,
         14.6,
         18.7,
         0,
         0
        ],
        [
         "2014-08-18",
         22.2,
         11.7,
         17,
         0,
         0
        ],
        [
         "2014-08-19",
         23.5,
         10.6,
         17.1,
         0,
         0
        ],
        [
         "2014-08-20",
         27.3,
         12.8,
         20.1,
         0,
         0
        ],
        [
         "2014-08-21",
         23.1,
         17.9,
         20.5,
         0,
         0
        ],
        [
         "2014-08-22",
         23.8,
         17.3,
         20.6,
         0,
         0
        ],
        [
         "2014-08-23",
         26,
         14.7,
         20.4,
         0,
         0
        ],
        [
         "2014-08-24",
         27.7,
         14.5,
         21.1,
         0,
         0
        ],
        [
         "2014-08-25",
         28.9,
         17.6,
         23.3,
         0,
         0
        ],
        [
         "2014-08-26",
         28.6,
         17,
         22.8,
         0.4,
         0
        ],
        [
         "2014-08-27",
         25.6,
         18.4,
         22,
         0,
         0
        ],
        [
         "2014-08-28",
         21.9,
         14.2,
         18.1,
         0,
         0
        ],
        [
         "2014-08-29",
         22.6,
         11.4,
         17,
         0,
         0
        ],
        [
         "2014-08-30",
         27.3,
         16.7,
         22,
         0.2,
         0
        ],
        [
         "2014-08-31",
         25.3,
         19.8,
         22.6,
         11.2,
         0
        ],
        [
         "2014-09-01",
         25.9,
         18.7,
         22.3,
         0,
         0
        ],
        [
         "2014-09-02",
         28.6,
         18.3,
         23.5,
         4.4,
         0
        ],
        [
         "2014-09-03",
         25.5,
         18,
         21.8,
         0,
         0
        ],
        [
         "2014-09-04",
         27.7,
         16.3,
         22,
         0.4,
         0
        ],
        [
         "2014-09-05",
         30.8,
         20.1,
         25.5,
         3,
         0
        ],
        [
         "2014-09-06",
         23.2,
         10.6,
         16.9,
         5,
         0
        ],
        [
         "2014-09-07",
         22.1,
         10.6,
         16.4,
         0,
         0
        ],
        [
         "2014-09-08",
         24.7,
         11.4,
         18.1,
         0,
         0
        ],
        [
         "2014-09-09",
         23.1,
         14.3,
         18.7,
         0,
         0
        ],
        [
         "2014-09-10",
         24.8,
         14.6,
         19.7,
         0,
         0
        ],
        [
         "2014-09-11",
         25.1,
         10.1,
         17.6,
         7.2,
         0
        ],
        [
         "2014-09-12",
         14.1,
         6.1,
         10.1,
         0,
         0
        ],
        [
         "2014-09-13",
         12.6,
         5.9,
         9.3,
         19,
         0
        ],
        [
         "2014-09-14",
         10.9,
         4.6,
         7.8,
         0,
         0
        ],
        [
         "2014-09-15",
         18.3,
         4.8,
         11.6,
         0.2,
         0
        ],
        [
         "2014-09-16",
         18.6,
         9.3,
         14,
         0.4,
         0
        ],
        [
         "2014-09-17",
         17.2,
         8,
         12.6,
         2.6,
         0
        ],
        [
         "2014-09-18",
         12.4,
         3.4,
         7.9,
         0.2,
         0
        ],
        [
         "2014-09-19",
         13,
         1.2,
         7.1,
         0,
         0
        ],
        [
         "2014-09-20",
         19.8,
         9.2,
         14.5,
         0.2,
         0
        ],
        [
         "2014-09-21",
         23.2,
         14,
         18.6,
         6.2,
         0
        ],
        [
         "2014-09-22",
         14,
         6.9,
         10.5,
         0,
         0
        ],
        [
         "2014-09-23",
         17.2,
         7.3,
         12.3,
         1.2,
         0
        ],
        [
         "2014-09-24",
         21.8,
         6.7,
         14.3,
         0,
         0
        ],
        [
         "2014-09-25",
         22.8,
         10.8,
         16.8,
         0,
         0
        ],
        [
         "2014-09-26",
         25.5,
         11.9,
         18.7,
         0,
         0
        ],
        [
         "2014-09-27",
         25.5,
         12.8,
         19.2,
         0,
         0
        ],
        [
         "2014-09-28",
         24.8,
         14.8,
         19.8,
         0,
         0
        ],
        [
         "2014-09-29",
         18,
         8.7,
         13.4,
         0,
         0
        ],
        [
         "2014-09-30",
         17.3,
         9.3,
         13.3,
         0,
         0
        ],
        [
         "2014-10-01",
         16.6,
         10.4,
         13.5,
         0,
         0
        ],
        [
         "2014-10-02",
         20.3,
         8.7,
         14.5,
         0,
         0
        ],
        [
         "2014-10-03",
         23.1,
         8.8,
         16,
         0,
         0
        ],
        [
         "2014-10-04",
         16.6,
         9.8,
         13.2,
         23.6,
         0
        ],
        [
         "2014-10-05",
         13.7,
         7.9,
         10.8,
         0,
         0
        ],
        [
         "2014-10-06",
         16.3,
         8,
         12.2,
         0.4,
         0
        ],
        [
         "2014-10-07",
         18.2,
         11.9,
         15.1,
         4,
         0
        ],
        [
         "2014-10-08",
         17.5,
         8.7,
         13.1,
         19.8,
         0
        ],
        [
         "2014-10-09",
         12.5,
         5.2,
         8.9,
         0.8,
         0
        ],
        [
         "2014-10-10",
         11.8,
         4.6,
         8.2,
         0,
         0
        ],
        [
         "2014-10-11",
         13.1,
         2.6,
         7.9,
         0,
         0
        ],
        [
         "2014-10-12",
         13.2,
         2.6,
         7.9,
         0,
         0
        ],
        [
         "2014-10-13",
         17.8,
         2.2,
         10,
         0,
         0
        ],
        [
         "2014-10-14",
         24.8,
         13.7,
         19.3,
         0,
         0
        ],
        [
         "2014-10-15",
         23.6,
         18.2,
         20.9,
         6.4,
         0
        ],
        [
         "2014-10-16",
         21.7,
         14.6,
         18.2,
         7.6,
         0
        ],
        [
         "2014-10-17",
         18.4,
         14.3,
         16.4,
         0.4,
         0
        ],
        [
         "2014-10-18",
         16.9,
         5.9,
         11.4,
         1.4,
         0
        ],
        [
         "2014-10-19",
         7.5,
         3,
         5.3,
         0,
         0
        ],
        [
         "2014-10-20",
         6.8,
         1.8,
         4.3,
         1.2,
         0
        ],
        [
         "2014-10-21",
         7.4,
         5.6,
         6.5,
         3,
         0
        ],
        [
         "2014-10-22",
         12.6,
         6,
         9.3,
         0,
         0
        ],
        [
         "2014-10-23",
         8.6,
         6.9,
         7.8,
         5.8,
         0
        ],
        [
         "2014-10-24",
         11.5,
         4.9,
         8.2,
         1,
         0
        ],
        [
         "2014-10-25",
         13.1,
         5.2,
         9.2,
         3.8,
         0
        ],
        [
         "2014-10-26",
         10.9,
         7.2,
         9.1,
         0.8,
         0
        ],
        [
         "2014-10-27",
         11.2,
         5.7,
         8.5,
         0.2,
         0
        ],
        [
         "2014-10-28",
         13.7,
         7,
         10.4,
         6.2,
         0
        ],
        [
         "2014-10-29",
         14.2,
         8.5,
         11.4,
         0.6,
         0
        ],
        [
         "2014-10-30",
         10,
         2.8,
         6.4,
         0,
         0
        ],
        [
         "2014-10-31",
         7.2,
         1.5,
         4.4,
         0,
         0
        ],
        [
         "2014-11-01",
         6.9,
         1.9,
         4.4,
         0,
         0
        ],
        [
         "2014-11-02",
         7.6,
         -0.3,
         3.7,
         0,
         0
        ],
        [
         "2014-11-03",
         6.3,
         -1,
         2.7,
         0,
         0
        ],
        [
         "2014-11-04",
         11.7,
         4.3,
         8,
         2.4,
         0
        ],
        [
         "2014-11-05",
         12.2,
         5.7,
         9,
         2,
         0
        ],
        [
         "2014-11-06",
         8.3,
         2.6,
         5.5,
         3,
         0
        ],
        [
         "2014-11-07",
         4.8,
         -0.2,
         2.3,
         1.8,
         0
        ],
        [
         "2014-11-08",
         4.4,
         -1.4,
         1.5,
         0.2,
         0
        ],
        [
         "2014-11-09",
         6.5,
         2.7,
         4.6,
         0,
         0
        ],
        [
         "2014-11-10",
         7.1,
         3.5,
         5.3,
         0,
         0
        ],
        [
         "2014-11-11",
         12.5,
         0.2,
         6.4,
         0,
         0
        ],
        [
         "2014-11-12",
         8.4,
         1.6,
         5,
         3.8,
         0
        ],
        [
         "2014-11-13",
         4.7,
         -0.8,
         2,
         0,
         0
        ],
        [
         "2014-11-14",
         2.1,
         -4,
         -1,
         0,
         0
        ],
        [
         "2014-11-15",
         1.6,
         -4.9,
         -1.7,
         0,
         0
        ],
        [
         "2014-11-16",
         3.3,
         -0.6,
         1.4,
         0,
         0.8
        ],
        [
         "2014-11-17",
         1.5,
         -0.6,
         0.5,
         0,
         12.6
        ],
        [
         "2014-11-18",
         1.5,
         -4.7,
         -1.6,
         0,
         2
        ],
        [
         "2014-11-19",
         -2,
         -7.7,
         -4.9,
         0,
         0.6
        ],
        [
         "2014-11-20",
         -0.1,
         -5.1,
         -2.6,
         0,
         0.4
        ],
        [
         "2014-11-21",
         -4.6,
         -8.2,
         -6.4,
         0,
         0
        ],
        [
         "2014-11-22",
         3,
         -7.9,
         -2.5,
         3.4,
         0.4
        ],
        [
         "2014-11-23",
         7.9,
         2.8,
         5.4,
         0,
         0
        ],
        [
         "2014-11-24",
         18,
         6.8,
         12.4,
         16,
         0
        ],
        [
         "2014-11-25",
         7.8,
         2,
         4.9,
         0,
         0
        ],
        [
         "2014-11-26",
         2.5,
         -0.9,
         0.8,
         0,
         0
        ],
        [
         "2014-11-27",
         -0.1,
         -3.8,
         -2,
         0,
         0
        ],
        [
         "2014-11-28",
         -2.8,
         -8.2,
         -5.5,
         0,
         0.4
        ],
        [
         "2014-11-29",
         -0.8,
         -8.3,
         -4.6,
         0,
         0
        ],
        [
         "2014-11-30",
         6.8,
         -0.9,
         3,
         0.6,
         0
        ],
        [
         "2014-12-01",
         6.2,
         -8.7,
         -1.3,
         0.2,
         0
        ],
        [
         "2014-12-02",
         -3.2,
         -14.9,
         -9.1,
         0,
         6.2
        ],
        [
         "2014-12-03",
         3.3,
         -3.2,
         0.1,
         5.4,
         0.6
        ],
        [
         "2014-12-04",
         0.1,
         -11.3,
         -5.6,
         0,
         0
        ],
        [
         "2014-12-05",
         -4.6,
         -13.1,
         -8.9,
         0,
         2.2
        ],
        [
         "2014-12-06",
         -1.1,
         -6,
         -3.6,
         0,
         0.6
        ],
        [
         "2014-12-07",
         -4.9,
         -12.9,
         -8.9,
         0,
         0
        ],
        [
         "2014-12-08",
         -2.3,
         -13.9,
         -8.1,
         0,
         0
        ],
        [
         "2014-12-09",
         0.2,
         -4.8,
         -2.3,
         0,
         6.8
        ],
        [
         "2014-12-10",
         0.2,
         -0.8,
         -0.3,
         0,
         20
        ],
        [
         "2014-12-11",
         0.4,
         -3.2,
         -1.4,
         0.2,
         4.8
        ],
        [
         "2014-12-12",
         -1.7,
         -4.2,
         -3,
         0,
         2
        ],
        [
         "2014-12-13",
         -1.6,
         -5.9,
         -3.8,
         0,
         0
        ],
        [
         "2014-12-14",
         -0.9,
         -4.8,
         -2.9,
         0,
         0
        ],
        [
         "2014-12-15",
         -0.1,
         -1.9,
         -1,
         0,
         0
        ],
        [
         "2014-12-16",
         0.6,
         -1.4,
         -0.4,
         0,
         0
        ],
        [
         "2014-12-17",
         0.6,
         -0.2,
         0.2,
         2,
         0.2
        ],
        [
         "2014-12-18",
         0.4,
         -2.4,
         -1,
         0,
         2
        ],
        [
         "2014-12-19",
         -2.4,
         -11.5,
         -7,
         0,
         0
        ],
        [
         "2014-12-20",
         -7.7,
         -15.6,
         -11.7,
         0,
         0
        ],
        [
         "2014-12-21",
         -7.2,
         -10.3,
         -8.8,
         0,
         0.2
        ],
        [
         "2014-12-22",
         -5.5,
         -8.6,
         -7.1,
         0,
         0
        ],
        [
         "2014-12-23",
         3.1,
         -5.8,
         -1.4,
         2.6,
         3
        ],
        [
         "2014-12-24",
         6.2,
         2.3,
         4.3,
         32,
         0
        ],
        [
         "2014-12-25",
         7.8,
         3.5,
         5.7,
         1,
         0
        ],
        [
         "2014-12-26",
         4.5,
         1.4,
         3,
         0,
         0
        ],
        [
         "2014-12-27",
         7.4,
         0.9,
         4.2,
         0.2,
         0
        ],
        [
         "2014-12-28",
         8.3,
         -3.3,
         2.5,
         0.8,
         0
        ],
        [
         "2014-12-29",
         -0.7,
         -11.1,
         -5.9,
         0,
         0
        ],
        [
         "2014-12-30",
         -10.6,
         -14.5,
         -12.6,
         0,
         0
        ],
        [
         "2014-12-31",
         -6.3,
         -14.9,
         -10.6,
         0,
         0
        ]
       ],
       "_data_tsv": "day name\tJan\tFeb\tMar\tApr\tMay\tJun\tJul\tAug\tSep\tOct\tNov\tDec\nMon\t7.1\t-4.3\t6.2\t24.5\t22.8\t30.4\t29.4\t29.7\t25.9\t17.8\t18\t6.2\nTue\t4.2\t-3.4\t5.2\t16.5\t22.8\t28.1\t33.2\t28.6\t28.6\t24.8\t12.5\t3.1\nWed\t1.9\t1.5\t3.2\t11.8\t24.9\t25.7\t29.8\t27.3\t25.5\t23.6\t12.2\t6.2\nThu\t-0.5\t2.8\t2.9\t16.2\t28.2\t26.3\t24.4\t23.1\t27.7\t21.7\t8.3\t7.8\nFri\t1.3\t4.2\t4.1\t11.9\t22.6\t28.4\t26.2\t27\t30.8\t23.1\t4.8\t4.5\nSat\t7.3\t6.1\t4.6\t14.3\t23.8\t29.2\t27.7\t28.7\t25.5\t16.9\t6.9\t7.4\nSun\t4.5\t1.7\t0.5\t14.1\t25.2\t30.7\t28\t28.6\t24.8\t13.7\t7.9\t8.3\n",
       "_options": {
        "aggregatorName": "Max Temperature",
        "aggregators": {
         "Max Temperature": "function () { return $.pivotUtilities.aggregatorTemplates.max($.pivotUtilities.numberFormat({ suffix: ' °C' }))(['Max Temp (C)']) }",
         "Mean Temperature": "function () { return $.pivotUtilities.aggregatorTemplates.average($.pivotUtilities.numberFormat({ suffix: ' °C' }))(['Mean Temp (C)']) }"
        },
        "autoSortUnusedAttrs": false,
        "colOrder": "key_a_to_z",
        "cols": [
         "month name"
        ],
        "derivedAttributes": {
         "day name": "$.pivotUtilities.derivers.dateFormat('Date', '%w', true)",
         "month name": "$.pivotUtilities.derivers.dateFormat('Date', '%n', true)"
        },
        "exclusions": {},
        "hiddenAttributes": [
         "Date",
         "Max Temp (C)",
         "Mean Temp (C)",
         "Min Temp (C)",
         "Total Rain (mm)",
         "Total Snow (cm)"
        ],
        "hiddenFromAggregators": [],
        "hiddenFromDragDrop": [],
        "inclusions": {},
        "inclusionsInfo": {},
        "localeStrings": {
         "apply": "Apply",
         "by": "by",
         "cancel": "Cancel",
         "computeError": "An error occurred computing the PivotTable results.",
         "filterResults": "Filter values",
         "renderError": "An error occurred rendering the PivotTable results.",
         "selectAll": "Select All",
         "selectNone": "Select None",
         "tooMany": "(too many to list)",
         "totals": "Totals",
         "uiRenderError": "An error occurred rendering the PivotTable UI.",
         "vs": "vs"
        },
        "menuLimit": 500,
        "onRefresh": null,
        "rendererName": "Heatmap",
        "rendererOptions": {
         "heatmap": {
          "colorScaleGenerator": "function (values) {\n            return d3.scale.linear()\n                .domain([-20, 0, 20])\n                .range(['#77F', '#FFF', '#F77'])\n        }"
         }
        },
        "renderers": "$.extend($.pivotUtilities.renderers, $.pivotUtilities.c3_renderers, $.pivotUtilities.export_renderers)",
        "rowOrder": "key_a_to_z",
        "rows": [
         "day name"
        ],
        "sorters": {
         "day name": "$.pivotUtilities.sortAs(['Mon', 'Tue', 'Wed', 'Thu', 'Fri', 'Sat', 'Sun'])",
         "month name": "$.pivotUtilities.sortAs(['Jan', 'Feb', 'Mar', 'Apr', 'May', 'Jun', \n                               'Jul', 'Aug', 'Sep', 'Oct', 'Nov', 'Dec'])"
        },
        "unusedAttrsVertical": 85,
        "vals": []
       },
       "layout": "IPY_MODEL_db087f6830ed420ea95c7c39fdb4645c"
      }
     },
     "89fecbf2e27f4636ab1efcba744e7b0a": {
      "model_module": "ipypivot",
      "model_module_version": "~0.1.1",
      "model_name": "PivotUIModel",
      "state": {
       "_data": [
        [
         "Name",
         "Party",
         "Province",
         "Age",
         "Gender"
        ],
        [
         "Liu, Laurin",
         "NDP",
         "Quebec",
         22,
         "Female"
        ],
        [
         "Mourani, Maria",
         "Bloc Quebecois",
         "Quebec",
         43,
         "Female"
        ],
        [
         "Sellah, Djaouida",
         "NDP",
         "Quebec",
         "nan",
         "Female"
        ],
        [
         "St-Denis, Lise",
         "NDP",
         "Quebec",
         72,
         "Female"
        ],
        [
         "Fry, Hedy",
         "Liberal",
         "British Columbia",
         71,
         "Female"
        ],
        [
         "Turmel, Nycole",
         "NDP",
         "Quebec",
         70,
         "Female"
        ],
        [
         "Sgro, Judy",
         "Liberal",
         "Ontario",
         68,
         "Female"
        ],
        [
         "Raynault, Francine",
         "NDP",
         "Quebec",
         67,
         "Female"
        ],
        [
         "Davidson, Patricia",
         "Conservative",
         "Ontario",
         66,
         "Female"
        ],
        [
         "Smith, Joy",
         "Conservative",
         "Manitoba",
         65,
         "Female"
        ],
        [
         "Wong, Alice",
         "Conservative",
         "British Columbia",
         64,
         "Female"
        ],
        [
         "O'Neill Gordon, Tilly",
         "Conservative",
         "New Brunswick",
         63,
         "Female"
        ],
        [
         "Ablonczy, Diane",
         "Conservative",
         "Alberta",
         63,
         "Female"
        ],
        [
         "Duncan, Linda Francis",
         "NDP",
         "Alberta",
         63,
         "Female"
        ],
        [
         "Bennett, Carolyn",
         "Liberal",
         "Ontario",
         62,
         "Female"
        ],
        [
         "Nash, Peggy",
         "NDP",
         "Ontario",
         61,
         "Female"
        ],
        [
         "Mathyssen, Irene",
         "NDP",
         "Ontario",
         61,
         "Female"
        ],
        [
         "Sims, Jinny Jogindera",
         "NDP",
         "British Columbia",
         60,
         "Female"
        ],
        [
         "Foote, Judy",
         "Liberal",
         "Newfoundland and Labrador",
         60,
         "Female"
        ],
        [
         "Crowder, Jean",
         "NDP",
         "British Columbia",
         60,
         "Female"
        ],
        [
         "Davies, Libby",
         "NDP",
         "British Columbia",
         59,
         "Female"
        ],
        [
         "Yelich, Lynne",
         "Conservative",
         "Saskatchewan",
         59,
         "Female"
        ],
        [
         "Day, Anne-Marie",
         "NDP",
         "Quebec",
         58,
         "Female"
        ],
        [
         "May, Elizabeth",
         "Green",
         "British Columbia",
         58,
         "Female"
        ],
        [
         "Murray, Joyce",
         "Liberal",
         "British Columbia",
         58,
         "Female"
        ],
        [
         "Findlay, Kerry-Lynne D.",
         "Conservative",
         "British Columbia",
         57,
         "Female"
        ],
        [
         "Brown, Lois",
         "Conservative",
         "Ontario",
         57,
         "Female"
        ],
        [
         "Laverdière, Hélène",
         "NDP",
         "Quebec",
         57,
         "Female"
        ],
        [
         "Boutin-Sweet, Marjolaine",
         "NDP",
         "Quebec",
         57,
         "Female"
        ],
        [
         "Crockatt, Joan",
         "Conservative",
         "Alberta",
         56,
         "Female"
        ],
        [
         "Chow, Olivia",
         "NDP",
         "Ontario",
         55,
         "Female"
        ],
        [
         "McLeod, Cathy",
         "Conservative",
         "British Columbia",
         55,
         "Female"
        ],
        [
         "Finley, Diane",
         "Conservative",
         "Ontario",
         55,
         "Female"
        ],
        [
         "LeBlanc, Hélène",
         "NDP",
         "Quebec",
         54,
         "Female"
        ],
        [
         "Grewal, Nina",
         "Conservative",
         "British Columbia",
         54,
         "Female"
        ],
        [
         "Hughes, Carol",
         "NDP",
         "Ontario",
         54,
         "Female"
        ],
        [
         "Shea, Gail",
         "Conservative",
         "Prince Edward Island",
         53,
         "Female"
        ],
        [
         "Truppe, Susan",
         "Conservative",
         "Ontario",
         53,
         "Female"
        ],
        [
         "Young, Wai",
         "Conservative",
         "British Columbia",
         52,
         "Female"
        ],
        [
         "Gallant, Cheryl",
         "Conservative",
         "Ontario",
         52,
         "Female"
        ],
        [
         "Boivin, Françoise",
         "NDP",
         "Quebec",
         52,
         "Female"
        ],
        [
         "Block, Kelly",
         "Conservative",
         "Saskatchewan",
         51,
         "Female"
        ],
        [
         "Ayala, Paulina",
         "NDP",
         "Quebec",
         50,
         "Female"
        ],
        [
         "Groguhé, Sadia",
         "NDP",
         "Quebec",
         50,
         "Female"
        ],
        [
         "Charlton, Chris",
         "NDP",
         "Ontario",
         49,
         "Female"
        ],
        [
         "Bergen, Candice",
         "Conservative",
         "Manitoba",
         48,
         "Female"
        ],
        [
         "Perreault, Manon",
         "NDP",
         "Quebec",
         46,
         "Female"
        ],
        [
         "James, Roxanne",
         "Conservative",
         "Ontario",
         46,
         "Female"
        ],
        [
         "Ambler, Stella",
         "Conservative",
         "Ontario",
         46,
         "Female"
        ],
        [
         "Duncan, Kirsty",
         "Liberal",
         "Ontario",
         46,
         "Female"
        ],
        [
         "Glover, Shelly",
         "Conservative",
         "Manitoba",
         45,
         "Female"
        ],
        [
         "Aglukkaq, Leona",
         "Conservative",
         "Territories",
         45,
         "Female"
        ],
        [
         "Raitt, Lisa",
         "Conservative",
         "Ontario",
         44,
         "Female"
        ],
        [
         "Ambrose, Rona",
         "Conservative",
         "Alberta",
         43,
         "Female"
        ],
        [
         "Leitch, Kellie",
         "Conservative",
         "Ontario",
         42,
         "Female"
        ],
        [
         "Leslie, Megan",
         "NDP",
         "Nova Scotia",
         39,
         "Female"
        ],
        [
         "Hassainia, Sana",
         "NDP",
         "Quebec",
         38,
         "Female"
        ],
        [
         "Adams, Eve",
         "Conservative",
         "Ontario",
         38,
         "Female"
        ],
        [
         "Rempel, Michelle",
         "Conservative",
         "Alberta",
         32,
         "Female"
        ],
        [
         "Papillon, Annick",
         "NDP",
         "Quebec",
         32,
         "Female"
        ],
        [
         "Sitsabaiesan, Rathika",
         "NDP",
         "Ontario",
         31,
         "Female"
        ],
        [
         "Quach, Anne Minh-Thu",
         "NDP",
         "Quebec",
         30,
         "Female"
        ],
        [
         "Ashton, Niki",
         "NDP",
         "Manitoba",
         30,
         "Female"
        ],
        [
         "Moore, Christine",
         "NDP",
         "Quebec",
         29,
         "Female"
        ],
        [
         "Morin, Isabelle",
         "NDP",
         "Quebec",
         28,
         "Female"
        ],
        [
         "Blanchette-Lamothe, Lysane",
         "NDP",
         "Quebec",
         28,
         "Female"
        ],
        [
         "Brosseau, Ruth Ellen",
         "NDP",
         "Quebec",
         28,
         "Female"
        ],
        [
         "Latendresse, Alexandrine",
         "NDP",
         "Quebec",
         28,
         "Female"
        ],
        [
         "Doré Lefebvre, Rosane",
         "NDP",
         "Quebec",
         28,
         "Female"
        ],
        [
         "Morin, Marie-Claude",
         "NDP",
         "Quebec",
         27,
         "Female"
        ],
        [
         "Michaud, Élaine",
         "NDP",
         "Quebec",
         27,
         "Female"
        ],
        [
         "Péclet, Ève",
         "NDP",
         "Quebec",
         24,
         "Female"
        ],
        [
         "Freeman, Mylène",
         "NDP",
         "Quebec",
         23,
         "Female"
        ],
        [
         "Borg, Charmaine",
         "NDP",
         "Quebec",
         22,
         "Female"
        ],
        [
         "Bateman, Joyce",
         "Conservative",
         "Manitoba",
         "nan",
         "Female"
        ],
        [
         "Hiebert, Russ",
         "Conservative",
         "British Columbia",
         43,
         "Male"
        ],
        [
         "Jacob, Pierre",
         "NDP",
         "Quebec",
         59,
         "Male"
        ],
        [
         "Vellacott, Maurice",
         "Conservative",
         "Saskatchewan",
         57,
         "Male"
        ],
        [
         "Boughen, Ray",
         "Conservative",
         "Saskatchewan",
         75,
         "Male"
        ],
        [
         "O'Connor, Gordon",
         "Conservative",
         "Ontario",
         73,
         "Male"
        ],
        [
         "Cotler, Irwin",
         "Liberal",
         "Quebec",
         72,
         "Male"
        ],
        [
         "Oliver, Joe",
         "Conservative",
         "Ontario",
         72,
         "Male"
        ],
        [
         "Tilson, David Allan",
         "Conservative",
         "Ontario",
         71,
         "Male"
        ],
        [
         "Fantino, Julian",
         "Conservative",
         "Ontario",
         70,
         "Male"
        ],
        [
         "Kent, Peter",
         "Conservative",
         "Ontario",
         69,
         "Male"
        ],
        [
         "Plamondon, Louis",
         "Bloc Quebecois",
         "Quebec",
         69,
         "Male"
        ],
        [
         "Schellenberger, Gary",
         "Conservative",
         "Ontario",
         69,
         "Male"
        ],
        [
         "Lauzon, Guy",
         "Conservative",
         "Ontario",
         68,
         "Male"
        ],
        [
         "Harris, Richard M.",
         "Conservative",
         "British Columbia",
         68,
         "Male"
        ],
        [
         "Goldring, Peter",
         "Conservative",
         "Alberta",
         68,
         "Male"
        ],
        [
         "Atamanenko, Alex",
         "NDP",
         "British Columbia",
         67,
         "Male"
        ],
        [
         "Payne, LaVar",
         "Conservative",
         "Alberta",
         67,
         "Male"
        ],
        [
         "Breitkreuz, Garry W.",
         "Conservative",
         "Saskatchewan",
         67,
         "Male"
        ],
        [
         "Genest, Réjean",
         "NDP",
         "Quebec",
         66,
         "Male"
        ],
        [
         "MacKenzie, Dave",
         "Conservative",
         "Ontario",
         66,
         "Male"
        ],
        [
         "Hyer, Bruce",
         "NDP",
         "Ontario",
         66,
         "Male"
        ],
        [
         "MacAulay, Lawrence",
         "Liberal",
         "Prince Edward Island",
         66,
         "Male"
        ],
        [
         "Galipeau, Royal",
         "Conservative",
         "Ontario",
         65,
         "Male"
        ],
        [
         "Marston, Wayne",
         "NDP",
         "Ontario",
         65,
         "Male"
        ],
        [
         "Hawn, Laurie",
         "Conservative",
         "Alberta",
         65,
         "Male"
        ],
        [
         "Kramp, Daryl",
         "Conservative",
         "Ontario",
         65,
         "Male"
        ],
        [
         "Shipley, Bev",
         "Conservative",
         "Ontario",
         65,
         "Male"
        ],
        [
         "Kerr, Greg",
         "Conservative",
         "Nova Scotia",
         65,
         "Male"
        ],
        [
         "Comartin, Joe",
         "NDP",
         "Ontario",
         65,
         "Male"
        ],
        [
         "Norlock, Rick",
         "Conservative",
         "Ontario",
         64,
         "Male"
        ],
        [
         "McKay, John",
         "Liberal",
         "Ontario",
         64,
         "Male"
        ],
        [
         "Mayes, Colin",
         "Conservative",
         "British Columbia",
         64,
         "Male"
        ],
        [
         "Rae, Bob",
         "Liberal",
         "Ontario",
         64,
         "Male"
        ],
        [
         "Harris, Jack",
         "NDP",
         "Newfoundland and Labrador",
         64,
         "Male"
        ],
        [
         "Duncan, John",
         "Conservative",
         "British Columbia",
         64,
         "Male"
        ],
        [
         "Chisu, Corneliu",
         "Conservative",
         "Ontario",
         63,
         "Male"
        ],
        [
         "Garneau, Marc",
         "Liberal",
         "Quebec",
         63,
         "Male"
        ],
        [
         "Easter, Arnold Wayne",
         "Liberal",
         "Prince Edward Island",
         63,
         "Male"
        ],
        [
         "Aspin, Jay",
         "Conservative",
         "Ontario",
         63,
         "Male"
        ],
        [
         "Goodale, Ralph",
         "Liberal",
         "Saskatchewan",
         63,
         "Male"
        ],
        [
         "Albrecht, Harold",
         "Conservative",
         "Ontario",
         63,
         "Male"
        ],
        [
         "Gravelle, Claude",
         "NDP",
         "Ontario",
         63,
         "Male"
        ],
        [
         "Komarnicki, Ed",
         "Conservative",
         "Saskatchewan",
         63,
         "Male"
        ],
        [
         "Flaherty, James Michael (Jim)",
         "Conservative",
         "Ontario",
         62,
         "Male"
        ],
        [
         "Rankin, Murray",
         "NDP",
         "British Columbia",
         62,
         "Male"
        ],
        [
         "McCallum, John",
         "Liberal",
         "Ontario",
         62,
         "Male"
        ],
        [
         "Warawa, Mark",
         "Conservative",
         "British Columbia",
         62,
         "Male"
        ],
        [
         "Obhrai, Deepak",
         "Conservative",
         "Alberta",
         62,
         "Male"
        ],
        [
         "Benoit, Leon Earl",
         "Conservative",
         "Alberta",
         62,
         "Male"
        ],
        [
         "Leung, Chungsen",
         "Conservative",
         "Ontario",
         62,
         "Male"
        ],
        [
         "Morin, Marc-André",
         "NDP",
         "Quebec",
         61,
         "Male"
        ],
        [
         "Sopuck, Robert",
         "Conservative",
         "Manitoba",
         61,
         "Male"
        ],
        [
         "Ritz, Gerry",
         "Conservative",
         "Saskatchewan",
         61,
         "Male"
        ],
        [
         "Garrison, Randall",
         "NDP",
         "British Columbia",
         61,
         "Male"
        ],
        [
         "Lunney, James",
         "Conservative",
         "British Columbia",
         61,
         "Male"
        ],
        [
         "Lukiwski, Tom",
         "Conservative",
         "Saskatchewan",
         61,
         "Male"
        ],
        [
         "Carmichael, John",
         "Conservative",
         "Ontario",
         60,
         "Male"
        ],
        [
         "Menzies, Ted",
         "Conservative",
         "Alberta",
         60,
         "Male"
        ],
        [
         "Valcourt, Bernard",
         "Conservative",
         "New Brunswick",
         60,
         "Male"
        ],
        [
         "Ashfield, Keith",
         "Conservative",
         "New Brunswick",
         60,
         "Male"
        ],
        [
         "Nicholson, Rob",
         "Conservative",
         "Ontario",
         60,
         "Male"
        ],
        [
         "Young, Terence H.",
         "Conservative",
         "Ontario",
         60,
         "Male"
        ],
        [
         "Toews, Vic",
         "Conservative",
         "Manitoba",
         60,
         "Male"
        ],
        [
         "Sullivan, Mike",
         "NDP",
         "Ontario",
         60,
         "Male"
        ],
        [
         "Patry, Claude",
         "NDP",
         "Quebec",
         59,
         "Male"
        ],
        [
         "Keddy, Gerald",
         "Conservative",
         "Nova Scotia",
         59,
         "Male"
        ],
        [
         "Bevington, Dennis Fraser",
         "NDP",
         "Territories",
         59,
         "Male"
        ],
        [
         "Allen, Malcolm",
         "NDP",
         "Ontario",
         59,
         "Male"
        ],
        [
         "Rafferty, John",
         "NDP",
         "Ontario",
         59,
         "Male"
        ],
        [
         "Dreeshen, Earl",
         "Conservative",
         "Alberta",
         59,
         "Male"
        ],
        [
         "Kamp, Randy",
         "Conservative",
         "British Columbia",
         59,
         "Male"
        ],
        [
         "Merrifield, Rob",
         "Conservative",
         "Alberta",
         59,
         "Male"
        ],
        [
         "Woodworth, Stephen",
         "Conservative",
         "Ontario",
         58,
         "Male"
        ],
        [
         "McColeman, Phil",
         "Conservative",
         "Ontario",
         58,
         "Male"
        ],
        [
         "Lebel, Denis",
         "Conservative",
         "Quebec",
         58,
         "Male"
        ],
        [
         "Lizon, Wladyslaw",
         "Conservative",
         "Ontario",
         58,
         "Male"
        ],
        [
         "Holder, Ed",
         "Conservative",
         "Ontario",
         58,
         "Male"
        ],
        [
         "Valeriote, Frank",
         "Liberal",
         "Ontario",
         58,
         "Male"
        ],
        [
         "Christopherson, David",
         "NDP",
         "Ontario",
         58,
         "Male"
        ],
        [
         "Mulcair, Thomas J.",
         "NDP",
         "Quebec",
         58,
         "Male"
        ],
        [
         "Daniel, Joe",
         "Conservative",
         "Ontario",
         58,
         "Male"
        ],
        [
         "Karygiannis, Jim",
         "Liberal",
         "Ontario",
         57,
         "Male"
        ],
        [
         "Godin, Yvon",
         "NDP",
         "New Brunswick",
         57,
         "Male"
        ],
        [
         "Dionne Labelle, Pierre",
         "NDP",
         "Quebec",
         57,
         "Male"
        ],
        [
         "Preston, Joe",
         "Conservative",
         "Ontario",
         57,
         "Male"
        ],
        [
         "Bélanger, Mauril",
         "Liberal",
         "Ontario",
         57,
         "Male"
        ],
        [
         "Fast, Edward",
         "Conservative",
         "British Columbia",
         57,
         "Male"
        ],
        [
         "Tweed, Mervin C.",
         "Conservative",
         "Manitoba",
         57,
         "Male"
        ],
        [
         "Dion, Stéphane",
         "Liberal",
         "Quebec",
         57,
         "Male"
        ],
        [
         "Van Kesteren, Dave",
         "Conservative",
         "Ontario",
         57,
         "Male"
        ],
        [
         "Cuzner, Rodger",
         "Liberal",
         "Nova Scotia",
         57,
         "Male"
        ],
        [
         "Martin, Pat",
         "NDP",
         "Manitoba",
         57,
         "Male"
        ],
        [
         "Stoffer, Peter",
         "NDP",
         "Nova Scotia",
         56,
         "Male"
        ],
        [
         "Miller, Larry",
         "Conservative",
         "Ontario",
         56,
         "Male"
        ],
        [
         "Blanchette, Denis",
         "NDP",
         "Quebec",
         56,
         "Male"
        ],
        [
         "Nunez-Melo, José",
         "NDP",
         "Quebec",
         56,
         "Male"
        ],
        [
         "Goguen, Robert",
         "Conservative",
         "New Brunswick",
         55,
         "Male"
        ],
        [
         "Scarpaleggia, Francis",
         "Liberal",
         "Quebec",
         55,
         "Male"
        ],
        [
         "Sweet, David",
         "Conservative",
         "Ontario",
         55,
         "Male"
        ],
        [
         "Anderson, David",
         "Conservative",
         "Saskatchewan",
         55,
         "Male"
        ],
        [
         "Chisholm, Robert",
         "NDP",
         "Nova Scotia",
         55,
         "Male"
        ],
        [
         "Stanton, Bruce",
         "Conservative",
         "Ontario",
         55,
         "Male"
        ],
        [
         "Goodyear, Gary",
         "Conservative",
         "Ontario",
         54,
         "Male"
        ],
        [
         "Weston, John",
         "Conservative",
         "British Columbia",
         54,
         "Male"
        ],
        [
         "Dechert, Bob",
         "Conservative",
         "Ontario",
         54,
         "Male"
        ],
        [
         "Shory, Devinder",
         "Conservative",
         "Alberta",
         54,
         "Male"
        ],
        [
         "Pilon, François",
         "NDP",
         "Quebec",
         54,
         "Male"
        ],
        [
         "Hayes, Bryan",
         "Conservative",
         "Ontario",
         54,
         "Male"
        ],
        [
         "Giguère, Alain",
         "NDP",
         "Quebec",
         54,
         "Male"
        ],
        [
         "Sorenson, Kevin",
         "Conservative",
         "Alberta",
         54,
         "Male"
        ],
        [
         "Benskin, Tyrone",
         "NDP",
         "Quebec",
         53,
         "Male"
        ],
        [
         "Menegakis, Costas",
         "Conservative",
         "Ontario",
         53,
         "Male"
        ],
        [
         "Harper, Stephen",
         "Conservative",
         "Alberta",
         53,
         "Male"
        ],
        [
         "Wilks, David",
         "Conservative",
         "British Columbia",
         53,
         "Male"
        ],
        [
         "Regan, Geoff",
         "Liberal",
         "Nova Scotia",
         53,
         "Male"
        ],
        [
         "McGuinty, David",
         "Liberal",
         "Ontario",
         52,
         "Male"
        ],
        [
         "Gosal, Bal",
         "Conservative",
         "Ontario",
         52,
         "Male"
        ],
        [
         "Aubin, Robert",
         "NDP",
         "Quebec",
         52,
         "Male"
        ],
        [
         "Eyking, Mark",
         "Liberal",
         "Nova Scotia",
         52,
         "Male"
        ],
        [
         "Brown, Gordon",
         "Conservative",
         "Ontario",
         52,
         "Male"
        ],
        [
         "Allen, Mike",
         "Conservative",
         "New Brunswick",
         52,
         "Male"
        ],
        [
         "Clement, Tony",
         "Conservative",
         "Ontario",
         51,
         "Male"
        ],
        [
         "Cannan, Ronald",
         "Conservative",
         "British Columbia",
         51,
         "Male"
        ],
        [
         "Rousseau, Jean",
         "NDP",
         "Quebec",
         51,
         "Male"
        ],
        [
         "Opitz, Ted",
         "Conservative",
         "Ontario",
         51,
         "Male"
        ],
        [
         "Toet, Lawrence",
         "Conservative",
         "Manitoba",
         50,
         "Male"
        ],
        [
         "Cash, Andrew",
         "NDP",
         "Ontario",
         50,
         "Male"
        ],
        [
         "Lamoureux, Kevin",
         "Liberal",
         "Manitoba",
         50,
         "Male"
        ],
        [
         "Scott, Craig",
         "NDP",
         "Ontario",
         50,
         "Male"
        ],
        [
         "Adler, Mark",
         "Conservative",
         "Ontario",
         50,
         "Male"
        ],
        [
         "Carrie, Colin",
         "Conservative",
         "Ontario",
         50,
         "Male"
        ],
        [
         "Julian, Peter",
         "NDP",
         "British Columbia",
         50,
         "Male"
        ],
        [
         "Pacetti, Massimo",
         "Liberal",
         "Quebec",
         50,
         "Male"
        ],
        [
         "Saganash, Romeo",
         "NDP",
         "Quebec",
         50,
         "Male"
        ],
        [
         "Angus, Charlie",
         "NDP",
         "Ontario",
         50,
         "Male"
        ],
        [
         "Davies, Don",
         "NDP",
         "British Columbia",
         49,
         "Male"
        ],
        [
         "Bernier, Maxime",
         "Conservative",
         "Quebec",
         49,
         "Male"
        ],
        [
         "Dewar, Paul",
         "NDP",
         "Ontario",
         49,
         "Male"
        ],
        [
         "Jean, Brian",
         "Conservative",
         "Alberta",
         49,
         "Male"
        ],
        [
         "Devolin, Barry",
         "Conservative",
         "Ontario",
         49,
         "Male"
        ],
        [
         "Lemieux, Pierre",
         "Conservative",
         "Ontario",
         49,
         "Male"
        ],
        [
         "Van Loan, Peter",
         "Conservative",
         "Ontario",
         49,
         "Male"
        ],
        [
         "Casey, Sean",
         "Liberal",
         "Prince Edward Island",
         49,
         "Male"
        ],
        [
         "Nantel, Pierre",
         "NDP",
         "Quebec",
         49,
         "Male"
        ],
        [
         "Coderre, Denis",
         "Liberal",
         "Quebec",
         49,
         "Male"
        ],
        [
         "Wallace, Mike",
         "Conservative",
         "Ontario",
         49,
         "Male"
        ],
        [
         "Braid, Peter",
         "Conservative",
         "Ontario",
         48,
         "Male"
        ],
        [
         "Gourde, Jacques",
         "Conservative",
         "Quebec",
         48,
         "Male"
        ],
        [
         "Reid, Scott",
         "Conservative",
         "Ontario",
         48,
         "Male"
        ],
        [
         "Hsu, Ted",
         "Liberal",
         "Ontario",
         48,
         "Male"
        ],
        [
         "Saxton, Andrew",
         "Conservative",
         "British Columbia",
         48,
         "Male"
        ],
        [
         "Weston, Rodney",
         "Conservative",
         "New Brunswick",
         48,
         "Male"
        ],
        [
         "Penashue, Peter",
         "Conservative",
         "Newfoundland and Labrador",
         48,
         "Male"
        ],
        [
         "Bellavance, André",
         "Bloc Quebecois",
         "Quebec",
         48,
         "Male"
        ],
        [
         "Rathgeber, Brent",
         "Conservative",
         "Alberta",
         48,
         "Male"
        ],
        [
         "Kellway, Matthew",
         "NDP",
         "Ontario",
         48,
         "Male"
        ],
        [
         "Toone, Philip",
         "NDP",
         "Quebec",
         47,
         "Male"
        ],
        [
         "Allison, Dean",
         "Conservative",
         "Ontario",
         47,
         "Male"
        ],
        [
         "Trottier, Bernard",
         "Conservative",
         "Ontario",
         47,
         "Male"
        ],
        [
         "Blaney, Steven",
         "Conservative",
         "Quebec",
         47,
         "Male"
        ],
        [
         "Bezan, James",
         "Conservative",
         "Manitoba",
         47,
         "Male"
        ],
        [
         "MacKay, Peter Gordon",
         "Conservative",
         "Nova Scotia",
         47,
         "Male"
        ],
        [
         "Dykstra, Richard",
         "Conservative",
         "Ontario",
         46,
         "Male"
        ],
        [
         "Sandhu, Jasbir",
         "NDP",
         "British Columbia",
         46,
         "Male"
        ],
        [
         "Donnelly, Fin",
         "NDP",
         "British Columbia",
         46,
         "Male"
        ],
        [
         "Armstrong, Scott",
         "Conservative",
         "Nova Scotia",
         46,
         "Male"
        ],
        [
         "Byrne, Gerry",
         "Liberal",
         "Newfoundland and Labrador",
         46,
         "Male"
        ],
        [
         "Stewart, Kennedy",
         "NDP",
         "British Columbia",
         46,
         "Male"
        ],
        [
         "Cleary, Ryan",
         "NDP",
         "Newfoundland and Labrador",
         46,
         "Male"
        ],
        [
         "Côté, Raymond",
         "NDP",
         "Quebec",
         45,
         "Male"
        ],
        [
         "Clarke, Rob",
         "Conservative",
         "Saskatchewan",
         45,
         "Male"
        ],
        [
         "Brison, Scott",
         "Liberal",
         "Nova Scotia",
         45,
         "Male"
        ],
        [
         "Butt, Brad",
         "Conservative",
         "Ontario",
         45,
         "Male"
        ],
        [
         "Rickford, Greg",
         "Conservative",
         "Ontario",
         45,
         "Male"
        ],
        [
         "LeBlanc, Dominic",
         "Liberal",
         "New Brunswick",
         45,
         "Male"
        ],
        [
         "Hoback, Randy",
         "Conservative",
         "Saskatchewan",
         45,
         "Male"
        ],
        [
         "Caron, Guy",
         "NDP",
         "Quebec",
         44,
         "Male"
        ],
        [
         "Brahmi, Tarik",
         "NDP",
         "Quebec",
         44,
         "Male"
        ],
        [
         "Kenney, Jason",
         "Conservative",
         "Alberta",
         44,
         "Male"
        ],
        [
         "Masse, Brian",
         "NDP",
         "Ontario",
         44,
         "Male"
        ],
        [
         "Alexander, Chris",
         "Conservative",
         "Ontario",
         44,
         "Male"
        ],
        [
         "Zimmer, Bob",
         "Conservative",
         "British Columbia",
         44,
         "Male"
        ],
        [
         "Calkins, Blaine",
         "Conservative",
         "Alberta",
         44,
         "Male"
        ],
        [
         "Baird, John",
         "Conservative",
         "Ontario",
         43,
         "Male"
        ],
        [
         "Lake, Mike",
         "Conservative",
         "Alberta",
         43,
         "Male"
        ],
        [
         "Simms, Scott",
         "Liberal",
         "Newfoundland and Labrador",
         43,
         "Male"
        ],
        [
         "Thibeault, Glenn",
         "NDP",
         "Ontario",
         43,
         "Male"
        ],
        [
         "Williamson, John",
         "Conservative",
         "New Brunswick",
         42,
         "Male"
        ],
        [
         "Calandra, Paul",
         "Conservative",
         "Ontario",
         42,
         "Male"
        ],
        [
         "Chicoine, Sylvain",
         "NDP",
         "Quebec",
         42,
         "Male"
        ],
        [
         "Del Mastro, Dean",
         "Conservative",
         "Ontario",
         42,
         "Male"
        ],
        [
         "Rajotte, James",
         "Conservative",
         "Alberta",
         42,
         "Male"
        ],
        [
         "Seeback, Kyle",
         "Conservative",
         "Ontario",
         42,
         "Male"
        ],
        [
         "Watson, Jeff",
         "Conservative",
         "Ontario",
         41,
         "Male"
        ],
        [
         "Lapointe, François",
         "NDP",
         "Quebec",
         41,
         "Male"
        ],
        [
         "Nicholls, Jamie",
         "NDP",
         "Quebec",
         41,
         "Male"
        ],
        [
         "Chong, Michael D.",
         "Conservative",
         "Ontario",
         41,
         "Male"
        ],
        [
         "Trudeau, Justin",
         "Liberal",
         "Quebec",
         41,
         "Male"
        ],
        [
         "Larose, Jean-François",
         "NDP",
         "Quebec",
         40,
         "Male"
        ],
        [
         "Anders, Rob",
         "Conservative",
         "Alberta",
         40,
         "Male"
        ],
        [
         "Fletcher, Steven John",
         "Conservative",
         "Manitoba",
         40,
         "Male"
        ],
        [
         "Cullen, Nathan",
         "NDP",
         "British Columbia",
         40,
         "Male"
        ],
        [
         "Ravignat, Mathieu",
         "NDP",
         "Quebec",
         39,
         "Male"
        ],
        [
         "Bruinooge, Rod",
         "Conservative",
         "Manitoba",
         39,
         "Male"
        ],
        [
         "Mai, Hoang",
         "NDP",
         "Quebec",
         39,
         "Male"
        ],
        [
         "Boulerice, Alexandre",
         "NDP",
         "Quebec",
         39,
         "Male"
        ],
        [
         "Fortin, Jean-François",
         "Bloc Quebecois",
         "Quebec",
         39,
         "Male"
        ],
        [
         "Leef, Ryan",
         "Conservative",
         "Territories",
         38,
         "Male"
        ],
        [
         "Paradis, Christian",
         "Conservative",
         "Quebec",
         38,
         "Male"
        ],
        [
         "Choquette, François",
         "NDP",
         "Quebec",
         38,
         "Male"
        ],
        [
         "Moore, Rob",
         "Conservative",
         "New Brunswick",
         38,
         "Male"
        ],
        [
         "Trost, Brad",
         "Conservative",
         "Saskatchewan",
         38,
         "Male"
        ],
        [
         "Gill, Parm",
         "Conservative",
         "Ontario",
         38,
         "Male"
        ],
        [
         "Hillyer, Jim",
         "Conservative",
         "Alberta",
         38,
         "Male"
        ],
        [
         "Richards, Blake",
         "Conservative",
         "Alberta",
         38,
         "Male"
        ],
        [
         "Uppal, Tim",
         "Conservative",
         "Alberta",
         38,
         "Male"
        ],
        [
         "Andrews, Scott",
         "Liberal",
         "Newfoundland and Labrador",
         37,
         "Male"
        ],
        [
         "Moore, James",
         "Conservative",
         "British Columbia",
         36,
         "Male"
        ],
        [
         "Lobb, Ben",
         "Conservative",
         "Ontario",
         36,
         "Male"
        ],
        [
         "Albas, Dan",
         "Conservative",
         "British Columbia",
         36,
         "Male"
        ],
        [
         "Storseth, Brian",
         "Conservative",
         "Alberta",
         34,
         "Male"
        ],
        [
         "Strahl, Mark",
         "Conservative",
         "British Columbia",
         34,
         "Male"
        ],
        [
         "Brown, Patrick W.",
         "Conservative",
         "Ontario",
         34,
         "Male"
        ],
        [
         "Warkentin, Chris",
         "Conservative",
         "Alberta",
         34,
         "Male"
        ],
        [
         "Scheer, Andrew",
         "Conservative",
         "Saskatchewan",
         33,
         "Male"
        ],
        [
         "Poilievre, Pierre",
         "Conservative",
         "Ontario",
         33,
         "Male"
        ],
        [
         "Genest-Jourdain, Jonathan",
         "NDP",
         "Quebec",
         33,
         "Male"
        ],
        [
         "Harris, Dan",
         "NDP",
         "Ontario",
         33,
         "Male"
        ],
        [
         "Tremblay, Jonathan",
         "NDP",
         "Quebec",
         28,
         "Male"
        ],
        [
         "Morin, Dany",
         "NDP",
         "Quebec",
         27,
         "Male"
        ],
        [
         "Dubé, Matthew",
         "NDP",
         "Quebec",
         24,
         "Male"
        ],
        [
         "Dusseault, Pierre-Luc",
         "NDP",
         "Quebec",
         21,
         "Male"
        ],
        [
         "O'Toole, Erin",
         "Conservative",
         "Ontario",
         "nan",
         "Male"
        ]
       ],
       "_data_tsv": "Province\tParty\tCount\nAlberta\tConservative\t27\nAlberta\tNDP\t1\nBritish Columbia\tConservative\t21\nBritish Columbia\tGreen\t1\nBritish Columbia\tLiberal\t2\nBritish Columbia\tNDP\t12\nManitoba\tConservative\t11\nManitoba\tLiberal\t1\nManitoba\tNDP\t2\nNew Brunswick\tConservative\t8\nNew Brunswick\tLiberal\t1\nNew Brunswick\tNDP\t1\nNewfoundland and Labrador\tConservative\t1\nNewfoundland and Labrador\tLiberal\t4\nNewfoundland and Labrador\tNDP\t2\nNova Scotia\tConservative\t4\nNova Scotia\tLiberal\t4\nNova Scotia\tNDP\t3\nOntario\tConservative\t73\nOntario\tLiberal\t11\nOntario\tNDP\t22\nPrince Edward Island\tConservative\t1\nPrince Edward Island\tLiberal\t3\nQuebec\tBloc Quebecois\t4\nQuebec\tConservative\t5\nQuebec\tLiberal\t7\nQuebec\tNDP\t59\nSaskatchewan\tConservative\t13\nSaskatchewan\tLiberal\t1\nTerritories\tConservative\t2\nTerritories\tNDP\t1\n",
       "_options": {
        "aggregatorName": "Count",
        "autoSortUnusedAttrs": false,
        "colOrder": "key_a_to_z",
        "cols": [],
        "exclusions": {},
        "hiddenAttributes": [],
        "hiddenFromAggregators": [],
        "hiddenFromDragDrop": [],
        "inclusions": {},
        "inclusionsInfo": {},
        "localeStrings": {
         "apply": "Apply",
         "by": "by",
         "cancel": "Cancel",
         "computeError": "An error occurred computing the PivotTable results.",
         "filterResults": "Filter values",
         "renderError": "An error occurred rendering the PivotTable results.",
         "selectAll": "Select All",
         "selectNone": "Select None",
         "tooMany": "(too many to list)",
         "totals": "Totals",
         "uiRenderError": "An error occurred rendering the PivotTable UI.",
         "vs": "vs"
        },
        "menuLimit": 500,
        "onRefresh": null,
        "rendererName": "Treemap",
        "rowOrder": "key_a_to_z",
        "rows": [
         "Province",
         "Party"
        ],
        "unusedAttrsVertical": 85,
        "vals": []
       },
       "layout": "IPY_MODEL_39ad3c8a3cc7437dbf3e4afa4787d334"
      }
     },
     "8aa82a5b42654dfeb598aaed843226b2": {
      "model_module": "@jupyter-widgets/controls",
      "model_module_version": "1.1.0",
      "model_name": "ButtonModel",
      "state": {
       "description": "Restore",
       "layout": "IPY_MODEL_56c3750b510d4632bdabfac009eb8477",
       "style": "IPY_MODEL_1d4d7c2ead314127bfd525c03a6d29ef"
      }
     },
     "8cb5906b71354ba1bc77333086cd2d2e": {
      "model_module": "@jupyter-widgets/controls",
      "model_module_version": "1.1.0",
      "model_name": "ButtonModel",
      "state": {
       "description": "Restore",
       "layout": "IPY_MODEL_53fb039951b3408388e5ae42dafd7c76",
       "style": "IPY_MODEL_252d1a8b47734ed7876717afc7af1993"
      }
     },
     "90345b4d9f804a3cb946fdd5f182ce5c": {
      "model_module": "ipypivot",
      "model_module_version": "~0.1.1",
      "model_name": "PivotUIBoxModel",
      "state": {
       "children": [
        "IPY_MODEL_c0363bce72744d1e94e4212949e94840",
        "IPY_MODEL_9e2a1d247fcd42459e3258213aac280a"
       ],
       "layout": "IPY_MODEL_1044de4f4ad44a65afc21efc0f02cb0e"
      }
     },
     "9235da8d8ed949e28275f8baa4d9e45e": {
      "model_module": "@jupyter-widgets/controls",
      "model_module_version": "1.1.0",
      "model_name": "HBoxModel",
      "state": {
       "children": [
        "IPY_MODEL_f893aa6c072a456881078039606b15fc",
        "IPY_MODEL_af3f16efc8674be3bcf3958e82811da1",
        "IPY_MODEL_c2c4ecc25fbf421bbbfd94f463f35b11"
       ],
       "layout": "IPY_MODEL_e6ba5b822e56411cb97dbb7543f14ef1"
      }
     },
     "92f20d1c05d34c82a5f9e4c53878a26e": {
      "model_module": "@jupyter-widgets/controls",
      "model_module_version": "1.1.0",
      "model_name": "TextModel",
      "state": {
       "disabled": true,
       "layout": "IPY_MODEL_4bd0e25e8b7d4001a29e17f48b8c87fa",
       "style": "IPY_MODEL_f63fbf501e65451290eb7a488e53e80a"
      }
     },
     "936d6cc913b144f39e9ea17cc485f7a8": {
      "model_module": "@jupyter-widgets/controls",
      "model_module_version": "1.1.0",
      "model_name": "HBoxModel",
      "state": {
       "children": [
        "IPY_MODEL_53b4100231124e3f9b3557cfdf69f3cc",
        "IPY_MODEL_3080b8cbc09648d8a1665a603da9e1db",
        "IPY_MODEL_0e9576d68a8d4864bb73ec2a56fd18fd"
       ],
       "layout": "IPY_MODEL_59d0a20600ba499e9d91c8dfad88f9a0"
      }
     },
     "94f892d375494fd4aad588db48761deb": {
      "model_module": "@jupyter-widgets/base",
      "model_module_version": "1.0.0",
      "model_name": "LayoutModel",
      "state": {
       "display": "flex",
       "justify_content": "space-around",
       "width": "500px"
      }
     },
     "969af4c3373345a4b150eb912531246b": {
      "model_module": "@jupyter-widgets/controls",
      "model_module_version": "1.1.0",
      "model_name": "HBoxModel",
      "state": {
       "children": [
        "IPY_MODEL_66a658d7dede4275b700380fe43e8012",
        "IPY_MODEL_8aa82a5b42654dfeb598aaed843226b2",
        "IPY_MODEL_b33ce5911ff742f09324f228b542d283"
       ],
       "layout": "IPY_MODEL_d11b09142119455d9b2bccb314f71290"
      }
     },
     "9a401651cff246a6881f9c29d7be3eb6": {
      "model_module": "ipypivot",
      "model_module_version": "~0.1.1",
      "model_name": "PivotUIBoxModel",
      "state": {
       "children": [
        "IPY_MODEL_2cc082dbc37146578bbd1a4878e14ecd",
        "IPY_MODEL_7a11f1a7b7ae444dae75f0af865dbc6c"
       ],
       "layout": "IPY_MODEL_faf51bd498b346e6967a28c8c5a26fc9"
      }
     },
     "9e2a1d247fcd42459e3258213aac280a": {
      "model_module": "ipypivot",
      "model_module_version": "~0.1.1",
      "model_name": "PivotUIModel",
      "state": {
       "_data": [
        [
         "row",
         "total_bill",
         "tip",
         "sex",
         "smoker",
         "day",
         "time",
         "size"
        ],
        [
         1,
         16.99,
         1.01,
         "Female",
         "No",
         "Sun",
         "Dinner",
         2
        ],
        [
         2,
         10.34,
         1.66,
         "Male",
         "No",
         "Sun",
         "Dinner",
         3
        ],
        [
         3,
         21.01,
         3.5,
         "Male",
         "No",
         "Sun",
         "Dinner",
         3
        ],
        [
         4,
         23.68,
         3.31,
         "Male",
         "No",
         "Sun",
         "Dinner",
         2
        ],
        [
         5,
         24.59,
         3.61,
         "Female",
         "No",
         "Sun",
         "Dinner",
         4
        ],
        [
         6,
         25.29,
         4.71,
         "Male",
         "No",
         "Sun",
         "Dinner",
         4
        ],
        [
         7,
         8.77,
         2,
         "Male",
         "No",
         "Sun",
         "Dinner",
         2
        ],
        [
         8,
         26.88,
         3.12,
         "Male",
         "No",
         "Sun",
         "Dinner",
         4
        ],
        [
         9,
         15.04,
         1.96,
         "Male",
         "No",
         "Sun",
         "Dinner",
         2
        ],
        [
         10,
         14.78,
         3.23,
         "Male",
         "No",
         "Sun",
         "Dinner",
         2
        ],
        [
         11,
         10.27,
         1.71,
         "Male",
         "No",
         "Sun",
         "Dinner",
         2
        ],
        [
         12,
         35.26,
         5,
         "Female",
         "No",
         "Sun",
         "Dinner",
         4
        ],
        [
         13,
         15.42,
         1.57,
         "Male",
         "No",
         "Sun",
         "Dinner",
         2
        ],
        [
         14,
         18.43,
         3,
         "Male",
         "No",
         "Sun",
         "Dinner",
         4
        ],
        [
         15,
         14.83,
         3.02,
         "Female",
         "No",
         "Sun",
         "Dinner",
         2
        ],
        [
         16,
         21.58,
         3.92,
         "Male",
         "No",
         "Sun",
         "Dinner",
         2
        ],
        [
         17,
         10.33,
         1.67,
         "Female",
         "No",
         "Sun",
         "Dinner",
         3
        ],
        [
         18,
         16.29,
         3.71,
         "Male",
         "No",
         "Sun",
         "Dinner",
         3
        ],
        [
         19,
         16.97,
         3.5,
         "Female",
         "No",
         "Sun",
         "Dinner",
         3
        ],
        [
         20,
         20.65,
         3.35,
         "Male",
         "No",
         "Sat",
         "Dinner",
         3
        ],
        [
         21,
         17.92,
         4.08,
         "Male",
         "No",
         "Sat",
         "Dinner",
         2
        ],
        [
         22,
         20.29,
         2.75,
         "Female",
         "No",
         "Sat",
         "Dinner",
         2
        ],
        [
         23,
         15.77,
         2.23,
         "Female",
         "No",
         "Sat",
         "Dinner",
         2
        ],
        [
         24,
         39.42,
         7.58,
         "Male",
         "No",
         "Sat",
         "Dinner",
         4
        ],
        [
         25,
         19.82,
         3.18,
         "Male",
         "No",
         "Sat",
         "Dinner",
         2
        ],
        [
         26,
         17.81,
         2.34,
         "Male",
         "No",
         "Sat",
         "Dinner",
         4
        ],
        [
         27,
         13.37,
         2,
         "Male",
         "No",
         "Sat",
         "Dinner",
         2
        ],
        [
         28,
         12.69,
         2,
         "Male",
         "No",
         "Sat",
         "Dinner",
         2
        ],
        [
         29,
         21.7,
         4.3,
         "Male",
         "No",
         "Sat",
         "Dinner",
         2
        ],
        [
         30,
         19.65,
         3,
         "Female",
         "No",
         "Sat",
         "Dinner",
         2
        ],
        [
         31,
         9.55,
         1.45,
         "Male",
         "No",
         "Sat",
         "Dinner",
         2
        ],
        [
         32,
         18.35,
         2.5,
         "Male",
         "No",
         "Sat",
         "Dinner",
         4
        ],
        [
         33,
         15.06,
         3,
         "Female",
         "No",
         "Sat",
         "Dinner",
         2
        ],
        [
         34,
         20.69,
         2.45,
         "Female",
         "No",
         "Sat",
         "Dinner",
         4
        ],
        [
         35,
         17.78,
         3.27,
         "Male",
         "No",
         "Sat",
         "Dinner",
         2
        ],
        [
         36,
         24.06,
         3.6,
         "Male",
         "No",
         "Sat",
         "Dinner",
         3
        ],
        [
         37,
         16.31,
         2,
         "Male",
         "No",
         "Sat",
         "Dinner",
         3
        ],
        [
         38,
         16.93,
         3.07,
         "Female",
         "No",
         "Sat",
         "Dinner",
         3
        ],
        [
         39,
         18.69,
         2.31,
         "Male",
         "No",
         "Sat",
         "Dinner",
         3
        ],
        [
         40,
         31.27,
         5,
         "Male",
         "No",
         "Sat",
         "Dinner",
         3
        ],
        [
         41,
         16.04,
         2.24,
         "Male",
         "No",
         "Sat",
         "Dinner",
         3
        ],
        [
         42,
         17.46,
         2.54,
         "Male",
         "No",
         "Sun",
         "Dinner",
         2
        ],
        [
         43,
         13.94,
         3.06,
         "Male",
         "No",
         "Sun",
         "Dinner",
         2
        ],
        [
         44,
         9.68,
         1.32,
         "Male",
         "No",
         "Sun",
         "Dinner",
         2
        ],
        [
         45,
         30.4,
         5.6,
         "Male",
         "No",
         "Sun",
         "Dinner",
         4
        ],
        [
         46,
         18.29,
         3,
         "Male",
         "No",
         "Sun",
         "Dinner",
         2
        ],
        [
         47,
         22.23,
         5,
         "Male",
         "No",
         "Sun",
         "Dinner",
         2
        ],
        [
         48,
         32.4,
         6,
         "Male",
         "No",
         "Sun",
         "Dinner",
         4
        ],
        [
         49,
         28.55,
         2.05,
         "Male",
         "No",
         "Sun",
         "Dinner",
         3
        ],
        [
         50,
         18.04,
         3,
         "Male",
         "No",
         "Sun",
         "Dinner",
         2
        ],
        [
         51,
         12.54,
         2.5,
         "Male",
         "No",
         "Sun",
         "Dinner",
         2
        ],
        [
         52,
         10.29,
         2.6,
         "Female",
         "No",
         "Sun",
         "Dinner",
         2
        ],
        [
         53,
         34.81,
         5.2,
         "Female",
         "No",
         "Sun",
         "Dinner",
         4
        ],
        [
         54,
         9.94,
         1.56,
         "Male",
         "No",
         "Sun",
         "Dinner",
         2
        ],
        [
         55,
         25.56,
         4.34,
         "Male",
         "No",
         "Sun",
         "Dinner",
         4
        ],
        [
         56,
         19.49,
         3.51,
         "Male",
         "No",
         "Sun",
         "Dinner",
         2
        ],
        [
         57,
         38.01,
         3,
         "Male",
         "Yes",
         "Sat",
         "Dinner",
         4
        ],
        [
         58,
         26.41,
         1.5,
         "Female",
         "No",
         "Sat",
         "Dinner",
         2
        ],
        [
         59,
         11.24,
         1.76,
         "Male",
         "Yes",
         "Sat",
         "Dinner",
         2
        ],
        [
         60,
         48.27,
         6.73,
         "Male",
         "No",
         "Sat",
         "Dinner",
         4
        ],
        [
         61,
         20.29,
         3.21,
         "Male",
         "Yes",
         "Sat",
         "Dinner",
         2
        ],
        [
         62,
         13.81,
         2,
         "Male",
         "Yes",
         "Sat",
         "Dinner",
         2
        ],
        [
         63,
         11.02,
         1.98,
         "Male",
         "Yes",
         "Sat",
         "Dinner",
         2
        ],
        [
         64,
         18.29,
         3.76,
         "Male",
         "Yes",
         "Sat",
         "Dinner",
         4
        ],
        [
         65,
         17.59,
         2.64,
         "Male",
         "No",
         "Sat",
         "Dinner",
         3
        ],
        [
         66,
         20.08,
         3.15,
         "Male",
         "No",
         "Sat",
         "Dinner",
         3
        ],
        [
         67,
         16.45,
         2.47,
         "Female",
         "No",
         "Sat",
         "Dinner",
         2
        ],
        [
         68,
         3.07,
         1,
         "Female",
         "Yes",
         "Sat",
         "Dinner",
         1
        ],
        [
         69,
         20.23,
         2.01,
         "Male",
         "No",
         "Sat",
         "Dinner",
         2
        ],
        [
         70,
         15.01,
         2.09,
         "Male",
         "Yes",
         "Sat",
         "Dinner",
         2
        ],
        [
         71,
         12.02,
         1.97,
         "Male",
         "No",
         "Sat",
         "Dinner",
         2
        ],
        [
         72,
         17.07,
         3,
         "Female",
         "No",
         "Sat",
         "Dinner",
         3
        ],
        [
         73,
         26.86,
         3.14,
         "Female",
         "Yes",
         "Sat",
         "Dinner",
         2
        ],
        [
         74,
         25.28,
         5,
         "Female",
         "Yes",
         "Sat",
         "Dinner",
         2
        ],
        [
         75,
         14.73,
         2.2,
         "Female",
         "No",
         "Sat",
         "Dinner",
         2
        ],
        [
         76,
         10.51,
         1.25,
         "Male",
         "No",
         "Sat",
         "Dinner",
         2
        ],
        [
         77,
         17.92,
         3.08,
         "Male",
         "Yes",
         "Sat",
         "Dinner",
         2
        ],
        [
         78,
         27.2,
         4,
         "Male",
         "No",
         "Thur",
         "Lunch",
         4
        ],
        [
         79,
         22.76,
         3,
         "Male",
         "No",
         "Thur",
         "Lunch",
         2
        ],
        [
         80,
         17.29,
         2.71,
         "Male",
         "No",
         "Thur",
         "Lunch",
         2
        ],
        [
         81,
         19.44,
         3,
         "Male",
         "Yes",
         "Thur",
         "Lunch",
         2
        ],
        [
         82,
         16.66,
         3.4,
         "Male",
         "No",
         "Thur",
         "Lunch",
         2
        ],
        [
         83,
         10.07,
         1.83,
         "Female",
         "No",
         "Thur",
         "Lunch",
         1
        ],
        [
         84,
         32.68,
         5,
         "Male",
         "Yes",
         "Thur",
         "Lunch",
         2
        ],
        [
         85,
         15.98,
         2.03,
         "Male",
         "No",
         "Thur",
         "Lunch",
         2
        ],
        [
         86,
         34.83,
         5.17,
         "Female",
         "No",
         "Thur",
         "Lunch",
         4
        ],
        [
         87,
         13.03,
         2,
         "Male",
         "No",
         "Thur",
         "Lunch",
         2
        ],
        [
         88,
         18.28,
         4,
         "Male",
         "No",
         "Thur",
         "Lunch",
         2
        ],
        [
         89,
         24.71,
         5.85,
         "Male",
         "No",
         "Thur",
         "Lunch",
         2
        ],
        [
         90,
         21.16,
         3,
         "Male",
         "No",
         "Thur",
         "Lunch",
         2
        ],
        [
         91,
         28.97,
         3,
         "Male",
         "Yes",
         "Fri",
         "Dinner",
         2
        ],
        [
         92,
         22.49,
         3.5,
         "Male",
         "No",
         "Fri",
         "Dinner",
         2
        ],
        [
         93,
         5.75,
         1,
         "Female",
         "Yes",
         "Fri",
         "Dinner",
         2
        ],
        [
         94,
         16.32,
         4.3,
         "Female",
         "Yes",
         "Fri",
         "Dinner",
         2
        ],
        [
         95,
         22.75,
         3.25,
         "Female",
         "No",
         "Fri",
         "Dinner",
         2
        ],
        [
         96,
         40.17,
         4.73,
         "Male",
         "Yes",
         "Fri",
         "Dinner",
         4
        ],
        [
         97,
         27.28,
         4,
         "Male",
         "Yes",
         "Fri",
         "Dinner",
         2
        ],
        [
         98,
         12.03,
         1.5,
         "Male",
         "Yes",
         "Fri",
         "Dinner",
         2
        ],
        [
         99,
         21.01,
         3,
         "Male",
         "Yes",
         "Fri",
         "Dinner",
         2
        ],
        [
         100,
         12.46,
         1.5,
         "Male",
         "No",
         "Fri",
         "Dinner",
         2
        ],
        [
         101,
         11.35,
         2.5,
         "Female",
         "Yes",
         "Fri",
         "Dinner",
         2
        ],
        [
         102,
         15.38,
         3,
         "Female",
         "Yes",
         "Fri",
         "Dinner",
         2
        ],
        [
         103,
         44.3,
         2.5,
         "Female",
         "Yes",
         "Sat",
         "Dinner",
         3
        ],
        [
         104,
         22.42,
         3.48,
         "Female",
         "Yes",
         "Sat",
         "Dinner",
         2
        ],
        [
         105,
         20.92,
         4.08,
         "Female",
         "No",
         "Sat",
         "Dinner",
         2
        ],
        [
         106,
         15.36,
         1.64,
         "Male",
         "Yes",
         "Sat",
         "Dinner",
         2
        ],
        [
         107,
         20.49,
         4.06,
         "Male",
         "Yes",
         "Sat",
         "Dinner",
         2
        ],
        [
         108,
         25.21,
         4.29,
         "Male",
         "Yes",
         "Sat",
         "Dinner",
         2
        ],
        [
         109,
         18.24,
         3.76,
         "Male",
         "No",
         "Sat",
         "Dinner",
         2
        ],
        [
         110,
         14.31,
         4,
         "Female",
         "Yes",
         "Sat",
         "Dinner",
         2
        ],
        [
         111,
         14,
         3,
         "Male",
         "No",
         "Sat",
         "Dinner",
         2
        ],
        [
         112,
         7.25,
         1,
         "Female",
         "No",
         "Sat",
         "Dinner",
         1
        ],
        [
         113,
         38.07,
         4,
         "Male",
         "No",
         "Sun",
         "Dinner",
         3
        ],
        [
         114,
         23.95,
         2.55,
         "Male",
         "No",
         "Sun",
         "Dinner",
         2
        ],
        [
         115,
         25.71,
         4,
         "Female",
         "No",
         "Sun",
         "Dinner",
         3
        ],
        [
         116,
         17.31,
         3.5,
         "Female",
         "No",
         "Sun",
         "Dinner",
         2
        ],
        [
         117,
         29.93,
         5.07,
         "Male",
         "No",
         "Sun",
         "Dinner",
         4
        ],
        [
         118,
         10.65,
         1.5,
         "Female",
         "No",
         "Thur",
         "Lunch",
         2
        ],
        [
         119,
         12.43,
         1.8,
         "Female",
         "No",
         "Thur",
         "Lunch",
         2
        ],
        [
         120,
         24.08,
         2.92,
         "Female",
         "No",
         "Thur",
         "Lunch",
         4
        ],
        [
         121,
         11.69,
         2.31,
         "Male",
         "No",
         "Thur",
         "Lunch",
         2
        ],
        [
         122,
         13.42,
         1.68,
         "Female",
         "No",
         "Thur",
         "Lunch",
         2
        ],
        [
         123,
         14.26,
         2.5,
         "Male",
         "No",
         "Thur",
         "Lunch",
         2
        ],
        [
         124,
         15.95,
         2,
         "Male",
         "No",
         "Thur",
         "Lunch",
         2
        ],
        [
         125,
         12.48,
         2.52,
         "Female",
         "No",
         "Thur",
         "Lunch",
         2
        ],
        [
         126,
         29.8,
         4.2,
         "Female",
         "No",
         "Thur",
         "Lunch",
         6
        ],
        [
         127,
         8.52,
         1.48,
         "Male",
         "No",
         "Thur",
         "Lunch",
         2
        ],
        [
         128,
         14.52,
         2,
         "Female",
         "No",
         "Thur",
         "Lunch",
         2
        ],
        [
         129,
         11.38,
         2,
         "Female",
         "No",
         "Thur",
         "Lunch",
         2
        ],
        [
         130,
         22.82,
         2.18,
         "Male",
         "No",
         "Thur",
         "Lunch",
         3
        ],
        [
         131,
         19.08,
         1.5,
         "Male",
         "No",
         "Thur",
         "Lunch",
         2
        ],
        [
         132,
         20.27,
         2.83,
         "Female",
         "No",
         "Thur",
         "Lunch",
         2
        ],
        [
         133,
         11.17,
         1.5,
         "Female",
         "No",
         "Thur",
         "Lunch",
         2
        ],
        [
         134,
         12.26,
         2,
         "Female",
         "No",
         "Thur",
         "Lunch",
         2
        ],
        [
         135,
         18.26,
         3.25,
         "Female",
         "No",
         "Thur",
         "Lunch",
         2
        ],
        [
         136,
         8.51,
         1.25,
         "Female",
         "No",
         "Thur",
         "Lunch",
         2
        ],
        [
         137,
         10.33,
         2,
         "Female",
         "No",
         "Thur",
         "Lunch",
         2
        ],
        [
         138,
         14.15,
         2,
         "Female",
         "No",
         "Thur",
         "Lunch",
         2
        ],
        [
         139,
         16,
         2,
         "Male",
         "Yes",
         "Thur",
         "Lunch",
         2
        ],
        [
         140,
         13.16,
         2.75,
         "Female",
         "No",
         "Thur",
         "Lunch",
         2
        ],
        [
         141,
         17.47,
         3.5,
         "Female",
         "No",
         "Thur",
         "Lunch",
         2
        ],
        [
         142,
         34.3,
         6.7,
         "Male",
         "No",
         "Thur",
         "Lunch",
         6
        ],
        [
         143,
         41.19,
         5,
         "Male",
         "No",
         "Thur",
         "Lunch",
         5
        ],
        [
         144,
         27.05,
         5,
         "Female",
         "No",
         "Thur",
         "Lunch",
         6
        ],
        [
         145,
         16.43,
         2.3,
         "Female",
         "No",
         "Thur",
         "Lunch",
         2
        ],
        [
         146,
         8.35,
         1.5,
         "Female",
         "No",
         "Thur",
         "Lunch",
         2
        ],
        [
         147,
         18.64,
         1.36,
         "Female",
         "No",
         "Thur",
         "Lunch",
         3
        ],
        [
         148,
         11.87,
         1.63,
         "Female",
         "No",
         "Thur",
         "Lunch",
         2
        ],
        [
         149,
         9.78,
         1.73,
         "Male",
         "No",
         "Thur",
         "Lunch",
         2
        ],
        [
         150,
         7.51,
         2,
         "Male",
         "No",
         "Thur",
         "Lunch",
         2
        ],
        [
         151,
         14.07,
         2.5,
         "Male",
         "No",
         "Sun",
         "Dinner",
         2
        ],
        [
         152,
         13.13,
         2,
         "Male",
         "No",
         "Sun",
         "Dinner",
         2
        ],
        [
         153,
         17.26,
         2.74,
         "Male",
         "No",
         "Sun",
         "Dinner",
         3
        ],
        [
         154,
         24.55,
         2,
         "Male",
         "No",
         "Sun",
         "Dinner",
         4
        ],
        [
         155,
         19.77,
         2,
         "Male",
         "No",
         "Sun",
         "Dinner",
         4
        ],
        [
         156,
         29.85,
         5.14,
         "Female",
         "No",
         "Sun",
         "Dinner",
         5
        ],
        [
         157,
         48.17,
         5,
         "Male",
         "No",
         "Sun",
         "Dinner",
         6
        ],
        [
         158,
         25,
         3.75,
         "Female",
         "No",
         "Sun",
         "Dinner",
         4
        ],
        [
         159,
         13.39,
         2.61,
         "Female",
         "No",
         "Sun",
         "Dinner",
         2
        ],
        [
         160,
         16.49,
         2,
         "Male",
         "No",
         "Sun",
         "Dinner",
         4
        ],
        [
         161,
         21.5,
         3.5,
         "Male",
         "No",
         "Sun",
         "Dinner",
         4
        ],
        [
         162,
         12.66,
         2.5,
         "Male",
         "No",
         "Sun",
         "Dinner",
         2
        ],
        [
         163,
         16.21,
         2,
         "Female",
         "No",
         "Sun",
         "Dinner",
         3
        ],
        [
         164,
         13.81,
         2,
         "Male",
         "No",
         "Sun",
         "Dinner",
         2
        ],
        [
         165,
         17.51,
         3,
         "Female",
         "Yes",
         "Sun",
         "Dinner",
         2
        ],
        [
         166,
         24.52,
         3.48,
         "Male",
         "No",
         "Sun",
         "Dinner",
         3
        ],
        [
         167,
         20.76,
         2.24,
         "Male",
         "No",
         "Sun",
         "Dinner",
         2
        ],
        [
         168,
         31.71,
         4.5,
         "Male",
         "No",
         "Sun",
         "Dinner",
         4
        ],
        [
         169,
         10.59,
         1.61,
         "Female",
         "Yes",
         "Sat",
         "Dinner",
         2
        ],
        [
         170,
         10.63,
         2,
         "Female",
         "Yes",
         "Sat",
         "Dinner",
         2
        ],
        [
         171,
         50.81,
         10,
         "Male",
         "Yes",
         "Sat",
         "Dinner",
         3
        ],
        [
         172,
         15.81,
         3.16,
         "Male",
         "Yes",
         "Sat",
         "Dinner",
         2
        ],
        [
         173,
         7.25,
         5.15,
         "Male",
         "Yes",
         "Sun",
         "Dinner",
         2
        ],
        [
         174,
         31.85,
         3.18,
         "Male",
         "Yes",
         "Sun",
         "Dinner",
         2
        ],
        [
         175,
         16.82,
         4,
         "Male",
         "Yes",
         "Sun",
         "Dinner",
         2
        ],
        [
         176,
         32.9,
         3.11,
         "Male",
         "Yes",
         "Sun",
         "Dinner",
         2
        ],
        [
         177,
         17.89,
         2,
         "Male",
         "Yes",
         "Sun",
         "Dinner",
         2
        ],
        [
         178,
         14.48,
         2,
         "Male",
         "Yes",
         "Sun",
         "Dinner",
         2
        ],
        [
         179,
         9.6,
         4,
         "Female",
         "Yes",
         "Sun",
         "Dinner",
         2
        ],
        [
         180,
         34.63,
         3.55,
         "Male",
         "Yes",
         "Sun",
         "Dinner",
         2
        ],
        [
         181,
         34.65,
         3.68,
         "Male",
         "Yes",
         "Sun",
         "Dinner",
         4
        ],
        [
         182,
         23.33,
         5.65,
         "Male",
         "Yes",
         "Sun",
         "Dinner",
         2
        ],
        [
         183,
         45.35,
         3.5,
         "Male",
         "Yes",
         "Sun",
         "Dinner",
         3
        ],
        [
         184,
         23.17,
         6.5,
         "Male",
         "Yes",
         "Sun",
         "Dinner",
         4
        ],
        [
         185,
         40.55,
         3,
         "Male",
         "Yes",
         "Sun",
         "Dinner",
         2
        ],
        [
         186,
         20.69,
         5,
         "Male",
         "No",
         "Sun",
         "Dinner",
         5
        ],
        [
         187,
         20.9,
         3.5,
         "Female",
         "Yes",
         "Sun",
         "Dinner",
         3
        ],
        [
         188,
         30.46,
         2,
         "Male",
         "Yes",
         "Sun",
         "Dinner",
         5
        ],
        [
         189,
         18.15,
         3.5,
         "Female",
         "Yes",
         "Sun",
         "Dinner",
         3
        ],
        [
         190,
         23.1,
         4,
         "Male",
         "Yes",
         "Sun",
         "Dinner",
         3
        ],
        [
         191,
         15.69,
         1.5,
         "Male",
         "Yes",
         "Sun",
         "Dinner",
         2
        ],
        [
         192,
         19.81,
         4.19,
         "Female",
         "Yes",
         "Thur",
         "Lunch",
         2
        ],
        [
         193,
         28.44,
         2.56,
         "Male",
         "Yes",
         "Thur",
         "Lunch",
         2
        ],
        [
         194,
         15.48,
         2.02,
         "Male",
         "Yes",
         "Thur",
         "Lunch",
         2
        ],
        [
         195,
         16.58,
         4,
         "Male",
         "Yes",
         "Thur",
         "Lunch",
         2
        ],
        [
         196,
         7.56,
         1.44,
         "Male",
         "No",
         "Thur",
         "Lunch",
         2
        ],
        [
         197,
         10.34,
         2,
         "Male",
         "Yes",
         "Thur",
         "Lunch",
         2
        ],
        [
         198,
         43.11,
         5,
         "Female",
         "Yes",
         "Thur",
         "Lunch",
         4
        ],
        [
         199,
         13,
         2,
         "Female",
         "Yes",
         "Thur",
         "Lunch",
         2
        ],
        [
         200,
         13.51,
         2,
         "Male",
         "Yes",
         "Thur",
         "Lunch",
         2
        ],
        [
         201,
         18.71,
         4,
         "Male",
         "Yes",
         "Thur",
         "Lunch",
         3
        ],
        [
         202,
         12.74,
         2.01,
         "Female",
         "Yes",
         "Thur",
         "Lunch",
         2
        ],
        [
         203,
         13,
         2,
         "Female",
         "Yes",
         "Thur",
         "Lunch",
         2
        ],
        [
         204,
         16.4,
         2.5,
         "Female",
         "Yes",
         "Thur",
         "Lunch",
         2
        ],
        [
         205,
         20.53,
         4,
         "Male",
         "Yes",
         "Thur",
         "Lunch",
         4
        ],
        [
         206,
         16.47,
         3.23,
         "Female",
         "Yes",
         "Thur",
         "Lunch",
         3
        ],
        [
         207,
         26.59,
         3.41,
         "Male",
         "Yes",
         "Sat",
         "Dinner",
         3
        ],
        [
         208,
         38.73,
         3,
         "Male",
         "Yes",
         "Sat",
         "Dinner",
         4
        ],
        [
         209,
         24.27,
         2.03,
         "Male",
         "Yes",
         "Sat",
         "Dinner",
         2
        ],
        [
         210,
         12.76,
         2.23,
         "Female",
         "Yes",
         "Sat",
         "Dinner",
         2
        ],
        [
         211,
         30.06,
         2,
         "Male",
         "Yes",
         "Sat",
         "Dinner",
         3
        ],
        [
         212,
         25.89,
         5.16,
         "Male",
         "Yes",
         "Sat",
         "Dinner",
         4
        ],
        [
         213,
         48.33,
         9,
         "Male",
         "No",
         "Sat",
         "Dinner",
         4
        ],
        [
         214,
         13.27,
         2.5,
         "Female",
         "Yes",
         "Sat",
         "Dinner",
         2
        ],
        [
         215,
         28.17,
         6.5,
         "Female",
         "Yes",
         "Sat",
         "Dinner",
         3
        ],
        [
         216,
         12.9,
         1.1,
         "Female",
         "Yes",
         "Sat",
         "Dinner",
         2
        ],
        [
         217,
         28.15,
         3,
         "Male",
         "Yes",
         "Sat",
         "Dinner",
         5
        ],
        [
         218,
         11.59,
         1.5,
         "Male",
         "Yes",
         "Sat",
         "Dinner",
         2
        ],
        [
         219,
         7.74,
         1.44,
         "Male",
         "Yes",
         "Sat",
         "Dinner",
         2
        ],
        [
         220,
         30.14,
         3.09,
         "Female",
         "Yes",
         "Sat",
         "Dinner",
         4
        ],
        [
         221,
         12.16,
         2.2,
         "Male",
         "Yes",
         "Fri",
         "Lunch",
         2
        ],
        [
         222,
         13.42,
         3.48,
         "Female",
         "Yes",
         "Fri",
         "Lunch",
         2
        ],
        [
         223,
         8.58,
         1.92,
         "Male",
         "Yes",
         "Fri",
         "Lunch",
         1
        ],
        [
         224,
         15.98,
         3,
         "Female",
         "No",
         "Fri",
         "Lunch",
         3
        ],
        [
         225,
         13.42,
         1.58,
         "Male",
         "Yes",
         "Fri",
         "Lunch",
         2
        ],
        [
         226,
         16.27,
         2.5,
         "Female",
         "Yes",
         "Fri",
         "Lunch",
         2
        ],
        [
         227,
         10.09,
         2,
         "Female",
         "Yes",
         "Fri",
         "Lunch",
         2
        ],
        [
         228,
         20.45,
         3,
         "Male",
         "No",
         "Sat",
         "Dinner",
         4
        ],
        [
         229,
         13.28,
         2.72,
         "Male",
         "No",
         "Sat",
         "Dinner",
         2
        ],
        [
         230,
         22.12,
         2.88,
         "Female",
         "Yes",
         "Sat",
         "Dinner",
         2
        ],
        [
         231,
         24.01,
         2,
         "Male",
         "Yes",
         "Sat",
         "Dinner",
         4
        ],
        [
         232,
         15.69,
         3,
         "Male",
         "Yes",
         "Sat",
         "Dinner",
         3
        ],
        [
         233,
         11.61,
         3.39,
         "Male",
         "No",
         "Sat",
         "Dinner",
         2
        ],
        [
         234,
         10.77,
         1.47,
         "Male",
         "No",
         "Sat",
         "Dinner",
         2
        ],
        [
         235,
         15.53,
         3,
         "Male",
         "Yes",
         "Sat",
         "Dinner",
         2
        ],
        [
         236,
         10.07,
         1.25,
         "Male",
         "No",
         "Sat",
         "Dinner",
         2
        ],
        [
         237,
         12.6,
         1,
         "Male",
         "Yes",
         "Sat",
         "Dinner",
         2
        ],
        [
         238,
         32.83,
         1.17,
         "Male",
         "Yes",
         "Sat",
         "Dinner",
         2
        ],
        [
         239,
         35.83,
         4.67,
         "Female",
         "No",
         "Sat",
         "Dinner",
         3
        ],
        [
         240,
         29.03,
         5.92,
         "Male",
         "No",
         "Sat",
         "Dinner",
         3
        ],
        [
         241,
         27.18,
         2,
         "Female",
         "Yes",
         "Sat",
         "Dinner",
         2
        ],
        [
         242,
         22.67,
         2,
         "Male",
         "Yes",
         "Sat",
         "Dinner",
         2
        ],
        [
         243,
         17.82,
         1.75,
         "Male",
         "No",
         "Sat",
         "Dinner",
         2
        ],
        [
         244,
         18.78,
         3,
         "Female",
         "No",
         "Thur",
         "Dinner",
         2
        ]
       ],
       "_data_tsv": "sex\tsmoker\tFri-Dinner\tFri-Lunch\tSat-Dinner\tSun-Dinner\tThur-Dinner\tThur-Lunch\nFemale\tNo\t0.14285714285714285\t0.18773466833541927\t0.14337178708763412\t0.15987514577759485\t0.1597444089456869\t0.15328371507940666\nFemale\tYes\t0.22131147540983606\t0.20060331825037708\t0.14154605263157896\t0.21160822249093109\t\t0.15557868133501823\nMale\tNo\t0.14306151645207438\t\t0.1634077117275336\t0.15268880935555204\t\t0.15911611175722826\nMale\tYes\t0.12536690869766723\t0.16686182669789226\t0.1318476306773854\t0.13470366214424154\t\t0.15951176255803035\n",
       "_options": {
        "aggregatorName": "Sum over Sum",
        "autoSortUnusedAttrs": false,
        "colOrder": "key_a_to_z",
        "cols": [
         "day",
         "time"
        ],
        "exclusions": {},
        "hiddenAttributes": [],
        "hiddenFromAggregators": [],
        "hiddenFromDragDrop": [],
        "inclusions": {},
        "inclusionsInfo": {},
        "localeStrings": {
         "apply": "Apply",
         "by": "by",
         "cancel": "Cancel",
         "computeError": "An error occurred computing the PivotTable results.",
         "filterResults": "Filter values",
         "renderError": "An error occurred rendering the PivotTable results.",
         "selectAll": "Select All",
         "selectNone": "Select None",
         "tooMany": "(too many to list)",
         "totals": "Totals",
         "uiRenderError": "An error occurred rendering the PivotTable UI.",
         "vs": "vs"
        },
        "menuLimit": 500,
        "onRefresh": null,
        "rendererName": "Heatmap",
        "rowOrder": "key_a_to_z",
        "rows": [
         "sex",
         "smoker"
        ],
        "unusedAttrsVertical": 85,
        "vals": [
         "tip",
         "total_bill"
        ]
       },
       "layout": "IPY_MODEL_80848ec976434d7f99bfde0e6426bb9d"
      }
     },
     "9f0478a3086f4aeb98d4cc1650e8123c": {
      "model_module": "@jupyter-widgets/base",
      "model_module_version": "1.0.0",
      "model_name": "LayoutModel",
      "state": {
       "width": "100px"
      }
     },
     "a55e67db507549f2863d68cd5b19355b": {
      "model_module": "@jupyter-widgets/controls",
      "model_module_version": "1.1.0",
      "model_name": "DescriptionStyleModel",
      "state": {
       "description_width": ""
      }
     },
     "a56cd29c713a4d1ca4166639b5a7dbbc": {
      "model_module": "@jupyter-widgets/controls",
      "model_module_version": "1.1.0",
      "model_name": "ButtonStyleModel",
      "state": {}
     },
     "a5d8d19ca77f43fbab0b56b434235530": {
      "model_module": "@jupyter-widgets/controls",
      "model_module_version": "1.1.0",
      "model_name": "HBoxModel",
      "state": {
       "children": [
        "IPY_MODEL_f893aa6c072a456881078039606b15fc",
        "IPY_MODEL_af3f16efc8674be3bcf3958e82811da1",
        "IPY_MODEL_c2c4ecc25fbf421bbbfd94f463f35b11"
       ],
       "layout": "IPY_MODEL_e723ca57c5464f489dccc4d356151687"
      }
     },
     "a64fbaeb7c894ca2bcda378468111122": {
      "model_module": "@jupyter-widgets/base",
      "model_module_version": "1.0.0",
      "model_name": "LayoutModel",
      "state": {
       "display": "flex",
       "justify_content": "space-around",
       "width": "500px"
      }
     },
     "a69ad53797904dcabf045a634ca62458": {
      "model_module": "@jupyter-widgets/base",
      "model_module_version": "1.0.0",
      "model_name": "LayoutModel",
      "state": {
       "display": "flex",
       "justify_content": "flex-start"
      }
     },
     "a79f24d58ad34fc7977090d9b22ce72b": {
      "model_module": "@jupyter-widgets/base",
      "model_module_version": "1.0.0",
      "model_name": "LayoutModel",
      "state": {
       "width": "160px"
      }
     },
     "a7ad9578b84d4f93890b3b86bf41646f": {
      "model_module": "@jupyter-widgets/controls",
      "model_module_version": "1.1.0",
      "model_name": "ButtonStyleModel",
      "state": {}
     },
     "a9dd03f2a4754743af4cfa13ad442300": {
      "model_module": "@jupyter-widgets/controls",
      "model_module_version": "1.1.0",
      "model_name": "ButtonModel",
      "state": {
       "description": "Save",
       "layout": "IPY_MODEL_cff2b62797554eb49f5f329ea4d6b478",
       "style": "IPY_MODEL_f7fa9641f2b642d0830c5bde7db86f31"
      }
     },
     "ad858301b2f74d5fb5e0ce9179f755ef": {
      "model_module": "@jupyter-widgets/base",
      "model_module_version": "1.0.0",
      "model_name": "LayoutModel",
      "state": {
       "width": "100px"
      }
     },
     "af3f16efc8674be3bcf3958e82811da1": {
      "model_module": "@jupyter-widgets/controls",
      "model_module_version": "1.1.0",
      "model_name": "ButtonModel",
      "state": {
       "description": "Restore",
       "layout": "IPY_MODEL_3047e7f598224b6e9a11c4926e52f350",
       "style": "IPY_MODEL_efbac3fbbdf74132824c97783692e465"
      }
     },
     "afc60a1f5a864fe5826dc4ea92945cb2": {
      "model_module": "@jupyter-widgets/controls",
      "model_module_version": "1.1.0",
      "model_name": "ButtonStyleModel",
      "state": {}
     },
     "b00b44577dc2487c9e1bcd8d192e5daa": {
      "model_module": "@jupyter-widgets/base",
      "model_module_version": "1.0.0",
      "model_name": "LayoutModel",
      "state": {
       "width": "100px"
      }
     },
     "b33ce5911ff742f09324f228b542d283": {
      "model_module": "@jupyter-widgets/controls",
      "model_module_version": "1.1.0",
      "model_name": "TextModel",
      "state": {
       "disabled": true,
       "layout": "IPY_MODEL_02a77761a5e74ba08ca9d0758b8590bb",
       "style": "IPY_MODEL_f150b1816eeb472aa1312f398153591c"
      }
     },
     "b996f3cc947d4e71a625bf122ceb9c72": {
      "model_module": "@jupyter-widgets/base",
      "model_module_version": "1.0.0",
      "model_name": "LayoutModel",
      "state": {
       "display": "flex",
       "justify_content": "flex-start"
      }
     },
     "ba304476690748ffa653e7c9088ff588": {
      "model_module": "@jupyter-widgets/controls",
      "model_module_version": "1.1.0",
      "model_name": "TextModel",
      "state": {
       "disabled": true,
       "layout": "IPY_MODEL_a79f24d58ad34fc7977090d9b22ce72b",
       "style": "IPY_MODEL_a55e67db507549f2863d68cd5b19355b"
      }
     },
     "bc08cb4651354d89b7d7df964973c890": {
      "model_module": "@jupyter-widgets/controls",
      "model_module_version": "1.1.0",
      "model_name": "ButtonModel",
      "state": {
       "description": "Restore",
       "layout": "IPY_MODEL_2e9e80a1b0824228a470643a352116a3",
       "style": "IPY_MODEL_6b582e9fe16b4d44a5bfe2f0ca030136"
      }
     },
     "bc483b8fdb4d47e48112acf4c05a7fc1": {
      "model_module": "@jupyter-widgets/controls",
      "model_module_version": "1.1.0",
      "model_name": "DescriptionStyleModel",
      "state": {
       "description_width": ""
      }
     },
     "bf13302e2d8545ea8e02ba3e36a9918b": {
      "model_module": "ipypivot",
      "model_module_version": "~0.1.1",
      "model_name": "PivotUIModel",
      "state": {
       "_data": [
        [
         "Name",
         "Party",
         "Province",
         "Age",
         "Gender"
        ],
        [
         "Liu, Laurin",
         "NDP",
         "Quebec",
         22,
         "Female"
        ],
        [
         "Mourani, Maria",
         "Bloc Quebecois",
         "Quebec",
         43,
         "Female"
        ],
        [
         "Sellah, Djaouida",
         "NDP",
         "Quebec",
         "nan",
         "Female"
        ],
        [
         "St-Denis, Lise",
         "NDP",
         "Quebec",
         72,
         "Female"
        ],
        [
         "Fry, Hedy",
         "Liberal",
         "British Columbia",
         71,
         "Female"
        ],
        [
         "Turmel, Nycole",
         "NDP",
         "Quebec",
         70,
         "Female"
        ],
        [
         "Sgro, Judy",
         "Liberal",
         "Ontario",
         68,
         "Female"
        ],
        [
         "Raynault, Francine",
         "NDP",
         "Quebec",
         67,
         "Female"
        ],
        [
         "Davidson, Patricia",
         "Conservative",
         "Ontario",
         66,
         "Female"
        ],
        [
         "Smith, Joy",
         "Conservative",
         "Manitoba",
         65,
         "Female"
        ],
        [
         "Wong, Alice",
         "Conservative",
         "British Columbia",
         64,
         "Female"
        ],
        [
         "O'Neill Gordon, Tilly",
         "Conservative",
         "New Brunswick",
         63,
         "Female"
        ],
        [
         "Ablonczy, Diane",
         "Conservative",
         "Alberta",
         63,
         "Female"
        ],
        [
         "Duncan, Linda Francis",
         "NDP",
         "Alberta",
         63,
         "Female"
        ],
        [
         "Bennett, Carolyn",
         "Liberal",
         "Ontario",
         62,
         "Female"
        ],
        [
         "Nash, Peggy",
         "NDP",
         "Ontario",
         61,
         "Female"
        ],
        [
         "Mathyssen, Irene",
         "NDP",
         "Ontario",
         61,
         "Female"
        ],
        [
         "Sims, Jinny Jogindera",
         "NDP",
         "British Columbia",
         60,
         "Female"
        ],
        [
         "Foote, Judy",
         "Liberal",
         "Newfoundland and Labrador",
         60,
         "Female"
        ],
        [
         "Crowder, Jean",
         "NDP",
         "British Columbia",
         60,
         "Female"
        ],
        [
         "Davies, Libby",
         "NDP",
         "British Columbia",
         59,
         "Female"
        ],
        [
         "Yelich, Lynne",
         "Conservative",
         "Saskatchewan",
         59,
         "Female"
        ],
        [
         "Day, Anne-Marie",
         "NDP",
         "Quebec",
         58,
         "Female"
        ],
        [
         "May, Elizabeth",
         "Green",
         "British Columbia",
         58,
         "Female"
        ],
        [
         "Murray, Joyce",
         "Liberal",
         "British Columbia",
         58,
         "Female"
        ],
        [
         "Findlay, Kerry-Lynne D.",
         "Conservative",
         "British Columbia",
         57,
         "Female"
        ],
        [
         "Brown, Lois",
         "Conservative",
         "Ontario",
         57,
         "Female"
        ],
        [
         "Laverdière, Hélène",
         "NDP",
         "Quebec",
         57,
         "Female"
        ],
        [
         "Boutin-Sweet, Marjolaine",
         "NDP",
         "Quebec",
         57,
         "Female"
        ],
        [
         "Crockatt, Joan",
         "Conservative",
         "Alberta",
         56,
         "Female"
        ],
        [
         "Chow, Olivia",
         "NDP",
         "Ontario",
         55,
         "Female"
        ],
        [
         "McLeod, Cathy",
         "Conservative",
         "British Columbia",
         55,
         "Female"
        ],
        [
         "Finley, Diane",
         "Conservative",
         "Ontario",
         55,
         "Female"
        ],
        [
         "LeBlanc, Hélène",
         "NDP",
         "Quebec",
         54,
         "Female"
        ],
        [
         "Grewal, Nina",
         "Conservative",
         "British Columbia",
         54,
         "Female"
        ],
        [
         "Hughes, Carol",
         "NDP",
         "Ontario",
         54,
         "Female"
        ],
        [
         "Shea, Gail",
         "Conservative",
         "Prince Edward Island",
         53,
         "Female"
        ],
        [
         "Truppe, Susan",
         "Conservative",
         "Ontario",
         53,
         "Female"
        ],
        [
         "Young, Wai",
         "Conservative",
         "British Columbia",
         52,
         "Female"
        ],
        [
         "Gallant, Cheryl",
         "Conservative",
         "Ontario",
         52,
         "Female"
        ],
        [
         "Boivin, Françoise",
         "NDP",
         "Quebec",
         52,
         "Female"
        ],
        [
         "Block, Kelly",
         "Conservative",
         "Saskatchewan",
         51,
         "Female"
        ],
        [
         "Ayala, Paulina",
         "NDP",
         "Quebec",
         50,
         "Female"
        ],
        [
         "Groguhé, Sadia",
         "NDP",
         "Quebec",
         50,
         "Female"
        ],
        [
         "Charlton, Chris",
         "NDP",
         "Ontario",
         49,
         "Female"
        ],
        [
         "Bergen, Candice",
         "Conservative",
         "Manitoba",
         48,
         "Female"
        ],
        [
         "Perreault, Manon",
         "NDP",
         "Quebec",
         46,
         "Female"
        ],
        [
         "James, Roxanne",
         "Conservative",
         "Ontario",
         46,
         "Female"
        ],
        [
         "Ambler, Stella",
         "Conservative",
         "Ontario",
         46,
         "Female"
        ],
        [
         "Duncan, Kirsty",
         "Liberal",
         "Ontario",
         46,
         "Female"
        ],
        [
         "Glover, Shelly",
         "Conservative",
         "Manitoba",
         45,
         "Female"
        ],
        [
         "Aglukkaq, Leona",
         "Conservative",
         "Territories",
         45,
         "Female"
        ],
        [
         "Raitt, Lisa",
         "Conservative",
         "Ontario",
         44,
         "Female"
        ],
        [
         "Ambrose, Rona",
         "Conservative",
         "Alberta",
         43,
         "Female"
        ],
        [
         "Leitch, Kellie",
         "Conservative",
         "Ontario",
         42,
         "Female"
        ],
        [
         "Leslie, Megan",
         "NDP",
         "Nova Scotia",
         39,
         "Female"
        ],
        [
         "Hassainia, Sana",
         "NDP",
         "Quebec",
         38,
         "Female"
        ],
        [
         "Adams, Eve",
         "Conservative",
         "Ontario",
         38,
         "Female"
        ],
        [
         "Rempel, Michelle",
         "Conservative",
         "Alberta",
         32,
         "Female"
        ],
        [
         "Papillon, Annick",
         "NDP",
         "Quebec",
         32,
         "Female"
        ],
        [
         "Sitsabaiesan, Rathika",
         "NDP",
         "Ontario",
         31,
         "Female"
        ],
        [
         "Quach, Anne Minh-Thu",
         "NDP",
         "Quebec",
         30,
         "Female"
        ],
        [
         "Ashton, Niki",
         "NDP",
         "Manitoba",
         30,
         "Female"
        ],
        [
         "Moore, Christine",
         "NDP",
         "Quebec",
         29,
         "Female"
        ],
        [
         "Morin, Isabelle",
         "NDP",
         "Quebec",
         28,
         "Female"
        ],
        [
         "Blanchette-Lamothe, Lysane",
         "NDP",
         "Quebec",
         28,
         "Female"
        ],
        [
         "Brosseau, Ruth Ellen",
         "NDP",
         "Quebec",
         28,
         "Female"
        ],
        [
         "Latendresse, Alexandrine",
         "NDP",
         "Quebec",
         28,
         "Female"
        ],
        [
         "Doré Lefebvre, Rosane",
         "NDP",
         "Quebec",
         28,
         "Female"
        ],
        [
         "Morin, Marie-Claude",
         "NDP",
         "Quebec",
         27,
         "Female"
        ],
        [
         "Michaud, Élaine",
         "NDP",
         "Quebec",
         27,
         "Female"
        ],
        [
         "Péclet, Ève",
         "NDP",
         "Quebec",
         24,
         "Female"
        ],
        [
         "Freeman, Mylène",
         "NDP",
         "Quebec",
         23,
         "Female"
        ],
        [
         "Borg, Charmaine",
         "NDP",
         "Quebec",
         22,
         "Female"
        ],
        [
         "Bateman, Joyce",
         "Conservative",
         "Manitoba",
         "nan",
         "Female"
        ],
        [
         "Hiebert, Russ",
         "Conservative",
         "British Columbia",
         43,
         "Male"
        ],
        [
         "Jacob, Pierre",
         "NDP",
         "Quebec",
         59,
         "Male"
        ],
        [
         "Vellacott, Maurice",
         "Conservative",
         "Saskatchewan",
         57,
         "Male"
        ],
        [
         "Boughen, Ray",
         "Conservative",
         "Saskatchewan",
         75,
         "Male"
        ],
        [
         "O'Connor, Gordon",
         "Conservative",
         "Ontario",
         73,
         "Male"
        ],
        [
         "Cotler, Irwin",
         "Liberal",
         "Quebec",
         72,
         "Male"
        ],
        [
         "Oliver, Joe",
         "Conservative",
         "Ontario",
         72,
         "Male"
        ],
        [
         "Tilson, David Allan",
         "Conservative",
         "Ontario",
         71,
         "Male"
        ],
        [
         "Fantino, Julian",
         "Conservative",
         "Ontario",
         70,
         "Male"
        ],
        [
         "Kent, Peter",
         "Conservative",
         "Ontario",
         69,
         "Male"
        ],
        [
         "Plamondon, Louis",
         "Bloc Quebecois",
         "Quebec",
         69,
         "Male"
        ],
        [
         "Schellenberger, Gary",
         "Conservative",
         "Ontario",
         69,
         "Male"
        ],
        [
         "Lauzon, Guy",
         "Conservative",
         "Ontario",
         68,
         "Male"
        ],
        [
         "Harris, Richard M.",
         "Conservative",
         "British Columbia",
         68,
         "Male"
        ],
        [
         "Goldring, Peter",
         "Conservative",
         "Alberta",
         68,
         "Male"
        ],
        [
         "Atamanenko, Alex",
         "NDP",
         "British Columbia",
         67,
         "Male"
        ],
        [
         "Payne, LaVar",
         "Conservative",
         "Alberta",
         67,
         "Male"
        ],
        [
         "Breitkreuz, Garry W.",
         "Conservative",
         "Saskatchewan",
         67,
         "Male"
        ],
        [
         "Genest, Réjean",
         "NDP",
         "Quebec",
         66,
         "Male"
        ],
        [
         "MacKenzie, Dave",
         "Conservative",
         "Ontario",
         66,
         "Male"
        ],
        [
         "Hyer, Bruce",
         "NDP",
         "Ontario",
         66,
         "Male"
        ],
        [
         "MacAulay, Lawrence",
         "Liberal",
         "Prince Edward Island",
         66,
         "Male"
        ],
        [
         "Galipeau, Royal",
         "Conservative",
         "Ontario",
         65,
         "Male"
        ],
        [
         "Marston, Wayne",
         "NDP",
         "Ontario",
         65,
         "Male"
        ],
        [
         "Hawn, Laurie",
         "Conservative",
         "Alberta",
         65,
         "Male"
        ],
        [
         "Kramp, Daryl",
         "Conservative",
         "Ontario",
         65,
         "Male"
        ],
        [
         "Shipley, Bev",
         "Conservative",
         "Ontario",
         65,
         "Male"
        ],
        [
         "Kerr, Greg",
         "Conservative",
         "Nova Scotia",
         65,
         "Male"
        ],
        [
         "Comartin, Joe",
         "NDP",
         "Ontario",
         65,
         "Male"
        ],
        [
         "Norlock, Rick",
         "Conservative",
         "Ontario",
         64,
         "Male"
        ],
        [
         "McKay, John",
         "Liberal",
         "Ontario",
         64,
         "Male"
        ],
        [
         "Mayes, Colin",
         "Conservative",
         "British Columbia",
         64,
         "Male"
        ],
        [
         "Rae, Bob",
         "Liberal",
         "Ontario",
         64,
         "Male"
        ],
        [
         "Harris, Jack",
         "NDP",
         "Newfoundland and Labrador",
         64,
         "Male"
        ],
        [
         "Duncan, John",
         "Conservative",
         "British Columbia",
         64,
         "Male"
        ],
        [
         "Chisu, Corneliu",
         "Conservative",
         "Ontario",
         63,
         "Male"
        ],
        [
         "Garneau, Marc",
         "Liberal",
         "Quebec",
         63,
         "Male"
        ],
        [
         "Easter, Arnold Wayne",
         "Liberal",
         "Prince Edward Island",
         63,
         "Male"
        ],
        [
         "Aspin, Jay",
         "Conservative",
         "Ontario",
         63,
         "Male"
        ],
        [
         "Goodale, Ralph",
         "Liberal",
         "Saskatchewan",
         63,
         "Male"
        ],
        [
         "Albrecht, Harold",
         "Conservative",
         "Ontario",
         63,
         "Male"
        ],
        [
         "Gravelle, Claude",
         "NDP",
         "Ontario",
         63,
         "Male"
        ],
        [
         "Komarnicki, Ed",
         "Conservative",
         "Saskatchewan",
         63,
         "Male"
        ],
        [
         "Flaherty, James Michael (Jim)",
         "Conservative",
         "Ontario",
         62,
         "Male"
        ],
        [
         "Rankin, Murray",
         "NDP",
         "British Columbia",
         62,
         "Male"
        ],
        [
         "McCallum, John",
         "Liberal",
         "Ontario",
         62,
         "Male"
        ],
        [
         "Warawa, Mark",
         "Conservative",
         "British Columbia",
         62,
         "Male"
        ],
        [
         "Obhrai, Deepak",
         "Conservative",
         "Alberta",
         62,
         "Male"
        ],
        [
         "Benoit, Leon Earl",
         "Conservative",
         "Alberta",
         62,
         "Male"
        ],
        [
         "Leung, Chungsen",
         "Conservative",
         "Ontario",
         62,
         "Male"
        ],
        [
         "Morin, Marc-André",
         "NDP",
         "Quebec",
         61,
         "Male"
        ],
        [
         "Sopuck, Robert",
         "Conservative",
         "Manitoba",
         61,
         "Male"
        ],
        [
         "Ritz, Gerry",
         "Conservative",
         "Saskatchewan",
         61,
         "Male"
        ],
        [
         "Garrison, Randall",
         "NDP",
         "British Columbia",
         61,
         "Male"
        ],
        [
         "Lunney, James",
         "Conservative",
         "British Columbia",
         61,
         "Male"
        ],
        [
         "Lukiwski, Tom",
         "Conservative",
         "Saskatchewan",
         61,
         "Male"
        ],
        [
         "Carmichael, John",
         "Conservative",
         "Ontario",
         60,
         "Male"
        ],
        [
         "Menzies, Ted",
         "Conservative",
         "Alberta",
         60,
         "Male"
        ],
        [
         "Valcourt, Bernard",
         "Conservative",
         "New Brunswick",
         60,
         "Male"
        ],
        [
         "Ashfield, Keith",
         "Conservative",
         "New Brunswick",
         60,
         "Male"
        ],
        [
         "Nicholson, Rob",
         "Conservative",
         "Ontario",
         60,
         "Male"
        ],
        [
         "Young, Terence H.",
         "Conservative",
         "Ontario",
         60,
         "Male"
        ],
        [
         "Toews, Vic",
         "Conservative",
         "Manitoba",
         60,
         "Male"
        ],
        [
         "Sullivan, Mike",
         "NDP",
         "Ontario",
         60,
         "Male"
        ],
        [
         "Patry, Claude",
         "NDP",
         "Quebec",
         59,
         "Male"
        ],
        [
         "Keddy, Gerald",
         "Conservative",
         "Nova Scotia",
         59,
         "Male"
        ],
        [
         "Bevington, Dennis Fraser",
         "NDP",
         "Territories",
         59,
         "Male"
        ],
        [
         "Allen, Malcolm",
         "NDP",
         "Ontario",
         59,
         "Male"
        ],
        [
         "Rafferty, John",
         "NDP",
         "Ontario",
         59,
         "Male"
        ],
        [
         "Dreeshen, Earl",
         "Conservative",
         "Alberta",
         59,
         "Male"
        ],
        [
         "Kamp, Randy",
         "Conservative",
         "British Columbia",
         59,
         "Male"
        ],
        [
         "Merrifield, Rob",
         "Conservative",
         "Alberta",
         59,
         "Male"
        ],
        [
         "Woodworth, Stephen",
         "Conservative",
         "Ontario",
         58,
         "Male"
        ],
        [
         "McColeman, Phil",
         "Conservative",
         "Ontario",
         58,
         "Male"
        ],
        [
         "Lebel, Denis",
         "Conservative",
         "Quebec",
         58,
         "Male"
        ],
        [
         "Lizon, Wladyslaw",
         "Conservative",
         "Ontario",
         58,
         "Male"
        ],
        [
         "Holder, Ed",
         "Conservative",
         "Ontario",
         58,
         "Male"
        ],
        [
         "Valeriote, Frank",
         "Liberal",
         "Ontario",
         58,
         "Male"
        ],
        [
         "Christopherson, David",
         "NDP",
         "Ontario",
         58,
         "Male"
        ],
        [
         "Mulcair, Thomas J.",
         "NDP",
         "Quebec",
         58,
         "Male"
        ],
        [
         "Daniel, Joe",
         "Conservative",
         "Ontario",
         58,
         "Male"
        ],
        [
         "Karygiannis, Jim",
         "Liberal",
         "Ontario",
         57,
         "Male"
        ],
        [
         "Godin, Yvon",
         "NDP",
         "New Brunswick",
         57,
         "Male"
        ],
        [
         "Dionne Labelle, Pierre",
         "NDP",
         "Quebec",
         57,
         "Male"
        ],
        [
         "Preston, Joe",
         "Conservative",
         "Ontario",
         57,
         "Male"
        ],
        [
         "Bélanger, Mauril",
         "Liberal",
         "Ontario",
         57,
         "Male"
        ],
        [
         "Fast, Edward",
         "Conservative",
         "British Columbia",
         57,
         "Male"
        ],
        [
         "Tweed, Mervin C.",
         "Conservative",
         "Manitoba",
         57,
         "Male"
        ],
        [
         "Dion, Stéphane",
         "Liberal",
         "Quebec",
         57,
         "Male"
        ],
        [
         "Van Kesteren, Dave",
         "Conservative",
         "Ontario",
         57,
         "Male"
        ],
        [
         "Cuzner, Rodger",
         "Liberal",
         "Nova Scotia",
         57,
         "Male"
        ],
        [
         "Martin, Pat",
         "NDP",
         "Manitoba",
         57,
         "Male"
        ],
        [
         "Stoffer, Peter",
         "NDP",
         "Nova Scotia",
         56,
         "Male"
        ],
        [
         "Miller, Larry",
         "Conservative",
         "Ontario",
         56,
         "Male"
        ],
        [
         "Blanchette, Denis",
         "NDP",
         "Quebec",
         56,
         "Male"
        ],
        [
         "Nunez-Melo, José",
         "NDP",
         "Quebec",
         56,
         "Male"
        ],
        [
         "Goguen, Robert",
         "Conservative",
         "New Brunswick",
         55,
         "Male"
        ],
        [
         "Scarpaleggia, Francis",
         "Liberal",
         "Quebec",
         55,
         "Male"
        ],
        [
         "Sweet, David",
         "Conservative",
         "Ontario",
         55,
         "Male"
        ],
        [
         "Anderson, David",
         "Conservative",
         "Saskatchewan",
         55,
         "Male"
        ],
        [
         "Chisholm, Robert",
         "NDP",
         "Nova Scotia",
         55,
         "Male"
        ],
        [
         "Stanton, Bruce",
         "Conservative",
         "Ontario",
         55,
         "Male"
        ],
        [
         "Goodyear, Gary",
         "Conservative",
         "Ontario",
         54,
         "Male"
        ],
        [
         "Weston, John",
         "Conservative",
         "British Columbia",
         54,
         "Male"
        ],
        [
         "Dechert, Bob",
         "Conservative",
         "Ontario",
         54,
         "Male"
        ],
        [
         "Shory, Devinder",
         "Conservative",
         "Alberta",
         54,
         "Male"
        ],
        [
         "Pilon, François",
         "NDP",
         "Quebec",
         54,
         "Male"
        ],
        [
         "Hayes, Bryan",
         "Conservative",
         "Ontario",
         54,
         "Male"
        ],
        [
         "Giguère, Alain",
         "NDP",
         "Quebec",
         54,
         "Male"
        ],
        [
         "Sorenson, Kevin",
         "Conservative",
         "Alberta",
         54,
         "Male"
        ],
        [
         "Benskin, Tyrone",
         "NDP",
         "Quebec",
         53,
         "Male"
        ],
        [
         "Menegakis, Costas",
         "Conservative",
         "Ontario",
         53,
         "Male"
        ],
        [
         "Harper, Stephen",
         "Conservative",
         "Alberta",
         53,
         "Male"
        ],
        [
         "Wilks, David",
         "Conservative",
         "British Columbia",
         53,
         "Male"
        ],
        [
         "Regan, Geoff",
         "Liberal",
         "Nova Scotia",
         53,
         "Male"
        ],
        [
         "McGuinty, David",
         "Liberal",
         "Ontario",
         52,
         "Male"
        ],
        [
         "Gosal, Bal",
         "Conservative",
         "Ontario",
         52,
         "Male"
        ],
        [
         "Aubin, Robert",
         "NDP",
         "Quebec",
         52,
         "Male"
        ],
        [
         "Eyking, Mark",
         "Liberal",
         "Nova Scotia",
         52,
         "Male"
        ],
        [
         "Brown, Gordon",
         "Conservative",
         "Ontario",
         52,
         "Male"
        ],
        [
         "Allen, Mike",
         "Conservative",
         "New Brunswick",
         52,
         "Male"
        ],
        [
         "Clement, Tony",
         "Conservative",
         "Ontario",
         51,
         "Male"
        ],
        [
         "Cannan, Ronald",
         "Conservative",
         "British Columbia",
         51,
         "Male"
        ],
        [
         "Rousseau, Jean",
         "NDP",
         "Quebec",
         51,
         "Male"
        ],
        [
         "Opitz, Ted",
         "Conservative",
         "Ontario",
         51,
         "Male"
        ],
        [
         "Toet, Lawrence",
         "Conservative",
         "Manitoba",
         50,
         "Male"
        ],
        [
         "Cash, Andrew",
         "NDP",
         "Ontario",
         50,
         "Male"
        ],
        [
         "Lamoureux, Kevin",
         "Liberal",
         "Manitoba",
         50,
         "Male"
        ],
        [
         "Scott, Craig",
         "NDP",
         "Ontario",
         50,
         "Male"
        ],
        [
         "Adler, Mark",
         "Conservative",
         "Ontario",
         50,
         "Male"
        ],
        [
         "Carrie, Colin",
         "Conservative",
         "Ontario",
         50,
         "Male"
        ],
        [
         "Julian, Peter",
         "NDP",
         "British Columbia",
         50,
         "Male"
        ],
        [
         "Pacetti, Massimo",
         "Liberal",
         "Quebec",
         50,
         "Male"
        ],
        [
         "Saganash, Romeo",
         "NDP",
         "Quebec",
         50,
         "Male"
        ],
        [
         "Angus, Charlie",
         "NDP",
         "Ontario",
         50,
         "Male"
        ],
        [
         "Davies, Don",
         "NDP",
         "British Columbia",
         49,
         "Male"
        ],
        [
         "Bernier, Maxime",
         "Conservative",
         "Quebec",
         49,
         "Male"
        ],
        [
         "Dewar, Paul",
         "NDP",
         "Ontario",
         49,
         "Male"
        ],
        [
         "Jean, Brian",
         "Conservative",
         "Alberta",
         49,
         "Male"
        ],
        [
         "Devolin, Barry",
         "Conservative",
         "Ontario",
         49,
         "Male"
        ],
        [
         "Lemieux, Pierre",
         "Conservative",
         "Ontario",
         49,
         "Male"
        ],
        [
         "Van Loan, Peter",
         "Conservative",
         "Ontario",
         49,
         "Male"
        ],
        [
         "Casey, Sean",
         "Liberal",
         "Prince Edward Island",
         49,
         "Male"
        ],
        [
         "Nantel, Pierre",
         "NDP",
         "Quebec",
         49,
         "Male"
        ],
        [
         "Coderre, Denis",
         "Liberal",
         "Quebec",
         49,
         "Male"
        ],
        [
         "Wallace, Mike",
         "Conservative",
         "Ontario",
         49,
         "Male"
        ],
        [
         "Braid, Peter",
         "Conservative",
         "Ontario",
         48,
         "Male"
        ],
        [
         "Gourde, Jacques",
         "Conservative",
         "Quebec",
         48,
         "Male"
        ],
        [
         "Reid, Scott",
         "Conservative",
         "Ontario",
         48,
         "Male"
        ],
        [
         "Hsu, Ted",
         "Liberal",
         "Ontario",
         48,
         "Male"
        ],
        [
         "Saxton, Andrew",
         "Conservative",
         "British Columbia",
         48,
         "Male"
        ],
        [
         "Weston, Rodney",
         "Conservative",
         "New Brunswick",
         48,
         "Male"
        ],
        [
         "Penashue, Peter",
         "Conservative",
         "Newfoundland and Labrador",
         48,
         "Male"
        ],
        [
         "Bellavance, André",
         "Bloc Quebecois",
         "Quebec",
         48,
         "Male"
        ],
        [
         "Rathgeber, Brent",
         "Conservative",
         "Alberta",
         48,
         "Male"
        ],
        [
         "Kellway, Matthew",
         "NDP",
         "Ontario",
         48,
         "Male"
        ],
        [
         "Toone, Philip",
         "NDP",
         "Quebec",
         47,
         "Male"
        ],
        [
         "Allison, Dean",
         "Conservative",
         "Ontario",
         47,
         "Male"
        ],
        [
         "Trottier, Bernard",
         "Conservative",
         "Ontario",
         47,
         "Male"
        ],
        [
         "Blaney, Steven",
         "Conservative",
         "Quebec",
         47,
         "Male"
        ],
        [
         "Bezan, James",
         "Conservative",
         "Manitoba",
         47,
         "Male"
        ],
        [
         "MacKay, Peter Gordon",
         "Conservative",
         "Nova Scotia",
         47,
         "Male"
        ],
        [
         "Dykstra, Richard",
         "Conservative",
         "Ontario",
         46,
         "Male"
        ],
        [
         "Sandhu, Jasbir",
         "NDP",
         "British Columbia",
         46,
         "Male"
        ],
        [
         "Donnelly, Fin",
         "NDP",
         "British Columbia",
         46,
         "Male"
        ],
        [
         "Armstrong, Scott",
         "Conservative",
         "Nova Scotia",
         46,
         "Male"
        ],
        [
         "Byrne, Gerry",
         "Liberal",
         "Newfoundland and Labrador",
         46,
         "Male"
        ],
        [
         "Stewart, Kennedy",
         "NDP",
         "British Columbia",
         46,
         "Male"
        ],
        [
         "Cleary, Ryan",
         "NDP",
         "Newfoundland and Labrador",
         46,
         "Male"
        ],
        [
         "Côté, Raymond",
         "NDP",
         "Quebec",
         45,
         "Male"
        ],
        [
         "Clarke, Rob",
         "Conservative",
         "Saskatchewan",
         45,
         "Male"
        ],
        [
         "Brison, Scott",
         "Liberal",
         "Nova Scotia",
         45,
         "Male"
        ],
        [
         "Butt, Brad",
         "Conservative",
         "Ontario",
         45,
         "Male"
        ],
        [
         "Rickford, Greg",
         "Conservative",
         "Ontario",
         45,
         "Male"
        ],
        [
         "LeBlanc, Dominic",
         "Liberal",
         "New Brunswick",
         45,
         "Male"
        ],
        [
         "Hoback, Randy",
         "Conservative",
         "Saskatchewan",
         45,
         "Male"
        ],
        [
         "Caron, Guy",
         "NDP",
         "Quebec",
         44,
         "Male"
        ],
        [
         "Brahmi, Tarik",
         "NDP",
         "Quebec",
         44,
         "Male"
        ],
        [
         "Kenney, Jason",
         "Conservative",
         "Alberta",
         44,
         "Male"
        ],
        [
         "Masse, Brian",
         "NDP",
         "Ontario",
         44,
         "Male"
        ],
        [
         "Alexander, Chris",
         "Conservative",
         "Ontario",
         44,
         "Male"
        ],
        [
         "Zimmer, Bob",
         "Conservative",
         "British Columbia",
         44,
         "Male"
        ],
        [
         "Calkins, Blaine",
         "Conservative",
         "Alberta",
         44,
         "Male"
        ],
        [
         "Baird, John",
         "Conservative",
         "Ontario",
         43,
         "Male"
        ],
        [
         "Lake, Mike",
         "Conservative",
         "Alberta",
         43,
         "Male"
        ],
        [
         "Simms, Scott",
         "Liberal",
         "Newfoundland and Labrador",
         43,
         "Male"
        ],
        [
         "Thibeault, Glenn",
         "NDP",
         "Ontario",
         43,
         "Male"
        ],
        [
         "Williamson, John",
         "Conservative",
         "New Brunswick",
         42,
         "Male"
        ],
        [
         "Calandra, Paul",
         "Conservative",
         "Ontario",
         42,
         "Male"
        ],
        [
         "Chicoine, Sylvain",
         "NDP",
         "Quebec",
         42,
         "Male"
        ],
        [
         "Del Mastro, Dean",
         "Conservative",
         "Ontario",
         42,
         "Male"
        ],
        [
         "Rajotte, James",
         "Conservative",
         "Alberta",
         42,
         "Male"
        ],
        [
         "Seeback, Kyle",
         "Conservative",
         "Ontario",
         42,
         "Male"
        ],
        [
         "Watson, Jeff",
         "Conservative",
         "Ontario",
         41,
         "Male"
        ],
        [
         "Lapointe, François",
         "NDP",
         "Quebec",
         41,
         "Male"
        ],
        [
         "Nicholls, Jamie",
         "NDP",
         "Quebec",
         41,
         "Male"
        ],
        [
         "Chong, Michael D.",
         "Conservative",
         "Ontario",
         41,
         "Male"
        ],
        [
         "Trudeau, Justin",
         "Liberal",
         "Quebec",
         41,
         "Male"
        ],
        [
         "Larose, Jean-François",
         "NDP",
         "Quebec",
         40,
         "Male"
        ],
        [
         "Anders, Rob",
         "Conservative",
         "Alberta",
         40,
         "Male"
        ],
        [
         "Fletcher, Steven John",
         "Conservative",
         "Manitoba",
         40,
         "Male"
        ],
        [
         "Cullen, Nathan",
         "NDP",
         "British Columbia",
         40,
         "Male"
        ],
        [
         "Ravignat, Mathieu",
         "NDP",
         "Quebec",
         39,
         "Male"
        ],
        [
         "Bruinooge, Rod",
         "Conservative",
         "Manitoba",
         39,
         "Male"
        ],
        [
         "Mai, Hoang",
         "NDP",
         "Quebec",
         39,
         "Male"
        ],
        [
         "Boulerice, Alexandre",
         "NDP",
         "Quebec",
         39,
         "Male"
        ],
        [
         "Fortin, Jean-François",
         "Bloc Quebecois",
         "Quebec",
         39,
         "Male"
        ],
        [
         "Leef, Ryan",
         "Conservative",
         "Territories",
         38,
         "Male"
        ],
        [
         "Paradis, Christian",
         "Conservative",
         "Quebec",
         38,
         "Male"
        ],
        [
         "Choquette, François",
         "NDP",
         "Quebec",
         38,
         "Male"
        ],
        [
         "Moore, Rob",
         "Conservative",
         "New Brunswick",
         38,
         "Male"
        ],
        [
         "Trost, Brad",
         "Conservative",
         "Saskatchewan",
         38,
         "Male"
        ],
        [
         "Gill, Parm",
         "Conservative",
         "Ontario",
         38,
         "Male"
        ],
        [
         "Hillyer, Jim",
         "Conservative",
         "Alberta",
         38,
         "Male"
        ],
        [
         "Richards, Blake",
         "Conservative",
         "Alberta",
         38,
         "Male"
        ],
        [
         "Uppal, Tim",
         "Conservative",
         "Alberta",
         38,
         "Male"
        ],
        [
         "Andrews, Scott",
         "Liberal",
         "Newfoundland and Labrador",
         37,
         "Male"
        ],
        [
         "Moore, James",
         "Conservative",
         "British Columbia",
         36,
         "Male"
        ],
        [
         "Lobb, Ben",
         "Conservative",
         "Ontario",
         36,
         "Male"
        ],
        [
         "Albas, Dan",
         "Conservative",
         "British Columbia",
         36,
         "Male"
        ],
        [
         "Storseth, Brian",
         "Conservative",
         "Alberta",
         34,
         "Male"
        ],
        [
         "Strahl, Mark",
         "Conservative",
         "British Columbia",
         34,
         "Male"
        ],
        [
         "Brown, Patrick W.",
         "Conservative",
         "Ontario",
         34,
         "Male"
        ],
        [
         "Warkentin, Chris",
         "Conservative",
         "Alberta",
         34,
         "Male"
        ],
        [
         "Scheer, Andrew",
         "Conservative",
         "Saskatchewan",
         33,
         "Male"
        ],
        [
         "Poilievre, Pierre",
         "Conservative",
         "Ontario",
         33,
         "Male"
        ],
        [
         "Genest-Jourdain, Jonathan",
         "NDP",
         "Quebec",
         33,
         "Male"
        ],
        [
         "Harris, Dan",
         "NDP",
         "Ontario",
         33,
         "Male"
        ],
        [
         "Tremblay, Jonathan",
         "NDP",
         "Quebec",
         28,
         "Male"
        ],
        [
         "Morin, Dany",
         "NDP",
         "Quebec",
         27,
         "Male"
        ],
        [
         "Dubé, Matthew",
         "NDP",
         "Quebec",
         24,
         "Male"
        ],
        [
         "Dusseault, Pierre-Luc",
         "NDP",
         "Quebec",
         21,
         "Male"
        ],
        [
         "O'Toole, Erin",
         "Conservative",
         "Ontario",
         "nan",
         "Male"
        ]
       ],
       "_data_tsv": "Gender Imbalance\tNaN\t20\t30\t40\t50\t60\t70\n-1\t2\t12\t8\t12\t24\t14\t3\n1\t1\t4\t26\t68\t73\t55\t6\n",
       "_options": {
        "aggregatorName": "Count",
        "autoSortUnusedAttrs": false,
        "colOrder": "key_a_to_z",
        "cols": [
         "Age Bin"
        ],
        "derivedAttributes": {
         "Age Bin": "$.pivotUtilities.derivers.bin(\"Age\", 10)",
         "Gender Imbalance": "function(mp) { return mp[\"Gender\"] == \"Male\" ? 1 : -1; }"
        },
        "exclusions": {},
        "hiddenAttributes": [],
        "hiddenFromAggregators": [],
        "hiddenFromDragDrop": [],
        "inclusions": {},
        "inclusionsInfo": {},
        "localeStrings": {
         "apply": "Apply",
         "by": "by",
         "cancel": "Cancel",
         "computeError": "An error occurred computing the PivotTable results.",
         "filterResults": "Filter values",
         "renderError": "An error occurred rendering the PivotTable results.",
         "selectAll": "Select All",
         "selectNone": "Select None",
         "tooMany": "(too many to list)",
         "totals": "Totals",
         "uiRenderError": "An error occurred rendering the PivotTable UI.",
         "vs": "vs"
        },
        "menuLimit": 500,
        "onRefresh": null,
        "rendererName": "Table",
        "rowOrder": "key_a_to_z",
        "rows": [
         "Gender Imbalance"
        ],
        "unusedAttrsVertical": 85,
        "vals": []
       },
       "layout": "IPY_MODEL_e72fe4c005524f9c97b11c87b103eece"
      }
     },
     "c0363bce72744d1e94e4212949e94840": {
      "model_module": "@jupyter-widgets/controls",
      "model_module_version": "1.1.0",
      "model_name": "HBoxModel",
      "state": {
       "children": [
        "IPY_MODEL_1230b2b927de472dad657e7a8b86fc59",
        "IPY_MODEL_c661f35f0ffe47b09f63bd386ce80f13",
        "IPY_MODEL_0b53c5b2e8604a18855b982672f8548a"
       ],
       "layout": "IPY_MODEL_16bc7eb585e64f8ebc036dddf4a59ba4"
      }
     },
     "c1daae95a8e240e0b5e0925095739001": {
      "model_module": "@jupyter-widgets/controls",
      "model_module_version": "1.1.0",
      "model_name": "ButtonModel",
      "state": {
       "description": "Restore",
       "layout": "IPY_MODEL_32d12f6b9af4469793ff96513d244654",
       "style": "IPY_MODEL_dabe2c0d97764d50b5b54777303066a1"
      }
     },
     "c26874c77da84e11954d21d7f8323d2d": {
      "model_module": "@jupyter-widgets/controls",
      "model_module_version": "1.1.0",
      "model_name": "ButtonStyleModel",
      "state": {}
     },
     "c2c4ecc25fbf421bbbfd94f463f35b11": {
      "model_module": "@jupyter-widgets/controls",
      "model_module_version": "1.1.0",
      "model_name": "TextModel",
      "state": {
       "disabled": true,
       "layout": "IPY_MODEL_2105887d38c847288d21c556fcf1caf5",
       "style": "IPY_MODEL_c5fd8f3a8ac448478594712ac3454fc0"
      }
     },
     "c4618cbbfeef45a18824850e00478632": {
      "model_module": "ipypivot",
      "model_module_version": "~0.1.1",
      "model_name": "PivotUIModel",
      "state": {
       "_data": [
        [
         "Name",
         "Party",
         "Province",
         "Age",
         "Gender"
        ],
        [
         "Liu, Laurin",
         "NDP",
         "Quebec",
         22,
         "Female"
        ],
        [
         "Mourani, Maria",
         "Bloc Quebecois",
         "Quebec",
         43,
         "Female"
        ],
        [
         "Sellah, Djaouida",
         "NDP",
         "Quebec",
         "nan",
         "Female"
        ],
        [
         "St-Denis, Lise",
         "NDP",
         "Quebec",
         72,
         "Female"
        ],
        [
         "Fry, Hedy",
         "Liberal",
         "British Columbia",
         71,
         "Female"
        ],
        [
         "Turmel, Nycole",
         "NDP",
         "Quebec",
         70,
         "Female"
        ],
        [
         "Sgro, Judy",
         "Liberal",
         "Ontario",
         68,
         "Female"
        ],
        [
         "Raynault, Francine",
         "NDP",
         "Quebec",
         67,
         "Female"
        ],
        [
         "Davidson, Patricia",
         "Conservative",
         "Ontario",
         66,
         "Female"
        ],
        [
         "Smith, Joy",
         "Conservative",
         "Manitoba",
         65,
         "Female"
        ],
        [
         "Wong, Alice",
         "Conservative",
         "British Columbia",
         64,
         "Female"
        ],
        [
         "O'Neill Gordon, Tilly",
         "Conservative",
         "New Brunswick",
         63,
         "Female"
        ],
        [
         "Ablonczy, Diane",
         "Conservative",
         "Alberta",
         63,
         "Female"
        ],
        [
         "Duncan, Linda Francis",
         "NDP",
         "Alberta",
         63,
         "Female"
        ],
        [
         "Bennett, Carolyn",
         "Liberal",
         "Ontario",
         62,
         "Female"
        ],
        [
         "Nash, Peggy",
         "NDP",
         "Ontario",
         61,
         "Female"
        ],
        [
         "Mathyssen, Irene",
         "NDP",
         "Ontario",
         61,
         "Female"
        ],
        [
         "Sims, Jinny Jogindera",
         "NDP",
         "British Columbia",
         60,
         "Female"
        ],
        [
         "Foote, Judy",
         "Liberal",
         "Newfoundland and Labrador",
         60,
         "Female"
        ],
        [
         "Crowder, Jean",
         "NDP",
         "British Columbia",
         60,
         "Female"
        ],
        [
         "Davies, Libby",
         "NDP",
         "British Columbia",
         59,
         "Female"
        ],
        [
         "Yelich, Lynne",
         "Conservative",
         "Saskatchewan",
         59,
         "Female"
        ],
        [
         "Day, Anne-Marie",
         "NDP",
         "Quebec",
         58,
         "Female"
        ],
        [
         "May, Elizabeth",
         "Green",
         "British Columbia",
         58,
         "Female"
        ],
        [
         "Murray, Joyce",
         "Liberal",
         "British Columbia",
         58,
         "Female"
        ],
        [
         "Findlay, Kerry-Lynne D.",
         "Conservative",
         "British Columbia",
         57,
         "Female"
        ],
        [
         "Brown, Lois",
         "Conservative",
         "Ontario",
         57,
         "Female"
        ],
        [
         "Laverdière, Hélène",
         "NDP",
         "Quebec",
         57,
         "Female"
        ],
        [
         "Boutin-Sweet, Marjolaine",
         "NDP",
         "Quebec",
         57,
         "Female"
        ],
        [
         "Crockatt, Joan",
         "Conservative",
         "Alberta",
         56,
         "Female"
        ],
        [
         "Chow, Olivia",
         "NDP",
         "Ontario",
         55,
         "Female"
        ],
        [
         "McLeod, Cathy",
         "Conservative",
         "British Columbia",
         55,
         "Female"
        ],
        [
         "Finley, Diane",
         "Conservative",
         "Ontario",
         55,
         "Female"
        ],
        [
         "LeBlanc, Hélène",
         "NDP",
         "Quebec",
         54,
         "Female"
        ],
        [
         "Grewal, Nina",
         "Conservative",
         "British Columbia",
         54,
         "Female"
        ],
        [
         "Hughes, Carol",
         "NDP",
         "Ontario",
         54,
         "Female"
        ],
        [
         "Shea, Gail",
         "Conservative",
         "Prince Edward Island",
         53,
         "Female"
        ],
        [
         "Truppe, Susan",
         "Conservative",
         "Ontario",
         53,
         "Female"
        ],
        [
         "Young, Wai",
         "Conservative",
         "British Columbia",
         52,
         "Female"
        ],
        [
         "Gallant, Cheryl",
         "Conservative",
         "Ontario",
         52,
         "Female"
        ],
        [
         "Boivin, Françoise",
         "NDP",
         "Quebec",
         52,
         "Female"
        ],
        [
         "Block, Kelly",
         "Conservative",
         "Saskatchewan",
         51,
         "Female"
        ],
        [
         "Ayala, Paulina",
         "NDP",
         "Quebec",
         50,
         "Female"
        ],
        [
         "Groguhé, Sadia",
         "NDP",
         "Quebec",
         50,
         "Female"
        ],
        [
         "Charlton, Chris",
         "NDP",
         "Ontario",
         49,
         "Female"
        ],
        [
         "Bergen, Candice",
         "Conservative",
         "Manitoba",
         48,
         "Female"
        ],
        [
         "Perreault, Manon",
         "NDP",
         "Quebec",
         46,
         "Female"
        ],
        [
         "James, Roxanne",
         "Conservative",
         "Ontario",
         46,
         "Female"
        ],
        [
         "Ambler, Stella",
         "Conservative",
         "Ontario",
         46,
         "Female"
        ],
        [
         "Duncan, Kirsty",
         "Liberal",
         "Ontario",
         46,
         "Female"
        ],
        [
         "Glover, Shelly",
         "Conservative",
         "Manitoba",
         45,
         "Female"
        ],
        [
         "Aglukkaq, Leona",
         "Conservative",
         "Territories",
         45,
         "Female"
        ],
        [
         "Raitt, Lisa",
         "Conservative",
         "Ontario",
         44,
         "Female"
        ],
        [
         "Ambrose, Rona",
         "Conservative",
         "Alberta",
         43,
         "Female"
        ],
        [
         "Leitch, Kellie",
         "Conservative",
         "Ontario",
         42,
         "Female"
        ],
        [
         "Leslie, Megan",
         "NDP",
         "Nova Scotia",
         39,
         "Female"
        ],
        [
         "Hassainia, Sana",
         "NDP",
         "Quebec",
         38,
         "Female"
        ],
        [
         "Adams, Eve",
         "Conservative",
         "Ontario",
         38,
         "Female"
        ],
        [
         "Rempel, Michelle",
         "Conservative",
         "Alberta",
         32,
         "Female"
        ],
        [
         "Papillon, Annick",
         "NDP",
         "Quebec",
         32,
         "Female"
        ],
        [
         "Sitsabaiesan, Rathika",
         "NDP",
         "Ontario",
         31,
         "Female"
        ],
        [
         "Quach, Anne Minh-Thu",
         "NDP",
         "Quebec",
         30,
         "Female"
        ],
        [
         "Ashton, Niki",
         "NDP",
         "Manitoba",
         30,
         "Female"
        ],
        [
         "Moore, Christine",
         "NDP",
         "Quebec",
         29,
         "Female"
        ],
        [
         "Morin, Isabelle",
         "NDP",
         "Quebec",
         28,
         "Female"
        ],
        [
         "Blanchette-Lamothe, Lysane",
         "NDP",
         "Quebec",
         28,
         "Female"
        ],
        [
         "Brosseau, Ruth Ellen",
         "NDP",
         "Quebec",
         28,
         "Female"
        ],
        [
         "Latendresse, Alexandrine",
         "NDP",
         "Quebec",
         28,
         "Female"
        ],
        [
         "Doré Lefebvre, Rosane",
         "NDP",
         "Quebec",
         28,
         "Female"
        ],
        [
         "Morin, Marie-Claude",
         "NDP",
         "Quebec",
         27,
         "Female"
        ],
        [
         "Michaud, Élaine",
         "NDP",
         "Quebec",
         27,
         "Female"
        ],
        [
         "Péclet, Ève",
         "NDP",
         "Quebec",
         24,
         "Female"
        ],
        [
         "Freeman, Mylène",
         "NDP",
         "Quebec",
         23,
         "Female"
        ],
        [
         "Borg, Charmaine",
         "NDP",
         "Quebec",
         22,
         "Female"
        ],
        [
         "Bateman, Joyce",
         "Conservative",
         "Manitoba",
         "nan",
         "Female"
        ],
        [
         "Hiebert, Russ",
         "Conservative",
         "British Columbia",
         43,
         "Male"
        ],
        [
         "Jacob, Pierre",
         "NDP",
         "Quebec",
         59,
         "Male"
        ],
        [
         "Vellacott, Maurice",
         "Conservative",
         "Saskatchewan",
         57,
         "Male"
        ],
        [
         "Boughen, Ray",
         "Conservative",
         "Saskatchewan",
         75,
         "Male"
        ],
        [
         "O'Connor, Gordon",
         "Conservative",
         "Ontario",
         73,
         "Male"
        ],
        [
         "Cotler, Irwin",
         "Liberal",
         "Quebec",
         72,
         "Male"
        ],
        [
         "Oliver, Joe",
         "Conservative",
         "Ontario",
         72,
         "Male"
        ],
        [
         "Tilson, David Allan",
         "Conservative",
         "Ontario",
         71,
         "Male"
        ],
        [
         "Fantino, Julian",
         "Conservative",
         "Ontario",
         70,
         "Male"
        ],
        [
         "Kent, Peter",
         "Conservative",
         "Ontario",
         69,
         "Male"
        ],
        [
         "Plamondon, Louis",
         "Bloc Quebecois",
         "Quebec",
         69,
         "Male"
        ],
        [
         "Schellenberger, Gary",
         "Conservative",
         "Ontario",
         69,
         "Male"
        ],
        [
         "Lauzon, Guy",
         "Conservative",
         "Ontario",
         68,
         "Male"
        ],
        [
         "Harris, Richard M.",
         "Conservative",
         "British Columbia",
         68,
         "Male"
        ],
        [
         "Goldring, Peter",
         "Conservative",
         "Alberta",
         68,
         "Male"
        ],
        [
         "Atamanenko, Alex",
         "NDP",
         "British Columbia",
         67,
         "Male"
        ],
        [
         "Payne, LaVar",
         "Conservative",
         "Alberta",
         67,
         "Male"
        ],
        [
         "Breitkreuz, Garry W.",
         "Conservative",
         "Saskatchewan",
         67,
         "Male"
        ],
        [
         "Genest, Réjean",
         "NDP",
         "Quebec",
         66,
         "Male"
        ],
        [
         "MacKenzie, Dave",
         "Conservative",
         "Ontario",
         66,
         "Male"
        ],
        [
         "Hyer, Bruce",
         "NDP",
         "Ontario",
         66,
         "Male"
        ],
        [
         "MacAulay, Lawrence",
         "Liberal",
         "Prince Edward Island",
         66,
         "Male"
        ],
        [
         "Galipeau, Royal",
         "Conservative",
         "Ontario",
         65,
         "Male"
        ],
        [
         "Marston, Wayne",
         "NDP",
         "Ontario",
         65,
         "Male"
        ],
        [
         "Hawn, Laurie",
         "Conservative",
         "Alberta",
         65,
         "Male"
        ],
        [
         "Kramp, Daryl",
         "Conservative",
         "Ontario",
         65,
         "Male"
        ],
        [
         "Shipley, Bev",
         "Conservative",
         "Ontario",
         65,
         "Male"
        ],
        [
         "Kerr, Greg",
         "Conservative",
         "Nova Scotia",
         65,
         "Male"
        ],
        [
         "Comartin, Joe",
         "NDP",
         "Ontario",
         65,
         "Male"
        ],
        [
         "Norlock, Rick",
         "Conservative",
         "Ontario",
         64,
         "Male"
        ],
        [
         "McKay, John",
         "Liberal",
         "Ontario",
         64,
         "Male"
        ],
        [
         "Mayes, Colin",
         "Conservative",
         "British Columbia",
         64,
         "Male"
        ],
        [
         "Rae, Bob",
         "Liberal",
         "Ontario",
         64,
         "Male"
        ],
        [
         "Harris, Jack",
         "NDP",
         "Newfoundland and Labrador",
         64,
         "Male"
        ],
        [
         "Duncan, John",
         "Conservative",
         "British Columbia",
         64,
         "Male"
        ],
        [
         "Chisu, Corneliu",
         "Conservative",
         "Ontario",
         63,
         "Male"
        ],
        [
         "Garneau, Marc",
         "Liberal",
         "Quebec",
         63,
         "Male"
        ],
        [
         "Easter, Arnold Wayne",
         "Liberal",
         "Prince Edward Island",
         63,
         "Male"
        ],
        [
         "Aspin, Jay",
         "Conservative",
         "Ontario",
         63,
         "Male"
        ],
        [
         "Goodale, Ralph",
         "Liberal",
         "Saskatchewan",
         63,
         "Male"
        ],
        [
         "Albrecht, Harold",
         "Conservative",
         "Ontario",
         63,
         "Male"
        ],
        [
         "Gravelle, Claude",
         "NDP",
         "Ontario",
         63,
         "Male"
        ],
        [
         "Komarnicki, Ed",
         "Conservative",
         "Saskatchewan",
         63,
         "Male"
        ],
        [
         "Flaherty, James Michael (Jim)",
         "Conservative",
         "Ontario",
         62,
         "Male"
        ],
        [
         "Rankin, Murray",
         "NDP",
         "British Columbia",
         62,
         "Male"
        ],
        [
         "McCallum, John",
         "Liberal",
         "Ontario",
         62,
         "Male"
        ],
        [
         "Warawa, Mark",
         "Conservative",
         "British Columbia",
         62,
         "Male"
        ],
        [
         "Obhrai, Deepak",
         "Conservative",
         "Alberta",
         62,
         "Male"
        ],
        [
         "Benoit, Leon Earl",
         "Conservative",
         "Alberta",
         62,
         "Male"
        ],
        [
         "Leung, Chungsen",
         "Conservative",
         "Ontario",
         62,
         "Male"
        ],
        [
         "Morin, Marc-André",
         "NDP",
         "Quebec",
         61,
         "Male"
        ],
        [
         "Sopuck, Robert",
         "Conservative",
         "Manitoba",
         61,
         "Male"
        ],
        [
         "Ritz, Gerry",
         "Conservative",
         "Saskatchewan",
         61,
         "Male"
        ],
        [
         "Garrison, Randall",
         "NDP",
         "British Columbia",
         61,
         "Male"
        ],
        [
         "Lunney, James",
         "Conservative",
         "British Columbia",
         61,
         "Male"
        ],
        [
         "Lukiwski, Tom",
         "Conservative",
         "Saskatchewan",
         61,
         "Male"
        ],
        [
         "Carmichael, John",
         "Conservative",
         "Ontario",
         60,
         "Male"
        ],
        [
         "Menzies, Ted",
         "Conservative",
         "Alberta",
         60,
         "Male"
        ],
        [
         "Valcourt, Bernard",
         "Conservative",
         "New Brunswick",
         60,
         "Male"
        ],
        [
         "Ashfield, Keith",
         "Conservative",
         "New Brunswick",
         60,
         "Male"
        ],
        [
         "Nicholson, Rob",
         "Conservative",
         "Ontario",
         60,
         "Male"
        ],
        [
         "Young, Terence H.",
         "Conservative",
         "Ontario",
         60,
         "Male"
        ],
        [
         "Toews, Vic",
         "Conservative",
         "Manitoba",
         60,
         "Male"
        ],
        [
         "Sullivan, Mike",
         "NDP",
         "Ontario",
         60,
         "Male"
        ],
        [
         "Patry, Claude",
         "NDP",
         "Quebec",
         59,
         "Male"
        ],
        [
         "Keddy, Gerald",
         "Conservative",
         "Nova Scotia",
         59,
         "Male"
        ],
        [
         "Bevington, Dennis Fraser",
         "NDP",
         "Territories",
         59,
         "Male"
        ],
        [
         "Allen, Malcolm",
         "NDP",
         "Ontario",
         59,
         "Male"
        ],
        [
         "Rafferty, John",
         "NDP",
         "Ontario",
         59,
         "Male"
        ],
        [
         "Dreeshen, Earl",
         "Conservative",
         "Alberta",
         59,
         "Male"
        ],
        [
         "Kamp, Randy",
         "Conservative",
         "British Columbia",
         59,
         "Male"
        ],
        [
         "Merrifield, Rob",
         "Conservative",
         "Alberta",
         59,
         "Male"
        ],
        [
         "Woodworth, Stephen",
         "Conservative",
         "Ontario",
         58,
         "Male"
        ],
        [
         "McColeman, Phil",
         "Conservative",
         "Ontario",
         58,
         "Male"
        ],
        [
         "Lebel, Denis",
         "Conservative",
         "Quebec",
         58,
         "Male"
        ],
        [
         "Lizon, Wladyslaw",
         "Conservative",
         "Ontario",
         58,
         "Male"
        ],
        [
         "Holder, Ed",
         "Conservative",
         "Ontario",
         58,
         "Male"
        ],
        [
         "Valeriote, Frank",
         "Liberal",
         "Ontario",
         58,
         "Male"
        ],
        [
         "Christopherson, David",
         "NDP",
         "Ontario",
         58,
         "Male"
        ],
        [
         "Mulcair, Thomas J.",
         "NDP",
         "Quebec",
         58,
         "Male"
        ],
        [
         "Daniel, Joe",
         "Conservative",
         "Ontario",
         58,
         "Male"
        ],
        [
         "Karygiannis, Jim",
         "Liberal",
         "Ontario",
         57,
         "Male"
        ],
        [
         "Godin, Yvon",
         "NDP",
         "New Brunswick",
         57,
         "Male"
        ],
        [
         "Dionne Labelle, Pierre",
         "NDP",
         "Quebec",
         57,
         "Male"
        ],
        [
         "Preston, Joe",
         "Conservative",
         "Ontario",
         57,
         "Male"
        ],
        [
         "Bélanger, Mauril",
         "Liberal",
         "Ontario",
         57,
         "Male"
        ],
        [
         "Fast, Edward",
         "Conservative",
         "British Columbia",
         57,
         "Male"
        ],
        [
         "Tweed, Mervin C.",
         "Conservative",
         "Manitoba",
         57,
         "Male"
        ],
        [
         "Dion, Stéphane",
         "Liberal",
         "Quebec",
         57,
         "Male"
        ],
        [
         "Van Kesteren, Dave",
         "Conservative",
         "Ontario",
         57,
         "Male"
        ],
        [
         "Cuzner, Rodger",
         "Liberal",
         "Nova Scotia",
         57,
         "Male"
        ],
        [
         "Martin, Pat",
         "NDP",
         "Manitoba",
         57,
         "Male"
        ],
        [
         "Stoffer, Peter",
         "NDP",
         "Nova Scotia",
         56,
         "Male"
        ],
        [
         "Miller, Larry",
         "Conservative",
         "Ontario",
         56,
         "Male"
        ],
        [
         "Blanchette, Denis",
         "NDP",
         "Quebec",
         56,
         "Male"
        ],
        [
         "Nunez-Melo, José",
         "NDP",
         "Quebec",
         56,
         "Male"
        ],
        [
         "Goguen, Robert",
         "Conservative",
         "New Brunswick",
         55,
         "Male"
        ],
        [
         "Scarpaleggia, Francis",
         "Liberal",
         "Quebec",
         55,
         "Male"
        ],
        [
         "Sweet, David",
         "Conservative",
         "Ontario",
         55,
         "Male"
        ],
        [
         "Anderson, David",
         "Conservative",
         "Saskatchewan",
         55,
         "Male"
        ],
        [
         "Chisholm, Robert",
         "NDP",
         "Nova Scotia",
         55,
         "Male"
        ],
        [
         "Stanton, Bruce",
         "Conservative",
         "Ontario",
         55,
         "Male"
        ],
        [
         "Goodyear, Gary",
         "Conservative",
         "Ontario",
         54,
         "Male"
        ],
        [
         "Weston, John",
         "Conservative",
         "British Columbia",
         54,
         "Male"
        ],
        [
         "Dechert, Bob",
         "Conservative",
         "Ontario",
         54,
         "Male"
        ],
        [
         "Shory, Devinder",
         "Conservative",
         "Alberta",
         54,
         "Male"
        ],
        [
         "Pilon, François",
         "NDP",
         "Quebec",
         54,
         "Male"
        ],
        [
         "Hayes, Bryan",
         "Conservative",
         "Ontario",
         54,
         "Male"
        ],
        [
         "Giguère, Alain",
         "NDP",
         "Quebec",
         54,
         "Male"
        ],
        [
         "Sorenson, Kevin",
         "Conservative",
         "Alberta",
         54,
         "Male"
        ],
        [
         "Benskin, Tyrone",
         "NDP",
         "Quebec",
         53,
         "Male"
        ],
        [
         "Menegakis, Costas",
         "Conservative",
         "Ontario",
         53,
         "Male"
        ],
        [
         "Harper, Stephen",
         "Conservative",
         "Alberta",
         53,
         "Male"
        ],
        [
         "Wilks, David",
         "Conservative",
         "British Columbia",
         53,
         "Male"
        ],
        [
         "Regan, Geoff",
         "Liberal",
         "Nova Scotia",
         53,
         "Male"
        ],
        [
         "McGuinty, David",
         "Liberal",
         "Ontario",
         52,
         "Male"
        ],
        [
         "Gosal, Bal",
         "Conservative",
         "Ontario",
         52,
         "Male"
        ],
        [
         "Aubin, Robert",
         "NDP",
         "Quebec",
         52,
         "Male"
        ],
        [
         "Eyking, Mark",
         "Liberal",
         "Nova Scotia",
         52,
         "Male"
        ],
        [
         "Brown, Gordon",
         "Conservative",
         "Ontario",
         52,
         "Male"
        ],
        [
         "Allen, Mike",
         "Conservative",
         "New Brunswick",
         52,
         "Male"
        ],
        [
         "Clement, Tony",
         "Conservative",
         "Ontario",
         51,
         "Male"
        ],
        [
         "Cannan, Ronald",
         "Conservative",
         "British Columbia",
         51,
         "Male"
        ],
        [
         "Rousseau, Jean",
         "NDP",
         "Quebec",
         51,
         "Male"
        ],
        [
         "Opitz, Ted",
         "Conservative",
         "Ontario",
         51,
         "Male"
        ],
        [
         "Toet, Lawrence",
         "Conservative",
         "Manitoba",
         50,
         "Male"
        ],
        [
         "Cash, Andrew",
         "NDP",
         "Ontario",
         50,
         "Male"
        ],
        [
         "Lamoureux, Kevin",
         "Liberal",
         "Manitoba",
         50,
         "Male"
        ],
        [
         "Scott, Craig",
         "NDP",
         "Ontario",
         50,
         "Male"
        ],
        [
         "Adler, Mark",
         "Conservative",
         "Ontario",
         50,
         "Male"
        ],
        [
         "Carrie, Colin",
         "Conservative",
         "Ontario",
         50,
         "Male"
        ],
        [
         "Julian, Peter",
         "NDP",
         "British Columbia",
         50,
         "Male"
        ],
        [
         "Pacetti, Massimo",
         "Liberal",
         "Quebec",
         50,
         "Male"
        ],
        [
         "Saganash, Romeo",
         "NDP",
         "Quebec",
         50,
         "Male"
        ],
        [
         "Angus, Charlie",
         "NDP",
         "Ontario",
         50,
         "Male"
        ],
        [
         "Davies, Don",
         "NDP",
         "British Columbia",
         49,
         "Male"
        ],
        [
         "Bernier, Maxime",
         "Conservative",
         "Quebec",
         49,
         "Male"
        ],
        [
         "Dewar, Paul",
         "NDP",
         "Ontario",
         49,
         "Male"
        ],
        [
         "Jean, Brian",
         "Conservative",
         "Alberta",
         49,
         "Male"
        ],
        [
         "Devolin, Barry",
         "Conservative",
         "Ontario",
         49,
         "Male"
        ],
        [
         "Lemieux, Pierre",
         "Conservative",
         "Ontario",
         49,
         "Male"
        ],
        [
         "Van Loan, Peter",
         "Conservative",
         "Ontario",
         49,
         "Male"
        ],
        [
         "Casey, Sean",
         "Liberal",
         "Prince Edward Island",
         49,
         "Male"
        ],
        [
         "Nantel, Pierre",
         "NDP",
         "Quebec",
         49,
         "Male"
        ],
        [
         "Coderre, Denis",
         "Liberal",
         "Quebec",
         49,
         "Male"
        ],
        [
         "Wallace, Mike",
         "Conservative",
         "Ontario",
         49,
         "Male"
        ],
        [
         "Braid, Peter",
         "Conservative",
         "Ontario",
         48,
         "Male"
        ],
        [
         "Gourde, Jacques",
         "Conservative",
         "Quebec",
         48,
         "Male"
        ],
        [
         "Reid, Scott",
         "Conservative",
         "Ontario",
         48,
         "Male"
        ],
        [
         "Hsu, Ted",
         "Liberal",
         "Ontario",
         48,
         "Male"
        ],
        [
         "Saxton, Andrew",
         "Conservative",
         "British Columbia",
         48,
         "Male"
        ],
        [
         "Weston, Rodney",
         "Conservative",
         "New Brunswick",
         48,
         "Male"
        ],
        [
         "Penashue, Peter",
         "Conservative",
         "Newfoundland and Labrador",
         48,
         "Male"
        ],
        [
         "Bellavance, André",
         "Bloc Quebecois",
         "Quebec",
         48,
         "Male"
        ],
        [
         "Rathgeber, Brent",
         "Conservative",
         "Alberta",
         48,
         "Male"
        ],
        [
         "Kellway, Matthew",
         "NDP",
         "Ontario",
         48,
         "Male"
        ],
        [
         "Toone, Philip",
         "NDP",
         "Quebec",
         47,
         "Male"
        ],
        [
         "Allison, Dean",
         "Conservative",
         "Ontario",
         47,
         "Male"
        ],
        [
         "Trottier, Bernard",
         "Conservative",
         "Ontario",
         47,
         "Male"
        ],
        [
         "Blaney, Steven",
         "Conservative",
         "Quebec",
         47,
         "Male"
        ],
        [
         "Bezan, James",
         "Conservative",
         "Manitoba",
         47,
         "Male"
        ],
        [
         "MacKay, Peter Gordon",
         "Conservative",
         "Nova Scotia",
         47,
         "Male"
        ],
        [
         "Dykstra, Richard",
         "Conservative",
         "Ontario",
         46,
         "Male"
        ],
        [
         "Sandhu, Jasbir",
         "NDP",
         "British Columbia",
         46,
         "Male"
        ],
        [
         "Donnelly, Fin",
         "NDP",
         "British Columbia",
         46,
         "Male"
        ],
        [
         "Armstrong, Scott",
         "Conservative",
         "Nova Scotia",
         46,
         "Male"
        ],
        [
         "Byrne, Gerry",
         "Liberal",
         "Newfoundland and Labrador",
         46,
         "Male"
        ],
        [
         "Stewart, Kennedy",
         "NDP",
         "British Columbia",
         46,
         "Male"
        ],
        [
         "Cleary, Ryan",
         "NDP",
         "Newfoundland and Labrador",
         46,
         "Male"
        ],
        [
         "Côté, Raymond",
         "NDP",
         "Quebec",
         45,
         "Male"
        ],
        [
         "Clarke, Rob",
         "Conservative",
         "Saskatchewan",
         45,
         "Male"
        ],
        [
         "Brison, Scott",
         "Liberal",
         "Nova Scotia",
         45,
         "Male"
        ],
        [
         "Butt, Brad",
         "Conservative",
         "Ontario",
         45,
         "Male"
        ],
        [
         "Rickford, Greg",
         "Conservative",
         "Ontario",
         45,
         "Male"
        ],
        [
         "LeBlanc, Dominic",
         "Liberal",
         "New Brunswick",
         45,
         "Male"
        ],
        [
         "Hoback, Randy",
         "Conservative",
         "Saskatchewan",
         45,
         "Male"
        ],
        [
         "Caron, Guy",
         "NDP",
         "Quebec",
         44,
         "Male"
        ],
        [
         "Brahmi, Tarik",
         "NDP",
         "Quebec",
         44,
         "Male"
        ],
        [
         "Kenney, Jason",
         "Conservative",
         "Alberta",
         44,
         "Male"
        ],
        [
         "Masse, Brian",
         "NDP",
         "Ontario",
         44,
         "Male"
        ],
        [
         "Alexander, Chris",
         "Conservative",
         "Ontario",
         44,
         "Male"
        ],
        [
         "Zimmer, Bob",
         "Conservative",
         "British Columbia",
         44,
         "Male"
        ],
        [
         "Calkins, Blaine",
         "Conservative",
         "Alberta",
         44,
         "Male"
        ],
        [
         "Baird, John",
         "Conservative",
         "Ontario",
         43,
         "Male"
        ],
        [
         "Lake, Mike",
         "Conservative",
         "Alberta",
         43,
         "Male"
        ],
        [
         "Simms, Scott",
         "Liberal",
         "Newfoundland and Labrador",
         43,
         "Male"
        ],
        [
         "Thibeault, Glenn",
         "NDP",
         "Ontario",
         43,
         "Male"
        ],
        [
         "Williamson, John",
         "Conservative",
         "New Brunswick",
         42,
         "Male"
        ],
        [
         "Calandra, Paul",
         "Conservative",
         "Ontario",
         42,
         "Male"
        ],
        [
         "Chicoine, Sylvain",
         "NDP",
         "Quebec",
         42,
         "Male"
        ],
        [
         "Del Mastro, Dean",
         "Conservative",
         "Ontario",
         42,
         "Male"
        ],
        [
         "Rajotte, James",
         "Conservative",
         "Alberta",
         42,
         "Male"
        ],
        [
         "Seeback, Kyle",
         "Conservative",
         "Ontario",
         42,
         "Male"
        ],
        [
         "Watson, Jeff",
         "Conservative",
         "Ontario",
         41,
         "Male"
        ],
        [
         "Lapointe, François",
         "NDP",
         "Quebec",
         41,
         "Male"
        ],
        [
         "Nicholls, Jamie",
         "NDP",
         "Quebec",
         41,
         "Male"
        ],
        [
         "Chong, Michael D.",
         "Conservative",
         "Ontario",
         41,
         "Male"
        ],
        [
         "Trudeau, Justin",
         "Liberal",
         "Quebec",
         41,
         "Male"
        ],
        [
         "Larose, Jean-François",
         "NDP",
         "Quebec",
         40,
         "Male"
        ],
        [
         "Anders, Rob",
         "Conservative",
         "Alberta",
         40,
         "Male"
        ],
        [
         "Fletcher, Steven John",
         "Conservative",
         "Manitoba",
         40,
         "Male"
        ],
        [
         "Cullen, Nathan",
         "NDP",
         "British Columbia",
         40,
         "Male"
        ],
        [
         "Ravignat, Mathieu",
         "NDP",
         "Quebec",
         39,
         "Male"
        ],
        [
         "Bruinooge, Rod",
         "Conservative",
         "Manitoba",
         39,
         "Male"
        ],
        [
         "Mai, Hoang",
         "NDP",
         "Quebec",
         39,
         "Male"
        ],
        [
         "Boulerice, Alexandre",
         "NDP",
         "Quebec",
         39,
         "Male"
        ],
        [
         "Fortin, Jean-François",
         "Bloc Quebecois",
         "Quebec",
         39,
         "Male"
        ],
        [
         "Leef, Ryan",
         "Conservative",
         "Territories",
         38,
         "Male"
        ],
        [
         "Paradis, Christian",
         "Conservative",
         "Quebec",
         38,
         "Male"
        ],
        [
         "Choquette, François",
         "NDP",
         "Quebec",
         38,
         "Male"
        ],
        [
         "Moore, Rob",
         "Conservative",
         "New Brunswick",
         38,
         "Male"
        ],
        [
         "Trost, Brad",
         "Conservative",
         "Saskatchewan",
         38,
         "Male"
        ],
        [
         "Gill, Parm",
         "Conservative",
         "Ontario",
         38,
         "Male"
        ],
        [
         "Hillyer, Jim",
         "Conservative",
         "Alberta",
         38,
         "Male"
        ],
        [
         "Richards, Blake",
         "Conservative",
         "Alberta",
         38,
         "Male"
        ],
        [
         "Uppal, Tim",
         "Conservative",
         "Alberta",
         38,
         "Male"
        ],
        [
         "Andrews, Scott",
         "Liberal",
         "Newfoundland and Labrador",
         37,
         "Male"
        ],
        [
         "Moore, James",
         "Conservative",
         "British Columbia",
         36,
         "Male"
        ],
        [
         "Lobb, Ben",
         "Conservative",
         "Ontario",
         36,
         "Male"
        ],
        [
         "Albas, Dan",
         "Conservative",
         "British Columbia",
         36,
         "Male"
        ],
        [
         "Storseth, Brian",
         "Conservative",
         "Alberta",
         34,
         "Male"
        ],
        [
         "Strahl, Mark",
         "Conservative",
         "British Columbia",
         34,
         "Male"
        ],
        [
         "Brown, Patrick W.",
         "Conservative",
         "Ontario",
         34,
         "Male"
        ],
        [
         "Warkentin, Chris",
         "Conservative",
         "Alberta",
         34,
         "Male"
        ],
        [
         "Scheer, Andrew",
         "Conservative",
         "Saskatchewan",
         33,
         "Male"
        ],
        [
         "Poilievre, Pierre",
         "Conservative",
         "Ontario",
         33,
         "Male"
        ],
        [
         "Genest-Jourdain, Jonathan",
         "NDP",
         "Quebec",
         33,
         "Male"
        ],
        [
         "Harris, Dan",
         "NDP",
         "Ontario",
         33,
         "Male"
        ],
        [
         "Tremblay, Jonathan",
         "NDP",
         "Quebec",
         28,
         "Male"
        ],
        [
         "Morin, Dany",
         "NDP",
         "Quebec",
         27,
         "Male"
        ],
        [
         "Dubé, Matthew",
         "NDP",
         "Quebec",
         24,
         "Male"
        ],
        [
         "Dusseault, Pierre-Luc",
         "NDP",
         "Quebec",
         21,
         "Male"
        ],
        [
         "O'Toole, Erin",
         "Conservative",
         "Ontario",
         "nan",
         "Male"
        ]
       ],
       "_data_tsv": "Province\tBloc Quebecois\tConservative\tGreen\tLiberal\tNDP\nAlberta\t\t1349\t\t\t63\nBritish Columbia\t\t1116\t58\t129\t646\nManitoba\t\t512\t\t50\t87\nNew Brunswick\t\t418\t\t45\t57\nNewfoundland and Labrador\t\t48\t\t186\t110\nNova Scotia\t\t217\t\t207\t150\nOntario\t\t3858\t\t638\t1173\nPrince Edward Island\t\t53\t\t178\t\nQuebec\t199\t240\t\t387\t2514\nSaskatchewan\t\t710\t\t63\t\nTerritories\t\t83\t\t\t59\n",
       "_options": {
        "aggregatorName": "Integer Sum",
        "autoSortUnusedAttrs": false,
        "colOrder": "key_a_to_z",
        "cols": [
         "Party"
        ],
        "exclusions": {},
        "hiddenAttributes": [],
        "hiddenFromAggregators": [],
        "hiddenFromDragDrop": [],
        "inclusions": {},
        "inclusionsInfo": {},
        "localeStrings": {
         "apply": "Apply",
         "by": "by",
         "cancel": "Cancel",
         "computeError": "An error occurred computing the PivotTable results.",
         "filterResults": "Filter values",
         "renderError": "An error occurred rendering the PivotTable results.",
         "selectAll": "Select All",
         "selectNone": "Select None",
         "tooMany": "(too many to list)",
         "totals": "Totals",
         "uiRenderError": "An error occurred rendering the PivotTable UI.",
         "vs": "vs"
        },
        "menuLimit": 500,
        "onRefresh": null,
        "rendererName": "Heatmap",
        "rendererOptions": {
         "table": {
          "clickCallback": "function(e, value, filters, pivotData){\n                            var names = [];\n                            pivotData.forEachMatchingRecord(filters,\n                                function(record){ names.push(record.Name); });\n                            alert(names.join(\"\\n\"));\n                        }"
         }
        },
        "rowOrder": "key_a_to_z",
        "rows": [
         "Province"
        ],
        "unusedAttrsVertical": 85,
        "vals": [
         "Age"
        ]
       },
       "layout": "IPY_MODEL_32a633582f814b3fa37eb15a56ac9094"
      }
     },
     "c5fd8f3a8ac448478594712ac3454fc0": {
      "model_module": "@jupyter-widgets/controls",
      "model_module_version": "1.1.0",
      "model_name": "DescriptionStyleModel",
      "state": {
       "description_width": ""
      }
     },
     "c661f35f0ffe47b09f63bd386ce80f13": {
      "model_module": "@jupyter-widgets/controls",
      "model_module_version": "1.1.0",
      "model_name": "ButtonModel",
      "state": {
       "description": "Restore",
       "layout": "IPY_MODEL_777f609a1d8f413999dc2fe2f03b4c39",
       "style": "IPY_MODEL_a56cd29c713a4d1ca4166639b5a7dbbc"
      }
     },
     "c799261e9c3346128d8309c8afd0f05b": {
      "model_module": "@jupyter-widgets/base",
      "model_module_version": "1.0.0",
      "model_name": "LayoutModel",
      "state": {
       "width": "160px"
      }
     },
     "c96191981c3043f3b0845e561217c63d": {
      "model_module": "ipypivot",
      "model_module_version": "~0.1.1",
      "model_name": "PivotUIBoxModel",
      "state": {
       "children": [
        "IPY_MODEL_6f2c0642872047239ae85386747cbfcc",
        "IPY_MODEL_d1982e37a4564a2087de8af11af8f26e"
       ],
       "layout": "IPY_MODEL_3303f13c9e5246b29e183f17a06fa595"
      }
     },
     "cff2b62797554eb49f5f329ea4d6b478": {
      "model_module": "@jupyter-widgets/base",
      "model_module_version": "1.0.0",
      "model_name": "LayoutModel",
      "state": {
       "width": "100px"
      }
     },
     "d11b09142119455d9b2bccb314f71290": {
      "model_module": "@jupyter-widgets/base",
      "model_module_version": "1.0.0",
      "model_name": "LayoutModel",
      "state": {
       "display": "flex",
       "justify_content": "flex-start"
      }
     },
     "d1982e37a4564a2087de8af11af8f26e": {
      "model_module": "ipypivot",
      "model_module_version": "~0.1.1",
      "model_name": "PivotUIModel",
      "state": {
       "_data": [
        [
         "Name",
         "Party",
         "Province",
         "Age",
         "Gender"
        ],
        [
         "Liu, Laurin",
         "NDP",
         "Quebec",
         22,
         "Female"
        ],
        [
         "Mourani, Maria",
         "Bloc Quebecois",
         "Quebec",
         43,
         "Female"
        ],
        [
         "Sellah, Djaouida",
         "NDP",
         "Quebec",
         "nan",
         "Female"
        ],
        [
         "St-Denis, Lise",
         "NDP",
         "Quebec",
         72,
         "Female"
        ],
        [
         "Fry, Hedy",
         "Liberal",
         "British Columbia",
         71,
         "Female"
        ],
        [
         "Turmel, Nycole",
         "NDP",
         "Quebec",
         70,
         "Female"
        ],
        [
         "Sgro, Judy",
         "Liberal",
         "Ontario",
         68,
         "Female"
        ],
        [
         "Raynault, Francine",
         "NDP",
         "Quebec",
         67,
         "Female"
        ],
        [
         "Davidson, Patricia",
         "Conservative",
         "Ontario",
         66,
         "Female"
        ],
        [
         "Smith, Joy",
         "Conservative",
         "Manitoba",
         65,
         "Female"
        ],
        [
         "Wong, Alice",
         "Conservative",
         "British Columbia",
         64,
         "Female"
        ],
        [
         "O'Neill Gordon, Tilly",
         "Conservative",
         "New Brunswick",
         63,
         "Female"
        ],
        [
         "Ablonczy, Diane",
         "Conservative",
         "Alberta",
         63,
         "Female"
        ],
        [
         "Duncan, Linda Francis",
         "NDP",
         "Alberta",
         63,
         "Female"
        ],
        [
         "Bennett, Carolyn",
         "Liberal",
         "Ontario",
         62,
         "Female"
        ],
        [
         "Nash, Peggy",
         "NDP",
         "Ontario",
         61,
         "Female"
        ],
        [
         "Mathyssen, Irene",
         "NDP",
         "Ontario",
         61,
         "Female"
        ],
        [
         "Sims, Jinny Jogindera",
         "NDP",
         "British Columbia",
         60,
         "Female"
        ],
        [
         "Foote, Judy",
         "Liberal",
         "Newfoundland and Labrador",
         60,
         "Female"
        ],
        [
         "Crowder, Jean",
         "NDP",
         "British Columbia",
         60,
         "Female"
        ],
        [
         "Davies, Libby",
         "NDP",
         "British Columbia",
         59,
         "Female"
        ],
        [
         "Yelich, Lynne",
         "Conservative",
         "Saskatchewan",
         59,
         "Female"
        ],
        [
         "Day, Anne-Marie",
         "NDP",
         "Quebec",
         58,
         "Female"
        ],
        [
         "May, Elizabeth",
         "Green",
         "British Columbia",
         58,
         "Female"
        ],
        [
         "Murray, Joyce",
         "Liberal",
         "British Columbia",
         58,
         "Female"
        ],
        [
         "Findlay, Kerry-Lynne D.",
         "Conservative",
         "British Columbia",
         57,
         "Female"
        ],
        [
         "Brown, Lois",
         "Conservative",
         "Ontario",
         57,
         "Female"
        ],
        [
         "Laverdière, Hélène",
         "NDP",
         "Quebec",
         57,
         "Female"
        ],
        [
         "Boutin-Sweet, Marjolaine",
         "NDP",
         "Quebec",
         57,
         "Female"
        ],
        [
         "Crockatt, Joan",
         "Conservative",
         "Alberta",
         56,
         "Female"
        ],
        [
         "Chow, Olivia",
         "NDP",
         "Ontario",
         55,
         "Female"
        ],
        [
         "McLeod, Cathy",
         "Conservative",
         "British Columbia",
         55,
         "Female"
        ],
        [
         "Finley, Diane",
         "Conservative",
         "Ontario",
         55,
         "Female"
        ],
        [
         "LeBlanc, Hélène",
         "NDP",
         "Quebec",
         54,
         "Female"
        ],
        [
         "Grewal, Nina",
         "Conservative",
         "British Columbia",
         54,
         "Female"
        ],
        [
         "Hughes, Carol",
         "NDP",
         "Ontario",
         54,
         "Female"
        ],
        [
         "Shea, Gail",
         "Conservative",
         "Prince Edward Island",
         53,
         "Female"
        ],
        [
         "Truppe, Susan",
         "Conservative",
         "Ontario",
         53,
         "Female"
        ],
        [
         "Young, Wai",
         "Conservative",
         "British Columbia",
         52,
         "Female"
        ],
        [
         "Gallant, Cheryl",
         "Conservative",
         "Ontario",
         52,
         "Female"
        ],
        [
         "Boivin, Françoise",
         "NDP",
         "Quebec",
         52,
         "Female"
        ],
        [
         "Block, Kelly",
         "Conservative",
         "Saskatchewan",
         51,
         "Female"
        ],
        [
         "Ayala, Paulina",
         "NDP",
         "Quebec",
         50,
         "Female"
        ],
        [
         "Groguhé, Sadia",
         "NDP",
         "Quebec",
         50,
         "Female"
        ],
        [
         "Charlton, Chris",
         "NDP",
         "Ontario",
         49,
         "Female"
        ],
        [
         "Bergen, Candice",
         "Conservative",
         "Manitoba",
         48,
         "Female"
        ],
        [
         "Perreault, Manon",
         "NDP",
         "Quebec",
         46,
         "Female"
        ],
        [
         "James, Roxanne",
         "Conservative",
         "Ontario",
         46,
         "Female"
        ],
        [
         "Ambler, Stella",
         "Conservative",
         "Ontario",
         46,
         "Female"
        ],
        [
         "Duncan, Kirsty",
         "Liberal",
         "Ontario",
         46,
         "Female"
        ],
        [
         "Glover, Shelly",
         "Conservative",
         "Manitoba",
         45,
         "Female"
        ],
        [
         "Aglukkaq, Leona",
         "Conservative",
         "Territories",
         45,
         "Female"
        ],
        [
         "Raitt, Lisa",
         "Conservative",
         "Ontario",
         44,
         "Female"
        ],
        [
         "Ambrose, Rona",
         "Conservative",
         "Alberta",
         43,
         "Female"
        ],
        [
         "Leitch, Kellie",
         "Conservative",
         "Ontario",
         42,
         "Female"
        ],
        [
         "Leslie, Megan",
         "NDP",
         "Nova Scotia",
         39,
         "Female"
        ],
        [
         "Hassainia, Sana",
         "NDP",
         "Quebec",
         38,
         "Female"
        ],
        [
         "Adams, Eve",
         "Conservative",
         "Ontario",
         38,
         "Female"
        ],
        [
         "Rempel, Michelle",
         "Conservative",
         "Alberta",
         32,
         "Female"
        ],
        [
         "Papillon, Annick",
         "NDP",
         "Quebec",
         32,
         "Female"
        ],
        [
         "Sitsabaiesan, Rathika",
         "NDP",
         "Ontario",
         31,
         "Female"
        ],
        [
         "Quach, Anne Minh-Thu",
         "NDP",
         "Quebec",
         30,
         "Female"
        ],
        [
         "Ashton, Niki",
         "NDP",
         "Manitoba",
         30,
         "Female"
        ],
        [
         "Moore, Christine",
         "NDP",
         "Quebec",
         29,
         "Female"
        ],
        [
         "Morin, Isabelle",
         "NDP",
         "Quebec",
         28,
         "Female"
        ],
        [
         "Blanchette-Lamothe, Lysane",
         "NDP",
         "Quebec",
         28,
         "Female"
        ],
        [
         "Brosseau, Ruth Ellen",
         "NDP",
         "Quebec",
         28,
         "Female"
        ],
        [
         "Latendresse, Alexandrine",
         "NDP",
         "Quebec",
         28,
         "Female"
        ],
        [
         "Doré Lefebvre, Rosane",
         "NDP",
         "Quebec",
         28,
         "Female"
        ],
        [
         "Morin, Marie-Claude",
         "NDP",
         "Quebec",
         27,
         "Female"
        ],
        [
         "Michaud, Élaine",
         "NDP",
         "Quebec",
         27,
         "Female"
        ],
        [
         "Péclet, Ève",
         "NDP",
         "Quebec",
         24,
         "Female"
        ],
        [
         "Freeman, Mylène",
         "NDP",
         "Quebec",
         23,
         "Female"
        ],
        [
         "Borg, Charmaine",
         "NDP",
         "Quebec",
         22,
         "Female"
        ],
        [
         "Bateman, Joyce",
         "Conservative",
         "Manitoba",
         "nan",
         "Female"
        ],
        [
         "Hiebert, Russ",
         "Conservative",
         "British Columbia",
         43,
         "Male"
        ],
        [
         "Jacob, Pierre",
         "NDP",
         "Quebec",
         59,
         "Male"
        ],
        [
         "Vellacott, Maurice",
         "Conservative",
         "Saskatchewan",
         57,
         "Male"
        ],
        [
         "Boughen, Ray",
         "Conservative",
         "Saskatchewan",
         75,
         "Male"
        ],
        [
         "O'Connor, Gordon",
         "Conservative",
         "Ontario",
         73,
         "Male"
        ],
        [
         "Cotler, Irwin",
         "Liberal",
         "Quebec",
         72,
         "Male"
        ],
        [
         "Oliver, Joe",
         "Conservative",
         "Ontario",
         72,
         "Male"
        ],
        [
         "Tilson, David Allan",
         "Conservative",
         "Ontario",
         71,
         "Male"
        ],
        [
         "Fantino, Julian",
         "Conservative",
         "Ontario",
         70,
         "Male"
        ],
        [
         "Kent, Peter",
         "Conservative",
         "Ontario",
         69,
         "Male"
        ],
        [
         "Plamondon, Louis",
         "Bloc Quebecois",
         "Quebec",
         69,
         "Male"
        ],
        [
         "Schellenberger, Gary",
         "Conservative",
         "Ontario",
         69,
         "Male"
        ],
        [
         "Lauzon, Guy",
         "Conservative",
         "Ontario",
         68,
         "Male"
        ],
        [
         "Harris, Richard M.",
         "Conservative",
         "British Columbia",
         68,
         "Male"
        ],
        [
         "Goldring, Peter",
         "Conservative",
         "Alberta",
         68,
         "Male"
        ],
        [
         "Atamanenko, Alex",
         "NDP",
         "British Columbia",
         67,
         "Male"
        ],
        [
         "Payne, LaVar",
         "Conservative",
         "Alberta",
         67,
         "Male"
        ],
        [
         "Breitkreuz, Garry W.",
         "Conservative",
         "Saskatchewan",
         67,
         "Male"
        ],
        [
         "Genest, Réjean",
         "NDP",
         "Quebec",
         66,
         "Male"
        ],
        [
         "MacKenzie, Dave",
         "Conservative",
         "Ontario",
         66,
         "Male"
        ],
        [
         "Hyer, Bruce",
         "NDP",
         "Ontario",
         66,
         "Male"
        ],
        [
         "MacAulay, Lawrence",
         "Liberal",
         "Prince Edward Island",
         66,
         "Male"
        ],
        [
         "Galipeau, Royal",
         "Conservative",
         "Ontario",
         65,
         "Male"
        ],
        [
         "Marston, Wayne",
         "NDP",
         "Ontario",
         65,
         "Male"
        ],
        [
         "Hawn, Laurie",
         "Conservative",
         "Alberta",
         65,
         "Male"
        ],
        [
         "Kramp, Daryl",
         "Conservative",
         "Ontario",
         65,
         "Male"
        ],
        [
         "Shipley, Bev",
         "Conservative",
         "Ontario",
         65,
         "Male"
        ],
        [
         "Kerr, Greg",
         "Conservative",
         "Nova Scotia",
         65,
         "Male"
        ],
        [
         "Comartin, Joe",
         "NDP",
         "Ontario",
         65,
         "Male"
        ],
        [
         "Norlock, Rick",
         "Conservative",
         "Ontario",
         64,
         "Male"
        ],
        [
         "McKay, John",
         "Liberal",
         "Ontario",
         64,
         "Male"
        ],
        [
         "Mayes, Colin",
         "Conservative",
         "British Columbia",
         64,
         "Male"
        ],
        [
         "Rae, Bob",
         "Liberal",
         "Ontario",
         64,
         "Male"
        ],
        [
         "Harris, Jack",
         "NDP",
         "Newfoundland and Labrador",
         64,
         "Male"
        ],
        [
         "Duncan, John",
         "Conservative",
         "British Columbia",
         64,
         "Male"
        ],
        [
         "Chisu, Corneliu",
         "Conservative",
         "Ontario",
         63,
         "Male"
        ],
        [
         "Garneau, Marc",
         "Liberal",
         "Quebec",
         63,
         "Male"
        ],
        [
         "Easter, Arnold Wayne",
         "Liberal",
         "Prince Edward Island",
         63,
         "Male"
        ],
        [
         "Aspin, Jay",
         "Conservative",
         "Ontario",
         63,
         "Male"
        ],
        [
         "Goodale, Ralph",
         "Liberal",
         "Saskatchewan",
         63,
         "Male"
        ],
        [
         "Albrecht, Harold",
         "Conservative",
         "Ontario",
         63,
         "Male"
        ],
        [
         "Gravelle, Claude",
         "NDP",
         "Ontario",
         63,
         "Male"
        ],
        [
         "Komarnicki, Ed",
         "Conservative",
         "Saskatchewan",
         63,
         "Male"
        ],
        [
         "Flaherty, James Michael (Jim)",
         "Conservative",
         "Ontario",
         62,
         "Male"
        ],
        [
         "Rankin, Murray",
         "NDP",
         "British Columbia",
         62,
         "Male"
        ],
        [
         "McCallum, John",
         "Liberal",
         "Ontario",
         62,
         "Male"
        ],
        [
         "Warawa, Mark",
         "Conservative",
         "British Columbia",
         62,
         "Male"
        ],
        [
         "Obhrai, Deepak",
         "Conservative",
         "Alberta",
         62,
         "Male"
        ],
        [
         "Benoit, Leon Earl",
         "Conservative",
         "Alberta",
         62,
         "Male"
        ],
        [
         "Leung, Chungsen",
         "Conservative",
         "Ontario",
         62,
         "Male"
        ],
        [
         "Morin, Marc-André",
         "NDP",
         "Quebec",
         61,
         "Male"
        ],
        [
         "Sopuck, Robert",
         "Conservative",
         "Manitoba",
         61,
         "Male"
        ],
        [
         "Ritz, Gerry",
         "Conservative",
         "Saskatchewan",
         61,
         "Male"
        ],
        [
         "Garrison, Randall",
         "NDP",
         "British Columbia",
         61,
         "Male"
        ],
        [
         "Lunney, James",
         "Conservative",
         "British Columbia",
         61,
         "Male"
        ],
        [
         "Lukiwski, Tom",
         "Conservative",
         "Saskatchewan",
         61,
         "Male"
        ],
        [
         "Carmichael, John",
         "Conservative",
         "Ontario",
         60,
         "Male"
        ],
        [
         "Menzies, Ted",
         "Conservative",
         "Alberta",
         60,
         "Male"
        ],
        [
         "Valcourt, Bernard",
         "Conservative",
         "New Brunswick",
         60,
         "Male"
        ],
        [
         "Ashfield, Keith",
         "Conservative",
         "New Brunswick",
         60,
         "Male"
        ],
        [
         "Nicholson, Rob",
         "Conservative",
         "Ontario",
         60,
         "Male"
        ],
        [
         "Young, Terence H.",
         "Conservative",
         "Ontario",
         60,
         "Male"
        ],
        [
         "Toews, Vic",
         "Conservative",
         "Manitoba",
         60,
         "Male"
        ],
        [
         "Sullivan, Mike",
         "NDP",
         "Ontario",
         60,
         "Male"
        ],
        [
         "Patry, Claude",
         "NDP",
         "Quebec",
         59,
         "Male"
        ],
        [
         "Keddy, Gerald",
         "Conservative",
         "Nova Scotia",
         59,
         "Male"
        ],
        [
         "Bevington, Dennis Fraser",
         "NDP",
         "Territories",
         59,
         "Male"
        ],
        [
         "Allen, Malcolm",
         "NDP",
         "Ontario",
         59,
         "Male"
        ],
        [
         "Rafferty, John",
         "NDP",
         "Ontario",
         59,
         "Male"
        ],
        [
         "Dreeshen, Earl",
         "Conservative",
         "Alberta",
         59,
         "Male"
        ],
        [
         "Kamp, Randy",
         "Conservative",
         "British Columbia",
         59,
         "Male"
        ],
        [
         "Merrifield, Rob",
         "Conservative",
         "Alberta",
         59,
         "Male"
        ],
        [
         "Woodworth, Stephen",
         "Conservative",
         "Ontario",
         58,
         "Male"
        ],
        [
         "McColeman, Phil",
         "Conservative",
         "Ontario",
         58,
         "Male"
        ],
        [
         "Lebel, Denis",
         "Conservative",
         "Quebec",
         58,
         "Male"
        ],
        [
         "Lizon, Wladyslaw",
         "Conservative",
         "Ontario",
         58,
         "Male"
        ],
        [
         "Holder, Ed",
         "Conservative",
         "Ontario",
         58,
         "Male"
        ],
        [
         "Valeriote, Frank",
         "Liberal",
         "Ontario",
         58,
         "Male"
        ],
        [
         "Christopherson, David",
         "NDP",
         "Ontario",
         58,
         "Male"
        ],
        [
         "Mulcair, Thomas J.",
         "NDP",
         "Quebec",
         58,
         "Male"
        ],
        [
         "Daniel, Joe",
         "Conservative",
         "Ontario",
         58,
         "Male"
        ],
        [
         "Karygiannis, Jim",
         "Liberal",
         "Ontario",
         57,
         "Male"
        ],
        [
         "Godin, Yvon",
         "NDP",
         "New Brunswick",
         57,
         "Male"
        ],
        [
         "Dionne Labelle, Pierre",
         "NDP",
         "Quebec",
         57,
         "Male"
        ],
        [
         "Preston, Joe",
         "Conservative",
         "Ontario",
         57,
         "Male"
        ],
        [
         "Bélanger, Mauril",
         "Liberal",
         "Ontario",
         57,
         "Male"
        ],
        [
         "Fast, Edward",
         "Conservative",
         "British Columbia",
         57,
         "Male"
        ],
        [
         "Tweed, Mervin C.",
         "Conservative",
         "Manitoba",
         57,
         "Male"
        ],
        [
         "Dion, Stéphane",
         "Liberal",
         "Quebec",
         57,
         "Male"
        ],
        [
         "Van Kesteren, Dave",
         "Conservative",
         "Ontario",
         57,
         "Male"
        ],
        [
         "Cuzner, Rodger",
         "Liberal",
         "Nova Scotia",
         57,
         "Male"
        ],
        [
         "Martin, Pat",
         "NDP",
         "Manitoba",
         57,
         "Male"
        ],
        [
         "Stoffer, Peter",
         "NDP",
         "Nova Scotia",
         56,
         "Male"
        ],
        [
         "Miller, Larry",
         "Conservative",
         "Ontario",
         56,
         "Male"
        ],
        [
         "Blanchette, Denis",
         "NDP",
         "Quebec",
         56,
         "Male"
        ],
        [
         "Nunez-Melo, José",
         "NDP",
         "Quebec",
         56,
         "Male"
        ],
        [
         "Goguen, Robert",
         "Conservative",
         "New Brunswick",
         55,
         "Male"
        ],
        [
         "Scarpaleggia, Francis",
         "Liberal",
         "Quebec",
         55,
         "Male"
        ],
        [
         "Sweet, David",
         "Conservative",
         "Ontario",
         55,
         "Male"
        ],
        [
         "Anderson, David",
         "Conservative",
         "Saskatchewan",
         55,
         "Male"
        ],
        [
         "Chisholm, Robert",
         "NDP",
         "Nova Scotia",
         55,
         "Male"
        ],
        [
         "Stanton, Bruce",
         "Conservative",
         "Ontario",
         55,
         "Male"
        ],
        [
         "Goodyear, Gary",
         "Conservative",
         "Ontario",
         54,
         "Male"
        ],
        [
         "Weston, John",
         "Conservative",
         "British Columbia",
         54,
         "Male"
        ],
        [
         "Dechert, Bob",
         "Conservative",
         "Ontario",
         54,
         "Male"
        ],
        [
         "Shory, Devinder",
         "Conservative",
         "Alberta",
         54,
         "Male"
        ],
        [
         "Pilon, François",
         "NDP",
         "Quebec",
         54,
         "Male"
        ],
        [
         "Hayes, Bryan",
         "Conservative",
         "Ontario",
         54,
         "Male"
        ],
        [
         "Giguère, Alain",
         "NDP",
         "Quebec",
         54,
         "Male"
        ],
        [
         "Sorenson, Kevin",
         "Conservative",
         "Alberta",
         54,
         "Male"
        ],
        [
         "Benskin, Tyrone",
         "NDP",
         "Quebec",
         53,
         "Male"
        ],
        [
         "Menegakis, Costas",
         "Conservative",
         "Ontario",
         53,
         "Male"
        ],
        [
         "Harper, Stephen",
         "Conservative",
         "Alberta",
         53,
         "Male"
        ],
        [
         "Wilks, David",
         "Conservative",
         "British Columbia",
         53,
         "Male"
        ],
        [
         "Regan, Geoff",
         "Liberal",
         "Nova Scotia",
         53,
         "Male"
        ],
        [
         "McGuinty, David",
         "Liberal",
         "Ontario",
         52,
         "Male"
        ],
        [
         "Gosal, Bal",
         "Conservative",
         "Ontario",
         52,
         "Male"
        ],
        [
         "Aubin, Robert",
         "NDP",
         "Quebec",
         52,
         "Male"
        ],
        [
         "Eyking, Mark",
         "Liberal",
         "Nova Scotia",
         52,
         "Male"
        ],
        [
         "Brown, Gordon",
         "Conservative",
         "Ontario",
         52,
         "Male"
        ],
        [
         "Allen, Mike",
         "Conservative",
         "New Brunswick",
         52,
         "Male"
        ],
        [
         "Clement, Tony",
         "Conservative",
         "Ontario",
         51,
         "Male"
        ],
        [
         "Cannan, Ronald",
         "Conservative",
         "British Columbia",
         51,
         "Male"
        ],
        [
         "Rousseau, Jean",
         "NDP",
         "Quebec",
         51,
         "Male"
        ],
        [
         "Opitz, Ted",
         "Conservative",
         "Ontario",
         51,
         "Male"
        ],
        [
         "Toet, Lawrence",
         "Conservative",
         "Manitoba",
         50,
         "Male"
        ],
        [
         "Cash, Andrew",
         "NDP",
         "Ontario",
         50,
         "Male"
        ],
        [
         "Lamoureux, Kevin",
         "Liberal",
         "Manitoba",
         50,
         "Male"
        ],
        [
         "Scott, Craig",
         "NDP",
         "Ontario",
         50,
         "Male"
        ],
        [
         "Adler, Mark",
         "Conservative",
         "Ontario",
         50,
         "Male"
        ],
        [
         "Carrie, Colin",
         "Conservative",
         "Ontario",
         50,
         "Male"
        ],
        [
         "Julian, Peter",
         "NDP",
         "British Columbia",
         50,
         "Male"
        ],
        [
         "Pacetti, Massimo",
         "Liberal",
         "Quebec",
         50,
         "Male"
        ],
        [
         "Saganash, Romeo",
         "NDP",
         "Quebec",
         50,
         "Male"
        ],
        [
         "Angus, Charlie",
         "NDP",
         "Ontario",
         50,
         "Male"
        ],
        [
         "Davies, Don",
         "NDP",
         "British Columbia",
         49,
         "Male"
        ],
        [
         "Bernier, Maxime",
         "Conservative",
         "Quebec",
         49,
         "Male"
        ],
        [
         "Dewar, Paul",
         "NDP",
         "Ontario",
         49,
         "Male"
        ],
        [
         "Jean, Brian",
         "Conservative",
         "Alberta",
         49,
         "Male"
        ],
        [
         "Devolin, Barry",
         "Conservative",
         "Ontario",
         49,
         "Male"
        ],
        [
         "Lemieux, Pierre",
         "Conservative",
         "Ontario",
         49,
         "Male"
        ],
        [
         "Van Loan, Peter",
         "Conservative",
         "Ontario",
         49,
         "Male"
        ],
        [
         "Casey, Sean",
         "Liberal",
         "Prince Edward Island",
         49,
         "Male"
        ],
        [
         "Nantel, Pierre",
         "NDP",
         "Quebec",
         49,
         "Male"
        ],
        [
         "Coderre, Denis",
         "Liberal",
         "Quebec",
         49,
         "Male"
        ],
        [
         "Wallace, Mike",
         "Conservative",
         "Ontario",
         49,
         "Male"
        ],
        [
         "Braid, Peter",
         "Conservative",
         "Ontario",
         48,
         "Male"
        ],
        [
         "Gourde, Jacques",
         "Conservative",
         "Quebec",
         48,
         "Male"
        ],
        [
         "Reid, Scott",
         "Conservative",
         "Ontario",
         48,
         "Male"
        ],
        [
         "Hsu, Ted",
         "Liberal",
         "Ontario",
         48,
         "Male"
        ],
        [
         "Saxton, Andrew",
         "Conservative",
         "British Columbia",
         48,
         "Male"
        ],
        [
         "Weston, Rodney",
         "Conservative",
         "New Brunswick",
         48,
         "Male"
        ],
        [
         "Penashue, Peter",
         "Conservative",
         "Newfoundland and Labrador",
         48,
         "Male"
        ],
        [
         "Bellavance, André",
         "Bloc Quebecois",
         "Quebec",
         48,
         "Male"
        ],
        [
         "Rathgeber, Brent",
         "Conservative",
         "Alberta",
         48,
         "Male"
        ],
        [
         "Kellway, Matthew",
         "NDP",
         "Ontario",
         48,
         "Male"
        ],
        [
         "Toone, Philip",
         "NDP",
         "Quebec",
         47,
         "Male"
        ],
        [
         "Allison, Dean",
         "Conservative",
         "Ontario",
         47,
         "Male"
        ],
        [
         "Trottier, Bernard",
         "Conservative",
         "Ontario",
         47,
         "Male"
        ],
        [
         "Blaney, Steven",
         "Conservative",
         "Quebec",
         47,
         "Male"
        ],
        [
         "Bezan, James",
         "Conservative",
         "Manitoba",
         47,
         "Male"
        ],
        [
         "MacKay, Peter Gordon",
         "Conservative",
         "Nova Scotia",
         47,
         "Male"
        ],
        [
         "Dykstra, Richard",
         "Conservative",
         "Ontario",
         46,
         "Male"
        ],
        [
         "Sandhu, Jasbir",
         "NDP",
         "British Columbia",
         46,
         "Male"
        ],
        [
         "Donnelly, Fin",
         "NDP",
         "British Columbia",
         46,
         "Male"
        ],
        [
         "Armstrong, Scott",
         "Conservative",
         "Nova Scotia",
         46,
         "Male"
        ],
        [
         "Byrne, Gerry",
         "Liberal",
         "Newfoundland and Labrador",
         46,
         "Male"
        ],
        [
         "Stewart, Kennedy",
         "NDP",
         "British Columbia",
         46,
         "Male"
        ],
        [
         "Cleary, Ryan",
         "NDP",
         "Newfoundland and Labrador",
         46,
         "Male"
        ],
        [
         "Côté, Raymond",
         "NDP",
         "Quebec",
         45,
         "Male"
        ],
        [
         "Clarke, Rob",
         "Conservative",
         "Saskatchewan",
         45,
         "Male"
        ],
        [
         "Brison, Scott",
         "Liberal",
         "Nova Scotia",
         45,
         "Male"
        ],
        [
         "Butt, Brad",
         "Conservative",
         "Ontario",
         45,
         "Male"
        ],
        [
         "Rickford, Greg",
         "Conservative",
         "Ontario",
         45,
         "Male"
        ],
        [
         "LeBlanc, Dominic",
         "Liberal",
         "New Brunswick",
         45,
         "Male"
        ],
        [
         "Hoback, Randy",
         "Conservative",
         "Saskatchewan",
         45,
         "Male"
        ],
        [
         "Caron, Guy",
         "NDP",
         "Quebec",
         44,
         "Male"
        ],
        [
         "Brahmi, Tarik",
         "NDP",
         "Quebec",
         44,
         "Male"
        ],
        [
         "Kenney, Jason",
         "Conservative",
         "Alberta",
         44,
         "Male"
        ],
        [
         "Masse, Brian",
         "NDP",
         "Ontario",
         44,
         "Male"
        ],
        [
         "Alexander, Chris",
         "Conservative",
         "Ontario",
         44,
         "Male"
        ],
        [
         "Zimmer, Bob",
         "Conservative",
         "British Columbia",
         44,
         "Male"
        ],
        [
         "Calkins, Blaine",
         "Conservative",
         "Alberta",
         44,
         "Male"
        ],
        [
         "Baird, John",
         "Conservative",
         "Ontario",
         43,
         "Male"
        ],
        [
         "Lake, Mike",
         "Conservative",
         "Alberta",
         43,
         "Male"
        ],
        [
         "Simms, Scott",
         "Liberal",
         "Newfoundland and Labrador",
         43,
         "Male"
        ],
        [
         "Thibeault, Glenn",
         "NDP",
         "Ontario",
         43,
         "Male"
        ],
        [
         "Williamson, John",
         "Conservative",
         "New Brunswick",
         42,
         "Male"
        ],
        [
         "Calandra, Paul",
         "Conservative",
         "Ontario",
         42,
         "Male"
        ],
        [
         "Chicoine, Sylvain",
         "NDP",
         "Quebec",
         42,
         "Male"
        ],
        [
         "Del Mastro, Dean",
         "Conservative",
         "Ontario",
         42,
         "Male"
        ],
        [
         "Rajotte, James",
         "Conservative",
         "Alberta",
         42,
         "Male"
        ],
        [
         "Seeback, Kyle",
         "Conservative",
         "Ontario",
         42,
         "Male"
        ],
        [
         "Watson, Jeff",
         "Conservative",
         "Ontario",
         41,
         "Male"
        ],
        [
         "Lapointe, François",
         "NDP",
         "Quebec",
         41,
         "Male"
        ],
        [
         "Nicholls, Jamie",
         "NDP",
         "Quebec",
         41,
         "Male"
        ],
        [
         "Chong, Michael D.",
         "Conservative",
         "Ontario",
         41,
         "Male"
        ],
        [
         "Trudeau, Justin",
         "Liberal",
         "Quebec",
         41,
         "Male"
        ],
        [
         "Larose, Jean-François",
         "NDP",
         "Quebec",
         40,
         "Male"
        ],
        [
         "Anders, Rob",
         "Conservative",
         "Alberta",
         40,
         "Male"
        ],
        [
         "Fletcher, Steven John",
         "Conservative",
         "Manitoba",
         40,
         "Male"
        ],
        [
         "Cullen, Nathan",
         "NDP",
         "British Columbia",
         40,
         "Male"
        ],
        [
         "Ravignat, Mathieu",
         "NDP",
         "Quebec",
         39,
         "Male"
        ],
        [
         "Bruinooge, Rod",
         "Conservative",
         "Manitoba",
         39,
         "Male"
        ],
        [
         "Mai, Hoang",
         "NDP",
         "Quebec",
         39,
         "Male"
        ],
        [
         "Boulerice, Alexandre",
         "NDP",
         "Quebec",
         39,
         "Male"
        ],
        [
         "Fortin, Jean-François",
         "Bloc Quebecois",
         "Quebec",
         39,
         "Male"
        ],
        [
         "Leef, Ryan",
         "Conservative",
         "Territories",
         38,
         "Male"
        ],
        [
         "Paradis, Christian",
         "Conservative",
         "Quebec",
         38,
         "Male"
        ],
        [
         "Choquette, François",
         "NDP",
         "Quebec",
         38,
         "Male"
        ],
        [
         "Moore, Rob",
         "Conservative",
         "New Brunswick",
         38,
         "Male"
        ],
        [
         "Trost, Brad",
         "Conservative",
         "Saskatchewan",
         38,
         "Male"
        ],
        [
         "Gill, Parm",
         "Conservative",
         "Ontario",
         38,
         "Male"
        ],
        [
         "Hillyer, Jim",
         "Conservative",
         "Alberta",
         38,
         "Male"
        ],
        [
         "Richards, Blake",
         "Conservative",
         "Alberta",
         38,
         "Male"
        ],
        [
         "Uppal, Tim",
         "Conservative",
         "Alberta",
         38,
         "Male"
        ],
        [
         "Andrews, Scott",
         "Liberal",
         "Newfoundland and Labrador",
         37,
         "Male"
        ],
        [
         "Moore, James",
         "Conservative",
         "British Columbia",
         36,
         "Male"
        ],
        [
         "Lobb, Ben",
         "Conservative",
         "Ontario",
         36,
         "Male"
        ],
        [
         "Albas, Dan",
         "Conservative",
         "British Columbia",
         36,
         "Male"
        ],
        [
         "Storseth, Brian",
         "Conservative",
         "Alberta",
         34,
         "Male"
        ],
        [
         "Strahl, Mark",
         "Conservative",
         "British Columbia",
         34,
         "Male"
        ],
        [
         "Brown, Patrick W.",
         "Conservative",
         "Ontario",
         34,
         "Male"
        ],
        [
         "Warkentin, Chris",
         "Conservative",
         "Alberta",
         34,
         "Male"
        ],
        [
         "Scheer, Andrew",
         "Conservative",
         "Saskatchewan",
         33,
         "Male"
        ],
        [
         "Poilievre, Pierre",
         "Conservative",
         "Ontario",
         33,
         "Male"
        ],
        [
         "Genest-Jourdain, Jonathan",
         "NDP",
         "Quebec",
         33,
         "Male"
        ],
        [
         "Harris, Dan",
         "NDP",
         "Ontario",
         33,
         "Male"
        ],
        [
         "Tremblay, Jonathan",
         "NDP",
         "Quebec",
         28,
         "Male"
        ],
        [
         "Morin, Dany",
         "NDP",
         "Quebec",
         27,
         "Male"
        ],
        [
         "Dubé, Matthew",
         "NDP",
         "Quebec",
         24,
         "Male"
        ],
        [
         "Dusseault, Pierre-Luc",
         "NDP",
         "Quebec",
         21,
         "Male"
        ],
        [
         "O'Toole, Erin",
         "Conservative",
         "Ontario",
         "nan",
         "Male"
        ]
       ],
       "_data_tsv": "Province\tConservative\tNDP\tLiberal\tBloc Quebecois\tGreen\nOntario\t73\t22\t11\t\t\nQuebec\t5\t59\t7\t4\t\nBritish Columbia\t21\t12\t2\t\t1\nAlberta\t27\t1\t\t\t\nManitoba\t11\t2\t1\t\t\nSaskatchewan\t13\t\t1\t\t\nNova Scotia\t4\t3\t4\t\t\nNew Brunswick\t8\t1\t1\t\t\nNewfoundland and Labrador\t1\t2\t4\t\t\nPrince Edward Island\t1\t\t3\t\t\nTerritories\t2\t1\t\t\t\n",
       "_options": {
        "aggregatorName": "Count",
        "autoSortUnusedAttrs": false,
        "colOrder": "value_z_to_a",
        "cols": [
         "Party"
        ],
        "exclusions": {},
        "hiddenAttributes": [],
        "hiddenFromAggregators": [],
        "hiddenFromDragDrop": [],
        "inclusions": {},
        "inclusionsInfo": {},
        "localeStrings": {
         "apply": "Apply",
         "by": "by",
         "cancel": "Cancel",
         "computeError": "An error occurred computing the PivotTable results.",
         "filterResults": "Filter values",
         "renderError": "An error occurred rendering the PivotTable results.",
         "selectAll": "Select All",
         "selectNone": "Select None",
         "tooMany": "(too many to list)",
         "totals": "Totals",
         "uiRenderError": "An error occurred rendering the PivotTable UI.",
         "vs": "vs"
        },
        "menuLimit": 500,
        "onRefresh": null,
        "rendererName": "Horizontal Stacked Bar Chart",
        "rendererOptions": {
         "c3": {
          "data": {
           "colors": {
            "Bloc Quebecois": "#990099",
            "Conservative": "#3366cc",
            "Green": "#109618",
            "Liberal": "#dc3912",
            "NDP": "#ff9900"
           }
          }
         }
        },
        "renderers": "$.extend($.pivotUtilities.renderers, $.pivotUtilities.c3_renderers)",
        "rowOrder": "value_z_to_a",
        "rows": [
         "Province"
        ],
        "unusedAttrsVertical": 85,
        "vals": []
       },
       "layout": "IPY_MODEL_5b564916f0124b888046fbd6c0e17b20"
      }
     },
     "dabe2c0d97764d50b5b54777303066a1": {
      "model_module": "@jupyter-widgets/controls",
      "model_module_version": "1.1.0",
      "model_name": "ButtonStyleModel",
      "state": {}
     },
     "db087f6830ed420ea95c7c39fdb4645c": {
      "model_module": "@jupyter-widgets/base",
      "model_module_version": "1.0.0",
      "model_name": "LayoutModel",
      "state": {}
     },
     "db3751d698e74820b276b2d0a1c27ef7": {
      "model_module": "@jupyter-widgets/controls",
      "model_module_version": "1.1.0",
      "model_name": "HBoxModel",
      "state": {
       "children": [
        "IPY_MODEL_de5e1c1ea71c4e20abd3ba7e64798368",
        "IPY_MODEL_c1daae95a8e240e0b5e0925095739001",
        "IPY_MODEL_ba304476690748ffa653e7c9088ff588"
       ],
       "layout": "IPY_MODEL_a69ad53797904dcabf045a634ca62458"
      }
     },
     "dbc6535b4f0f4bbea03f8383a960246b": {
      "model_module": "ipypivot",
      "model_module_version": "~0.1.1",
      "model_name": "PivotUIBoxModel",
      "state": {
       "children": [
        "IPY_MODEL_9235da8d8ed949e28275f8baa4d9e45e",
        "IPY_MODEL_8745d7a17f314905bdd78891f784db9f"
       ],
       "layout": "IPY_MODEL_705863bedfcf470da9e37388d19317a6"
      }
     },
     "dce8f557faf34837bce8216e4480ce25": {
      "model_module": "@jupyter-widgets/controls",
      "model_module_version": "1.1.0",
      "model_name": "HBoxModel",
      "state": {
       "children": [
        "IPY_MODEL_66a658d7dede4275b700380fe43e8012",
        "IPY_MODEL_8aa82a5b42654dfeb598aaed843226b2",
        "IPY_MODEL_b33ce5911ff742f09324f228b542d283"
       ],
       "layout": "IPY_MODEL_a64fbaeb7c894ca2bcda378468111122"
      }
     },
     "de5e1c1ea71c4e20abd3ba7e64798368": {
      "model_module": "@jupyter-widgets/controls",
      "model_module_version": "1.1.0",
      "model_name": "ButtonModel",
      "state": {
       "description": "Save",
       "layout": "IPY_MODEL_e6c307e79e024ee9a7a7f0bf1dc9a8db",
       "style": "IPY_MODEL_afc60a1f5a864fe5826dc4ea92945cb2"
      }
     },
     "dea302596d1b4858a9b984db9e0e1a9d": {
      "model_module": "@jupyter-widgets/controls",
      "model_module_version": "1.1.0",
      "model_name": "ButtonStyleModel",
      "state": {}
     },
     "e0c55ac12c7f40cfafb2de85751517ae": {
      "model_module": "ipypivot",
      "model_module_version": "~0.1.1",
      "model_name": "PivotUIBoxModel",
      "state": {
       "children": [
        "IPY_MODEL_969af4c3373345a4b150eb912531246b",
        "IPY_MODEL_bf13302e2d8545ea8e02ba3e36a9918b"
       ],
       "layout": "IPY_MODEL_5981d637dd3549a2ade5fcbac7ad2dae"
      }
     },
     "e6ba5b822e56411cb97dbb7543f14ef1": {
      "model_module": "@jupyter-widgets/base",
      "model_module_version": "1.0.0",
      "model_name": "LayoutModel",
      "state": {
       "display": "flex",
       "justify_content": "flex-start"
      }
     },
     "e6c307e79e024ee9a7a7f0bf1dc9a8db": {
      "model_module": "@jupyter-widgets/base",
      "model_module_version": "1.0.0",
      "model_name": "LayoutModel",
      "state": {
       "width": "100px"
      }
     },
     "e723ca57c5464f489dccc4d356151687": {
      "model_module": "@jupyter-widgets/base",
      "model_module_version": "1.0.0",
      "model_name": "LayoutModel",
      "state": {
       "display": "flex",
       "justify_content": "space-around",
       "width": "500px"
      }
     },
     "e72fe4c005524f9c97b11c87b103eece": {
      "model_module": "@jupyter-widgets/base",
      "model_module_version": "1.0.0",
      "model_name": "LayoutModel",
      "state": {}
     },
     "e95c5f1d652240e286cec9783243975e": {
      "model_module": "@jupyter-widgets/controls",
      "model_module_version": "1.1.0",
      "model_name": "HBoxModel",
      "state": {
       "children": [
        "IPY_MODEL_1230b2b927de472dad657e7a8b86fc59",
        "IPY_MODEL_c661f35f0ffe47b09f63bd386ce80f13",
        "IPY_MODEL_0b53c5b2e8604a18855b982672f8548a"
       ],
       "layout": "IPY_MODEL_94f892d375494fd4aad588db48761deb"
      }
     },
     "eaccf3819e4847068896c6c235047c32": {
      "model_module": "@jupyter-widgets/base",
      "model_module_version": "1.0.0",
      "model_name": "LayoutModel",
      "state": {}
     },
     "efbac3fbbdf74132824c97783692e465": {
      "model_module": "@jupyter-widgets/controls",
      "model_module_version": "1.1.0",
      "model_name": "ButtonStyleModel",
      "state": {}
     },
     "f150b1816eeb472aa1312f398153591c": {
      "model_module": "@jupyter-widgets/controls",
      "model_module_version": "1.1.0",
      "model_name": "DescriptionStyleModel",
      "state": {
       "description_width": ""
      }
     },
     "f22a84c8381e44e5b503042c15387e2d": {
      "model_module": "@jupyter-widgets/controls",
      "model_module_version": "1.1.0",
      "model_name": "DescriptionStyleModel",
      "state": {
       "description_width": ""
      }
     },
     "f39b63d1d24c4ac69d2aff4ed3aee234": {
      "model_module": "@jupyter-widgets/base",
      "model_module_version": "1.0.0",
      "model_name": "LayoutModel",
      "state": {
       "width": "160px"
      }
     },
     "f63fbf501e65451290eb7a488e53e80a": {
      "model_module": "@jupyter-widgets/controls",
      "model_module_version": "1.1.0",
      "model_name": "DescriptionStyleModel",
      "state": {
       "description_width": ""
      }
     },
     "f7fa9641f2b642d0830c5bde7db86f31": {
      "model_module": "@jupyter-widgets/controls",
      "model_module_version": "1.1.0",
      "model_name": "ButtonStyleModel",
      "state": {}
     },
     "f893aa6c072a456881078039606b15fc": {
      "model_module": "@jupyter-widgets/controls",
      "model_module_version": "1.1.0",
      "model_name": "ButtonModel",
      "state": {
       "description": "Save",
       "layout": "IPY_MODEL_b00b44577dc2487c9e1bcd8d192e5daa",
       "style": "IPY_MODEL_05db59b1f9dd4b05909e3580d1023d01"
      }
     },
     "faf51bd498b346e6967a28c8c5a26fc9": {
      "model_module": "@jupyter-widgets/base",
      "model_module_version": "1.0.0",
      "model_name": "LayoutModel",
      "state": {}
     }
    },
    "version_major": 2,
    "version_minor": 0
   }
  }
 },
 "nbformat": 4,
 "nbformat_minor": 2
}
